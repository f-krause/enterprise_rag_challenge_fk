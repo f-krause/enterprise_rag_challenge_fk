{
 "cells": [
  {
   "metadata": {},
   "cell_type": "markdown",
   "source": "# Experiments",
   "id": "8dee0d0f27a232f"
  },
  {
   "metadata": {
    "ExecuteTime": {
     "end_time": "2025-02-11T15:56:46.070916Z",
     "start_time": "2025-02-11T15:56:46.049155Z"
    }
   },
   "cell_type": "code",
   "source": [
    "from dotenv import load_dotenv\n",
    "\n",
    "load_dotenv()"
   ],
   "id": "665e41a8c5781f91",
   "outputs": [
    {
     "data": {
      "text/plain": [
       "True"
      ]
     },
     "execution_count": 1,
     "metadata": {},
     "output_type": "execute_result"
    }
   ],
   "execution_count": 1
  },
  {
   "metadata": {
    "ExecuteTime": {
     "end_time": "2025-02-11T15:56:46.804490Z",
     "start_time": "2025-02-11T15:56:46.790898Z"
    }
   },
   "cell_type": "code",
   "source": [
    "# company = \"reit\"\n",
    "# company = \"yellow_pages\"\n",
    "company = \"calyxt\"\n",
    "\n",
    "test_pdf_path = f\"../data/eval/{company}.pdf\""
   ],
   "id": "9d2e24bb9833b8ef",
   "outputs": [],
   "execution_count": 2
  },
  {
   "metadata": {},
   "cell_type": "markdown",
   "source": "## Docling - strong!",
   "id": "c2bb2e752d559444"
  },
  {
   "metadata": {
    "ExecuteTime": {
     "end_time": "2025-02-10T15:57:28.807692Z",
     "start_time": "2025-02-10T15:57:25.740499Z"
    }
   },
   "cell_type": "code",
   "source": [
    "# Potential for parallelization for files?\n",
    "from docling.document_converter import DocumentConverter\n",
    "\n",
    "# source = \"https://arxiv.org/pdf/2408.09869\"  # document per local path or URL\n",
    "converter = DocumentConverter()\n",
    "result = converter.convert(test_pdf_path)\n",
    "print(result.document.export_to_markdown())\n",
    "\n",
    "# REIT: execution for 7.4MB with 97 pages -> 5 min\n",
    "# Yellow Pages: execution for 1.4MB with 77 pages -> 4 min\n",
    "# Calyxt: execution for 0.7MB with 88 pages -> 3min"
   ],
   "id": "7eab7904ca084e9c",
   "outputs": [
    {
     "ename": "KeyboardInterrupt",
     "evalue": "",
     "output_type": "error",
     "traceback": [
      "\u001B[1;31m---------------------------------------------------------------------------\u001B[0m",
      "\u001B[1;31mKeyboardInterrupt\u001B[0m                         Traceback (most recent call last)",
      "Cell \u001B[1;32mIn[3], line 2\u001B[0m\n\u001B[0;32m      1\u001B[0m \u001B[38;5;66;03m# Potential for parallelization for files?\u001B[39;00m\n\u001B[1;32m----> 2\u001B[0m \u001B[38;5;28;01mfrom\u001B[39;00m \u001B[38;5;21;01mdocling\u001B[39;00m\u001B[38;5;21;01m.\u001B[39;00m\u001B[38;5;21;01mdocument_converter\u001B[39;00m \u001B[38;5;28;01mimport\u001B[39;00m DocumentConverter\n\u001B[0;32m      4\u001B[0m \u001B[38;5;66;03m# source = \"https://arxiv.org/pdf/2408.09869\"  # document per local path or URL\u001B[39;00m\n\u001B[0;32m      5\u001B[0m converter \u001B[38;5;241m=\u001B[39m DocumentConverter()\n",
      "File \u001B[1;32m~\\AppData\\Local\\miniforge3\\envs\\rag_challenge\\lib\\site-packages\\docling\\document_converter.py:20\u001B[0m\n\u001B[0;32m     18\u001B[0m \u001B[38;5;28;01mfrom\u001B[39;00m \u001B[38;5;21;01mdocling\u001B[39;00m\u001B[38;5;21;01m.\u001B[39;00m\u001B[38;5;21;01mbackend\u001B[39;00m\u001B[38;5;21;01m.\u001B[39;00m\u001B[38;5;21;01mmspowerpoint_backend\u001B[39;00m \u001B[38;5;28;01mimport\u001B[39;00m MsPowerpointDocumentBackend\n\u001B[0;32m     19\u001B[0m \u001B[38;5;28;01mfrom\u001B[39;00m \u001B[38;5;21;01mdocling\u001B[39;00m\u001B[38;5;21;01m.\u001B[39;00m\u001B[38;5;21;01mbackend\u001B[39;00m\u001B[38;5;21;01m.\u001B[39;00m\u001B[38;5;21;01mmsword_backend\u001B[39;00m \u001B[38;5;28;01mimport\u001B[39;00m MsWordDocumentBackend\n\u001B[1;32m---> 20\u001B[0m \u001B[38;5;28;01mfrom\u001B[39;00m \u001B[38;5;21;01mdocling\u001B[39;00m\u001B[38;5;21;01m.\u001B[39;00m\u001B[38;5;21;01mbackend\u001B[39;00m\u001B[38;5;21;01m.\u001B[39;00m\u001B[38;5;21;01mxml\u001B[39;00m\u001B[38;5;21;01m.\u001B[39;00m\u001B[38;5;21;01mpubmed_backend\u001B[39;00m \u001B[38;5;28;01mimport\u001B[39;00m PubMedDocumentBackend\n\u001B[0;32m     21\u001B[0m \u001B[38;5;28;01mfrom\u001B[39;00m \u001B[38;5;21;01mdocling\u001B[39;00m\u001B[38;5;21;01m.\u001B[39;00m\u001B[38;5;21;01mbackend\u001B[39;00m\u001B[38;5;21;01m.\u001B[39;00m\u001B[38;5;21;01mxml\u001B[39;00m\u001B[38;5;21;01m.\u001B[39;00m\u001B[38;5;21;01muspto_backend\u001B[39;00m \u001B[38;5;28;01mimport\u001B[39;00m PatentUsptoDocumentBackend\n\u001B[0;32m     22\u001B[0m \u001B[38;5;28;01mfrom\u001B[39;00m \u001B[38;5;21;01mdocling\u001B[39;00m\u001B[38;5;21;01m.\u001B[39;00m\u001B[38;5;21;01mdatamodel\u001B[39;00m\u001B[38;5;21;01m.\u001B[39;00m\u001B[38;5;21;01mbase_models\u001B[39;00m \u001B[38;5;28;01mimport\u001B[39;00m (\n\u001B[0;32m     23\u001B[0m     ConversionStatus,\n\u001B[0;32m     24\u001B[0m     DoclingComponentType,\n\u001B[1;32m   (...)\u001B[0m\n\u001B[0;32m     27\u001B[0m     InputFormat,\n\u001B[0;32m     28\u001B[0m )\n",
      "File \u001B[1;32m<frozen importlib._bootstrap>:1027\u001B[0m, in \u001B[0;36m_find_and_load\u001B[1;34m(name, import_)\u001B[0m\n",
      "File \u001B[1;32m<frozen importlib._bootstrap>:1002\u001B[0m, in \u001B[0;36m_find_and_load_unlocked\u001B[1;34m(name, import_)\u001B[0m\n",
      "File \u001B[1;32m<frozen importlib._bootstrap>:945\u001B[0m, in \u001B[0;36m_find_spec\u001B[1;34m(name, path, target)\u001B[0m\n",
      "File \u001B[1;32m<frozen importlib._bootstrap_external>:1439\u001B[0m, in \u001B[0;36mfind_spec\u001B[1;34m(cls, fullname, path, target)\u001B[0m\n",
      "File \u001B[1;32m<frozen importlib._bootstrap_external>:1411\u001B[0m, in \u001B[0;36m_get_spec\u001B[1;34m(cls, fullname, path, target)\u001B[0m\n",
      "File \u001B[1;32m<frozen importlib._bootstrap_external>:1544\u001B[0m, in \u001B[0;36mfind_spec\u001B[1;34m(self, fullname, target)\u001B[0m\n",
      "File \u001B[1;32m<frozen importlib._bootstrap_external>:147\u001B[0m, in \u001B[0;36m_path_stat\u001B[1;34m(path)\u001B[0m\n",
      "\u001B[1;31mKeyboardInterrupt\u001B[0m: "
     ]
    }
   ],
   "execution_count": 3
  },
  {
   "metadata": {},
   "cell_type": "code",
   "outputs": [],
   "execution_count": null,
   "source": [
    "# domain knwoledge\n",
    "# brackets in tables indicate negative values\n",
    "# parsing issues (see current system prompt)"
   ],
   "id": "c9aa38b8c65214cd"
  },
  {
   "metadata": {
    "ExecuteTime": {
     "end_time": "2025-02-07T13:22:53.397484Z",
     "start_time": "2025-02-07T13:22:53.244857Z"
    }
   },
   "cell_type": "code",
   "source": [
    "# STORE as md with correct utf-8 encoding\n",
    "with open(f\"../dev/docling_{company}.md\", \"w\", encoding=\"utf-8\") as file:\n",
    "    file.write(result.document.export_to_markdown())"
   ],
   "id": "8bedf235d19dbd5d",
   "outputs": [],
   "execution_count": 22
  },
  {
   "metadata": {},
   "cell_type": "markdown",
   "source": "## Not working well",
   "id": "226c443d93dbeb39"
  },
  {
   "metadata": {},
   "cell_type": "markdown",
   "source": "### PyMuPDF4LLM - tables bad",
   "id": "fd999db81fc5b25c"
  },
  {
   "metadata": {},
   "cell_type": "code",
   "outputs": [],
   "execution_count": null,
   "source": [
    "## Observations\n",
    "# tables are pretty bad\n",
    "# format in general seems ok"
   ],
   "id": "bf396e4508bf37d2"
  },
  {
   "metadata": {
    "ExecuteTime": {
     "end_time": "2025-02-07T12:09:47.042681Z",
     "start_time": "2025-02-07T12:09:47.035658Z"
    }
   },
   "cell_type": "code",
   "outputs": [
    {
     "data": {
      "text/plain": [
       "261957"
      ]
     },
     "execution_count": 6,
     "metadata": {},
     "output_type": "execute_result"
    }
   ],
   "execution_count": 6,
   "source": [
    "# Store as file\n",
    "import pathlib\n",
    "pathlib.Path(\"../dev/pymupdf4llm_output.md\").write_bytes(md_text.encode())"
   ],
   "id": "c0667d96b7b1ee99"
  },
  {
   "metadata": {
    "ExecuteTime": {
     "end_time": "2025-02-07T12:09:43.902152Z",
     "start_time": "2025-02-07T12:09:43.893538Z"
    }
   },
   "cell_type": "code",
   "outputs": [
    {
     "data": {
      "text/plain": [
       "'-----\\n\\n# Table of Contents\\n\\nManagement’s Discussion and Analysis........................................................................................................ 2\\n\\nIndependent Auditor’s Report ................................................................................................................. 29-32\\n\\nConsolidated Statements of Income and Other Comprehensive Income ..................................................... 33\\n\\nConsolidated Statements of Financial Position ............................................................................................ 34\\n\\nConsolidated Statements of Changes in Equity ...................................................................................... 35-36\\n\\nConsolidated Statements of Cash Flows ..................................................................................................... 37\\n\\nNotes To The Consolidated Financial Statements ..................................................................................'"
      ]
     },
     "execution_count": 5,
     "metadata": {},
     "output_type": "execute_result"
    }
   ],
   "execution_count": 5,
   "source": "md_text[:1000]",
   "id": "478c0d8dec0f8df4"
  },
  {
   "metadata": {},
   "cell_type": "markdown",
   "source": "### Camelot (table detection) - Not working well",
   "id": "4cae618b6fdaf1ec"
  },
  {
   "metadata": {},
   "cell_type": "code",
   "outputs": [],
   "execution_count": null,
   "source": [
    "import camelot\n",
    "\n",
    "# Extract tables from all pages of the PDF\n",
    "tables = camelot.read_pdf(test_pdf_path, pages=\"all\")\n",
    "\n",
    "# Export each table to CSV (or process further as needed)\n",
    "for i, table in enumerate(tables):\n",
    "    csv_filename = f\"table_{i}.csv\"\n",
    "    table.to_csv(csv_filename)\n",
    "    print(f\"Exported table {i} to {csv_filename}\")\n"
   ],
   "id": "edf1337d5be7e39d"
  }
 ],
 "metadata": {
  "kernelspec": {
   "display_name": "Python 3",
   "language": "python",
   "name": "python3"
  },
  "language_info": {
   "codemirror_mode": {
    "name": "ipython",
    "version": 2
   },
   "file_extension": ".py",
   "mimetype": "text/x-python",
   "name": "python",
   "nbconvert_exporter": "python",
   "pygments_lexer": "ipython2",
   "version": "2.7.6"
  }
 },
 "nbformat": 4,
 "nbformat_minor": 5
}
