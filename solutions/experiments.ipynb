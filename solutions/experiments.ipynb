{
 "cells": [
  {
   "metadata": {},
   "cell_type": "markdown",
   "source": "# Experiments",
   "id": "8dee0d0f27a232f"
  },
  {
   "metadata": {
    "ExecuteTime": {
     "end_time": "2025-02-10T15:57:23.128677Z",
     "start_time": "2025-02-10T15:57:23.106612Z"
    }
   },
   "cell_type": "code",
   "source": [
    "from dotenv import load_dotenv\n",
    "\n",
    "load_dotenv()"
   ],
   "id": "665e41a8c5781f91",
   "outputs": [
    {
     "data": {
      "text/plain": [
       "True"
      ]
     },
     "execution_count": 1,
     "metadata": {},
     "output_type": "execute_result"
    }
   ],
   "execution_count": 1
  },
  {
   "metadata": {
    "ExecuteTime": {
     "end_time": "2025-02-10T15:57:24.354465Z",
     "start_time": "2025-02-10T15:57:24.341327Z"
    }
   },
   "cell_type": "code",
   "source": [
    "# company = \"reit\"\n",
    "# company = \"yellow_pages\"\n",
    "company = \"calyxt\"\n",
    "\n",
    "test_pdf_path = f\"../data/eval/{company}.pdf\""
   ],
   "id": "9d2e24bb9833b8ef",
   "outputs": [],
   "execution_count": 2
  },
  {
   "metadata": {},
   "cell_type": "markdown",
   "source": "## Docling - strong!",
   "id": "c2bb2e752d559444"
  },
  {
   "metadata": {
    "ExecuteTime": {
     "end_time": "2025-02-10T15:57:28.807692Z",
     "start_time": "2025-02-10T15:57:25.740499Z"
    }
   },
   "cell_type": "code",
   "source": [
    "# Potential for parallelization for files?\n",
    "from docling.document_converter import DocumentConverter\n",
    "\n",
    "# source = \"https://arxiv.org/pdf/2408.09869\"  # document per local path or URL\n",
    "converter = DocumentConverter()\n",
    "result = converter.convert(test_pdf_path)\n",
    "print(result.document.export_to_markdown())\n",
    "\n",
    "# REIT: execution for 7.4MB with 97 pages -> 5 min\n",
    "# Yellow Pages: execution for 1.4MB with 77 pages -> 4 min\n",
    "# Calyxt: execution for 0.7MB with 88 pages -> 3min"
   ],
   "id": "7eab7904ca084e9c",
   "outputs": [
    {
     "ename": "KeyboardInterrupt",
     "evalue": "",
     "output_type": "error",
     "traceback": [
      "\u001B[1;31m---------------------------------------------------------------------------\u001B[0m",
      "\u001B[1;31mKeyboardInterrupt\u001B[0m                         Traceback (most recent call last)",
      "Cell \u001B[1;32mIn[3], line 2\u001B[0m\n\u001B[0;32m      1\u001B[0m \u001B[38;5;66;03m# Potential for parallelization for files?\u001B[39;00m\n\u001B[1;32m----> 2\u001B[0m \u001B[38;5;28;01mfrom\u001B[39;00m \u001B[38;5;21;01mdocling\u001B[39;00m\u001B[38;5;21;01m.\u001B[39;00m\u001B[38;5;21;01mdocument_converter\u001B[39;00m \u001B[38;5;28;01mimport\u001B[39;00m DocumentConverter\n\u001B[0;32m      4\u001B[0m \u001B[38;5;66;03m# source = \"https://arxiv.org/pdf/2408.09869\"  # document per local path or URL\u001B[39;00m\n\u001B[0;32m      5\u001B[0m converter \u001B[38;5;241m=\u001B[39m DocumentConverter()\n",
      "File \u001B[1;32m~\\AppData\\Local\\miniforge3\\envs\\rag_challenge\\lib\\site-packages\\docling\\document_converter.py:20\u001B[0m\n\u001B[0;32m     18\u001B[0m \u001B[38;5;28;01mfrom\u001B[39;00m \u001B[38;5;21;01mdocling\u001B[39;00m\u001B[38;5;21;01m.\u001B[39;00m\u001B[38;5;21;01mbackend\u001B[39;00m\u001B[38;5;21;01m.\u001B[39;00m\u001B[38;5;21;01mmspowerpoint_backend\u001B[39;00m \u001B[38;5;28;01mimport\u001B[39;00m MsPowerpointDocumentBackend\n\u001B[0;32m     19\u001B[0m \u001B[38;5;28;01mfrom\u001B[39;00m \u001B[38;5;21;01mdocling\u001B[39;00m\u001B[38;5;21;01m.\u001B[39;00m\u001B[38;5;21;01mbackend\u001B[39;00m\u001B[38;5;21;01m.\u001B[39;00m\u001B[38;5;21;01mmsword_backend\u001B[39;00m \u001B[38;5;28;01mimport\u001B[39;00m MsWordDocumentBackend\n\u001B[1;32m---> 20\u001B[0m \u001B[38;5;28;01mfrom\u001B[39;00m \u001B[38;5;21;01mdocling\u001B[39;00m\u001B[38;5;21;01m.\u001B[39;00m\u001B[38;5;21;01mbackend\u001B[39;00m\u001B[38;5;21;01m.\u001B[39;00m\u001B[38;5;21;01mxml\u001B[39;00m\u001B[38;5;21;01m.\u001B[39;00m\u001B[38;5;21;01mpubmed_backend\u001B[39;00m \u001B[38;5;28;01mimport\u001B[39;00m PubMedDocumentBackend\n\u001B[0;32m     21\u001B[0m \u001B[38;5;28;01mfrom\u001B[39;00m \u001B[38;5;21;01mdocling\u001B[39;00m\u001B[38;5;21;01m.\u001B[39;00m\u001B[38;5;21;01mbackend\u001B[39;00m\u001B[38;5;21;01m.\u001B[39;00m\u001B[38;5;21;01mxml\u001B[39;00m\u001B[38;5;21;01m.\u001B[39;00m\u001B[38;5;21;01muspto_backend\u001B[39;00m \u001B[38;5;28;01mimport\u001B[39;00m PatentUsptoDocumentBackend\n\u001B[0;32m     22\u001B[0m \u001B[38;5;28;01mfrom\u001B[39;00m \u001B[38;5;21;01mdocling\u001B[39;00m\u001B[38;5;21;01m.\u001B[39;00m\u001B[38;5;21;01mdatamodel\u001B[39;00m\u001B[38;5;21;01m.\u001B[39;00m\u001B[38;5;21;01mbase_models\u001B[39;00m \u001B[38;5;28;01mimport\u001B[39;00m (\n\u001B[0;32m     23\u001B[0m     ConversionStatus,\n\u001B[0;32m     24\u001B[0m     DoclingComponentType,\n\u001B[1;32m   (...)\u001B[0m\n\u001B[0;32m     27\u001B[0m     InputFormat,\n\u001B[0;32m     28\u001B[0m )\n",
      "File \u001B[1;32m<frozen importlib._bootstrap>:1027\u001B[0m, in \u001B[0;36m_find_and_load\u001B[1;34m(name, import_)\u001B[0m\n",
      "File \u001B[1;32m<frozen importlib._bootstrap>:1002\u001B[0m, in \u001B[0;36m_find_and_load_unlocked\u001B[1;34m(name, import_)\u001B[0m\n",
      "File \u001B[1;32m<frozen importlib._bootstrap>:945\u001B[0m, in \u001B[0;36m_find_spec\u001B[1;34m(name, path, target)\u001B[0m\n",
      "File \u001B[1;32m<frozen importlib._bootstrap_external>:1439\u001B[0m, in \u001B[0;36mfind_spec\u001B[1;34m(cls, fullname, path, target)\u001B[0m\n",
      "File \u001B[1;32m<frozen importlib._bootstrap_external>:1411\u001B[0m, in \u001B[0;36m_get_spec\u001B[1;34m(cls, fullname, path, target)\u001B[0m\n",
      "File \u001B[1;32m<frozen importlib._bootstrap_external>:1544\u001B[0m, in \u001B[0;36mfind_spec\u001B[1;34m(self, fullname, target)\u001B[0m\n",
      "File \u001B[1;32m<frozen importlib._bootstrap_external>:147\u001B[0m, in \u001B[0;36m_path_stat\u001B[1;34m(path)\u001B[0m\n",
      "\u001B[1;31mKeyboardInterrupt\u001B[0m: "
     ]
    }
   ],
   "execution_count": 3
  },
  {
   "metadata": {},
   "cell_type": "code",
   "outputs": [],
   "execution_count": null,
   "source": [
    "# domain knwoledge\n",
    "# brackets in tables indicate negative values\n",
    "# parsing issues (see current system prompt)"
   ],
   "id": "c9aa38b8c65214cd"
  },
  {
   "metadata": {
    "ExecuteTime": {
     "end_time": "2025-02-07T13:22:53.397484Z",
     "start_time": "2025-02-07T13:22:53.244857Z"
    }
   },
   "cell_type": "code",
   "source": [
    "# Store as md with correct utf-8 encoding\n",
    "with open(f\"../dev/docling_{company}.md\", \"w\", encoding=\"utf-8\") as file:\n",
    "    file.write(result.document.export_to_markdown())"
   ],
   "id": "8bedf235d19dbd5d",
   "outputs": [],
   "execution_count": 22
  },
  {
   "metadata": {},
   "cell_type": "markdown",
   "source": "## Custom Advanced Chunking",
   "id": "37a548f396a1c9bf"
  },
  {
   "metadata": {
    "ExecuteTime": {
     "end_time": "2025-02-10T15:57:32.054293Z",
     "start_time": "2025-02-10T15:57:32.041354Z"
    }
   },
   "cell_type": "code",
   "source": [
    "# Load markdown\n",
    "with open(f\"../dev/docling_{company}.md\", \"r\", encoding=\"utf-8\") as file:\n",
    "    text = file.read()"
   ],
   "id": "5aca11244503a3e9",
   "outputs": [],
   "execution_count": 4
  },
  {
   "metadata": {
    "ExecuteTime": {
     "end_time": "2025-02-10T15:57:32.565499Z",
     "start_time": "2025-02-10T15:57:32.538292Z"
    }
   },
   "cell_type": "code",
   "source": [
    "# Analysis of chunk lengths if splitting by chapters\n",
    "import re\n",
    "import pandas as pd\n",
    "\n",
    "chunks = re.split(r'(?m)(?=^#+\\s)', text)\n",
    "chunks_cleaned = [chunk for chunk in chunks if chunk.strip()]\n",
    "char_counts = [len(chunk) for chunk in chunks_cleaned]\n",
    "\n",
    "pd.Series(char_counts).describe()"
   ],
   "id": "8f06b1d3165261cf",
   "outputs": [
    {
     "data": {
      "text/plain": [
       "count      271.000000\n",
       "mean      1579.236162\n",
       "std       2013.277228\n",
       "min         11.000000\n",
       "25%        284.000000\n",
       "50%        980.000000\n",
       "75%       2012.500000\n",
       "max      17569.000000\n",
       "dtype: float64"
      ]
     },
     "execution_count": 5,
     "metadata": {},
     "output_type": "execute_result"
    }
   ],
   "execution_count": 5
  },
  {
   "metadata": {
    "ExecuteTime": {
     "end_time": "2025-02-10T15:57:34.381468Z",
     "start_time": "2025-02-10T15:57:33.331192Z"
    }
   },
   "cell_type": "code",
   "source": [
    "import matplotlib.pyplot as plt\n",
    "\n",
    "plt.hist(char_counts, bins=20)\n",
    "plt.show()"
   ],
   "id": "8f150edbfc418258",
   "outputs": [
    {
     "data": {
      "text/plain": [
       "<Figure size 640x480 with 1 Axes>"
      ],
      "image/png": "[encoded data removed]"
     },
     "metadata": {},
     "output_type": "display_data"
    }
   ],
   "execution_count": 6
  },
  {
   "metadata": {
    "ExecuteTime": {
     "end_time": "2025-02-10T15:57:35.968856Z",
     "start_time": "2025-02-10T15:57:35.955466Z"
    }
   },
   "cell_type": "code",
   "source": [
    "# Idea: Try to retrieve Table of Contents from PDF and attach to context first\n",
    "# Then, chunk the document, attach as metadata the previous X section titles (retrieve via markdown) + page number?\n",
    "# Split by chapters? If section too large, split into subsections with table correction?"
   ],
   "id": "3655b80317648438",
   "outputs": [],
   "execution_count": 7
  },
  {
   "metadata": {
    "ExecuteTime": {
     "end_time": "2025-02-10T15:57:36.387938Z",
     "start_time": "2025-02-10T15:57:36.346007Z"
    }
   },
   "cell_type": "code",
   "source": [
    "import re\n",
    "\n",
    "def is_table_paragraph(paragraph):\n",
    "    \"\"\"\n",
    "    Returns True if the paragraph looks like a markdown table block.\n",
    "    We assume that a table block consists of lines that begin with '|'\n",
    "    and that at least one line is a separator (i.e. contains a series of dashes).\n",
    "    \"\"\"\n",
    "    lines = paragraph.strip().splitlines()\n",
    "    if not lines:\n",
    "        return False\n",
    "    if not all(line.lstrip().startswith('|') for line in lines):\n",
    "        return False\n",
    "    for line in lines:\n",
    "        if re.search(r'\\|\\s*-{2,}', line):\n",
    "            return True\n",
    "    return False\n",
    "\n",
    "def get_overlap_text(text, desired_overlap, max_overlap=None):\n",
    "    \"\"\"\n",
    "    Extracts an overlap string from the end of `text` made up of whole words.\n",
    "\n",
    "    Args:\n",
    "        text (str): The text from which to extract the overlap.\n",
    "        desired_overlap (int): Desired minimum number of characters to include in the overlap.\n",
    "        max_overlap (int or None): Maximum allowed overlap (in characters). If None, no hard cap is applied.\n",
    "\n",
    "    Returns:\n",
    "        str: A string composed of whole words from the end of `text` whose total length\n",
    "             is at least `desired_overlap` (if possible) but not exceeding `max_overlap` (if provided).\n",
    "    \"\"\"\n",
    "    if max_overlap is None:\n",
    "        max_overlap = desired_overlap * 2\n",
    "\n",
    "    words = text.split()\n",
    "    if not words:\n",
    "        return \"\"\n",
    "\n",
    "    overlap_words = []\n",
    "    total_length = 0\n",
    "    # Iterate over the words in reverse order.\n",
    "    for word in reversed(words):\n",
    "        # Add a space before each word except the first one we add.\n",
    "        addition_length = len(word) if not overlap_words else len(word) + 1\n",
    "        # If a maximum overlap is set and adding this word would exceed it,\n",
    "        # then stop (unless no word has been added yet).\n",
    "        if max_overlap is not None and total_length + addition_length > max_overlap:\n",
    "            if overlap_words:\n",
    "                break\n",
    "            # Else, if even a single word is longer than max_overlap, add its characters until max is reached.\n",
    "            if len(word) > max_overlap:\n",
    "                overlap_words.append(word[:max_overlap - total_length])\n",
    "                break\n",
    "        overlap_words.append(word)\n",
    "        total_length += addition_length\n",
    "        # Stop if we've reached at least the desired overlap.\n",
    "        if total_length >= desired_overlap:\n",
    "            break\n",
    "\n",
    "    # Reassemble the words in the correct order.\n",
    "    return \" \".join(reversed(overlap_words))\n",
    "\n",
    "def split_paragraph(paragraph, max_chars, overlap_chars=0, max_overlap_chars=None):\n",
    "    \"\"\"\n",
    "    Splits a non-table paragraph (by words) so that each part is below max_chars.\n",
    "    If the paragraph is split into multiple parts, each subsequent part will begin with an\n",
    "    overlap taken from the tail of the previous part. The overlap is composed of whole words,\n",
    "    trying to reach at least `overlap_chars` characters but never exceeding `max_overlap_chars` (if set).\n",
    "\n",
    "    Args:\n",
    "        paragraph (str): The paragraph text to split.\n",
    "        max_chars (int): Maximum allowed character length per part.\n",
    "        overlap_chars (int): Desired number of characters to overlap between parts.\n",
    "        max_overlap_chars (int or None): Absolute maximum allowed overlap (in characters).\n",
    "\n",
    "    Returns:\n",
    "        list of str: A list of paragraph parts, each no longer than max_chars.\n",
    "    \"\"\"\n",
    "    words = paragraph.split()\n",
    "    parts = []\n",
    "    current = \"\"\n",
    "\n",
    "    for word in words:\n",
    "        candidate = (current + \" \" + word).strip() if current else word\n",
    "        if len(candidate) > max_chars:\n",
    "            # If we have accumulated some text, finalize it.\n",
    "            if current:\n",
    "                parts.append(current)\n",
    "                # Compute an overlap from the end of current, as whole words.\n",
    "                overlap_text = get_overlap_text(current, overlap_chars, max_overlap_chars) if overlap_chars > 0 else \"\"\n",
    "                # Try to start the next segment with the overlap plus the current word.\n",
    "                new_candidate = (overlap_text + \" \" + word).strip() if overlap_text else word\n",
    "                if overlap_text and len(new_candidate) <= max_chars:\n",
    "                    current = new_candidate\n",
    "                else:\n",
    "                    current = word\n",
    "            else:\n",
    "                # In the unlikely case a single word exceeds max_chars, yield it as its own part.\n",
    "                parts.append(word)\n",
    "                current = \"\"\n",
    "        else:\n",
    "            current = candidate\n",
    "    if current:\n",
    "        parts.append(current)\n",
    "    return parts\n",
    "\n",
    "def split_content(text, max_chars, overlap_chars=0, max_overlap_chars=None):\n",
    "    \"\"\"\n",
    "    Split a block of text into parts no longer than max_chars.\n",
    "    The text is first split into paragraphs (using double newlines) so that\n",
    "    tables and other contiguous blocks remain intact. If an individual paragraph\n",
    "    is too long and is not a table, it is further split with an overlap between parts.\n",
    "    Also, for each final part a flag is computed (True/False) indicating whether the part is a table.\n",
    "\n",
    "    Returns:\n",
    "        tuple:\n",
    "            - parts (list of str): The split parts.\n",
    "            - is_table_ls (list of bool): For each part, True if it is a table block, False otherwise.\n",
    "    \"\"\"\n",
    "    paragraphs = text.split(\"\\n\\n\")\n",
    "    parts = []\n",
    "    is_table_ls = []  # This will store a True/False flag per part.\n",
    "\n",
    "    current_part = \"\"\n",
    "    current_part_is_table = None  # Will be set to True for table parts, False for non-table.\n",
    "\n",
    "    for para in paragraphs:\n",
    "        para = para.strip()\n",
    "        if not para:\n",
    "            continue\n",
    "\n",
    "        para_is_table = is_table_paragraph(para)\n",
    "        # If this paragraph is a table, do not merge with other content.\n",
    "        if para_is_table:\n",
    "            # TODO also include overlap to table!\n",
    "            # TODO if table is larger then embedding model allows, split into smaller tables - how often does it happen?\n",
    "            if current_part:\n",
    "                parts.append(current_part)\n",
    "                is_table_ls.append(current_part_is_table)\n",
    "                current_part = \"\"\n",
    "                current_part_is_table = None\n",
    "            parts.append(para)\n",
    "            is_table_ls.append(True)\n",
    "            continue\n",
    "\n",
    "        # For non-table paragraphs, if too long, split further.\n",
    "        if len(para) > max_chars:\n",
    "            sub_parts = split_paragraph(para, max_chars, overlap_chars, max_overlap_chars)\n",
    "        else:\n",
    "            sub_parts = [para]\n",
    "\n",
    "        for sub in sub_parts:\n",
    "            # If current_part is non-empty but from a different type (table vs. non-table), flush it.\n",
    "            if current_part and current_part_is_table is not False:\n",
    "                parts.append(current_part)\n",
    "                is_table_ls.append(current_part_is_table)\n",
    "                current_part = \"\"\n",
    "                current_part_is_table = False\n",
    "\n",
    "            candidate = (current_part + \"\\n\\n\" + sub).strip() if current_part else sub\n",
    "            if len(candidate) <= max_chars:\n",
    "                current_part = candidate\n",
    "                current_part_is_table = False  # Non-table content.\n",
    "            else:\n",
    "                if current_part:\n",
    "                    parts.append(current_part)\n",
    "                    is_table_ls.append(current_part_is_table)\n",
    "                current_part = sub\n",
    "                current_part_is_table = False\n",
    "\n",
    "    if current_part:\n",
    "        parts.append(current_part)\n",
    "        is_table_ls.append(current_part_is_table)\n",
    "\n",
    "    return parts, is_table_ls\n",
    "\n",
    "def chunk_markdown(markdown_text, document_name, context_window=2, max_chunk_size=2000, overlap_chars=500, max_overlap_chars=None):\n",
    "    \"\"\"\n",
    "    Splits a markdown document into chunks based on headings and attaches metadata,\n",
    "    including previous context_window section titles. If a section's content is too large,\n",
    "    it is further split into sub‐chunks with an optional overlap (in characters) between\n",
    "    consecutive parts.\n",
    "\n",
    "    Args:\n",
    "        markdown_text (str): The markdown document.\n",
    "        context_window (int): Number of previous headings to include as context.\n",
    "        max_chunk_size (int): Maximum allowed character length per (sub-)chunk.\n",
    "        overlap_chars (int): Desired number of characters to overlap when splitting paragraphs (considering words).\n",
    "        max_overlap_chars (int): Maximum allowed overlap between consecutive parts.\n",
    "\n",
    "    Returns:\n",
    "        list of dict: Each dict represents a (sub-)chunk and contains:\n",
    "            - 'title': Heading text.\n",
    "            - 'level': Heading level (number of '#' characters).\n",
    "            - 'content': Content of the (sub-)chunk.\n",
    "            - 'previous_titles': List of previous section titles.\n",
    "            - 'part_index': Index of this part (1-based).\n",
    "            - 'total_parts': Total number of parts for this section.\n",
    "    \"\"\"\n",
    "    heading_pattern = re.compile(r'^(#{1,6})\\s+(.*)$', re.MULTILINE)\n",
    "    matches = list(heading_pattern.finditer(markdown_text))\n",
    "\n",
    "    chunks = []\n",
    "\n",
    "    # If no headings are found, treat the whole document as one chunk.\n",
    "    if not matches:\n",
    "        content_parts, is_table_ls = split_content(markdown_text.strip(), max_chunk_size, overlap_chars, max_overlap_chars)\n",
    "        assert len(content_parts) == len(is_table_ls)\n",
    "        total_parts = len(content_parts)\n",
    "        for i, (part, is_table) in enumerate(zip(content_parts, is_table_ls), start=1):\n",
    "            chunks.append({\n",
    "                'title': None,\n",
    "                'level': None,\n",
    "                'table': is_table,\n",
    "                'content': part,\n",
    "                'previous_titles': [],\n",
    "                'part_index': i,\n",
    "                'total_parts': total_parts\n",
    "            })\n",
    "        return chunks\n",
    "\n",
    "    # Process each section defined by a heading.\n",
    "    for i, match in enumerate(matches):\n",
    "        heading_marker = match.group(1)\n",
    "        title = match.group(2).strip()\n",
    "        level = len(heading_marker)\n",
    "\n",
    "        # Determine content boundaries.\n",
    "        content_start = match.end()\n",
    "        content_end = matches[i+1].start() if i+1 < len(matches) else len(markdown_text)\n",
    "        content = markdown_text[content_start:content_end].strip()\n",
    "\n",
    "        previous_titles = [m.group(0).strip() for m in matches[max(0, i-context_window):i]]\n",
    "\n",
    "        # Split the section's content if it's too large.\n",
    "        content_parts, is_table_ls = split_content(content, max_chunk_size, overlap_chars, max_overlap_chars)\n",
    "        assert len(content_parts) == len(is_table_ls), f\"Lengths: {len(content_parts)} vs {len(is_table_ls)}\"\n",
    "        total_parts = len(content_parts)\n",
    "        for j, (part, is_table) in enumerate(zip(content_parts, is_table_ls), start=1):\n",
    "            chunk = {\n",
    "                'title': title,\n",
    "                'company': document_name,\n",
    "                'level': level,\n",
    "                'table': is_table,\n",
    "                'previous_titles': previous_titles,\n",
    "                'part_index': j,\n",
    "                'total_parts': total_parts,\n",
    "                'content': part,\n",
    "            }\n",
    "            chunks.append(chunk)\n",
    "    return chunks\n",
    "\n",
    "def pretty_print_chunks(chunks):\n",
    "    for chunk in chunks:\n",
    "        print(\"Title:\", chunk['title'])\n",
    "        print(\"Company:\", chunk['company'])\n",
    "        print(\"Level:\", chunk['level'])\n",
    "        print(\"Is Table:\", chunk['table'])\n",
    "        print(\"Part: {}/{}\".format(chunk['part_index'], chunk['total_parts']))\n",
    "        print(\"Previous Titles:\", chunk['previous_titles'])\n",
    "        print(\"Content:\\n\", chunk['content'])\n",
    "        print(\"-\" * 40)\n",
    "\n",
    "# --- Example usage ---\n",
    "sample_markdown = \"\"\"\n",
    "# Annual Report 2024\n",
    "\n",
    "Introductory text for the report. This section contains some long descriptive text that might be very large and thus needs to be split into parts. Lorem ipsum dolor sit amet, consectetur adipiscing elit. Vestibulum vel dolor eget velit efficitur aliquet. Donec ullamcorper, metus ac convallis facilisis, lorem urna commodo nunc, nec facilisis velit leo et augue. Sed sodales, purus eget vulputate mollis, enim ipsum convallis magna, eget interdum urna arcu sit amet libero.\n",
    "\n",
    "## Financial Overview\n",
    "\n",
    "| For the years ended December 31,                                                                  | 2022         | 2021         |\n",
    "|---------------------------------------------------------------------------------------------------|--------------|--------------|\n",
    "| Cash flows from operating activities                                                              |              |              |\n",
    "| Change in operating assets and liabilities                                                        | $  4,728     | $  26,154    |\n",
    "| Stock-based compensation cash payments                                                            | (7,155)      | (5,541)      |\n",
    "| Funding of post-employment benefit plans in excess of costs                                       | (32,106)     | (7,523)      |\n",
    "| Income taxes paid, net                                                                            | (7,758)      | -            |\n",
    "| Cash flows from operations, excluding the above                                                   | 91,791       | 91,489       |\n",
    "|                                                                                                   | $  49,500    | $  104,579   |\n",
    "| Cash flows used in investing activities                                                           |              |              |\n",
    "| Additions to intangible assets                                                                    | $  (4,911)   | $  (4,957)   |\n",
    "| Additions to property and equipment                                                               | (93)         | (117)        |\n",
    "| Payments received from net investment in subleases                                                | 1,338        | 593          |\n",
    "|                                                                                                   | $  (3,666)   | $  (4,481)   |\n",
    "| Cash flows used in financing activities                                                           |              |              |\n",
    "| Repayment of exchangeable debentures                                                              | $  -         | $  (107,033) |\n",
    "| Repurchase of common shares through NCIBs                                                         | (12,404)     | (5,334)      |\n",
    "| Repurchase of common shares per plan of arrangement, net of treasury shares and transaction costs | (96,125)     | -            |\n",
    "| Issuance of common shares                                                                         | 153          | 111          |\n",
    "| Payment of lease obligations                                                                      | (2,947)      | (3,045)      |\n",
    "| Dividends paid                                                                                    | (14,163)     | (14,730)     |\n",
    "|                                                                                                   | $  (125,486) | $  (130,031) |\n",
    "| NET DECREASE IN CASH                                                                              | $  (79,652)  | $  (29,933)  |\n",
    "| CASH, BEGINNING OF YEAR                                                                           | 123,559      | 153,492      |\n",
    "| CASH, END OF YEAR                                                                                 | $  43,907    | $  123,559   |\n",
    "\n",
    "Additional commentary follows the table to elaborate on the financial performance. More descriptive text is added to simulate a very large chunk that should be split intelligently. Lorem ipsum dolor sit amet, consectetur adipiscing elit. Praesent ac nibh vestibulum, imperdiet orci sit amet, dictum urna.\n",
    "\"\"\"\n",
    "\n",
    "# For demonstration, set a lower max_chunk_size (e.g. 500 characters) and an overlap of 50 characters.\n",
    "chunks = chunk_markdown(sample_markdown, company, context_window=3, max_chunk_size=200, overlap_chars=50, max_overlap_chars=100)\n",
    "\n",
    "pretty_print_chunks(chunks)\n",
    "\n",
    "# TODO also include overlap to table!"
   ],
   "id": "6b19be6b59643f2b",
   "outputs": [
    {
     "name": "stdout",
     "output_type": "stream",
     "text": [
      "Title: Annual Report 2024\n",
      "Company: calyxt\n",
      "Level: 1\n",
      "Is Table: False\n",
      "Part: 1/3\n",
      "Previous Titles: []\n",
      "Content:\n",
      " Introductory text for the report. This section contains some long descriptive text that might be very large and thus needs to be split into parts. Lorem ipsum dolor sit amet, consectetur adipiscing\n",
      "----------------------------------------\n",
      "Title: Annual Report 2024\n",
      "Company: calyxt\n",
      "Level: 1\n",
      "Is Table: False\n",
      "Part: 2/3\n",
      "Previous Titles: []\n",
      "Content:\n",
      " Lorem ipsum dolor sit amet, consectetur adipiscing elit. Vestibulum vel dolor eget velit efficitur aliquet. Donec ullamcorper, metus ac convallis facilisis, lorem urna commodo nunc, nec facilisis\n",
      "----------------------------------------\n",
      "Title: Annual Report 2024\n",
      "Company: calyxt\n",
      "Level: 1\n",
      "Is Table: False\n",
      "Part: 3/3\n",
      "Previous Titles: []\n",
      "Content:\n",
      " convallis facilisis, lorem urna commodo nunc, nec facilisis velit leo et augue. Sed sodales, purus eget vulputate mollis, enim ipsum convallis magna, eget interdum urna arcu sit amet libero.\n",
      "----------------------------------------\n",
      "Title: Financial Overview\n",
      "Company: calyxt\n",
      "Level: 2\n",
      "Is Table: True\n",
      "Part: 1/3\n",
      "Previous Titles: ['# Annual Report 2024']\n",
      "Content:\n",
      " | For the years ended December 31,                                                                  | 2022         | 2021         |\n",
      "|---------------------------------------------------------------------------------------------------|--------------|--------------|\n",
      "| Cash flows from operating activities                                                              |              |              |\n",
      "| Change in operating assets and liabilities                                                        | $  4,728     | $  26,154    |\n",
      "| Stock-based compensation cash payments                                                            | (7,155)      | (5,541)      |\n",
      "| Funding of post-employment benefit plans in excess of costs                                       | (32,106)     | (7,523)      |\n",
      "| Income taxes paid, net                                                                            | (7,758)      | -            |\n",
      "| Cash flows from operations, excluding the above                                                   | 91,791       | 91,489       |\n",
      "|                                                                                                   | $  49,500    | $  104,579   |\n",
      "| Cash flows used in investing activities                                                           |              |              |\n",
      "| Additions to intangible assets                                                                    | $  (4,911)   | $  (4,957)   |\n",
      "| Additions to property and equipment                                                               | (93)         | (117)        |\n",
      "| Payments received from net investment in subleases                                                | 1,338        | 593          |\n",
      "|                                                                                                   | $  (3,666)   | $  (4,481)   |\n",
      "| Cash flows used in financing activities                                                           |              |              |\n",
      "| Repayment of exchangeable debentures                                                              | $  -         | $  (107,033) |\n",
      "| Repurchase of common shares through NCIBs                                                         | (12,404)     | (5,334)      |\n",
      "| Repurchase of common shares per plan of arrangement, net of treasury shares and transaction costs | (96,125)     | -            |\n",
      "| Issuance of common shares                                                                         | 153          | 111          |\n",
      "| Payment of lease obligations                                                                      | (2,947)      | (3,045)      |\n",
      "| Dividends paid                                                                                    | (14,163)     | (14,730)     |\n",
      "|                                                                                                   | $  (125,486) | $  (130,031) |\n",
      "| NET DECREASE IN CASH                                                                              | $  (79,652)  | $  (29,933)  |\n",
      "| CASH, BEGINNING OF YEAR                                                                           | 123,559      | 153,492      |\n",
      "| CASH, END OF YEAR                                                                                 | $  43,907    | $  123,559   |\n",
      "----------------------------------------\n",
      "Title: Financial Overview\n",
      "Company: calyxt\n",
      "Level: 2\n",
      "Is Table: False\n",
      "Part: 2/3\n",
      "Previous Titles: ['# Annual Report 2024']\n",
      "Content:\n",
      " Additional commentary follows the table to elaborate on the financial performance. More descriptive text is added to simulate a very large chunk that should be split intelligently. Lorem ipsum dolor\n",
      "----------------------------------------\n",
      "Title: Financial Overview\n",
      "Company: calyxt\n",
      "Level: 2\n",
      "Is Table: False\n",
      "Part: 3/3\n",
      "Previous Titles: ['# Annual Report 2024']\n",
      "Content:\n",
      " that should be split intelligently. Lorem ipsum dolor sit amet, consectetur adipiscing elit. Praesent ac nibh vestibulum, imperdiet orci sit amet, dictum urna.\n",
      "----------------------------------------\n"
     ]
    }
   ],
   "execution_count": 8
  },
  {
   "metadata": {
    "ExecuteTime": {
     "end_time": "2025-02-10T16:03:08.547897Z",
     "start_time": "2025-02-10T16:03:08.537815Z"
    }
   },
   "cell_type": "code",
   "source": [
    "# Chunk sample\n",
    "sample = text[:10000]\n",
    "\n",
    "chunks = chunk_markdown(sample, company, context_window=3, max_chunk_size=2000, overlap_chars=500)\n",
    "\n",
    "pretty_print_chunks(chunks)"
   ],
   "id": "90234d3726a11040",
   "outputs": [
    {
     "name": "stdout",
     "output_type": "stream",
     "text": [
      "Title: UNITED STATES SECURITIES AND EXCHANGE COMMISSION\n",
      "Company: calyxt\n",
      "Level: 2\n",
      "Is Table: False\n",
      "Part: 1/1\n",
      "Previous Titles: []\n",
      "Content:\n",
      " Washington, D.C. 20549\n",
      "----------------------------------------\n",
      "Title: FORM 10-K\n",
      "Company: calyxt\n",
      "Level: 2\n",
      "Is Table: False\n",
      "Part: 1/1\n",
      "Previous Titles: ['## UNITED STATES SECURITIES AND EXCHANGE COMMISSION']\n",
      "Content:\n",
      " <!-- image -->\n",
      "\n",
      "(Mark One)\n",
      "\n",
      "☒\n",
      "\n",
      "ANNUAL REPORT PURSUANT TO SECTION 13 OR 15(d) OF THE SECURITIES EXCHANGE ACT OF\n",
      "\n",
      "1934\n",
      "\n",
      "For the fiscal year ended December 31, 2022;\n",
      "\n",
      "or\n",
      "\n",
      "☐ TRANSITION REPORT PURSUANT TO SECTION 13 OR 15(d) OF THE SECURITIES EXCHANGE ACT OF 1934\n",
      "\n",
      "For the transition period from                       to\n",
      "\n",
      "Commission file number 001-38161\n",
      "----------------------------------------\n",
      "Title: Calyxt, Inc.\n",
      "Company: calyxt\n",
      "Level: 2\n",
      "Is Table: False\n",
      "Part: 1/2\n",
      "Previous Titles: ['## UNITED STATES SECURITIES AND EXCHANGE COMMISSION', '## FORM 10-K']\n",
      "Content:\n",
      " (Exact name of registrant as specified in its charter)\n",
      "\n",
      "Delaware (State or other jurisdiction of incorporation or organization)\n",
      "\n",
      "27-1967997 (I.R.S. Employer Identification No.)\n",
      "\n",
      "2800 Mount Ridge Road Roseville, Minnesota (Address of principal executive offices)\n",
      "\n",
      "55113-1127 (Zip Code)\n",
      "\n",
      "Registrant's telephone number, including area code: (651) 683-2807\n",
      "\n",
      "Securities registered pursuant to Section 12(b) of the Act:\n",
      "\n",
      "Title of each class\n",
      "\n",
      "Trading\n",
      "\n",
      "Symbol(s)\n",
      "\n",
      "Name of each exchange on which registered\n",
      "\n",
      "Common Stock ($(0.0001 par value)\n",
      "\n",
      "CLXT\n",
      "\n",
      "The NASDAQ Stock Market LLC\n",
      "\n",
      "Securities registered pursuant to Section 12(g) of the Act: None\n",
      "\n",
      "Indicate by check mark if the registrant is a well-known seasoned issuer, as defined in Rule 405 of the Securities Act.    Yes ☐\n",
      "\n",
      "No ☒\n",
      "\n",
      "Indicate by check mark if the registrant is not required to file reports pursuant to Section 13 or Section 15(d) of the Act.    Yes\n",
      "\n",
      "☐\n",
      "\n",
      "No\n",
      "\n",
      "☒\n",
      "\n",
      "Indicate by check mark whether the registrant (1) has filed all reports required to be filed by Section 13 or 15(d) of the Securities Exchange Act of 1934 during the preceding 12 months (or for such shorter period that the registrant was required to file such reports), and (2) has been subject to such filing requirements for the past 90 days.    Yes ☒ No ☐\n",
      "\n",
      "Indicate by check mark whether the registrant has submitted electronically every Interactive Data File required to be submitted pursuant to Rule 405 of Regulation S-T (§232.405 of this chapter) during the preceding 12 months (or for such shorter period that the registrant was required to submit such files).    Yes ☒ No ☐\n",
      "\n",
      "Indicate by check mark whether the registrant is a large accelerated filer, an accelerated filer, a  non-accelerated filer, a smaller reporting company or an emerging growth company. See the definitions of 'large accelerated filer,' 'accelerated filer,' 'smaller reporting company', and 'emerging growth company' in Rule 12b-2 of the Exchange Act (check one):\n",
      "\n",
      "Large Accelerated Filer ☐\n",
      "----------------------------------------\n",
      "Title: Calyxt, Inc.\n",
      "Company: calyxt\n",
      "Level: 2\n",
      "Is Table: False\n",
      "Part: 2/2\n",
      "Previous Titles: ['## UNITED STATES SECURITIES AND EXCHANGE COMMISSION', '## FORM 10-K']\n",
      "Content:\n",
      " Accelerated Filer ☐\n",
      "\n",
      "Non-accelerated Filer\n",
      "\n",
      "☒\n",
      "\n",
      "Smaller Reporting Company ☐\n",
      "\n",
      "Emerging Growth Company ☐\n",
      "\n",
      "If an emerging growth company, indicate by check mark if the registrant has elected not to use the extended transition period for complying with any new or revised financial accounting standards provided pursuant to Section 13(a) of the Exchange Act. ☐\n",
      "\n",
      "Indicate by check mark whether the registrant has filed a report on and attestation to its management's assessment of the effectiveness of its internal control over financial reporting under Section 404(b) of the Sarbanes-Oxley Act (15 U.S.C. 7262(b)) by the registered public accounting firm that prepared or issued its audit report. ☐\n",
      "\n",
      "If securities are registered pursuant to Section 12(b) of the Act, indicate by check mark whether the financial statements of the registrant included in the filing reflect the correction of an error to previously issued financial statements. ☐\n",
      "\n",
      "Indicate by check mark whether any of those error corrections are restatements that required a recovery analysis of incentive-based compensation received by any of the registrant's executive officers during the relevant recovery period pursuant to §240.10D-1(b). ☐\n",
      "\n",
      "Indicate by check mark whether the registrant is a shell company (as defined in Rule 12b-2 of the Act).    Yes\n",
      "\n",
      "☐\n",
      "\n",
      "No ☒\n",
      "\n",
      "Aggregate market value of the common stock held by  non-affiliates of the registrant: As of June 30, 2022, the last business day of the registrant's most recently completed second fiscal quarter, the aggregate market value of shares of common stock held by non-affiliates of the registrant was $5,446,012 based upon the closing sale price of the registrant's common stock of $0.24 on such date.\n",
      "\n",
      "The number of outstanding shares of the registrant's common stock on March 1, 2023 was  49,376,160 shares.\n",
      "----------------------------------------\n",
      "Title: DOCUMENTS INCORPORATED BY REFERENCE\n",
      "Company: calyxt\n",
      "Level: 2\n",
      "Is Table: False\n",
      "Part: 1/1\n",
      "Previous Titles: ['## UNITED STATES SECURITIES AND EXCHANGE COMMISSION', '## FORM 10-K', '## Calyxt, Inc.']\n",
      "Content:\n",
      " The information required by Part III of this Annual Report on Form  10-K, to the extent not set forth herein, is incorporated herein by reference from the registrant's definitive proxy statement relating to the registrant's Annual Meeting of Stockholders to be held in 2023, which definitive proxy statement shall be filed with the Securities and Exchange Commission not later than 120 days after the end of the fiscal year covered by this Annual Report on Form 10-K.\n",
      "----------------------------------------\n",
      "Title: Table of Contents\n",
      "Company: calyxt\n",
      "Level: 2\n",
      "Is Table: False\n",
      "Part: 1/2\n",
      "Previous Titles: ['## FORM 10-K', '## Calyxt, Inc.', '## DOCUMENTS INCORPORATED BY REFERENCE']\n",
      "Content:\n",
      " 3\n",
      "\n",
      "3\n",
      "\n",
      "Table of Contents\n",
      "----------------------------------------\n",
      "Title: Table of Contents\n",
      "Company: calyxt\n",
      "Level: 2\n",
      "Is Table: True\n",
      "Part: 2/2\n",
      "Previous Titles: ['## FORM 10-K', '## Calyxt, Inc.', '## DOCUMENTS INCORPORATED BY REFERENCE']\n",
      "Content:\n",
      " | PART I   |                                                                                                              |    |\n",
      "|----------|--------------------------------------------------------------------------------------------------------------|----|\n",
      "| Item 1.  | Business                                                                                                     |    |\n",
      "| Item 1A. | Risk Factors                                                                                                 | 12 |\n",
      "| Item 1B. | Unresolved Staff Comments                                                                                    | 26 |\n",
      "| Item 2.  | Properties                                                                                                   | 27 |\n",
      "| Item 3.  | Legal Proceedings                                                                                            | 27 |\n",
      "| Item 4.  | Mine Safety Disclosures                                                                                      | 27 |\n",
      "| PART II  |                                                                                                              | 27 |\n",
      "| Item 5.  | Market for Registrant's Common Equity, Related Stockholder Matters and Issuer Purchases of Equity Securities | 27 |\n",
      "| Item 6.  | [Reserved]                                                                                                   | 28 |\n",
      "| Item 7.  | Management's Discussion and Analysis of Financial Condition and Results of Operations                        | 29 |\n",
      "| Item 7A. | Quantitative and Qualitative Disclosures About Market Risk                                                   | 38 |\n",
      "| Item 8.  | Consolidated Financial Statements and Supplementary Data                                                     | 38 |\n",
      "| Item 9.  | Changes in and Disagreements with Accountants on Accounting and Financial Disclosure                         | 38 |\n",
      "| Item 9A. | Controls and Procedures                                                                                      | 38 |\n",
      "| Item 9B. | Other Information                                                                                            | 39 |\n",
      "| Item 9C. | Disclosure Regarding Foreign Jurisdictions that Prevent Inspections                                          | 39 |\n",
      "| PART III |                                                                                                              | 40 |\n",
      "| Item 10. | Directors, Executive Officers and Corporate Governance                                                       | 40 |\n",
      "| Item 11. | Executive Compensation                                                                                       | 40 |\n",
      "| Item 12. | Security Ownership of Certain Beneficial Owners and Management and Related Stockholder Matters               | 40 |\n",
      "| Item 13. | Certain Relationships and Related Transactions, and Director Independence                                    | 40 |\n",
      "| Item 14. | Principal Accounting Fees and Services                                                                       | 40 |\n",
      "| PART IV  |                                                                                                              | 41 |\n",
      "| Item 15. | Exhibits and Financial Statement Schedules                                                                   | 41 |\n",
      "| Item 16. | Form 10-K Summary                                                                                            | 43 |\n",
      "----------------------------------------\n",
      "Title: Terms\n",
      "Company: calyxt\n",
      "Level: 2\n",
      "Is Table: False\n",
      "Part: 1/1\n",
      "Previous Titles: ['## DOCUMENTS INCORPORATED BY REFERENCE', '## Table of Contents', '## Table of Contents']\n",
      "Content:\n",
      " When the terms the 'Company' or 'its' are used in this report, unless the context otherwise requires, those terms are being used to refer to Calyxt, Inc. When the term 'Cellectis,' is used, it is being used to refer to Cellectis S.A. ( société anonyme ), the Company's largest stockholder.\n",
      "\n",
      "The Company owns the names PlantSpring and BioFactory. The Company also owns the trademarks Calyxt ®  and Calyno ®  and owns or licenses other trademarks, trade names, and service marks appearing in this Annual Report on Form 10-K. The names and trademarks Cellectis ®  and TALEN ® , along with any other trademarks, trade names, and service marks of Cellectis appearing in this report are the property of Cellectis. This report also contains additional trade names, trademarks, and service marks belonging to other companies. The Company does not intend its use or display of other parties' trademarks, trade names, or service marks to imply, and such use or display should not be construed to imply a relationship with, or endorsement or sponsorship of these other parties.\n",
      "----------------------------------------\n",
      "Title: Cautionary Note Regarding Forward-Looking Statements\n",
      "Company: calyxt\n",
      "Level: 2\n",
      "Is Table: False\n",
      "Part: 1/1\n",
      "Previous Titles: ['## Table of Contents', '## Table of Contents', '## Terms']\n",
      "Content:\n",
      " This Annual Report on Form  10-K contains 'forward-looking statements' within the meaning of the federal securities laws, including Section 27A of the Securities Act of 1933, as amended (the Securities Act), and Section 21E of the Securities Exchange Act of 1934, as amended (the Exchange Act). The Company may also make forward-looking statements in other reports filed with the Securities and Exchange Commission (SEC), in materials delivered to stockholders, and in press releases. In addition, the Company's representatives\n",
      "----------------------------------------\n"
     ]
    }
   ],
   "execution_count": 33
  },
  {
   "metadata": {
    "ExecuteTime": {
     "end_time": "2025-02-10T16:02:13.565495Z",
     "start_time": "2025-02-10T16:02:13.555211Z"
    }
   },
   "cell_type": "code",
   "source": "len(chunks)",
   "id": "95ef31ff67cb2e3b",
   "outputs": [
    {
     "data": {
      "text/plain": [
       "9"
      ]
     },
     "execution_count": 26,
     "metadata": {},
     "output_type": "execute_result"
    }
   ],
   "execution_count": 26
  },
  {
   "metadata": {},
   "cell_type": "markdown",
   "source": "## Create embeddings",
   "id": "f51f9c1080db9867"
  },
  {
   "metadata": {
    "ExecuteTime": {
     "end_time": "2025-02-10T16:07:46.097018Z",
     "start_time": "2025-02-10T16:07:44.912686Z"
    }
   },
   "cell_type": "code",
   "source": [
    "# OPENAI EMBEDDINGS\n",
    "\n",
    "from openai import OpenAI\n",
    "embedding_client = OpenAI()\n",
    "\n",
    "# Max input: 8191 tokens\n",
    "\n",
    "# embedding_model = \"text-embedding-3-large\"\n",
    "# embedding_size = 3072\n",
    "\n",
    "embedding_model = \"text-embedding-3-small\"\n",
    "embedding_size = 1536\n",
    "\n",
    "contents = [f\"{chunk['title']} - {chunk['content']}\" for chunk in chunks]\n",
    "contents_cleaned = [txt.replace(\"\\n\", \" \") for txt in contents]\n",
    "embeddings = embedding_client.embeddings.create(input=contents_cleaned, model=embedding_model).data\n",
    "\n",
    "# extract embeddings and attach to chunks\n",
    "# for i, chunk in enumerate(chunks):\n",
    "#     chunk[\"embedding\"] = embeddings[i].embedding\n",
    "\n",
    "# for chunk in chunks:\n",
    "#     chunk[\"embedding\"] = get_embedding(chunk[\"content\"], embedding_model)\n",
    "embeddings = [emb.embedding for emb in embeddings]"
   ],
   "id": "5786ac3c9079f1ee",
   "outputs": [],
   "execution_count": 48
  },
  {
   "metadata": {
    "ExecuteTime": {
     "end_time": "2025-02-10T15:14:56.163381Z",
     "start_time": "2025-02-10T15:14:54.734875Z"
    }
   },
   "cell_type": "code",
   "source": [
    "# LOCAL APPROACH\n",
    "from sentence_transformers import SentenceTransformer\n",
    "\n",
    "# Initialize the pre-trained model\n",
    "embedding_model = SentenceTransformer('all-MiniLM-L6-v2')\n",
    "embedding_size = 384\n",
    "\n",
    "# TODO make this more sophisticated, to include metadata in embedding\n",
    "contents = [f\"{chunk['title']} - {chunk['content']}\" for chunk in chunks]\n",
    "contents_cleaned = [txt.replace(\"\\n\", \" \") for txt in contents]\n",
    "\n",
    "# Generate the embedding\n",
    "embeddings = embedding_model.encode(contents_cleaned)\n",
    "embeddings = [emb.tolist() for emb in embeddings]"
   ],
   "id": "c45585720e5ff696",
   "outputs": [],
   "execution_count": 155
  },
  {
   "metadata": {
    "ExecuteTime": {
     "end_time": "2025-02-10T16:04:02.784820Z",
     "start_time": "2025-02-10T16:04:02.776626Z"
    }
   },
   "cell_type": "code",
   "source": [
    "# attach to chunks\n",
    "db_data = []\n",
    "for idx, chunk in enumerate(chunks):\n",
    "    db_data.append({\n",
    "        \"embedding\": embeddings[idx],\n",
    "        \"metadata\": chunk,\n",
    "    })"
   ],
   "id": "f99180de6ce86b58",
   "outputs": [],
   "execution_count": 38
  },
  {
   "metadata": {
    "ExecuteTime": {
     "end_time": "2025-02-10T16:06:52.087608Z",
     "start_time": "2025-02-10T16:06:52.070901Z"
    }
   },
   "cell_type": "code",
   "source": "db_data[6][\"metadata\"]",
   "id": "f713f56f40bceb72",
   "outputs": [
    {
     "data": {
      "text/plain": [
       "{'title': 'Table of Contents',\n",
       " 'company': 'calyxt',\n",
       " 'level': 2,\n",
       " 'table': True,\n",
       " 'previous_titles': ['## FORM 10-K',\n",
       "  '## Calyxt, Inc.',\n",
       "  '## DOCUMENTS INCORPORATED BY REFERENCE'],\n",
       " 'part_index': 2,\n",
       " 'total_parts': 2,\n",
       " 'content': \"| PART I   |                                                                                                              |    |\\n|----------|--------------------------------------------------------------------------------------------------------------|----|\\n| Item 1.  | Business                                                                                                     |    |\\n| Item 1A. | Risk Factors                                                                                                 | 12 |\\n| Item 1B. | Unresolved Staff Comments                                                                                    | 26 |\\n| Item 2.  | Properties                                                                                                   | 27 |\\n| Item 3.  | Legal Proceedings                                                                                            | 27 |\\n| Item 4.  | Mine Safety Disclosures                                                                                      | 27 |\\n| PART II  |                                                                                                              | 27 |\\n| Item 5.  | Market for Registrant's Common Equity, Related Stockholder Matters and Issuer Purchases of Equity Securities | 27 |\\n| Item 6.  | [Reserved]                                                                                                   | 28 |\\n| Item 7.  | Management's Discussion and Analysis of Financial Condition and Results of Operations                        | 29 |\\n| Item 7A. | Quantitative and Qualitative Disclosures About Market Risk                                                   | 38 |\\n| Item 8.  | Consolidated Financial Statements and Supplementary Data                                                     | 38 |\\n| Item 9.  | Changes in and Disagreements with Accountants on Accounting and Financial Disclosure                         | 38 |\\n| Item 9A. | Controls and Procedures                                                                                      | 38 |\\n| Item 9B. | Other Information                                                                                            | 39 |\\n| Item 9C. | Disclosure Regarding Foreign Jurisdictions that Prevent Inspections                                          | 39 |\\n| PART III |                                                                                                              | 40 |\\n| Item 10. | Directors, Executive Officers and Corporate Governance                                                       | 40 |\\n| Item 11. | Executive Compensation                                                                                       | 40 |\\n| Item 12. | Security Ownership of Certain Beneficial Owners and Management and Related Stockholder Matters               | 40 |\\n| Item 13. | Certain Relationships and Related Transactions, and Director Independence                                    | 40 |\\n| Item 14. | Principal Accounting Fees and Services                                                                       | 40 |\\n| PART IV  |                                                                                                              | 41 |\\n| Item 15. | Exhibits and Financial Statement Schedules                                                                   | 41 |\\n| Item 16. | Form 10-K Summary                                                                                            | 43 |\"}"
      ]
     },
     "execution_count": 45,
     "metadata": {},
     "output_type": "execute_result"
    }
   ],
   "execution_count": 45
  },
  {
   "metadata": {},
   "cell_type": "markdown",
   "source": "## Creating vector database",
   "id": "d1cddd9afb2288ef"
  },
  {
   "metadata": {
    "ExecuteTime": {
     "end_time": "2025-02-10T15:15:01.679341Z",
     "start_time": "2025-02-10T15:15:01.667155Z"
    }
   },
   "cell_type": "code",
   "source": "chunk.keys()",
   "id": "c97729260660bca0",
   "outputs": [
    {
     "data": {
      "text/plain": [
       "dict_keys(['title', 'level', 'previous_titles', 'part_index', 'total_parts', 'content'])"
      ]
     },
     "execution_count": 159,
     "metadata": {},
     "output_type": "execute_result"
    }
   ],
   "execution_count": 159
  },
  {
   "metadata": {
    "ExecuteTime": {
     "end_time": "2025-02-10T16:20:07.095022Z",
     "start_time": "2025-02-10T16:19:57.718793Z"
    }
   },
   "cell_type": "code",
   "source": [
    "# https://qdrant.tech/documentation/beginner-tutorials/search-beginners/\n",
    "\n",
    "from qdrant_client import models, QdrantClient\n",
    "\n",
    "# Connect to Qdrant\n",
    "# TODO store locally!\n",
    "# client = QdrantClient(host=\"localhost\", port=6333)\n",
    "client = QdrantClient(\":memory:\")\n",
    "\n",
    "# Define collection parameters\n",
    "collection_name = \"rag_test_db\"\n",
    "# embedding_size = 384\n",
    "\n",
    "client.create_collection(\n",
    "    collection_name=collection_name,\n",
    "    vectors_config=models.VectorParams(\n",
    "            size=embedding_size,\n",
    "            distance=models.Distance.COSINE  # or Distance.EUCLID, etc.\n",
    "        )\n",
    ")\n",
    "\n",
    "client.upload_points(\n",
    "    collection_name=collection_name,\n",
    "    points=[\n",
    "        models.PointStruct(id=idx, vector=data[\"embedding\"], payload=data[\"metadata\"])\n",
    "        for idx, data in enumerate(db_data)\n",
    "    ],\n",
    ")"
   ],
   "id": "58a33583e2ff8af9",
   "outputs": [
    {
     "ename": "ResponseHandlingException",
     "evalue": "[WinError 10061] No connection could be made because the target machine actively refused it",
     "output_type": "error",
     "traceback": [
      "\u001B[1;31m---------------------------------------------------------------------------\u001B[0m",
      "\u001B[1;31mConnectionRefusedError\u001B[0m                    Traceback (most recent call last)",
      "File \u001B[1;32m~\\AppData\\Local\\miniforge3\\envs\\rag_challenge\\lib\\site-packages\\httpcore\\_exceptions.py:10\u001B[0m, in \u001B[0;36mmap_exceptions\u001B[1;34m(map)\u001B[0m\n\u001B[0;32m      9\u001B[0m \u001B[38;5;28;01mtry\u001B[39;00m:\n\u001B[1;32m---> 10\u001B[0m     \u001B[38;5;28;01myield\u001B[39;00m\n\u001B[0;32m     11\u001B[0m \u001B[38;5;28;01mexcept\u001B[39;00m \u001B[38;5;167;01mException\u001B[39;00m \u001B[38;5;28;01mas\u001B[39;00m exc:  \u001B[38;5;66;03m# noqa: PIE786\u001B[39;00m\n",
      "File \u001B[1;32m~\\AppData\\Local\\miniforge3\\envs\\rag_challenge\\lib\\site-packages\\httpcore\\_backends\\sync.py:206\u001B[0m, in \u001B[0;36mSyncBackend.connect_tcp\u001B[1;34m(self, host, port, timeout, local_address, socket_options)\u001B[0m\n\u001B[0;32m    205\u001B[0m \u001B[38;5;28;01mwith\u001B[39;00m map_exceptions(exc_map):\n\u001B[1;32m--> 206\u001B[0m     sock \u001B[38;5;241m=\u001B[39m \u001B[43msocket\u001B[49m\u001B[38;5;241;43m.\u001B[39;49m\u001B[43mcreate_connection\u001B[49m\u001B[43m(\u001B[49m\n\u001B[0;32m    207\u001B[0m \u001B[43m        \u001B[49m\u001B[43maddress\u001B[49m\u001B[43m,\u001B[49m\n\u001B[0;32m    208\u001B[0m \u001B[43m        \u001B[49m\u001B[43mtimeout\u001B[49m\u001B[43m,\u001B[49m\n\u001B[0;32m    209\u001B[0m \u001B[43m        \u001B[49m\u001B[43msource_address\u001B[49m\u001B[38;5;241;43m=\u001B[39;49m\u001B[43msource_address\u001B[49m\u001B[43m,\u001B[49m\n\u001B[0;32m    210\u001B[0m \u001B[43m    \u001B[49m\u001B[43m)\u001B[49m\n\u001B[0;32m    211\u001B[0m     \u001B[38;5;28;01mfor\u001B[39;00m option \u001B[38;5;129;01min\u001B[39;00m socket_options:\n",
      "File \u001B[1;32m~\\AppData\\Local\\miniforge3\\envs\\rag_challenge\\lib\\socket.py:857\u001B[0m, in \u001B[0;36mcreate_connection\u001B[1;34m(address, timeout, source_address)\u001B[0m\n\u001B[0;32m    856\u001B[0m \u001B[38;5;28;01mtry\u001B[39;00m:\n\u001B[1;32m--> 857\u001B[0m     \u001B[38;5;28;01mraise\u001B[39;00m err\n\u001B[0;32m    858\u001B[0m \u001B[38;5;28;01mfinally\u001B[39;00m:\n\u001B[0;32m    859\u001B[0m     \u001B[38;5;66;03m# Break explicitly a reference cycle\u001B[39;00m\n",
      "File \u001B[1;32m~\\AppData\\Local\\miniforge3\\envs\\rag_challenge\\lib\\socket.py:845\u001B[0m, in \u001B[0;36mcreate_connection\u001B[1;34m(address, timeout, source_address)\u001B[0m\n\u001B[0;32m    844\u001B[0m     sock\u001B[38;5;241m.\u001B[39mbind(source_address)\n\u001B[1;32m--> 845\u001B[0m \u001B[43msock\u001B[49m\u001B[38;5;241;43m.\u001B[39;49m\u001B[43mconnect\u001B[49m\u001B[43m(\u001B[49m\u001B[43msa\u001B[49m\u001B[43m)\u001B[49m\n\u001B[0;32m    846\u001B[0m \u001B[38;5;66;03m# Break explicitly a reference cycle\u001B[39;00m\n",
      "\u001B[1;31mConnectionRefusedError\u001B[0m: [WinError 10061] No connection could be made because the target machine actively refused it",
      "\nThe above exception was the direct cause of the following exception:\n",
      "\u001B[1;31mConnectError\u001B[0m                              Traceback (most recent call last)",
      "File \u001B[1;32m~\\AppData\\Local\\miniforge3\\envs\\rag_challenge\\lib\\site-packages\\httpx\\_transports\\default.py:69\u001B[0m, in \u001B[0;36mmap_httpcore_exceptions\u001B[1;34m()\u001B[0m\n\u001B[0;32m     68\u001B[0m \u001B[38;5;28;01mtry\u001B[39;00m:\n\u001B[1;32m---> 69\u001B[0m     \u001B[38;5;28;01myield\u001B[39;00m\n\u001B[0;32m     70\u001B[0m \u001B[38;5;28;01mexcept\u001B[39;00m \u001B[38;5;167;01mException\u001B[39;00m \u001B[38;5;28;01mas\u001B[39;00m exc:\n",
      "File \u001B[1;32m~\\AppData\\Local\\miniforge3\\envs\\rag_challenge\\lib\\site-packages\\httpx\\_transports\\default.py:233\u001B[0m, in \u001B[0;36mHTTPTransport.handle_request\u001B[1;34m(self, request)\u001B[0m\n\u001B[0;32m    232\u001B[0m \u001B[38;5;28;01mwith\u001B[39;00m map_httpcore_exceptions():\n\u001B[1;32m--> 233\u001B[0m     resp \u001B[38;5;241m=\u001B[39m \u001B[38;5;28;43mself\u001B[39;49m\u001B[38;5;241;43m.\u001B[39;49m\u001B[43m_pool\u001B[49m\u001B[38;5;241;43m.\u001B[39;49m\u001B[43mhandle_request\u001B[49m\u001B[43m(\u001B[49m\u001B[43mreq\u001B[49m\u001B[43m)\u001B[49m\n\u001B[0;32m    235\u001B[0m \u001B[38;5;28;01massert\u001B[39;00m \u001B[38;5;28misinstance\u001B[39m(resp\u001B[38;5;241m.\u001B[39mstream, typing\u001B[38;5;241m.\u001B[39mIterable)\n",
      "File \u001B[1;32m~\\AppData\\Local\\miniforge3\\envs\\rag_challenge\\lib\\site-packages\\httpcore\\_sync\\connection_pool.py:268\u001B[0m, in \u001B[0;36mConnectionPool.handle_request\u001B[1;34m(self, request)\u001B[0m\n\u001B[0;32m    267\u001B[0m         \u001B[38;5;28mself\u001B[39m\u001B[38;5;241m.\u001B[39mresponse_closed(status)\n\u001B[1;32m--> 268\u001B[0m     \u001B[38;5;28;01mraise\u001B[39;00m exc\n\u001B[0;32m    269\u001B[0m \u001B[38;5;28;01melse\u001B[39;00m:\n",
      "File \u001B[1;32m~\\AppData\\Local\\miniforge3\\envs\\rag_challenge\\lib\\site-packages\\httpcore\\_sync\\connection_pool.py:251\u001B[0m, in \u001B[0;36mConnectionPool.handle_request\u001B[1;34m(self, request)\u001B[0m\n\u001B[0;32m    250\u001B[0m \u001B[38;5;28;01mtry\u001B[39;00m:\n\u001B[1;32m--> 251\u001B[0m     response \u001B[38;5;241m=\u001B[39m \u001B[43mconnection\u001B[49m\u001B[38;5;241;43m.\u001B[39;49m\u001B[43mhandle_request\u001B[49m\u001B[43m(\u001B[49m\u001B[43mrequest\u001B[49m\u001B[43m)\u001B[49m\n\u001B[0;32m    252\u001B[0m \u001B[38;5;28;01mexcept\u001B[39;00m ConnectionNotAvailable:\n\u001B[0;32m    253\u001B[0m     \u001B[38;5;66;03m# The ConnectionNotAvailable exception is a special case, that\u001B[39;00m\n\u001B[0;32m    254\u001B[0m     \u001B[38;5;66;03m# indicates we need to retry the request on a new connection.\u001B[39;00m\n\u001B[1;32m   (...)\u001B[0m\n\u001B[0;32m    258\u001B[0m     \u001B[38;5;66;03m# might end up as an HTTP/2 connection, but which actually ends\u001B[39;00m\n\u001B[0;32m    259\u001B[0m     \u001B[38;5;66;03m# up as HTTP/1.1.\u001B[39;00m\n",
      "File \u001B[1;32m~\\AppData\\Local\\miniforge3\\envs\\rag_challenge\\lib\\site-packages\\httpcore\\_sync\\connection.py:99\u001B[0m, in \u001B[0;36mHTTPConnection.handle_request\u001B[1;34m(self, request)\u001B[0m\n\u001B[0;32m     98\u001B[0m         \u001B[38;5;28mself\u001B[39m\u001B[38;5;241m.\u001B[39m_connect_failed \u001B[38;5;241m=\u001B[39m \u001B[38;5;28;01mTrue\u001B[39;00m\n\u001B[1;32m---> 99\u001B[0m         \u001B[38;5;28;01mraise\u001B[39;00m exc\n\u001B[0;32m    100\u001B[0m \u001B[38;5;28;01melif\u001B[39;00m \u001B[38;5;129;01mnot\u001B[39;00m \u001B[38;5;28mself\u001B[39m\u001B[38;5;241m.\u001B[39m_connection\u001B[38;5;241m.\u001B[39mis_available():\n",
      "File \u001B[1;32m~\\AppData\\Local\\miniforge3\\envs\\rag_challenge\\lib\\site-packages\\httpcore\\_sync\\connection.py:76\u001B[0m, in \u001B[0;36mHTTPConnection.handle_request\u001B[1;34m(self, request)\u001B[0m\n\u001B[0;32m     75\u001B[0m \u001B[38;5;28;01mtry\u001B[39;00m:\n\u001B[1;32m---> 76\u001B[0m     stream \u001B[38;5;241m=\u001B[39m \u001B[38;5;28;43mself\u001B[39;49m\u001B[38;5;241;43m.\u001B[39;49m\u001B[43m_connect\u001B[49m\u001B[43m(\u001B[49m\u001B[43mrequest\u001B[49m\u001B[43m)\u001B[49m\n\u001B[0;32m     78\u001B[0m     ssl_object \u001B[38;5;241m=\u001B[39m stream\u001B[38;5;241m.\u001B[39mget_extra_info(\u001B[38;5;124m\"\u001B[39m\u001B[38;5;124mssl_object\u001B[39m\u001B[38;5;124m\"\u001B[39m)\n",
      "File \u001B[1;32m~\\AppData\\Local\\miniforge3\\envs\\rag_challenge\\lib\\site-packages\\httpcore\\_sync\\connection.py:124\u001B[0m, in \u001B[0;36mHTTPConnection._connect\u001B[1;34m(self, request)\u001B[0m\n\u001B[0;32m    123\u001B[0m \u001B[38;5;28;01mwith\u001B[39;00m Trace(\u001B[38;5;124m\"\u001B[39m\u001B[38;5;124mconnect_tcp\u001B[39m\u001B[38;5;124m\"\u001B[39m, logger, request, kwargs) \u001B[38;5;28;01mas\u001B[39;00m trace:\n\u001B[1;32m--> 124\u001B[0m     stream \u001B[38;5;241m=\u001B[39m \u001B[38;5;28mself\u001B[39m\u001B[38;5;241m.\u001B[39m_network_backend\u001B[38;5;241m.\u001B[39mconnect_tcp(\u001B[38;5;241m*\u001B[39m\u001B[38;5;241m*\u001B[39mkwargs)\n\u001B[0;32m    125\u001B[0m     trace\u001B[38;5;241m.\u001B[39mreturn_value \u001B[38;5;241m=\u001B[39m stream\n",
      "File \u001B[1;32m~\\AppData\\Local\\miniforge3\\envs\\rag_challenge\\lib\\site-packages\\httpcore\\_backends\\sync.py:205\u001B[0m, in \u001B[0;36mSyncBackend.connect_tcp\u001B[1;34m(self, host, port, timeout, local_address, socket_options)\u001B[0m\n\u001B[0;32m    200\u001B[0m exc_map: ExceptionMapping \u001B[38;5;241m=\u001B[39m {\n\u001B[0;32m    201\u001B[0m     socket\u001B[38;5;241m.\u001B[39mtimeout: ConnectTimeout,\n\u001B[0;32m    202\u001B[0m     \u001B[38;5;167;01mOSError\u001B[39;00m: ConnectError,\n\u001B[0;32m    203\u001B[0m }\n\u001B[1;32m--> 205\u001B[0m \u001B[38;5;28;01mwith\u001B[39;00m map_exceptions(exc_map):\n\u001B[0;32m    206\u001B[0m     sock \u001B[38;5;241m=\u001B[39m socket\u001B[38;5;241m.\u001B[39mcreate_connection(\n\u001B[0;32m    207\u001B[0m         address,\n\u001B[0;32m    208\u001B[0m         timeout,\n\u001B[0;32m    209\u001B[0m         source_address\u001B[38;5;241m=\u001B[39msource_address,\n\u001B[0;32m    210\u001B[0m     )\n",
      "File \u001B[1;32m~\\AppData\\Local\\miniforge3\\envs\\rag_challenge\\lib\\contextlib.py:153\u001B[0m, in \u001B[0;36m_GeneratorContextManager.__exit__\u001B[1;34m(self, typ, value, traceback)\u001B[0m\n\u001B[0;32m    152\u001B[0m \u001B[38;5;28;01mtry\u001B[39;00m:\n\u001B[1;32m--> 153\u001B[0m     \u001B[38;5;28;43mself\u001B[39;49m\u001B[38;5;241;43m.\u001B[39;49m\u001B[43mgen\u001B[49m\u001B[38;5;241;43m.\u001B[39;49m\u001B[43mthrow\u001B[49m\u001B[43m(\u001B[49m\u001B[43mtyp\u001B[49m\u001B[43m,\u001B[49m\u001B[43m \u001B[49m\u001B[43mvalue\u001B[49m\u001B[43m,\u001B[49m\u001B[43m \u001B[49m\u001B[43mtraceback\u001B[49m\u001B[43m)\u001B[49m\n\u001B[0;32m    154\u001B[0m \u001B[38;5;28;01mexcept\u001B[39;00m \u001B[38;5;167;01mStopIteration\u001B[39;00m \u001B[38;5;28;01mas\u001B[39;00m exc:\n\u001B[0;32m    155\u001B[0m     \u001B[38;5;66;03m# Suppress StopIteration *unless* it's the same exception that\u001B[39;00m\n\u001B[0;32m    156\u001B[0m     \u001B[38;5;66;03m# was passed to throw().  This prevents a StopIteration\u001B[39;00m\n\u001B[0;32m    157\u001B[0m     \u001B[38;5;66;03m# raised inside the \"with\" statement from being suppressed.\u001B[39;00m\n",
      "File \u001B[1;32m~\\AppData\\Local\\miniforge3\\envs\\rag_challenge\\lib\\site-packages\\httpcore\\_exceptions.py:14\u001B[0m, in \u001B[0;36mmap_exceptions\u001B[1;34m(map)\u001B[0m\n\u001B[0;32m     13\u001B[0m     \u001B[38;5;28;01mif\u001B[39;00m \u001B[38;5;28misinstance\u001B[39m(exc, from_exc):\n\u001B[1;32m---> 14\u001B[0m         \u001B[38;5;28;01mraise\u001B[39;00m to_exc(exc) \u001B[38;5;28;01mfrom\u001B[39;00m \u001B[38;5;21;01mexc\u001B[39;00m\n\u001B[0;32m     15\u001B[0m \u001B[38;5;28;01mraise\u001B[39;00m\n",
      "\u001B[1;31mConnectError\u001B[0m: [WinError 10061] No connection could be made because the target machine actively refused it",
      "\nThe above exception was the direct cause of the following exception:\n",
      "\u001B[1;31mConnectError\u001B[0m                              Traceback (most recent call last)",
      "File \u001B[1;32m~\\AppData\\Local\\miniforge3\\envs\\rag_challenge\\lib\\site-packages\\qdrant_client\\http\\api_client.py:116\u001B[0m, in \u001B[0;36mApiClient.send_inner\u001B[1;34m(self, request)\u001B[0m\n\u001B[0;32m    115\u001B[0m \u001B[38;5;28;01mtry\u001B[39;00m:\n\u001B[1;32m--> 116\u001B[0m     response \u001B[38;5;241m=\u001B[39m \u001B[38;5;28;43mself\u001B[39;49m\u001B[38;5;241;43m.\u001B[39;49m\u001B[43m_client\u001B[49m\u001B[38;5;241;43m.\u001B[39;49m\u001B[43msend\u001B[49m\u001B[43m(\u001B[49m\u001B[43mrequest\u001B[49m\u001B[43m)\u001B[49m\n\u001B[0;32m    117\u001B[0m \u001B[38;5;28;01mexcept\u001B[39;00m \u001B[38;5;167;01mException\u001B[39;00m \u001B[38;5;28;01mas\u001B[39;00m e:\n",
      "File \u001B[1;32m~\\AppData\\Local\\miniforge3\\envs\\rag_challenge\\lib\\site-packages\\httpx\\_client.py:914\u001B[0m, in \u001B[0;36mClient.send\u001B[1;34m(self, request, stream, auth, follow_redirects)\u001B[0m\n\u001B[0;32m    912\u001B[0m auth \u001B[38;5;241m=\u001B[39m \u001B[38;5;28mself\u001B[39m\u001B[38;5;241m.\u001B[39m_build_request_auth(request, auth)\n\u001B[1;32m--> 914\u001B[0m response \u001B[38;5;241m=\u001B[39m \u001B[38;5;28;43mself\u001B[39;49m\u001B[38;5;241;43m.\u001B[39;49m\u001B[43m_send_handling_auth\u001B[49m\u001B[43m(\u001B[49m\n\u001B[0;32m    915\u001B[0m \u001B[43m    \u001B[49m\u001B[43mrequest\u001B[49m\u001B[43m,\u001B[49m\n\u001B[0;32m    916\u001B[0m \u001B[43m    \u001B[49m\u001B[43mauth\u001B[49m\u001B[38;5;241;43m=\u001B[39;49m\u001B[43mauth\u001B[49m\u001B[43m,\u001B[49m\n\u001B[0;32m    917\u001B[0m \u001B[43m    \u001B[49m\u001B[43mfollow_redirects\u001B[49m\u001B[38;5;241;43m=\u001B[39;49m\u001B[43mfollow_redirects\u001B[49m\u001B[43m,\u001B[49m\n\u001B[0;32m    918\u001B[0m \u001B[43m    \u001B[49m\u001B[43mhistory\u001B[49m\u001B[38;5;241;43m=\u001B[39;49m\u001B[43m[\u001B[49m\u001B[43m]\u001B[49m\u001B[43m,\u001B[49m\n\u001B[0;32m    919\u001B[0m \u001B[43m\u001B[49m\u001B[43m)\u001B[49m\n\u001B[0;32m    920\u001B[0m \u001B[38;5;28;01mtry\u001B[39;00m:\n",
      "File \u001B[1;32m~\\AppData\\Local\\miniforge3\\envs\\rag_challenge\\lib\\site-packages\\httpx\\_client.py:942\u001B[0m, in \u001B[0;36mClient._send_handling_auth\u001B[1;34m(self, request, auth, follow_redirects, history)\u001B[0m\n\u001B[0;32m    941\u001B[0m \u001B[38;5;28;01mwhile\u001B[39;00m \u001B[38;5;28;01mTrue\u001B[39;00m:\n\u001B[1;32m--> 942\u001B[0m     response \u001B[38;5;241m=\u001B[39m \u001B[38;5;28;43mself\u001B[39;49m\u001B[38;5;241;43m.\u001B[39;49m\u001B[43m_send_handling_redirects\u001B[49m\u001B[43m(\u001B[49m\n\u001B[0;32m    943\u001B[0m \u001B[43m        \u001B[49m\u001B[43mrequest\u001B[49m\u001B[43m,\u001B[49m\n\u001B[0;32m    944\u001B[0m \u001B[43m        \u001B[49m\u001B[43mfollow_redirects\u001B[49m\u001B[38;5;241;43m=\u001B[39;49m\u001B[43mfollow_redirects\u001B[49m\u001B[43m,\u001B[49m\n\u001B[0;32m    945\u001B[0m \u001B[43m        \u001B[49m\u001B[43mhistory\u001B[49m\u001B[38;5;241;43m=\u001B[39;49m\u001B[43mhistory\u001B[49m\u001B[43m,\u001B[49m\n\u001B[0;32m    946\u001B[0m \u001B[43m    \u001B[49m\u001B[43m)\u001B[49m\n\u001B[0;32m    947\u001B[0m     \u001B[38;5;28;01mtry\u001B[39;00m:\n",
      "File \u001B[1;32m~\\AppData\\Local\\miniforge3\\envs\\rag_challenge\\lib\\site-packages\\httpx\\_client.py:979\u001B[0m, in \u001B[0;36mClient._send_handling_redirects\u001B[1;34m(self, request, follow_redirects, history)\u001B[0m\n\u001B[0;32m    977\u001B[0m     hook(request)\n\u001B[1;32m--> 979\u001B[0m response \u001B[38;5;241m=\u001B[39m \u001B[38;5;28;43mself\u001B[39;49m\u001B[38;5;241;43m.\u001B[39;49m\u001B[43m_send_single_request\u001B[49m\u001B[43m(\u001B[49m\u001B[43mrequest\u001B[49m\u001B[43m)\u001B[49m\n\u001B[0;32m    980\u001B[0m \u001B[38;5;28;01mtry\u001B[39;00m:\n",
      "File \u001B[1;32m~\\AppData\\Local\\miniforge3\\envs\\rag_challenge\\lib\\site-packages\\httpx\\_client.py:1015\u001B[0m, in \u001B[0;36mClient._send_single_request\u001B[1;34m(self, request)\u001B[0m\n\u001B[0;32m   1014\u001B[0m \u001B[38;5;28;01mwith\u001B[39;00m request_context(request\u001B[38;5;241m=\u001B[39mrequest):\n\u001B[1;32m-> 1015\u001B[0m     response \u001B[38;5;241m=\u001B[39m \u001B[43mtransport\u001B[49m\u001B[38;5;241;43m.\u001B[39;49m\u001B[43mhandle_request\u001B[49m\u001B[43m(\u001B[49m\u001B[43mrequest\u001B[49m\u001B[43m)\u001B[49m\n\u001B[0;32m   1017\u001B[0m \u001B[38;5;28;01massert\u001B[39;00m \u001B[38;5;28misinstance\u001B[39m(response\u001B[38;5;241m.\u001B[39mstream, SyncByteStream)\n",
      "File \u001B[1;32m~\\AppData\\Local\\miniforge3\\envs\\rag_challenge\\lib\\site-packages\\httpx\\_transports\\default.py:232\u001B[0m, in \u001B[0;36mHTTPTransport.handle_request\u001B[1;34m(self, request)\u001B[0m\n\u001B[0;32m    220\u001B[0m req \u001B[38;5;241m=\u001B[39m httpcore\u001B[38;5;241m.\u001B[39mRequest(\n\u001B[0;32m    221\u001B[0m     method\u001B[38;5;241m=\u001B[39mrequest\u001B[38;5;241m.\u001B[39mmethod,\n\u001B[0;32m    222\u001B[0m     url\u001B[38;5;241m=\u001B[39mhttpcore\u001B[38;5;241m.\u001B[39mURL(\n\u001B[1;32m   (...)\u001B[0m\n\u001B[0;32m    230\u001B[0m     extensions\u001B[38;5;241m=\u001B[39mrequest\u001B[38;5;241m.\u001B[39mextensions,\n\u001B[0;32m    231\u001B[0m )\n\u001B[1;32m--> 232\u001B[0m \u001B[38;5;28;01mwith\u001B[39;00m map_httpcore_exceptions():\n\u001B[0;32m    233\u001B[0m     resp \u001B[38;5;241m=\u001B[39m \u001B[38;5;28mself\u001B[39m\u001B[38;5;241m.\u001B[39m_pool\u001B[38;5;241m.\u001B[39mhandle_request(req)\n",
      "File \u001B[1;32m~\\AppData\\Local\\miniforge3\\envs\\rag_challenge\\lib\\contextlib.py:153\u001B[0m, in \u001B[0;36m_GeneratorContextManager.__exit__\u001B[1;34m(self, typ, value, traceback)\u001B[0m\n\u001B[0;32m    152\u001B[0m \u001B[38;5;28;01mtry\u001B[39;00m:\n\u001B[1;32m--> 153\u001B[0m     \u001B[38;5;28;43mself\u001B[39;49m\u001B[38;5;241;43m.\u001B[39;49m\u001B[43mgen\u001B[49m\u001B[38;5;241;43m.\u001B[39;49m\u001B[43mthrow\u001B[49m\u001B[43m(\u001B[49m\u001B[43mtyp\u001B[49m\u001B[43m,\u001B[49m\u001B[43m \u001B[49m\u001B[43mvalue\u001B[49m\u001B[43m,\u001B[49m\u001B[43m \u001B[49m\u001B[43mtraceback\u001B[49m\u001B[43m)\u001B[49m\n\u001B[0;32m    154\u001B[0m \u001B[38;5;28;01mexcept\u001B[39;00m \u001B[38;5;167;01mStopIteration\u001B[39;00m \u001B[38;5;28;01mas\u001B[39;00m exc:\n\u001B[0;32m    155\u001B[0m     \u001B[38;5;66;03m# Suppress StopIteration *unless* it's the same exception that\u001B[39;00m\n\u001B[0;32m    156\u001B[0m     \u001B[38;5;66;03m# was passed to throw().  This prevents a StopIteration\u001B[39;00m\n\u001B[0;32m    157\u001B[0m     \u001B[38;5;66;03m# raised inside the \"with\" statement from being suppressed.\u001B[39;00m\n",
      "File \u001B[1;32m~\\AppData\\Local\\miniforge3\\envs\\rag_challenge\\lib\\site-packages\\httpx\\_transports\\default.py:86\u001B[0m, in \u001B[0;36mmap_httpcore_exceptions\u001B[1;34m()\u001B[0m\n\u001B[0;32m     85\u001B[0m message \u001B[38;5;241m=\u001B[39m \u001B[38;5;28mstr\u001B[39m(exc)\n\u001B[1;32m---> 86\u001B[0m \u001B[38;5;28;01mraise\u001B[39;00m mapped_exc(message) \u001B[38;5;28;01mfrom\u001B[39;00m \u001B[38;5;21;01mexc\u001B[39;00m\n",
      "\u001B[1;31mConnectError\u001B[0m: [WinError 10061] No connection could be made because the target machine actively refused it",
      "\nDuring handling of the above exception, another exception occurred:\n",
      "\u001B[1;31mResponseHandlingException\u001B[0m                 Traceback (most recent call last)",
      "Cell \u001B[1;32mIn[65], line 13\u001B[0m\n\u001B[0;32m     10\u001B[0m collection_name \u001B[38;5;241m=\u001B[39m \u001B[38;5;124m\"\u001B[39m\u001B[38;5;124mrag_test_db\u001B[39m\u001B[38;5;124m\"\u001B[39m\n\u001B[0;32m     11\u001B[0m \u001B[38;5;66;03m# embedding_size = 384\u001B[39;00m\n\u001B[1;32m---> 13\u001B[0m \u001B[43mclient\u001B[49m\u001B[38;5;241;43m.\u001B[39;49m\u001B[43mcreate_collection\u001B[49m\u001B[43m(\u001B[49m\n\u001B[0;32m     14\u001B[0m \u001B[43m    \u001B[49m\u001B[43mcollection_name\u001B[49m\u001B[38;5;241;43m=\u001B[39;49m\u001B[43mcollection_name\u001B[49m\u001B[43m,\u001B[49m\n\u001B[0;32m     15\u001B[0m \u001B[43m    \u001B[49m\u001B[43mvectors_config\u001B[49m\u001B[38;5;241;43m=\u001B[39;49m\u001B[43mmodels\u001B[49m\u001B[38;5;241;43m.\u001B[39;49m\u001B[43mVectorParams\u001B[49m\u001B[43m(\u001B[49m\n\u001B[0;32m     16\u001B[0m \u001B[43m            \u001B[49m\u001B[43msize\u001B[49m\u001B[38;5;241;43m=\u001B[39;49m\u001B[43membedding_size\u001B[49m\u001B[43m,\u001B[49m\n\u001B[0;32m     17\u001B[0m \u001B[43m            \u001B[49m\u001B[43mdistance\u001B[49m\u001B[38;5;241;43m=\u001B[39;49m\u001B[43mmodels\u001B[49m\u001B[38;5;241;43m.\u001B[39;49m\u001B[43mDistance\u001B[49m\u001B[38;5;241;43m.\u001B[39;49m\u001B[43mCOSINE\u001B[49m\u001B[43m  \u001B[49m\u001B[38;5;66;43;03m# or Distance.EUCLID, etc.\u001B[39;49;00m\n\u001B[0;32m     18\u001B[0m \u001B[43m        \u001B[49m\u001B[43m)\u001B[49m\n\u001B[0;32m     19\u001B[0m \u001B[43m)\u001B[49m\n\u001B[0;32m     21\u001B[0m client\u001B[38;5;241m.\u001B[39mupload_points(\n\u001B[0;32m     22\u001B[0m     collection_name\u001B[38;5;241m=\u001B[39mcollection_name,\n\u001B[0;32m     23\u001B[0m     points\u001B[38;5;241m=\u001B[39m[\n\u001B[1;32m   (...)\u001B[0m\n\u001B[0;32m     26\u001B[0m     ],\n\u001B[0;32m     27\u001B[0m )\n",
      "File \u001B[1;32m~\\AppData\\Local\\miniforge3\\envs\\rag_challenge\\lib\\site-packages\\qdrant_client\\qdrant_client.py:2310\u001B[0m, in \u001B[0;36mQdrantClient.create_collection\u001B[1;34m(self, collection_name, vectors_config, sparse_vectors_config, shard_number, sharding_method, replication_factor, write_consistency_factor, on_disk_payload, hnsw_config, optimizers_config, wal_config, quantization_config, init_from, timeout, strict_mode_config, **kwargs)\u001B[0m\n\u001B[0;32m   2260\u001B[0m \u001B[38;5;250m\u001B[39m\u001B[38;5;124;03m\"\"\"Create empty collection with given parameters\u001B[39;00m\n\u001B[0;32m   2261\u001B[0m \n\u001B[0;32m   2262\u001B[0m \u001B[38;5;124;03mArgs:\u001B[39;00m\n\u001B[1;32m   (...)\u001B[0m\n\u001B[0;32m   2306\u001B[0m \u001B[38;5;124;03m    Operation result\u001B[39;00m\n\u001B[0;32m   2307\u001B[0m \u001B[38;5;124;03m\"\"\"\u001B[39;00m\n\u001B[0;32m   2308\u001B[0m \u001B[38;5;28;01massert\u001B[39;00m \u001B[38;5;28mlen\u001B[39m(kwargs) \u001B[38;5;241m==\u001B[39m \u001B[38;5;241m0\u001B[39m, \u001B[38;5;124mf\u001B[39m\u001B[38;5;124m\"\u001B[39m\u001B[38;5;124mUnknown arguments: \u001B[39m\u001B[38;5;132;01m{\u001B[39;00m\u001B[38;5;28mlist\u001B[39m(kwargs\u001B[38;5;241m.\u001B[39mkeys())\u001B[38;5;132;01m}\u001B[39;00m\u001B[38;5;124m\"\u001B[39m\n\u001B[1;32m-> 2310\u001B[0m \u001B[38;5;28;01mreturn\u001B[39;00m \u001B[38;5;28mself\u001B[39m\u001B[38;5;241m.\u001B[39m_client\u001B[38;5;241m.\u001B[39mcreate_collection(\n\u001B[0;32m   2311\u001B[0m     collection_name\u001B[38;5;241m=\u001B[39mcollection_name,\n\u001B[0;32m   2312\u001B[0m     vectors_config\u001B[38;5;241m=\u001B[39mvectors_config,\n\u001B[0;32m   2313\u001B[0m     shard_number\u001B[38;5;241m=\u001B[39mshard_number,\n\u001B[0;32m   2314\u001B[0m     sharding_method\u001B[38;5;241m=\u001B[39msharding_method,\n\u001B[0;32m   2315\u001B[0m     replication_factor\u001B[38;5;241m=\u001B[39mreplication_factor,\n\u001B[0;32m   2316\u001B[0m     write_consistency_factor\u001B[38;5;241m=\u001B[39mwrite_consistency_factor,\n\u001B[0;32m   2317\u001B[0m     on_disk_payload\u001B[38;5;241m=\u001B[39mon_disk_payload,\n\u001B[0;32m   2318\u001B[0m     hnsw_config\u001B[38;5;241m=\u001B[39mhnsw_config,\n\u001B[0;32m   2319\u001B[0m     optimizers_config\u001B[38;5;241m=\u001B[39moptimizers_config,\n\u001B[0;32m   2320\u001B[0m     wal_config\u001B[38;5;241m=\u001B[39mwal_config,\n\u001B[0;32m   2321\u001B[0m     quantization_config\u001B[38;5;241m=\u001B[39mquantization_config,\n\u001B[0;32m   2322\u001B[0m     init_from\u001B[38;5;241m=\u001B[39minit_from,\n\u001B[0;32m   2323\u001B[0m     timeout\u001B[38;5;241m=\u001B[39mtimeout,\n\u001B[0;32m   2324\u001B[0m     sparse_vectors_config\u001B[38;5;241m=\u001B[39msparse_vectors_config,\n\u001B[0;32m   2325\u001B[0m     strict_mode_config\u001B[38;5;241m=\u001B[39mstrict_mode_config,\n\u001B[0;32m   2326\u001B[0m     \u001B[38;5;241m*\u001B[39m\u001B[38;5;241m*\u001B[39mkwargs,\n\u001B[0;32m   2327\u001B[0m )\n",
      "File \u001B[1;32m~\\AppData\\Local\\miniforge3\\envs\\rag_challenge\\lib\\site-packages\\qdrant_client\\qdrant_remote.py:2810\u001B[0m, in \u001B[0;36mQdrantRemote.create_collection\u001B[1;34m(self, collection_name, vectors_config, shard_number, replication_factor, write_consistency_factor, on_disk_payload, hnsw_config, optimizers_config, wal_config, quantization_config, init_from, timeout, sparse_vectors_config, sharding_method, strict_mode_config, **kwargs)\u001B[0m\n\u001B[0;32m   2792\u001B[0m     init_from \u001B[38;5;241m=\u001B[39m GrpcToRest\u001B[38;5;241m.\u001B[39mconvert_init_from(init_from)\n\u001B[0;32m   2794\u001B[0m create_collection_request \u001B[38;5;241m=\u001B[39m models\u001B[38;5;241m.\u001B[39mCreateCollection(\n\u001B[0;32m   2795\u001B[0m     vectors\u001B[38;5;241m=\u001B[39mvectors_config,\n\u001B[0;32m   2796\u001B[0m     shard_number\u001B[38;5;241m=\u001B[39mshard_number,\n\u001B[1;32m   (...)\u001B[0m\n\u001B[0;32m   2807\u001B[0m     strict_mode_config\u001B[38;5;241m=\u001B[39mstrict_mode_config,\n\u001B[0;32m   2808\u001B[0m )\n\u001B[1;32m-> 2810\u001B[0m result: Optional[\u001B[38;5;28mbool\u001B[39m] \u001B[38;5;241m=\u001B[39m \u001B[38;5;28;43mself\u001B[39;49m\u001B[38;5;241;43m.\u001B[39;49m\u001B[43mhttp\u001B[49m\u001B[38;5;241;43m.\u001B[39;49m\u001B[43mcollections_api\u001B[49m\u001B[38;5;241;43m.\u001B[39;49m\u001B[43mcreate_collection\u001B[49m\u001B[43m(\u001B[49m\n\u001B[0;32m   2811\u001B[0m \u001B[43m    \u001B[49m\u001B[43mcollection_name\u001B[49m\u001B[38;5;241;43m=\u001B[39;49m\u001B[43mcollection_name\u001B[49m\u001B[43m,\u001B[49m\n\u001B[0;32m   2812\u001B[0m \u001B[43m    \u001B[49m\u001B[43mcreate_collection\u001B[49m\u001B[38;5;241;43m=\u001B[39;49m\u001B[43mcreate_collection_request\u001B[49m\u001B[43m,\u001B[49m\n\u001B[0;32m   2813\u001B[0m \u001B[43m    \u001B[49m\u001B[43mtimeout\u001B[49m\u001B[38;5;241;43m=\u001B[39;49m\u001B[43mtimeout\u001B[49m\u001B[43m,\u001B[49m\n\u001B[0;32m   2814\u001B[0m \u001B[43m\u001B[49m\u001B[43m)\u001B[49m\u001B[38;5;241m.\u001B[39mresult\n\u001B[0;32m   2816\u001B[0m \u001B[38;5;28;01massert\u001B[39;00m result \u001B[38;5;129;01mis\u001B[39;00m \u001B[38;5;129;01mnot\u001B[39;00m \u001B[38;5;28;01mNone\u001B[39;00m, \u001B[38;5;124m\"\u001B[39m\u001B[38;5;124mCreate collection returned None\u001B[39m\u001B[38;5;124m\"\u001B[39m\n\u001B[0;32m   2817\u001B[0m \u001B[38;5;28;01mreturn\u001B[39;00m result\n",
      "File \u001B[1;32m~\\AppData\\Local\\miniforge3\\envs\\rag_challenge\\lib\\site-packages\\qdrant_client\\http\\api\\collections_api.py:294\u001B[0m, in \u001B[0;36mSyncCollectionsApi.create_collection\u001B[1;34m(self, collection_name, timeout, create_collection)\u001B[0m\n\u001B[0;32m    285\u001B[0m \u001B[38;5;28;01mdef\u001B[39;00m \u001B[38;5;21mcreate_collection\u001B[39m(\n\u001B[0;32m    286\u001B[0m     \u001B[38;5;28mself\u001B[39m,\n\u001B[0;32m    287\u001B[0m     collection_name: \u001B[38;5;28mstr\u001B[39m,\n\u001B[0;32m    288\u001B[0m     timeout: \u001B[38;5;28mint\u001B[39m \u001B[38;5;241m=\u001B[39m \u001B[38;5;28;01mNone\u001B[39;00m,\n\u001B[0;32m    289\u001B[0m     create_collection: m\u001B[38;5;241m.\u001B[39mCreateCollection \u001B[38;5;241m=\u001B[39m \u001B[38;5;28;01mNone\u001B[39;00m,\n\u001B[0;32m    290\u001B[0m ) \u001B[38;5;241m-\u001B[39m\u001B[38;5;241m>\u001B[39m m\u001B[38;5;241m.\u001B[39mInlineResponse200:\n\u001B[0;32m    291\u001B[0m \u001B[38;5;250m    \u001B[39m\u001B[38;5;124;03m\"\"\"\u001B[39;00m\n\u001B[0;32m    292\u001B[0m \u001B[38;5;124;03m    Create new collection with given parameters\u001B[39;00m\n\u001B[0;32m    293\u001B[0m \u001B[38;5;124;03m    \"\"\"\u001B[39;00m\n\u001B[1;32m--> 294\u001B[0m     \u001B[38;5;28;01mreturn\u001B[39;00m \u001B[38;5;28;43mself\u001B[39;49m\u001B[38;5;241;43m.\u001B[39;49m\u001B[43m_build_for_create_collection\u001B[49m\u001B[43m(\u001B[49m\n\u001B[0;32m    295\u001B[0m \u001B[43m        \u001B[49m\u001B[43mcollection_name\u001B[49m\u001B[38;5;241;43m=\u001B[39;49m\u001B[43mcollection_name\u001B[49m\u001B[43m,\u001B[49m\n\u001B[0;32m    296\u001B[0m \u001B[43m        \u001B[49m\u001B[43mtimeout\u001B[49m\u001B[38;5;241;43m=\u001B[39;49m\u001B[43mtimeout\u001B[49m\u001B[43m,\u001B[49m\n\u001B[0;32m    297\u001B[0m \u001B[43m        \u001B[49m\u001B[43mcreate_collection\u001B[49m\u001B[38;5;241;43m=\u001B[39;49m\u001B[43mcreate_collection\u001B[49m\u001B[43m,\u001B[49m\n\u001B[0;32m    298\u001B[0m \u001B[43m    \u001B[49m\u001B[43m)\u001B[49m\n",
      "File \u001B[1;32m~\\AppData\\Local\\miniforge3\\envs\\rag_challenge\\lib\\site-packages\\qdrant_client\\http\\api\\collections_api.py:96\u001B[0m, in \u001B[0;36m_CollectionsApi._build_for_create_collection\u001B[1;34m(self, collection_name, timeout, create_collection)\u001B[0m\n\u001B[0;32m     94\u001B[0m \u001B[38;5;28;01mif\u001B[39;00m \u001B[38;5;124m\"\u001B[39m\u001B[38;5;124mContent-Type\u001B[39m\u001B[38;5;124m\"\u001B[39m \u001B[38;5;129;01mnot\u001B[39;00m \u001B[38;5;129;01min\u001B[39;00m headers:\n\u001B[0;32m     95\u001B[0m     headers[\u001B[38;5;124m\"\u001B[39m\u001B[38;5;124mContent-Type\u001B[39m\u001B[38;5;124m\"\u001B[39m] \u001B[38;5;241m=\u001B[39m \u001B[38;5;124m\"\u001B[39m\u001B[38;5;124mapplication/json\u001B[39m\u001B[38;5;124m\"\u001B[39m\n\u001B[1;32m---> 96\u001B[0m \u001B[38;5;28;01mreturn\u001B[39;00m \u001B[38;5;28;43mself\u001B[39;49m\u001B[38;5;241;43m.\u001B[39;49m\u001B[43mapi_client\u001B[49m\u001B[38;5;241;43m.\u001B[39;49m\u001B[43mrequest\u001B[49m\u001B[43m(\u001B[49m\n\u001B[0;32m     97\u001B[0m \u001B[43m    \u001B[49m\u001B[43mtype_\u001B[49m\u001B[38;5;241;43m=\u001B[39;49m\u001B[43mm\u001B[49m\u001B[38;5;241;43m.\u001B[39;49m\u001B[43mInlineResponse200\u001B[49m\u001B[43m,\u001B[49m\n\u001B[0;32m     98\u001B[0m \u001B[43m    \u001B[49m\u001B[43mmethod\u001B[49m\u001B[38;5;241;43m=\u001B[39;49m\u001B[38;5;124;43m\"\u001B[39;49m\u001B[38;5;124;43mPUT\u001B[39;49m\u001B[38;5;124;43m\"\u001B[39;49m\u001B[43m,\u001B[49m\n\u001B[0;32m     99\u001B[0m \u001B[43m    \u001B[49m\u001B[43murl\u001B[49m\u001B[38;5;241;43m=\u001B[39;49m\u001B[38;5;124;43m\"\u001B[39;49m\u001B[38;5;124;43m/collections/\u001B[39;49m\u001B[38;5;132;43;01m{collection_name}\u001B[39;49;00m\u001B[38;5;124;43m\"\u001B[39;49m\u001B[43m,\u001B[49m\n\u001B[0;32m    100\u001B[0m \u001B[43m    \u001B[49m\u001B[43mheaders\u001B[49m\u001B[38;5;241;43m=\u001B[39;49m\u001B[43mheaders\u001B[49m\u001B[43m \u001B[49m\u001B[38;5;28;43;01mif\u001B[39;49;00m\u001B[43m \u001B[49m\u001B[43mheaders\u001B[49m\u001B[43m \u001B[49m\u001B[38;5;28;43;01melse\u001B[39;49;00m\u001B[43m \u001B[49m\u001B[38;5;28;43;01mNone\u001B[39;49;00m\u001B[43m,\u001B[49m\n\u001B[0;32m    101\u001B[0m \u001B[43m    \u001B[49m\u001B[43mpath_params\u001B[49m\u001B[38;5;241;43m=\u001B[39;49m\u001B[43mpath_params\u001B[49m\u001B[43m,\u001B[49m\n\u001B[0;32m    102\u001B[0m \u001B[43m    \u001B[49m\u001B[43mparams\u001B[49m\u001B[38;5;241;43m=\u001B[39;49m\u001B[43mquery_params\u001B[49m\u001B[43m,\u001B[49m\n\u001B[0;32m    103\u001B[0m \u001B[43m    \u001B[49m\u001B[43mcontent\u001B[49m\u001B[38;5;241;43m=\u001B[39;49m\u001B[43mbody\u001B[49m\u001B[43m,\u001B[49m\n\u001B[0;32m    104\u001B[0m \u001B[43m\u001B[49m\u001B[43m)\u001B[49m\n",
      "File \u001B[1;32m~\\AppData\\Local\\miniforge3\\envs\\rag_challenge\\lib\\site-packages\\qdrant_client\\http\\api_client.py:89\u001B[0m, in \u001B[0;36mApiClient.request\u001B[1;34m(self, type_, method, url, path_params, **kwargs)\u001B[0m\n\u001B[0;32m     87\u001B[0m     kwargs[\u001B[38;5;124m\"\u001B[39m\u001B[38;5;124mtimeout\u001B[39m\u001B[38;5;124m\"\u001B[39m] \u001B[38;5;241m=\u001B[39m \u001B[38;5;28mint\u001B[39m(kwargs[\u001B[38;5;124m\"\u001B[39m\u001B[38;5;124mparams\u001B[39m\u001B[38;5;124m\"\u001B[39m][\u001B[38;5;124m\"\u001B[39m\u001B[38;5;124mtimeout\u001B[39m\u001B[38;5;124m\"\u001B[39m])\n\u001B[0;32m     88\u001B[0m request \u001B[38;5;241m=\u001B[39m \u001B[38;5;28mself\u001B[39m\u001B[38;5;241m.\u001B[39m_client\u001B[38;5;241m.\u001B[39mbuild_request(method, url, \u001B[38;5;241m*\u001B[39m\u001B[38;5;241m*\u001B[39mkwargs)\n\u001B[1;32m---> 89\u001B[0m \u001B[38;5;28;01mreturn\u001B[39;00m \u001B[38;5;28;43mself\u001B[39;49m\u001B[38;5;241;43m.\u001B[39;49m\u001B[43msend\u001B[49m\u001B[43m(\u001B[49m\u001B[43mrequest\u001B[49m\u001B[43m,\u001B[49m\u001B[43m \u001B[49m\u001B[43mtype_\u001B[49m\u001B[43m)\u001B[49m\n",
      "File \u001B[1;32m~\\AppData\\Local\\miniforge3\\envs\\rag_challenge\\lib\\site-packages\\qdrant_client\\http\\api_client.py:106\u001B[0m, in \u001B[0;36mApiClient.send\u001B[1;34m(self, request, type_)\u001B[0m\n\u001B[0;32m    105\u001B[0m \u001B[38;5;28;01mdef\u001B[39;00m \u001B[38;5;21msend\u001B[39m(\u001B[38;5;28mself\u001B[39m, request: Request, type_: Type[T]) \u001B[38;5;241m-\u001B[39m\u001B[38;5;241m>\u001B[39m T:\n\u001B[1;32m--> 106\u001B[0m     response \u001B[38;5;241m=\u001B[39m \u001B[38;5;28;43mself\u001B[39;49m\u001B[38;5;241;43m.\u001B[39;49m\u001B[43mmiddleware\u001B[49m\u001B[43m(\u001B[49m\u001B[43mrequest\u001B[49m\u001B[43m,\u001B[49m\u001B[43m \u001B[49m\u001B[38;5;28;43mself\u001B[39;49m\u001B[38;5;241;43m.\u001B[39;49m\u001B[43msend_inner\u001B[49m\u001B[43m)\u001B[49m\n\u001B[0;32m    107\u001B[0m     \u001B[38;5;28;01mif\u001B[39;00m response\u001B[38;5;241m.\u001B[39mstatus_code \u001B[38;5;129;01min\u001B[39;00m [\u001B[38;5;241m200\u001B[39m, \u001B[38;5;241m201\u001B[39m, \u001B[38;5;241m202\u001B[39m]:\n\u001B[0;32m    108\u001B[0m         \u001B[38;5;28;01mtry\u001B[39;00m:\n",
      "File \u001B[1;32m~\\AppData\\Local\\miniforge3\\envs\\rag_challenge\\lib\\site-packages\\qdrant_client\\http\\api_client.py:215\u001B[0m, in \u001B[0;36mBaseMiddleware.__call__\u001B[1;34m(self, request, call_next)\u001B[0m\n\u001B[0;32m    214\u001B[0m \u001B[38;5;28;01mdef\u001B[39;00m \u001B[38;5;21m__call__\u001B[39m(\u001B[38;5;28mself\u001B[39m, request: Request, call_next: Send) \u001B[38;5;241m-\u001B[39m\u001B[38;5;241m>\u001B[39m Response:\n\u001B[1;32m--> 215\u001B[0m     \u001B[38;5;28;01mreturn\u001B[39;00m \u001B[43mcall_next\u001B[49m\u001B[43m(\u001B[49m\u001B[43mrequest\u001B[49m\u001B[43m)\u001B[49m\n",
      "File \u001B[1;32m~\\AppData\\Local\\miniforge3\\envs\\rag_challenge\\lib\\site-packages\\qdrant_client\\http\\api_client.py:118\u001B[0m, in \u001B[0;36mApiClient.send_inner\u001B[1;34m(self, request)\u001B[0m\n\u001B[0;32m    116\u001B[0m     response \u001B[38;5;241m=\u001B[39m \u001B[38;5;28mself\u001B[39m\u001B[38;5;241m.\u001B[39m_client\u001B[38;5;241m.\u001B[39msend(request)\n\u001B[0;32m    117\u001B[0m \u001B[38;5;28;01mexcept\u001B[39;00m \u001B[38;5;167;01mException\u001B[39;00m \u001B[38;5;28;01mas\u001B[39;00m e:\n\u001B[1;32m--> 118\u001B[0m     \u001B[38;5;28;01mraise\u001B[39;00m ResponseHandlingException(e)\n\u001B[0;32m    119\u001B[0m \u001B[38;5;28;01mreturn\u001B[39;00m response\n",
      "\u001B[1;31mResponseHandlingException\u001B[0m: [WinError 10061] No connection could be made because the target machine actively refused it"
     ]
    }
   ],
   "execution_count": 65
  },
  {
   "metadata": {},
   "cell_type": "markdown",
   "source": "## Retrieving from vector DB",
   "id": "a8142bc3364e1299"
  },
  {
   "metadata": {
    "ExecuteTime": {
     "end_time": "2025-02-10T16:09:29.148504Z",
     "start_time": "2025-02-10T16:09:28.793001Z"
    }
   },
   "cell_type": "code",
   "source": [
    "# demo_query = \"For which year is the report?\"\n",
    "demo_query = \"What is chapter 3 about?\"\n",
    "\n",
    "# demo_query_embedding = embedding_model.encode(demo_query).tolist()\n",
    "\n",
    "demo_query_embedding = embedding_client.embeddings.create(input=demo_query, model=embedding_model).data[0].embedding"
   ],
   "id": "bcc7683c0168c03f",
   "outputs": [],
   "execution_count": 63
  },
  {
   "metadata": {
    "ExecuteTime": {
     "end_time": "2025-02-10T16:09:29.164243Z",
     "start_time": "2025-02-10T16:09:29.156417Z"
    }
   },
   "cell_type": "code",
   "source": [
    "# https://qdrant.tech/documentation/beginner-tutorials/search-beginners/\n",
    "\n",
    "# collection_name = \"rag_test_db\"\n",
    "\n",
    "hits = client.query_points(\n",
    "    collection_name=collection_name,\n",
    "    query=demo_query_embedding,\n",
    "    limit=3  # number of top results\n",
    ").points\n",
    "\n",
    "# https://qdrant.tech/documentation/concepts/filtering/\n",
    "# hits = client.query_points(\n",
    "#     collection_name=collection_name,\n",
    "#     query=demo_query_embedding,\n",
    "#     query_filter=models.Filter(\n",
    "#         must=[models.FieldCondition(key=\"year\", range=models.Range(gte=2000))]\n",
    "#     ),\n",
    "#     limit=1,\n",
    "# ).points\n",
    "\n",
    "\n",
    "for hit in hits:\n",
    "    print(hit.payload, \"score:\", hit.score)"
   ],
   "id": "b6a3d0a0c84e16d8",
   "outputs": [
    {
     "name": "stdout",
     "output_type": "stream",
     "text": [
      "{'title': 'Table of Contents', 'company': 'calyxt', 'level': 2, 'table': False, 'previous_titles': ['## FORM 10-K', '## Calyxt, Inc.', '## DOCUMENTS INCORPORATED BY REFERENCE'], 'part_index': 1, 'total_parts': 2, 'content': '3\\n\\n3\\n\\nTable of Contents'} score: 0.43792482557264567\n",
      "{'title': 'Table of Contents', 'company': 'calyxt', 'level': 2, 'table': True, 'previous_titles': ['## FORM 10-K', '## Calyxt, Inc.', '## DOCUMENTS INCORPORATED BY REFERENCE'], 'part_index': 2, 'total_parts': 2, 'content': \"| PART I   |                                                                                                              |    |\\n|----------|--------------------------------------------------------------------------------------------------------------|----|\\n| Item 1.  | Business                                                                                                     |    |\\n| Item 1A. | Risk Factors                                                                                                 | 12 |\\n| Item 1B. | Unresolved Staff Comments                                                                                    | 26 |\\n| Item 2.  | Properties                                                                                                   | 27 |\\n| Item 3.  | Legal Proceedings                                                                                            | 27 |\\n| Item 4.  | Mine Safety Disclosures                                                                                      | 27 |\\n| PART II  |                                                                                                              | 27 |\\n| Item 5.  | Market for Registrant's Common Equity, Related Stockholder Matters and Issuer Purchases of Equity Securities | 27 |\\n| Item 6.  | [Reserved]                                                                                                   | 28 |\\n| Item 7.  | Management's Discussion and Analysis of Financial Condition and Results of Operations                        | 29 |\\n| Item 7A. | Quantitative and Qualitative Disclosures About Market Risk                                                   | 38 |\\n| Item 8.  | Consolidated Financial Statements and Supplementary Data                                                     | 38 |\\n| Item 9.  | Changes in and Disagreements with Accountants on Accounting and Financial Disclosure                         | 38 |\\n| Item 9A. | Controls and Procedures                                                                                      | 38 |\\n| Item 9B. | Other Information                                                                                            | 39 |\\n| Item 9C. | Disclosure Regarding Foreign Jurisdictions that Prevent Inspections                                          | 39 |\\n| PART III |                                                                                                              | 40 |\\n| Item 10. | Directors, Executive Officers and Corporate Governance                                                       | 40 |\\n| Item 11. | Executive Compensation                                                                                       | 40 |\\n| Item 12. | Security Ownership of Certain Beneficial Owners and Management and Related Stockholder Matters               | 40 |\\n| Item 13. | Certain Relationships and Related Transactions, and Director Independence                                    | 40 |\\n| Item 14. | Principal Accounting Fees and Services                                                                       | 40 |\\n| PART IV  |                                                                                                              | 41 |\\n| Item 15. | Exhibits and Financial Statement Schedules                                                                   | 41 |\\n| Item 16. | Form 10-K Summary                                                                                            | 43 |\"} score: 0.2751281137005344\n",
      "{'title': 'DOCUMENTS INCORPORATED BY REFERENCE', 'company': 'calyxt', 'level': 2, 'table': False, 'previous_titles': ['## UNITED STATES SECURITIES AND EXCHANGE COMMISSION', '## FORM 10-K', '## Calyxt, Inc.'], 'part_index': 1, 'total_parts': 1, 'content': \"The information required by Part III of this Annual Report on Form  10-K, to the extent not set forth herein, is incorporated herein by reference from the registrant's definitive proxy statement relating to the registrant's Annual Meeting of Stockholders to be held in 2023, which definitive proxy statement shall be filed with the Securities and Exchange Commission not later than 120 days after the end of the fiscal year covered by this Annual Report on Form 10-K.\"} score: 0.21638410384629275\n"
     ]
    }
   ],
   "execution_count": 64
  },
  {
   "metadata": {},
   "cell_type": "markdown",
   "source": "## Not working well",
   "id": "226c443d93dbeb39"
  },
  {
   "metadata": {},
   "cell_type": "markdown",
   "source": "### PyMuPDF4LLM - tables bad",
   "id": "fd999db81fc5b25c"
  },
  {
   "metadata": {},
   "cell_type": "code",
   "outputs": [],
   "execution_count": null,
   "source": [
    "## Observations\n",
    "# tables are pretty bad\n",
    "# format in general seems ok"
   ],
   "id": "bf396e4508bf37d2"
  },
  {
   "metadata": {
    "ExecuteTime": {
     "end_time": "2025-02-07T12:09:47.042681Z",
     "start_time": "2025-02-07T12:09:47.035658Z"
    }
   },
   "cell_type": "code",
   "outputs": [
    {
     "data": {
      "text/plain": [
       "261957"
      ]
     },
     "execution_count": 6,
     "metadata": {},
     "output_type": "execute_result"
    }
   ],
   "execution_count": 6,
   "source": [
    "# Store as file\n",
    "import pathlib\n",
    "pathlib.Path(\"../dev/pymupdf4llm_output.md\").write_bytes(md_text.encode())"
   ],
   "id": "c0667d96b7b1ee99"
  },
  {
   "metadata": {
    "ExecuteTime": {
     "end_time": "2025-02-07T12:09:43.902152Z",
     "start_time": "2025-02-07T12:09:43.893538Z"
    }
   },
   "cell_type": "code",
   "outputs": [
    {
     "data": {
      "text/plain": [
       "'-----\\n\\n# Table of Contents\\n\\nManagement’s Discussion and Analysis........................................................................................................ 2\\n\\nIndependent Auditor’s Report ................................................................................................................. 29-32\\n\\nConsolidated Statements of Income and Other Comprehensive Income ..................................................... 33\\n\\nConsolidated Statements of Financial Position ............................................................................................ 34\\n\\nConsolidated Statements of Changes in Equity ...................................................................................... 35-36\\n\\nConsolidated Statements of Cash Flows ..................................................................................................... 37\\n\\nNotes To The Consolidated Financial Statements ..................................................................................'"
      ]
     },
     "execution_count": 5,
     "metadata": {},
     "output_type": "execute_result"
    }
   ],
   "execution_count": 5,
   "source": "md_text[:1000]",
   "id": "478c0d8dec0f8df4"
  },
  {
   "metadata": {},
   "cell_type": "markdown",
   "source": "### Camelot (table detection) - Not working well",
   "id": "4cae618b6fdaf1ec"
  },
  {
   "metadata": {},
   "cell_type": "code",
   "outputs": [],
   "execution_count": null,
   "source": [
    "import camelot\n",
    "\n",
    "# Extract tables from all pages of the PDF\n",
    "tables = camelot.read_pdf(test_pdf_path, pages=\"all\")\n",
    "\n",
    "# Export each table to CSV (or process further as needed)\n",
    "for i, table in enumerate(tables):\n",
    "    csv_filename = f\"table_{i}.csv\"\n",
    "    table.to_csv(csv_filename)\n",
    "    print(f\"Exported table {i} to {csv_filename}\")\n"
   ],
   "id": "edf1337d5be7e39d"
  }
 ],
 "metadata": {
  "kernelspec": {
   "display_name": "Python 3",
   "language": "python",
   "name": "python3"
  },
  "language_info": {
   "codemirror_mode": {
    "name": "ipython",
    "version": 2
   },
   "file_extension": ".py",
   "mimetype": "text/x-python",
   "name": "python",
   "nbconvert_exporter": "python",
   "pygments_lexer": "ipython2",
   "version": "2.7.6"
  }
 },
 "nbformat": 4,
 "nbformat_minor": 5
}
