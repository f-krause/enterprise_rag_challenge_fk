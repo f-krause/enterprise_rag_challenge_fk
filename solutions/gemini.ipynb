{
 "cells": [
  {
   "metadata": {},
   "cell_type": "markdown",
   "source": [
    "# Gemini Approach\n",
    "\n",
    "inspired by: https://www.philschmid.de/gemini-pdf-to-data"
   ],
   "id": "863190bff064abfd"
  },
  {
   "metadata": {
    "ExecuteTime": {
     "end_time": "2025-03-04T21:41:26.433131Z",
     "start_time": "2025-03-04T21:41:26.419596Z"
    }
   },
   "cell_type": "code",
   "source": [
    "import os\n",
    "import re\n",
    "import json\n",
    "from google import genai\n",
    "from pydantic import BaseModel, Field\n",
    "from typing import List, Optional, Literal, Union\n",
    "from dotenv import load_dotenv\n",
    "from utils import *\n",
    "\n",
    "load_dotenv()"
   ],
   "id": "13d98af26ae73017",
   "outputs": [
    {
     "data": {
      "text/plain": [
       "True"
      ]
     },
     "execution_count": 18,
     "metadata": {},
     "output_type": "execute_result"
    }
   ],
   "execution_count": 18
  },
  {
   "metadata": {
    "collapsed": true,
    "ExecuteTime": {
     "end_time": "2025-03-04T21:41:26.928636Z",
     "start_time": "2025-03-04T21:41:26.914546Z"
    }
   },
   "cell_type": "code",
   "source": [
    "# load question json\n",
    "\n",
    "# company = \"reit\"\n",
    "# company = \"TSX_Y_2022\"\n",
    "# company = \"NASDAQ_CLXT_2022\"\n",
    "\n",
    "# with open(f\"../data/questions_{company}.json\", \"r\") as file:\n",
    "#     questions = json.load(file)\n",
    "\n",
    "# with open(f\"../data/questions/clxt-tsxy.json\", \"r\") as file:\n",
    "#     questions = json.load(file)\n",
    "\n",
    "with open(f\"../data/round2/questions.json\", \"r\") as file:\n",
    "    questions = json.load(file)\n",
    "\n",
    "# open companies list\n",
    "# TODO\n",
    "# companies_dict = get_companies_dict(r\"C:\\Users\\felix.krause\\code\\trustbit\\enterprise-rag-challenge\\dataset_v2.json\", subset_json=False)\n",
    "# companies_dict = get_companies_dict(r\"C:\\Users\\Felix\\code\\trustbit\\enterprise-rag-challenge\\dataset_v2.json\", subset_json=False)\n",
    "companies_dict = get_companies_dict(r\"../data/round2/subset.json\")"
   ],
   "id": "initial_id",
   "outputs": [],
   "execution_count": 19
  },
  {
   "metadata": {
    "ExecuteTime": {
     "end_time": "2025-03-04T21:42:22.348789Z",
     "start_time": "2025-03-04T21:42:22.328925Z"
    }
   },
   "cell_type": "code",
   "source": [
    "# open prompts\n",
    "with open(f\"prompts/prompt_gemini.md\", \"r\") as file:\n",
    "    system_prompt = file.read()\n",
    "\n",
    "with open(f\"prompts/prompt_company_extractor.md\", \"r\") as file:\n",
    "    prompt_company_extractor = file.read()"
   ],
   "id": "44acfca661ff9ca7",
   "outputs": [],
   "execution_count": 25
  },
  {
   "metadata": {
    "ExecuteTime": {
     "end_time": "2025-03-04T21:42:29.732858Z",
     "start_time": "2025-03-04T21:42:29.719825Z"
    }
   },
   "cell_type": "code",
   "source": [
    "model_id = \"gemini-2.0-flash\"  # or \"gemini-2.0-flash-lite-preview-02-05\"  , \"gemini-2.0-pro-exp-02-05\", at least 1M token input context window\n",
    "\n",
    "client = genai.Client(api_key=os.getenv(\"GEMINI_API_KEY\"))"
   ],
   "id": "b876f4cf169ba2c2",
   "outputs": [],
   "execution_count": 27
  },
  {
   "metadata": {
    "ExecuteTime": {
     "end_time": "2025-03-04T21:49:27.393780Z",
     "start_time": "2025-03-04T21:49:27.380686Z"
    }
   },
   "cell_type": "code",
   "source": [
    "class SourceReferenceLLM(BaseModel):\n",
    "    pdf_sha1: str = Field(..., description=\"SHA1 hash of the PDF file\")\n",
    "    page_index: int = Field(..., description=\"Physical page number in the PDF file\")\n",
    "\n",
    "class AnswerLLM(BaseModel):\n",
    "    # question_text: str = Field(..., description=\"Text of the question\")\n",
    "    # kind: Literal[\"number\", \"name\", \"boolean\", \"names\"] = Field(..., description=\"Kind of the question\")\n",
    "    chain_of_thought: str = Field(..., description=\"Chain of thought that led to the answer value\")\n",
    "    value: List[str] = Field(..., description=\"Answer to the question, according to the question schema\")\n",
    "    references: List[SourceReferenceLLM] = Field(..., description=\"References to the source material in the PDF file\")"
   ],
   "id": "a9b88ad82bf096c1",
   "outputs": [],
   "execution_count": 40
  },
  {
   "metadata": {
    "ExecuteTime": {
     "end_time": "2025-03-04T21:49:28.060494Z",
     "start_time": "2025-03-04T21:49:28.047366Z"
    }
   },
   "cell_type": "code",
   "source": [
    "class Companies(BaseModel):\n",
    "    chain_of_thought: str = Field(..., description=\"Chain of thought that led to the answer value\")\n",
    "    value: List[str] = Field(..., description=\"Identified company name as in list of companies.\")\n",
    "\n",
    "def get_company_name(query, companies_dict, verbose=True) -> list | None:\n",
    "    companies = list(companies_dict.keys())\n",
    "    company_meta = None\n",
    "\n",
    "    # Check if query contains company name directly\n",
    "    candidates = []\n",
    "    for company in companies:\n",
    "        # Build a regex pattern that ignores case\n",
    "        pattern = re.escape(company)\n",
    "        if re.search(pattern, query, re.IGNORECASE):\n",
    "            candidates.append(company)\n",
    "\n",
    "    if len(candidates) == 1:\n",
    "        if verbose:\n",
    "            print(f\"Found company name with re: {candidates[0]}\")\n",
    "        company_meta = companies_dict[candidates[0]]\n",
    "        company_meta[\"name\"] = candidates[0]\n",
    "        return [company_meta]\n",
    "\n",
    "    if len(candidates) > 1:\n",
    "        if verbose:\n",
    "            print(f\"Found multiple company names with re: {candidates}\")\n",
    "        company_meta = [companies_dict[c] for c in candidates]\n",
    "        for meta, candidate in zip(company_meta, candidates):\n",
    "            meta[\"name\"] = candidate\n",
    "        return company_meta\n",
    "\n",
    "    # If no company name was found, ask model to extract it\n",
    "    # SHOULD NEVER HAPPEN\n",
    "    # prompt = prompt_company_extractor.replace(\"<<COMPANIES>>\", \", \".join(companies))\n",
    "    # prompt += \"\\n\\nQuery: \" + query\n",
    "    #\n",
    "    # response = client.models.generate_content(model=model_id, contents=[prompt], config={'response_mime_type': 'application/json', 'response_schema': Companies})\n",
    "    #\n",
    "    # if verbose:\n",
    "    #     print(response.parsed)\n",
    "    #\n",
    "    # if response.parsed.value[0].lower() != \"skip\":\n",
    "    #     company_meta = companies_dict[response.parsed.value]\n",
    "    #     company_meta[\"name\"] = response.parsed.value\n",
    "    # else:\n",
    "    #     return \"N/A\"\n",
    "\n",
    "    return None"
   ],
   "id": "a256256db01d496a",
   "outputs": [],
   "execution_count": 41
  },
  {
   "metadata": {
    "ExecuteTime": {
     "end_time": "2025-03-04T21:49:28.871174Z",
     "start_time": "2025-03-04T21:49:28.847954Z"
    }
   },
   "cell_type": "code",
   "source": [
    "# Test if company is there\n",
    "query = \"Did Backpowder Inc mention any mergers or acquisitions in the annual report?\"\n",
    "response_0 = get_company_name(query, companies_dict)\n",
    "response_0"
   ],
   "id": "7e8c0052b2401fee",
   "outputs": [],
   "execution_count": 42
  },
  {
   "metadata": {
    "ExecuteTime": {
     "end_time": "2025-03-04T21:49:29.492884Z",
     "start_time": "2025-03-04T21:49:29.469883Z"
    }
   },
   "cell_type": "code",
   "source": [
    "# print(questions[53])\n",
    "response_1 = get_company_name(questions[0][\"text\"], companies_dict)\n",
    "response_1"
   ],
   "id": "40a841c54a0c3e08",
   "outputs": [
    {
     "name": "stdout",
     "output_type": "stream",
     "text": [
      "Found company name with re: Ziff Davis, Inc.\n"
     ]
    },
    {
     "data": {
      "text/plain": [
       "[{'name': 'Ziff Davis, Inc.',\n",
       "  'sha1': 'ecabab4934d4b80570c4bb3b8e35b7476694b3fb',\n",
       "  'id': None}]"
      ]
     },
     "execution_count": 43,
     "metadata": {},
     "output_type": "execute_result"
    }
   ],
   "execution_count": 43
  },
  {
   "metadata": {
    "ExecuteTime": {
     "end_time": "2025-03-04T21:49:32.610790Z",
     "start_time": "2025-03-04T21:49:32.597276Z"
    }
   },
   "cell_type": "code",
   "source": [
    "def get_document(company, verbose=True):\n",
    "    uploaded_docs = list(client.files.list())\n",
    "    files_set = {file.display_name: file for file in uploaded_docs}\n",
    "    if f\"{company}_annual_report\" in files_set:\n",
    "        if verbose:\n",
    "            print(f\"Found {company}_annual_report\")\n",
    "        return files_set[f\"{company}_annual_report\"]\n",
    "    else:\n",
    "        if verbose:\n",
    "            print(f\"Uploading {company} annual report...\")\n",
    "        document_path = f\"../data/round2/pdfs/{company}.pdf\"\n",
    "        return client.files.upload(file=document_path, config={'display_name': f'{company}_annual_report'})\n",
    "\n",
    "# Upload PDF manually\n",
    "# company_document = client.files.upload(file=test_pdf_path, config={'display_name': f'{company}_annual_report'})"
   ],
   "id": "dc31e86ae62ad8c2",
   "outputs": [],
   "execution_count": 44
  },
  {
   "metadata": {
    "ExecuteTime": {
     "end_time": "2025-03-04T21:49:33.089892Z",
     "start_time": "2025-03-04T21:49:33.076829Z"
    }
   },
   "cell_type": "code",
   "source": [
    "def ask_gemini(query, companies_dict=None, verbose=True):\n",
    "    with open(f\"prompts/prompt_gemini.md\", \"r\") as file:\n",
    "        system_prompt = file.read()\n",
    "\n",
    "    prompt = system_prompt + \"\\n\\nQuery: \" + str(query)\n",
    "\n",
    "    company_meta = get_company_name(query[\"text\"], companies_dict, verbose)\n",
    "\n",
    "    if not company_meta:\n",
    "        return AnswerLLM(chain_of_thought=\"Company name not found\", value=[\"N/A\"], references=[]), None\n",
    "\n",
    "    prompt = prompt.replace(\"<<COMPANY SHA1 MAPPING>>\", str(company_meta))\n",
    "\n",
    "    # Single company case\n",
    "    if len(company_meta) == 1:\n",
    "        document = get_document(company_meta[0][\"sha1\"], verbose)\n",
    "\n",
    "        response = client.models.generate_content(model=model_id, contents=[prompt, document], config={'response_mime_type': 'application/json', 'response_schema': AnswerLLM, \"temperature\": 0.0})\n",
    "\n",
    "        if verbose:\n",
    "            print(response.parsed)\n",
    "\n",
    "        return response.parsed, company_meta[0][\"sha1\"]\n",
    "    else:\n",
    "        documents = [get_document(company[\"sha1\"], verbose) for company in company_meta]\n",
    "        contents = [prompt] + documents\n",
    "\n",
    "        response = client.models.generate_content(model=model_id, contents=contents, config={'response_mime_type': 'application/json', 'response_schema': AnswerLLM, \"temperature\": 0.0})\n",
    "\n",
    "        if verbose:\n",
    "            print(response.parsed)\n",
    "\n",
    "        return response.parsed, [company[\"sha1\"] for company in company_meta]"
   ],
   "id": "fe3bca176ee630a4",
   "outputs": [],
   "execution_count": 45
  },
  {
   "metadata": {
    "ExecuteTime": {
     "end_time": "2025-03-04T21:50:10.272026Z",
     "start_time": "2025-03-04T21:49:39.242017Z"
    }
   },
   "cell_type": "code",
   "source": [
    "print(questions[0])\n",
    "response_0, _ = ask_gemini(questions[0], companies_dict)"
   ],
   "id": "235cd9c1bc886e25",
   "outputs": [
    {
     "name": "stdout",
     "output_type": "stream",
     "text": [
      "{'text': \"For Ziff Davis, Inc., what was the value of Cloud storage capacity (TB) at the end of the period listed in annual report? If data is not available, return 'N/A'.\", 'kind': 'number'}\n",
      "Found company name with re: Ziff Davis, Inc.\n",
      "Found ecabab4934d4b80570c4bb3b8e35b7476694b3fb_annual_report\n",
      "chain_of_thought='I apologize, but I am unable to find the answer to your question within the provided document. The document does not contain any information about the value of Cloud storage capacity (TB) at the end of the period listed in the annual report for Ziff Davis, Inc.' value=['N/A'] references=[]\n"
     ]
    }
   ],
   "execution_count": 46
  },
  {
   "metadata": {},
   "cell_type": "code",
   "outputs": [],
   "execution_count": null,
   "source": [
    "print(questions[53])\n",
    "response_1, _ = ask_gemini(questions[53], companies_dict)"
   ],
   "id": "b4bfd829f1a9b106"
  },
  {
   "metadata": {},
   "cell_type": "markdown",
   "source": "## Create final submission",
   "id": "2201ceadc26ea70e"
  },
  {
   "metadata": {
    "ExecuteTime": {
     "end_time": "2025-03-04T21:48:56.063897Z",
     "start_time": "2025-03-04T21:47:37.470214Z"
    }
   },
   "cell_type": "code",
   "source": [
    "# Create submission based on answers list and store json\n",
    "import time\n",
    "\n",
    "answer_items = [None] * len(questions)\n",
    "failed_questions = []\n",
    "for i, question in enumerate(questions):\n",
    "    try:\n",
    "        print(\"\\n##############################\")\n",
    "        print(i, question)\n",
    "        answer, sha1 = ask_gemini(question, companies_dict)\n",
    "        print(sha1)\n",
    "\n",
    "        if answer.value[0] == \"N/A\":\n",
    "            value = \"N/A\"\n",
    "            answer.references = []\n",
    "        if len(answer.value) == 1:\n",
    "            value = answer.value[0]\n",
    "        else:\n",
    "            value = answer.value\n",
    "\n",
    "        if not answer.references:\n",
    "            references = []\n",
    "        else:\n",
    "            references = [SourceReference(pdf_sha1=sha1, page_index=reference.page_index) for reference in answer.references]\n",
    "\n",
    "        answer_item = Answer(question_text=question[\"text\"], kind=question[\"kind\"], value=value, references=references)\n",
    "        answer_items[i] = answer_item\n",
    "\n",
    "    except Exception as e:\n",
    "        print(\"#+#+#+#+#+#\")\n",
    "        print(f\"Failed to answer question {i}: {e}\")\n",
    "        print(\"#+#+#+#+#+#\")\n",
    "        failed_questions.append(i)\n",
    "\n",
    "        answer_item = Answer(question_text=question[\"text\"], kind=question[\"kind\"], value=\"n/a\", references=[])\n",
    "        answer_items[i] = answer_item\n",
    "    # wait for 20 sec\n",
    "    print(\"\\n\\n\\n\\n\")\n",
    "    break\n",
    "    time.sleep(20)\n",
    "\n",
    "if failed_questions:\n",
    "    print(f\"WARNING: Failed to answer questions: {failed_questions}\")"
   ],
   "id": "43547fbdb4200e22",
   "outputs": [
    {
     "name": "stdout",
     "output_type": "stream",
     "text": [
      "\n",
      "##############################\n",
      "0 {'text': \"For Ziff Davis, Inc., what was the value of Cloud storage capacity (TB) at the end of the period listed in annual report? If data is not available, return 'N/A'.\", 'kind': 'number'}\n",
      "Found company name with re: Ziff Davis, Inc.\n",
      "Found ecabab4934d4b80570c4bb3b8e35b7476694b3fb_annual_report\n",
      "None\n",
      "ecabab4934d4b80570c4bb3b8e35b7476694b3fb\n",
      "#+#+#+#+#+#\n",
      "Failed to answer question 0: 'NoneType' object has no attribute 'value'\n",
      "#+#+#+#+#+#\n",
      "\n",
      "\n",
      "\n",
      "\n",
      "\n"
     ]
    },
    {
     "ename": "KeyboardInterrupt",
     "evalue": "",
     "output_type": "error",
     "traceback": [
      "\u001B[1;31m---------------------------------------------------------------------------\u001B[0m",
      "\u001B[1;31mKeyboardInterrupt\u001B[0m                         Traceback (most recent call last)",
      "Cell \u001B[1;32mIn[35], line 39\u001B[0m\n\u001B[0;32m     37\u001B[0m     \u001B[38;5;66;03m# wait for 20 sec\u001B[39;00m\n\u001B[0;32m     38\u001B[0m     \u001B[38;5;28mprint\u001B[39m(\u001B[38;5;124m\"\u001B[39m\u001B[38;5;130;01m\\n\u001B[39;00m\u001B[38;5;130;01m\\n\u001B[39;00m\u001B[38;5;130;01m\\n\u001B[39;00m\u001B[38;5;130;01m\\n\u001B[39;00m\u001B[38;5;124m\"\u001B[39m)\n\u001B[1;32m---> 39\u001B[0m     \u001B[43mtime\u001B[49m\u001B[38;5;241;43m.\u001B[39;49m\u001B[43msleep\u001B[49m\u001B[43m(\u001B[49m\u001B[38;5;241;43m20\u001B[39;49m\u001B[43m)\u001B[49m\n\u001B[0;32m     40\u001B[0m     \u001B[38;5;28;01mbreak\u001B[39;00m\n\u001B[0;32m     42\u001B[0m \u001B[38;5;28;01mif\u001B[39;00m failed_questions:\n",
      "\u001B[1;31mKeyboardInterrupt\u001B[0m: "
     ]
    }
   ],
   "execution_count": 35
  },
  {
   "metadata": {
    "ExecuteTime": {
     "end_time": "2025-02-27T13:45:52.288204Z",
     "start_time": "2025-02-27T13:45:52.274997Z"
    }
   },
   "cell_type": "code",
   "source": [
    "# failed_questions of v1:\n",
    "# \"The request's total referenced files bytes are too large to be read\"\n",
    "# failed_questions = [6, 53, 60]"
   ],
   "id": "ee07f0face636e45",
   "outputs": [
    {
     "data": {
      "text/plain": [
       "[6, 53, 60]"
      ]
     },
     "execution_count": 10,
     "metadata": {},
     "output_type": "execute_result"
    }
   ],
   "execution_count": 10
  },
  {
   "metadata": {
    "ExecuteTime": {
     "end_time": "2025-03-04T20:18:12.841910Z",
     "start_time": "2025-03-04T20:18:12.809006Z"
    }
   },
   "cell_type": "code",
   "source": "answer_items",
   "id": "389c8f5080785433",
   "outputs": [
    {
     "data": {
      "text/plain": [
       "[Answer(question_text=\"For Ziff Davis, Inc., what was the value of Cloud storage capacity (TB) at the end of the period listed in annual report? If data is not available, return 'N/A'.\", kind='number', value='N/A', references=[]),\n",
       " Answer(question_text='Did Liberty Broadband Corporation announce a share buyback plan in the annual report? If there is no mention, return False.', kind='boolean', value='no', references=[]),\n",
       " Answer(question_text=\"What is the total number of employees let go by Pintec Technology Holdings Limited according to the annual report? If data is not available, return 'N/A'.\", kind='number', value='N/A', references=[]),\n",
       " Answer(question_text=\"Which leadership positions changed at Westwater Resources, Inc. in the reporting period? If data is not available, return 'N/A'. Give me the title of the position.\", kind='names', value=['Chief President', 'Chief Executive Officer', 'Senior Vice President of Finance', 'Chief Financial Officer', 'Chief Administrative Officer'], references=[SourceReference(pdf_sha1='92d9de8e4db96e0b95a484afcd1c54c6beb62c03', page_index=16), SourceReference(pdf_sha1='92d9de8e4db96e0b95a484afcd1c54c6beb62c03', page_index=17)]),\n",
       " Answer(question_text='Did Brave Bison Group plc mention any mergers or acquisitions in the annual report? If there is no mention, return False.', kind='boolean', value='yes', references=[SourceReference(pdf_sha1='ddd10e4612006205c4b1ba050a11648071e6e429', page_index=6), SourceReference(pdf_sha1='ddd10e4612006205c4b1ba050a11648071e6e429', page_index=7)]),\n",
       " Answer(question_text=\"According to the annual report, what is the Cash flow from operations (in USD) for Sonic Automotive, Inc.  (within the last period or at the end of the last period)? If data is not available, return 'N/A'.\", kind='number', value='N/A', references=[]),\n",
       " Answer(question_text='Did Poste Italiane announce any changes to its dividend policy in the annual report? If there is no mention, return False.', kind='boolean', value='n/a', references=[]),\n",
       " Answer(question_text=\"What was the largest single spending of MGM Resorts International on executive compensation in USD? If data is not available in this currency, return 'N/A'.\", kind='number', value='N/A', references=[]),\n",
       " Answer(question_text=\"What was the Gross margin (%) for INMUNE BIO INC. according to the annual report (within the last period or at the end of the last period)? If data is not available, return 'N/A'.\", kind='number', value='N/A', references=[]),\n",
       " Answer(question_text='Did BetMakers Technology Group Ltd mention any mergers or acquisitions in the annual report? If there is no mention, return False.', kind='boolean', value='yes', references=[SourceReference(pdf_sha1='1af8f906e34af6e0acfe4f73e37093bbe34700f3', page_index=9)]),\n",
       " Answer(question_text=\"For Franklin Covey Co., what was the value of Year-end box office market share (if applicable) at the end of the period listed in annual report? If data is not available, return 'N/A'.\", kind='number', value='N/A', references=[]),\n",
       " Answer(question_text='Did Downer EDI Limited announce a share buyback plan in the annual report? If there is no mention, return False.', kind='boolean', value='yes', references=[SourceReference(pdf_sha1='0a61a353b1ea9fd9b8f63b60239634ca3007d58f', page_index=14)]),\n",
       " Answer(question_text=\"What was the Gross margin (%) for Armadale Capital Plc according to the annual report (within the last period or at the end of the last period)? If data is not available, return 'N/A'.\", kind='number', value='N/A', references=[]),\n",
       " Answer(question_text='Did AA Limited announce any new product launches in the annual report? If there is no mention, return False.', kind='boolean', value='no', references=[]),\n",
       " Answer(question_text='Did Franklin Covey Co. outline any new ESG initiatives in the annual report? If there is no mention, return False.', kind='boolean', value='yes', references=[SourceReference(pdf_sha1='e30ece688caf7602b734bbbcf39559b4acdb2739', page_index=15)]),\n",
       " Answer(question_text=\"What was the largest single spending of Ocugen, Inc. on executive compensation in AUD? If data is not available in this currency, return 'N/A'.\", kind='number', value='N/A', references=[]),\n",
       " Answer(question_text='Did Bionano Genomics, Inc. mention any mergers or acquisitions in the annual report? If there is no mention, return False.', kind='boolean', value='yes', references=[SourceReference(pdf_sha1='5a24fa827d172a7669eca206b2a5f47c2b19b48d', page_index=7)]),\n",
       " Answer(question_text='Did Seiko Epson Corporation announce any changes to its dividend policy in the annual report? If there is no mention, return False.', kind='boolean', value='no', references=[SourceReference(pdf_sha1='6d76ccb75bbf1b27ca60b8419c5343ac050cebb0', page_index=4), SourceReference(pdf_sha1='6d76ccb75bbf1b27ca60b8419c5343ac050cebb0', page_index=66)]),\n",
       " Answer(question_text=\"What was the value of Number of hotels at year-end of MGM Resorts International at the end of the period listed in annual report? If data is not available, return 'N/A'.\", kind='number', value='17', references=[SourceReference(pdf_sha1='e117005fc313bf0d49429d34bc8e1ef64de54898', page_index=7)]),\n",
       " Answer(question_text=\"What is the total number of employees let go by NZME Limited according to the annual report? If data is not available, return 'N/A'.\", kind='number', value='N/A', references=[]),\n",
       " Answer(question_text=\"For Incyte Corporation, what was the value of Clinical trial sites operating at year-end at the end of the period listed in annual report? If data is not available, return 'N/A'.\", kind='number', value='N/A', references=[]),\n",
       " Answer(question_text=\"For Aurora Innovation, Inc., what was the value of Number of patents at year-end at the end of the period listed in annual report? If data is not available, return 'N/A'.\", kind='number', value='N/A', references=[]),\n",
       " Answer(question_text='Which of the companies had the lowest total assets in EUR at the end of the period listed in annual report: \"Datalogic\", \"Terns Pharmaceuticals, Inc.\", \"Incyte Corporation\", \"INMUNE BIO INC.\", \"Duni Group\"? If data for the company is not available, exclude it from the comparison. If only one company is left, return this company.', kind='name', value='n/a', references=[]),\n",
       " Answer(question_text=\"What is the total number of employees let go by Downer EDI Limited according to the annual report? If data is not available, return 'N/A'.\", kind='number', value='n/a', references=[]),\n",
       " Answer(question_text='Which of the companies had the lowest total revenue in EUR at the end of the period listed in annual report: \"Atreca, Inc.\", \"Poste Italiane\", \"Datalogic\", \"NuCana plc\", \"RWE AG\"? If data for the company is not available, exclude it from the comparison. If only one company is left, return this company.', kind='name', value='n/a', references=[]),\n",
       " Answer(question_text=\"What was the value of Total power generation capacity (MW) of Elixir Energy Limited at the end of the period listed in annual report? If data is not available, return 'N/A'.\", kind='number', value='n/a', references=[]),\n",
       " Answer(question_text=\"What was the value of Number of active pharmaceutical patents of Kiniksa Pharmaceuticals, Ltd. at the end of the period listed in annual report? If data is not available, return 'N/A'.\", kind='number', value='N/A', references=[]),\n",
       " Answer(question_text=\"What was the value of Total deposits at year-end of CoreCard Corporation at the end of the period listed in annual report? If data is not available, return 'N/A'.\", kind='number', value='N/A', references=[]),\n",
       " Answer(question_text=\"For HCA Healthcare, Inc., what was the value of Outstanding insurance claims (if applicable) at the end of the period listed in annual report? If data is not available, return 'N/A'.\", kind='number', value='N/A', references=[]),\n",
       " Answer(question_text=\"Which leadership positions changed at Datalogic in the reporting period? If data is not available, return 'N/A'. Give me the title of the position.\", kind='names', value=['Executive Chairman', 'Chief Executive Officer'], references=[SourceReference(pdf_sha1='980742aa08ea64d552c153bcefbd7e8243fb9efd', page_index=38)]),\n",
       " Answer(question_text='Did Incitec Pivot Limited mention any mergers or acquisitions in the annual report? If there is no mention, return False.', kind='boolean', value='yes', references=[SourceReference(pdf_sha1='6529fba868216a923407fb0d4e15a811a8e89ebc', page_index=8), SourceReference(pdf_sha1='6529fba868216a923407fb0d4e15a811a8e89ebc', page_index=9), SourceReference(pdf_sha1='6529fba868216a923407fb0d4e15a811a8e89ebc', page_index=15)]),\n",
       " Answer(question_text=\"For Franklin Covey Co., what was the value of Number of active licensing deals at the end of the period listed in annual report? If data is not available, return 'N/A'.\", kind='number', value='N/A', references=[]),\n",
       " Answer(question_text=\"According to the annual report, what is the Cash flow from operations (in USD) for Wheeler Real Estate Investment Trust, Inc.  (within the last period or at the end of the last period)? If data is not available, return 'N/A'.\", kind='number', value='N/A', references=[]),\n",
       " Answer(question_text='Did Incitec Pivot Limited announce any changes to its dividend policy in the annual report? If there is no mention, return False.', kind='boolean', value='no', references=[SourceReference(pdf_sha1='6529fba868216a923407fb0d4e15a811a8e89ebc', page_index=16)]),\n",
       " Answer(question_text=\"What was the largest single spending of archTIS Limited on executive compensation in USD? If data is not available in this currency, return 'N/A'.\", kind='number', value='N/A', references=[]),\n",
       " Answer(question_text='Did Guaranty Bancshares, Inc. announce any new product launches in the annual report? If there is no mention, return False.', kind='boolean', value='no', references=[SourceReference(pdf_sha1='4e3efdc544140b872a59e124443a64c34f356911', page_index=9)]),\n",
       " Answer(question_text=\"According to the annual report, what is the Cash flow from operations (in GBP) for AA Limited  (within the last period or at the end of the last period)? If data is not available, return 'N/A'.\", kind='number', value='N/A', references=[]),\n",
       " Answer(question_text=\"For Peako Limited, what was the value of Cloud storage capacity (TB) at the end of the period listed in annual report? If data is not available, return 'N/A'.\", kind='number', value='N/A', references=[]),\n",
       " Answer(question_text=\"According to the annual report, what is the Total revenue (in USD) for Medallion Financial Corp.  (within the last period or at the end of the last period)? If data is not available, return 'N/A'.\", kind='number', value='196621000', references=[SourceReference(pdf_sha1='1a12ef3f11a64e92eeca39e493a17d2860c014a6', page_index=71)]),\n",
       " Answer(question_text='Did AA Limited report any changes to its capital structure? If there is no mention, return False.', kind='boolean', value='no', references=[]),\n",
       " Answer(question_text=\"What is the total number of employees let go by KP Tissue Inc. according to the annual report? If data is not available, return 'N/A'.\", kind='number', value='N/A', references=[SourceReference(pdf_sha1='d14ae2b6284e48b5c1e6659a0a5863d84697b3b9', page_index=6)]),\n",
       " Answer(question_text='Which of the companies had the lowest total revenue in EUR at the end of the period listed in annual report: \"Atreca, Inc.\", \"Poste Italiane\", \"Datalogic\", \"Duni Group\", \"Incyte Corporation\"? If data for the company is not available, exclude it from the comparison. If only one company is left, return this company.', kind='name', value='n/a', references=[]),\n",
       " Answer(question_text=\"Which leadership positions changed at Blue Apron Holdings, Inc. in the reporting period? If data is not available, return 'N/A'. Give me the title of the position.\", kind='names', value='N/A', references=[SourceReference(pdf_sha1='35839effbc332f23d5f34263aab3dcb2c6976420', page_index=13)]),\n",
       " Answer(question_text=\"What was the Dividend per share (in USD) for Ritchie Bros. Auctioneers Incorporated according to the annual report (within the last period or at the end of the last period)? If data is not available, return 'N/A'.\", kind='number', value='0.27', references=[SourceReference(pdf_sha1='78c71282723c2d66216cbba13183d19349d302b8', page_index=38)]),\n",
       " Answer(question_text='What are the names of new products launched by Albany International Corp. as mentioned in the annual report?', kind='names', value='N/A', references=[SourceReference(pdf_sha1='da663e46fbf02ec8a90b3f3c1079ef4c9f7907e1', page_index=16)]),\n",
       " Answer(question_text=\"For Sonic Automotive, Inc., what was the value of Number of hybrid models available at the end of the period listed in annual report? If data is not available, return 'N/A'.\", kind='number', value='N/A', references=[]),\n",
       " Answer(question_text='Did ACRES Commercial Realty Corp. outline any new ESG initiatives in the annual report? If there is no mention, return False.', kind='boolean', value='yes', references=[SourceReference(pdf_sha1='0279901b645e568591ad95dac2c2bf939ef0c00d', page_index=4)]),\n",
       " Answer(question_text=\"What was the value of Generic product count of Kiniksa Pharmaceuticals, Ltd. at the end of the period listed in annual report? If data is not available, return 'N/A'.\", kind='number', value='N/A', references=[]),\n",
       " Answer(question_text=\"What was the value of Number of fulfillment centers at year-end of 1-800-FLOWERS.COM, INC. at the end of the period listed in annual report? If data is not available, return 'N/A'.\", kind='number', value='N/A', references=[SourceReference(pdf_sha1='30f64d1043f4cb425eb636763580ae27094ffef1', page_index=31)]),\n",
       " Answer(question_text=\"What was the largest single spending of Kiniksa Pharmaceuticals, Ltd. on executive compensation in USD? If data is not available in this currency, return 'N/A'.\", kind='number', value='N/A', references=[]),\n",
       " Answer(question_text=\"For Origin Bancorp, Inc., what was the value of Total assets on balance sheet at year-end at the end of the period listed in annual report? If data is not available, return 'N/A'.\", kind='number', value='9686067000', references=[SourceReference(pdf_sha1='3f36d4f26ada778d89cf5a7344be0b9e9a5223a3', page_index=6)]),\n",
       " Answer(question_text='Did Ritchie Bros. Auctioneers Incorporated mention any ongoing litigation or regulatory inquiries? If there is no mention, return False.', kind='boolean', value='no', references=[SourceReference(pdf_sha1='78c71282723c2d66216cbba13183d19349d302b8', page_index=34)]),\n",
       " Answer(question_text=\"What is the total number of employees let go by Commerzbank according to the annual report? If data is not available, return 'N/A'.\", kind='number', value='N/A', references=[SourceReference(pdf_sha1='696ddc4c80febe0f1559ed3b1272487c74ca91cc', page_index=4)]),\n",
       " Answer(question_text='Which of the companies had the lowest total assets in EUR at the end of the period listed in annual report: \"Poste Italiane\", \"NuCana plc\", \"Incyte Corporation\", \"INMUNE BIO INC.\", \"Atreca, Inc.\"? If data for the company is not available, exclude it from the comparison. If only one company is left, return this company.', kind='name', value='n/a', references=[]),\n",
       " Answer(question_text=\"For HCA Healthcare, Inc., what was the value of Number of managed clinics at year-end at the end of the period listed in annual report? If data is not available, return 'N/A'.\", kind='number', value='N/A', references=[]),\n",
       " Answer(question_text=\"For RWE AG, what was the value of Number of facilities at year-end at the end of the period listed in annual report? If data is not available, return 'N/A'.\", kind='number', value='N/A', references=[]),\n",
       " Answer(question_text='Which of the companies had the lowest net income in EUR at the end of the period listed in annual report: \"Atreca, Inc.\", \"INMUNE BIO INC.\", \"Datalogic\", \"NuCana plc\", \"RWE AG\"? If data for the company is not available, exclude it from the comparison. If only one company is left, return this company.', kind='name', value='n/a', references=[]),\n",
       " Answer(question_text=\"For Albany International Corp., what was the value of R&D spending on advanced programs at the end of the period listed in annual report? If data is not available, return 'N/A'.\", kind='number', value='N/A', references=[]),\n",
       " Answer(question_text=\"For Rectifier Technologies Ltd, what was the value of Number of patents at year-end at the end of the period listed in annual report? If data is not available, return 'N/A'.\", kind='number', value='N/A', references=[]),\n",
       " Answer(question_text=\"For Albany International Corp., what was the value of Year-end patent portfolio (aerospace tech) at the end of the period listed in annual report? If data is not available, return 'N/A'.\", kind='number', value='N/A', references=[]),\n",
       " Answer(question_text='Which of the companies had the lowest net income in EUR at the end of the period listed in annual report: \"Datalogic\", \"NuCana plc\", \"Duni Group\", \"Playtech plc\", \"Atreca, Inc.\"? If data for the company is not available, exclude it from the comparison. If only one company is left, return this company.', kind='name', value='n/a', references=[]),\n",
       " Answer(question_text=\"For SThree plc, what was the value of End-of-year total headcount at the end of the period listed in annual report? If data is not available, return 'N/A'.\", kind='number', value='3119', references=[SourceReference(pdf_sha1='67185fca2a09b3c46ee961b2c1ae160dab8b5231', page_index=4)]),\n",
       " Answer(question_text='Which of the companies had the lowest total assets in EUR at the end of the period listed in annual report: \"Playtech plc\", \"Datalogic\", \"Duni Group\", \"Poste Italiane\", \"Incyte Corporation\"? If data for the company is not available, exclude it from the comparison. If only one company is left, return this company.', kind='name', value='n/a', references=[]),\n",
       " Answer(question_text=\"For HCA Healthcare, Inc., what was the value of Number of healthcare professionals on staff at the end of the period listed in annual report? If data is not available, return 'N/A'.\", kind='number', value='45000', references=[SourceReference(pdf_sha1='a69ebee82a9acd54117407ca3697db0d7bfbfdac', page_index=3)]),\n",
       " Answer(question_text=\"For SIG plc, what was the value of Number of stores at year-end at the end of the period listed in annual report? If data is not available, return 'N/A'.\", kind='number', value='440', references=[SourceReference(pdf_sha1='2db41ba86cc015db1f5f7de00b764a06e6de3dcc', page_index=4)]),\n",
       " Answer(question_text=\"Which leadership positions changed at Kelly Partners Group Holdings Limited in the reporting period? If data is not available, return 'N/A'. Give me the title of the position.\", kind='names', value='Non-Executive Independent Director', references=[SourceReference(pdf_sha1='c8af22dbedd95ee719273792e5964ab8bbba17b2', page_index=3), SourceReference(pdf_sha1='c8af22dbedd95ee719273792e5964ab8bbba17b2', page_index=14)]),\n",
       " Answer(question_text='Did Trinity Place Holdings Inc. mention any mergers or acquisitions in the annual report? If there is no mention, return False.', kind='boolean', value='yes', references=[SourceReference(pdf_sha1='e229fc9f5c694e93b02ac312c231607a04e3e528', page_index=3)]),\n",
       " Answer(question_text=\"For FNCB Bancorp, Inc., what was the value of Non-performing loan ratio (NPL) at year-end at the end of the period listed in annual report? If data is not available, return 'N/A'.\", kind='number', value='0.25', references=[SourceReference(pdf_sha1='23b2c590c4887dfb86761730dd7156fe3b216ab7', page_index=2)]),\n",
       " Answer(question_text='Did Elixir Energy Limited outline any new ESG initiatives in the annual report? If there is no mention, return False.', kind='boolean', value='yes', references=[SourceReference(pdf_sha1='f879b3a802ccd6e8e6ca0a07ed8464318b7c0724', page_index=9)]),\n",
       " Answer(question_text=\"What was the value of Year-end user base of archTIS Limited at the end of the period listed in annual report? If data is not available, return 'N/A'.\", kind='number', value='N/A', references=[]),\n",
       " Answer(question_text=\"What was the largest single spending of MainStreet Bancshares, Inc. on executive compensation in USD? If data is not available in this currency, return 'N/A'.\", kind='number', value='N/A', references=[]),\n",
       " Answer(question_text=\"What was the Capital expenditures (in USD) for Structural Monitoring Systems Plc according to the annual report (within the last period or at the end of the last period)? If data is not available, return 'N/A'.\", kind='number', value='N/A', references=[]),\n",
       " Answer(question_text=\"What was the Capital expenditures (in EUR) for INMUNE BIO INC. according to the annual report (within the last period or at the end of the last period)? If data is not available, return 'N/A'.\", kind='number', value='N/A', references=[]),\n",
       " Answer(question_text='What is the name of the last product launched by 1-800-FLOWERS.COM, INC. as mentioned in the annual report?', kind='name', value=\"Alice's Table\", references=[SourceReference(pdf_sha1='30f64d1043f4cb425eb636763580ae27094ffef1', page_index=11)]),\n",
       " Answer(question_text=\"For Peako Limited, what was the value of Year-end customer base at the end of the period listed in annual report? If data is not available, return 'N/A'.\", kind='number', value='N/A', references=[]),\n",
       " Answer(question_text=\"According to the annual report, what is the Cash flow from operations (in USD) for FNCB Bancorp, Inc.  (within the last period or at the end of the last period)? If data is not available, return 'N/A'.\", kind='number', value='20445000', references=[SourceReference(pdf_sha1='23b2c590c4887dfb86761730dd7156fe3b216ab7', page_index=2)]),\n",
       " Answer(question_text=\"For Peako Limited, what was the value of Total expensed R&D expenditure at the end of the period listed in annual report? If data is not available, return 'N/A'.\", kind='number', value='N/A', references=[]),\n",
       " Answer(question_text='Did Empire Company Limited announce any changes to its dividend policy in the annual report? If there is no mention, return False.', kind='boolean', value='no', references=[SourceReference(pdf_sha1='8f5e29eea4f4a3e944707c71148439ca1fd4b2d8', page_index=2)]),\n",
       " Answer(question_text=\"Which leadership positions changed at Duni Group in the reporting period? If data is not available, return 'N/A'. Give me the title of the position.\", kind='names', value='N/A', references=[]),\n",
       " Answer(question_text='Did SIG plc mention any mergers or acquisitions in the annual report? If there is no mention, return False.', kind='boolean', value='yes', references=[SourceReference(pdf_sha1='2db41ba86cc015db1f5f7de00b764a06e6de3dcc', page_index=9), SourceReference(pdf_sha1='2db41ba86cc015db1f5f7de00b764a06e6de3dcc', page_index=16)]),\n",
       " Answer(question_text=\"For Pintec Technology Holdings Limited, what was the value of End-of-year net interest margin (NIM) at the end of the period listed in annual report? If data is not available, return 'N/A'.\", kind='number', value='N/A', references=[]),\n",
       " Answer(question_text=\"For AA Limited, what was the value of Fleet size (vehicles) at year-end at the end of the period listed in annual report? If data is not available, return 'N/A'.\", kind='number', value='N/A', references=[]),\n",
       " Answer(question_text='Did HCA Healthcare, Inc. announce any changes to its dividend policy in the annual report? If there is no mention, return False.', kind='boolean', value='no', references=[]),\n",
       " Answer(question_text='Which of the companies had the lowest total assets in EUR at the end of the period listed in annual report: \"Incyte Corporation\", \"INMUNE BIO INC.\", \"Datalogic\", \"Terns Pharmaceuticals, Inc.\", \"RWE AG\"? If data for the company is not available, exclude it from the comparison. If only one company is left, return this company.', kind='name', value='N/A', references=[]),\n",
       " Answer(question_text=\"What was the value of E-commerce active customer accounts of Mosaic Brands Limited at the end of the period listed in annual report? If data is not available, return 'N/A'.\", kind='number', value='N/A', references=[]),\n",
       " Answer(question_text=\"What was the largest single spending of Toshiba Corporation on executive compensation in AUD? If data is not available in this currency, return 'N/A'.\", kind='number', value='N/A', references=[]),\n",
       " Answer(question_text=\"For Sonic Automotive, Inc., what was the value of Year-end fleet average CO₂ emissions at the end of the period listed in annual report? If data is not available, return 'N/A'.\", kind='number', value='N/A', references=[]),\n",
       " Answer(question_text='Did Wheeler Real Estate Investment Trust, Inc. report any changes to its capital structure? If there is no mention, return False.', kind='boolean', value='yes', references=[SourceReference(pdf_sha1='b947c33b370d8a3251ef9c36ce7d71e8d16f4f8e', page_index=1)]),\n",
       " Answer(question_text=\"For Atreca, Inc., what was the value of Number of managed clinics at year-end at the end of the period listed in annual report? If data is not available, return 'N/A'.\", kind='number', value='N/A', references=[]),\n",
       " Answer(question_text=\"Which leadership positions changed at Crombie REIT in the reporting period? If data is not available, return 'N/A'. Give me the title of the position.\", kind='names', value=['President & Chief Executive Officer', 'Former President & Chief Executive Officer'], references=[SourceReference(pdf_sha1='14fa568899745270c4ff2c10073f97f2c2e7764b', page_index=7)]),\n",
       " Answer(question_text='Did Mosaic Brands Limited mention any mergers or acquisitions in the annual report? If there is no mention, return False.', kind='boolean', value='yes', references=[SourceReference(pdf_sha1='12bff07b957b1c8f8cad9d917ca18005720cce9b', page_index=40)]),\n",
       " Answer(question_text='Did Incitec Pivot Limited detail any restructuring plans in the latest filing? If there is no mention, return False.', kind='boolean', value='no', references=[SourceReference(pdf_sha1='6529fba868216a923407fb0d4e15a811a8e89ebc', page_index=9), SourceReference(pdf_sha1='6529fba868216a923407fb0d4e15a811a8e89ebc', page_index=15), SourceReference(pdf_sha1='6529fba868216a923407fb0d4e15a811a8e89ebc', page_index=16), SourceReference(pdf_sha1='6529fba868216a923407fb0d4e15a811a8e89ebc', page_index=17), SourceReference(pdf_sha1='6529fba868216a923407fb0d4e15a811a8e89ebc', page_index=22)]),\n",
       " Answer(question_text=\"What was the value of Number of active software licenses of Rapid7 at the end of the period listed in annual report? If data is not available, return 'N/A'.\", kind='number', value='N/A', references=[]),\n",
       " Answer(question_text=\"Which leadership positions changed at Wheeler Real Estate Investment Trust, Inc. in the reporting period? If data is not available, return 'N/A'. Give me the title of the position.\", kind='names', value='N/A', references=[]),\n",
       " Answer(question_text='Did Aptevo Therapeutics Inc. mention any mergers or acquisitions in the annual report? If there is no mention, return False.', kind='boolean', value='no', references=[SourceReference(pdf_sha1='0981826b4b43a88920f3e01c71ae73539bab84cc', page_index=1), SourceReference(pdf_sha1='0981826b4b43a88920f3e01c71ae73539bab84cc', page_index=2), SourceReference(pdf_sha1='0981826b4b43a88920f3e01c71ae73539bab84cc', page_index=3), SourceReference(pdf_sha1='0981826b4b43a88920f3e01c71ae73539bab84cc', page_index=4), SourceReference(pdf_sha1='0981826b4b43a88920f3e01c71ae73539bab84cc', page_index=5), SourceReference(pdf_sha1='0981826b4b43a88920f3e01c71ae73539bab84cc', page_index=6), SourceReference(pdf_sha1='0981826b4b43a88920f3e01c71ae73539bab84cc', page_index=7), SourceReference(pdf_sha1='0981826b4b43a88920f3e01c71ae73539bab84cc', page_index=8), SourceReference(pdf_sha1='0981826b4b43a88920f3e01c71ae73539bab84cc', page_index=9), SourceReference(pdf_sha1='0981826b4b43a88920f3e01c71ae73539bab84cc', page_index=10), SourceReference(pdf_sha1='0981826b4b43a88920f3e01c71ae73539bab84cc', page_index=11), SourceReference(pdf_sha1='0981826b4b43a88920f3e01c71ae73539bab84cc', page_index=12), SourceReference(pdf_sha1='0981826b4b43a88920f3e01c71ae73539bab84cc', page_index=13), SourceReference(pdf_sha1='0981826b4b43a88920f3e01c71ae73539bab84cc', page_index=14), SourceReference(pdf_sha1='0981826b4b43a88920f3e01c71ae73539bab84cc', page_index=15), SourceReference(pdf_sha1='0981826b4b43a88920f3e01c71ae73539bab84cc', page_index=16), SourceReference(pdf_sha1='0981826b4b43a88920f3e01c71ae73539bab84cc', page_index=17), SourceReference(pdf_sha1='0981826b4b43a88920f3e01c71ae73539bab84cc', page_index=18), SourceReference(pdf_sha1='0981826b4b43a88920f3e01c71ae73539bab84cc', page_index=19), SourceReference(pdf_sha1='0981826b4b43a88920f3e01c71ae73539bab84cc', page_index=20), SourceReference(pdf_sha1='0981826b4b43a88920f3e01c71ae73539bab84cc', page_index=21), SourceReference(pdf_sha1='0981826b4b43a88920f3e01c71ae73539bab84cc', page_index=22), SourceReference(pdf_sha1='0981826b4b43a88920f3e01c71ae73539bab84cc', page_index=23), SourceReference(pdf_sha1='0981826b4b43a88920f3e01c71ae73539bab84cc', page_index=24), SourceReference(pdf_sha1='0981826b4b43a88920f3e01c71ae73539bab84cc', page_index=25), SourceReference(pdf_sha1='0981826b4b43a88920f3e01c71ae73539bab84cc', page_index=26), SourceReference(pdf_sha1='0981826b4b43a88920f3e01c71ae73539bab84cc', page_index=27), SourceReference(pdf_sha1='0981826b4b43a88920f3e01c71ae73539bab84cc', page_index=28), SourceReference(pdf_sha1='0981826b4b43a88920f3e01c71ae73539bab84cc', page_index=29), SourceReference(pdf_sha1='0981826b4b43a88920f3e01c71ae73539bab84cc', page_index=30), SourceReference(pdf_sha1='0981826b4b43a88920f3e01c71ae73539bab84cc', page_index=31), SourceReference(pdf_sha1='0981826b4b43a88920f3e01c71ae73539bab84cc', page_index=32), SourceReference(pdf_sha1='0981826b4b43a88920f3e01c71ae73539bab84cc', page_index=33), SourceReference(pdf_sha1='0981826b4b43a88920f3e01c71ae73539bab84cc', page_index=34), SourceReference(pdf_sha1='0981826b4b43a88920f3e01c71ae73539bab84cc', page_index=35), SourceReference(pdf_sha1='0981826b4b43a88920f3e01c71ae73539bab84cc', page_index=36), SourceReference(pdf_sha1='0981826b4b43a88920f3e01c71ae73539bab84cc', page_index=37), SourceReference(pdf_sha1='0981826b4b43a88920f3e01c71ae73539bab84cc', page_index=38), SourceReference(pdf_sha1='0981826b4b43a88920f3e01c71ae73539bab84cc', page_index=39), SourceReference(pdf_sha1='0981826b4b43a88920f3e01c71ae73539bab84cc', page_index=40), SourceReference(pdf_sha1='0981826b4b43a88920f3e01c71ae73539bab84cc', page_index=41), SourceReference(pdf_sha1='0981826b4b43a88920f3e01c71ae73539bab84cc', page_index=42), SourceReference(pdf_sha1='0981826b4b43a88920f3e01c71ae73539bab84cc', page_index=43), SourceReference(pdf_sha1='0981826b4b43a88920f3e01c71ae73539bab84cc', page_index=44), SourceReference(pdf_sha1='0981826b4b43a88920f3e01c71ae73539bab84cc', page_index=45), SourceReference(pdf_sha1='0981826b4b43a88920f3e01c71ae73539bab84cc', page_index=46), SourceReference(pdf_sha1='0981826b4b43a88920f3e01c71ae73539bab84cc', page_index=47), SourceReference(pdf_sha1='0981826b4b43a88920f3e01c71ae73539bab84cc', page_index=48), SourceReference(pdf_sha1='0981826b4b43a88920f3e01c71ae73539bab84cc', page_index=49), SourceReference(pdf_sha1='0981826b4b43a88920f3e01c71ae73539bab84cc', page_index=50), SourceReference(pdf_sha1='0981826b4b43a88920f3e01c71ae73539bab84cc', page_index=51), SourceReference(pdf_sha1='0981826b4b43a88920f3e01c71ae73539bab84cc', page_index=52), SourceReference(pdf_sha1='0981826b4b43a88920f3e01c71ae73539bab84cc', page_index=53), SourceReference(pdf_sha1='0981826b4b43a88920f3e01c71ae73539bab84cc', page_index=54), SourceReference(pdf_sha1='0981826b4b43a88920f3e01c71ae73539bab84cc', page_index=55), SourceReference(pdf_sha1='0981826b4b43a88920f3e01c71ae73539bab84cc', page_index=56), SourceReference(pdf_sha1='0981826b4b43a88920f3e01c71ae73539bab84cc', page_index=57), SourceReference(pdf_sha1='0981826b4b43a88920f3e01c71ae73539bab84cc', page_index=58), SourceReference(pdf_sha1='0981826b4b43a88920f3e01c71ae73539bab84cc', page_index=59), SourceReference(pdf_sha1='0981826b4b43a88920f3e01c71ae73539bab84cc', page_index=60), SourceReference(pdf_sha1='0981826b4b43a88920f3e01c71ae73539bab84cc', page_index=61), SourceReference(pdf_sha1='0981826b4b43a88920f3e01c71ae73539bab84cc', page_index=62), SourceReference(pdf_sha1='0981826b4b43a88920f3e01c71ae73539bab84cc', page_index=63), SourceReference(pdf_sha1='0981826b4b43a88920f3e01c71ae73539bab84cc', page_index=64), SourceReference(pdf_sha1='0981826b4b43a88920f3e01c71ae73539bab84cc', page_index=65), SourceReference(pdf_sha1='0981826b4b43a88920f3e01c71ae73539bab84cc', page_index=66), SourceReference(pdf_sha1='0981826b4b43a88920f3e01c71ae73539bab84cc', page_index=67), SourceReference(pdf_sha1='0981826b4b43a88920f3e01c71ae73539bab84cc', page_index=68), SourceReference(pdf_sha1='0981826b4b43a88920f3e01c71ae73539bab84cc', page_index=69), SourceReference(pdf_sha1='0981826b4b43a88920f3e01c71ae73539bab84cc', page_index=70), SourceReference(pdf_sha1='0981826b4b43a88920f3e01c71ae73539bab84cc', page_index=71), SourceReference(pdf_sha1='0981826b4b43a88920f3e01c71ae73539bab84cc', page_index=72), SourceReference(pdf_sha1='0981826b4b43a88920f3e01c71ae73539bab84cc', page_index=73), SourceReference(pdf_sha1='0981826b4b43a88920f3e01c71ae73539bab84cc', page_index=74), SourceReference(pdf_sha1='0981826b4b43a88920f3e01c71ae73539bab84cc', page_index=75), SourceReference(pdf_sha1='0981826b4b43a88920f3e01c71ae73539bab84cc', page_index=76), SourceReference(pdf_sha1='0981826b4b43a88920f3e01c71ae73539bab84cc', page_index=77), SourceReference(pdf_sha1='0981826b4b43a88920f3e01c71ae73539bab84cc', page_index=78), SourceReference(pdf_sha1='0981826b4b43a88920f3e01c71ae73539bab84cc', page_index=79), SourceReference(pdf_sha1='0981826b4b43a88920f3e01c71ae73539bab84cc', page_index=80), SourceReference(pdf_sha1='0981826b4b43a88920f3e01c71ae73539bab84cc', page_index=81), SourceReference(pdf_sha1='0981826b4b43a88920f3e01c71ae73539bab84cc', page_index=82), SourceReference(pdf_sha1='0981826b4b43a88920f3e01c71ae73539bab84cc', page_index=83), SourceReference(pdf_sha1='0981826b4b43a88920f3e01c71ae73539bab84cc', page_index=84), SourceReference(pdf_sha1='0981826b4b43a88920f3e01c71ae73539bab84cc', page_index=85), SourceReference(pdf_sha1='0981826b4b43a88920f3e01c71ae73539bab84cc', page_index=86), SourceReference(pdf_sha1='0981826b4b43a88920f3e01c71ae73539bab84cc', page_index=87), SourceReference(pdf_sha1='0981826b4b43a88920f3e01c71ae73539bab84cc', page_index=88), SourceReference(pdf_sha1='0981826b4b43a88920f3e01c71ae73539bab84cc', page_index=89), SourceReference(pdf_sha1='0981826b4b43a88920f3e01c71ae73539bab84cc', page_index=90), SourceReference(pdf_sha1='0981826b4b43a88920f3e01c71ae73539bab84cc', page_index=91), SourceReference(pdf_sha1='0981826b4b43a88920f3e01c71ae73539bab84cc', page_index=92), SourceReference(pdf_sha1='0981826b4b43a88920f3e01c71ae73539bab84cc', page_index=93), SourceReference(pdf_sha1='0981826b4b43a88920f3e01c71ae73539bab84cc', page_index=94), SourceReference(pdf_sha1='0981826b4b43a88920f3e01c71ae73539bab84cc', page_index=95), SourceReference(pdf_sha1='0981826b4b43a88920f3e01c71ae73539bab84cc', page_index=96), SourceReference(pdf_sha1='0981826b4b43a88920f3e01c71ae73539bab84cc', page_index=97), SourceReference(pdf_sha1='0981826b4b43a88920f3e01c71ae73539bab84cc', page_index=98), SourceReference(pdf_sha1='0981826b4b43a88920f3e01c71ae73539bab84cc', page_index=99), SourceReference(pdf_sha1='0981826b4b43a88920f3e01c71ae73539bab84cc', page_index=100), SourceReference(pdf_sha1='0981826b4b43a88920f3e01c71ae73539bab84cc', page_index=101), SourceReference(pdf_sha1='0981826b4b43a88920f3e01c71ae73539bab84cc', page_index=102), SourceReference(pdf_sha1='0981826b4b43a88920f3e01c71ae73539bab84cc', page_index=103), SourceReference(pdf_sha1='0981826b4b43a88920f3e01c71ae73539bab84cc', page_index=104), SourceReference(pdf_sha1='0981826b4b43a88920f3e01c71ae73539bab84cc', page_index=105), SourceReference(pdf_sha1='0981826b4b43a88920f3e01c71ae73539bab84cc', page_index=106), SourceReference(pdf_sha1='0981826b4b43a88920f3e01c71ae73539bab84cc', page_index=107), SourceReference(pdf_sha1='0981826b4b43a88920f3e01c71ae73539bab84cc', page_index=108), SourceReference(pdf_sha1='0981826b4b43a88920f3e01c71ae73539bab84cc', page_index=109), SourceReference(pdf_sha1='0981826b4b43a88920f3e01c71ae73539bab84cc', page_index=110), SourceReference(pdf_sha1='0981826b4b43a88920f3e01c71ae73539bab84cc', page_index=111), SourceReference(pdf_sha1='0981826b4b43a88920f3e01c71ae73539bab84cc', page_index=112), SourceReference(pdf_sha1='0981826b4b43a88920f3e01c71ae73539bab84cc', page_index=113), SourceReference(pdf_sha1='0981826b4b43a88920f3e01c71ae73539bab84cc', page_index=114), SourceReference(pdf_sha1='0981826b4b43a88920f3e01c71ae73539bab84cc', page_index=115), SourceReference(pdf_sha1='0981826b4b43a88920f3e01c71ae73539bab84cc', page_index=116), SourceReference(pdf_sha1='0981826b4b43a88920f3e01c71ae73539bab84cc', page_index=117)]),\n",
       " Answer(question_text=\"According to the annual report, what is the Cash flow from operations (in GBP) for James Halstead plc  (within the last period or at the end of the last period)? If data is not available, return 'N/A'.\", kind='number', value='6535000', references=[SourceReference(pdf_sha1='71d137454a1524843e1f49b34603438510232919', page_index=34)]),\n",
       " Answer(question_text=\"What was the value of End-of-year tech staff headcount of archTIS Limited at the end of the period listed in annual report? If data is not available, return 'N/A'.\", kind='number', value='N/A', references=[]),\n",
       " Answer(question_text=\"For Westwater Resources, Inc., what was the value of Percentage of renewable energy capacity at the end of the period listed in annual report? If data is not available, return 'N/A'.\", kind='number', value='N/A', references=[]),\n",
       " Answer(question_text=\"Which leadership positions changed at Origin Bancorp, Inc. in the reporting period? If data is not available, return 'N/A'. Give me the title of the position.\", kind='names', value=['Chief Legal Counsel', 'Chief Financial Officer'], references=[SourceReference(pdf_sha1='3f36d4f26ada778d89cf5a7344be0b9e9a5223a3', page_index=3)]),\n",
       " Answer(question_text=\"What was the Gross margin (%) for Ritchie Bros. Auctioneers Incorporated according to the annual report (within the last period or at the end of the last period)? If data is not available, return 'N/A'.\", kind='number', value='N/A', references=[])]"
      ]
     },
     "execution_count": 12,
     "metadata": {},
     "output_type": "execute_result"
    }
   ],
   "execution_count": 12
  },
  {
   "metadata": {
    "ExecuteTime": {
     "end_time": "2025-03-04T20:14:03.827042Z",
     "start_time": "2025-03-04T20:14:03.816485Z"
    }
   },
   "cell_type": "code",
   "source": "final_submission = AnswerSubmission(answers=answer_items, team_email=\"felix.krause@timetoact.at\", submission_name=\"gemini_naive\")",
   "id": "b55d039e67e62c9d",
   "outputs": [],
   "execution_count": 11
  },
  {
   "metadata": {
    "ExecuteTime": {
     "end_time": "2025-02-27T13:49:20.535246Z",
     "start_time": "2025-02-27T13:49:20.515569Z"
    }
   },
   "cell_type": "code",
   "source": [
    "# store submission as json\n",
    "final_submission_path = f\"../data/round2/submissions/gemini_submission.json\"\n",
    "\n",
    "with open(final_submission_path, \"w\") as file:\n",
    "    json.dump(final_submission.model_dump(), file, indent=4)"
   ],
   "id": "c852bcf1bb23bde9",
   "outputs": [],
   "execution_count": 22
  }
 ],
 "metadata": {
  "kernelspec": {
   "display_name": "Python 3",
   "language": "python",
   "name": "python3"
  },
  "language_info": {
   "codemirror_mode": {
    "name": "ipython",
    "version": 2
   },
   "file_extension": ".py",
   "mimetype": "text/x-python",
   "name": "python",
   "nbconvert_exporter": "python",
   "pygments_lexer": "ipython2",
   "version": "2.7.6"
  }
 },
 "nbformat": 4,
 "nbformat_minor": 5
}
