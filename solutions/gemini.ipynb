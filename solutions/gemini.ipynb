{
 "cells": [
  {
   "metadata": {},
   "cell_type": "markdown",
   "source": [
    "# Gemini Approach\n",
    "\n",
    "TODO run several times to check variability (use majority vote for answers?)"
   ],
   "id": "863190bff064abfd"
  },
  {
   "metadata": {
    "ExecuteTime": {
     "end_time": "2025-02-19T14:48:39.362914Z",
     "start_time": "2025-02-19T14:48:37.708445Z"
    }
   },
   "cell_type": "code",
   "source": [
    "import os\n",
    "import re\n",
    "import json\n",
    "from google import genai\n",
    "from pydantic import BaseModel, Field\n",
    "from typing import List, Optional, Literal, Union\n",
    "from dotenv import load_dotenv\n",
    "from utils import *\n",
    "\n",
    "load_dotenv()"
   ],
   "id": "13d98af26ae73017",
   "outputs": [
    {
     "data": {
      "text/plain": [
       "True"
      ]
     },
     "execution_count": 1,
     "metadata": {},
     "output_type": "execute_result"
    }
   ],
   "execution_count": 1
  },
  {
   "metadata": {
    "collapsed": true,
    "ExecuteTime": {
     "end_time": "2025-02-19T14:48:39.786050Z",
     "start_time": "2025-02-19T14:48:39.778302Z"
    }
   },
   "cell_type": "code",
   "source": [
    "# load question json\n",
    "\n",
    "# company = \"reit\"\n",
    "# company = \"TSX_Y_2022\"\n",
    "# company = \"NASDAQ_CLXT_2022\"\n",
    "\n",
    "# with open(f\"../data/questions_{company}.json\", \"r\") as file:\n",
    "#     questions = json.load(file)\n",
    "\n",
    "with open(f\"../data/questions/clxt-tsxy.json\", \"r\") as file:\n",
    "    questions = json.load(file)\n",
    "\n",
    "# open companies list\n",
    "companies_dict = get_companies_dict(r\"C:\\Users\\felix.krause\\code\\trustbit\\enterprise-rag-challenge\\dataset_v2.json\")"
   ],
   "id": "initial_id",
   "outputs": [],
   "execution_count": 2
  },
  {
   "metadata": {},
   "cell_type": "code",
   "outputs": [],
   "execution_count": null,
   "source": [
    "# open prompts\n",
    "with open(f\"prompts/prompt_gemini.md\", \"r\") as file:\n",
    "    system_prompt = file.read()\n",
    "\n",
    "with open(f\"prompts/prompt_company_extractor.md\", \"r\") as file:\n",
    "    prompt_company_extractor = file.read()"
   ],
   "id": "44acfca661ff9ca7"
  },
  {
   "metadata": {
    "ExecuteTime": {
     "end_time": "2025-02-19T14:48:39.815278Z",
     "start_time": "2025-02-19T14:48:39.808714Z"
    }
   },
   "cell_type": "code",
   "source": [
    "model_id = \"gemini-2.0-flash\"  # or \"gemini-2.0-flash-lite-preview-02-05\"  , \"gemini-2.0-pro-exp-02-05\", at least 1M token input context window\n",
    "\n",
    "client = genai.Client(api_key=os.getenv(\"GEMINI_API_KEY\"))"
   ],
   "id": "b876f4cf169ba2c2",
   "outputs": [],
   "execution_count": 3
  },
  {
   "metadata": {
    "ExecuteTime": {
     "end_time": "2025-02-19T14:48:39.843374Z",
     "start_time": "2025-02-19T14:48:39.830929Z"
    }
   },
   "cell_type": "code",
   "source": [
    "class SourceReferenceLLM(BaseModel):\n",
    "    # pdf_sha1: str = Field(..., description=\"SHA1 hash of the PDF file\")\n",
    "    page_index: int = Field(..., description=\"Physical page number in the PDF file\")\n",
    "\n",
    "class AnswerLLM(BaseModel):\n",
    "    # question_text: str = Field(..., description=\"Text of the question\")\n",
    "    # kind: Literal[\"number\", \"name\", \"boolean\", \"names\"] = Field(..., description=\"Kind of the question\")\n",
    "    chain_of_thought: str = Field(..., description=\"Chain of thought that led to the answer value\")\n",
    "    value: List[str] = Field(..., description=\"Answer to the question, according to the question schema\")\n",
    "    references: List[SourceReferenceLLM] = Field(..., description=\"References to the source material in the PDF file\")"
   ],
   "id": "a9b88ad82bf096c1",
   "outputs": [],
   "execution_count": 4
  },
  {
   "metadata": {
    "ExecuteTime": {
     "end_time": "2025-02-19T14:48:40.078301Z",
     "start_time": "2025-02-19T14:48:40.066667Z"
    }
   },
   "cell_type": "code",
   "source": [
    "class Company(BaseModel):\n",
    "    chain_of_thought: str = Field(..., description=\"Chain of thought that led to the answer value\")\n",
    "    value: str = Field(..., description=\"Identified company name as in list of companies.\")\n",
    "\n",
    "\n",
    "def get_company_name(query, companies_dict, verbose=True):\n",
    "    query = query[\"text\"]\n",
    "    companies = list(companies_dict.keys())\n",
    "    company_meta = None\n",
    "\n",
    "    # Check if query contains company name directly\n",
    "    candidates = []\n",
    "    for company in companies:\n",
    "        # Build a regex pattern that ignores case\n",
    "        pattern = re.escape(company)\n",
    "        if re.search(pattern, query, re.IGNORECASE):\n",
    "            candidates.append(company)\n",
    "\n",
    "    if len(candidates) == 1:\n",
    "        if verbose:\n",
    "            print(f\"Found company name with re: {candidates[0]}\")\n",
    "        company_meta = companies_dict[candidates[0]]\n",
    "\n",
    "    # If no company name was found, ask model to extract it\n",
    "    if not company_meta:\n",
    "        prompt = prompt_company_extractor.replace(\"<<COMPANIES>>\", \", \".join(companies))\n",
    "        prompt += \"\\n\\nQuery: \" + query\n",
    "\n",
    "        response = client.models.generate_content(model=model_id, contents=[prompt], config={'response_mime_type': 'application/json', 'response_schema': Company})\n",
    "\n",
    "        if verbose:\n",
    "            print(response.parsed)\n",
    "\n",
    "        if response.parsed.value.lower() != \"skip\":\n",
    "            company_meta = companies_dict[response.parsed.value]\n",
    "        else:\n",
    "            return \"N/A\", None\n",
    "\n",
    "    return company_meta[\"id\"], company_meta[\"sha1\"]"
   ],
   "id": "a256256db01d496a",
   "outputs": [],
   "execution_count": 6
  },
  {
   "metadata": {
    "ExecuteTime": {
     "end_time": "2025-02-19T14:48:42.508323Z",
     "start_time": "2025-02-19T14:48:40.096180Z"
    }
   },
   "cell_type": "code",
   "source": [
    "# Test if company is there\n",
    "query = {\"text\": \"Did Backpowder Inc mention any mergers or acquisitions in the annual report?\"}\n",
    "response_0, sha1 = get_company_name(query, companies_dict)\n",
    "response_0"
   ],
   "id": "7e8c0052b2401fee",
   "outputs": [
    {
     "name": "stdout",
     "output_type": "stream",
     "text": [
      "chain_of_thought=\"The query mentions 'Backpowder Inc', which is not in the provided list of companies. There are also no similar company names which could be corrected by matching partial names. Therefore, the output is 'SKIP'.\" value='SKIP'\n"
     ]
    },
    {
     "data": {
      "text/plain": [
       "'N/A'"
      ]
     },
     "execution_count": 7,
     "metadata": {},
     "output_type": "execute_result"
    }
   ],
   "execution_count": 7
  },
  {
   "metadata": {
    "ExecuteTime": {
     "end_time": "2025-02-19T14:13:57.181716Z",
     "start_time": "2025-02-19T14:13:56.833829Z"
    }
   },
   "cell_type": "code",
   "source": [
    "print(questions[0])\n",
    "response_1, sha1 = get_company_name(questions[0], companies_dict)\n",
    "response_1"
   ],
   "id": "40a841c54a0c3e08",
   "outputs": [
    {
     "name": "stdout",
     "output_type": "stream",
     "text": [
      "{'text': 'Did Calyxt, Inc. mention any mergers or acquisitions in the annual report?', 'kind': 'boolean'}\n",
      "Found company name with re: Calyxt, Inc.\n"
     ]
    },
    {
     "data": {
      "text/plain": [
       "'NASDAQ_CLXT_2022.pdf'"
      ]
     },
     "execution_count": 80,
     "metadata": {},
     "output_type": "execute_result"
    }
   ],
   "execution_count": 80
  },
  {
   "metadata": {
    "ExecuteTime": {
     "end_time": "2025-02-19T14:48:42.529946Z",
     "start_time": "2025-02-19T14:48:42.523874Z"
    }
   },
   "cell_type": "code",
   "source": [
    "def get_document(company, verbose=True):\n",
    "    uploaded_docs = list(client.files.list())\n",
    "    files_set = {file.display_name: file for file in uploaded_docs}\n",
    "    if f\"{company}_annual_report\" in files_set:\n",
    "        return files_set[f\"{company}_annual_report\"]\n",
    "    else:\n",
    "        if verbose:\n",
    "            print(f\"Uploading {company} annual report...\")\n",
    "        document_path = f\"../data/pdfs/{company}\"\n",
    "        return client.files.upload(file=document_path, config={'display_name': f'{company}_annual_report'})\n",
    "\n",
    "# Upload PDF manually\n",
    "# company_document = client.files.upload(file=test_pdf_path, config={'display_name': f'{company}_annual_report'})"
   ],
   "id": "dc31e86ae62ad8c2",
   "outputs": [],
   "execution_count": 8
  },
  {
   "metadata": {
    "ExecuteTime": {
     "end_time": "2025-02-19T14:48:42.573415Z",
     "start_time": "2025-02-19T14:48:42.565362Z"
    }
   },
   "cell_type": "code",
   "source": [
    "def ask_gemini(query, companies_dict=None, verbose=True):\n",
    "    prompt = system_prompt + \"\\n\\nQuery: \" + str(query)\n",
    "\n",
    "    company_id, sha1 = get_company_name(query, companies_dict, verbose)\n",
    "\n",
    "    if company_id == \"N/A\":\n",
    "        return AnswerLLM(chain_of_thought=\"Company name not found\", value=[\"N/A\"], references=[]), None\n",
    "\n",
    "    document = get_document(company_id, verbose)\n",
    "\n",
    "    response = client.models.generate_content(model=model_id, contents=[prompt, document], config={'response_mime_type': 'application/json', 'response_schema': AnswerLLM, \"temperature\": 0.0})\n",
    "    if verbose:\n",
    "        print(response.parsed)\n",
    "    return response.parsed, sha1"
   ],
   "id": "fe3bca176ee630a4",
   "outputs": [],
   "execution_count": 9
  },
  {
   "metadata": {
    "ExecuteTime": {
     "end_time": "2025-02-19T14:14:17.749428Z",
     "start_time": "2025-02-19T14:14:02.148169Z"
    }
   },
   "cell_type": "code",
   "source": [
    "print(questions[0])\n",
    "response_0, sha1 = ask_gemini(questions[0], companies_dict)"
   ],
   "id": "235cd9c1bc886e25",
   "outputs": [
    {
     "name": "stdout",
     "output_type": "stream",
     "text": [
      "{'text': 'Did Calyxt, Inc. mention any mergers or acquisitions in the annual report?', 'kind': 'boolean'}\n",
      "Found company name with re: Calyxt, Inc.\n",
      "chain_of_thought='The report mentions a proposed merger with Cibus Global, LLC.' value=['yes'] references=[SourceReference(page_index=4), SourceReference(page_index=6)]\n"
     ]
    }
   ],
   "execution_count": 83
  },
  {
   "metadata": {},
   "cell_type": "markdown",
   "source": "## Create final submission",
   "id": "2201ceadc26ea70e"
  },
  {
   "metadata": {
    "ExecuteTime": {
     "end_time": "2025-02-19T14:49:13.944310Z",
     "start_time": "2025-02-19T14:48:44.616067Z"
    }
   },
   "cell_type": "code",
   "source": [
    "# Generate responses in bulk\n",
    "answers = []\n",
    "for question in questions[:3]:\n",
    "    response = ask_gemini(question, companies_dict)\n",
    "    answers.append(response)"
   ],
   "id": "505f7d181aed8cbc",
   "outputs": [
    {
     "name": "stdout",
     "output_type": "stream",
     "text": [
      "chain_of_thought=\"The query mentions 'Backpowder Inc', which is not in the provided company list, and no close match can be made, therefore, defaulting to 'SKIP'.\" value='SKIP'\n",
      "Found company name with re: Yellow Pages Limited\n",
      "chain_of_thought='The annual report states that the Adjusted EBITDA margin for the year ended December 31, 2022, was 36.0% of revenues. Adjusted EBITDA margin is used as a proxy for operating margin.' value=['36.0'] references=[SourceReferenceLLM(page_index=8)]\n",
      "Found company name with re: Calyxt, Inc.\n",
      "chain_of_thought='I am unable to determine the largest single spending on executive compensation from the provided document. The document does not contain specific details about individual executive compensation.' value=['N/A'] references=[]\n"
     ]
    }
   ],
   "execution_count": 10
  },
  {
   "metadata": {
    "ExecuteTime": {
     "end_time": "2025-02-19T14:33:42.002745Z",
     "start_time": "2025-02-19T14:33:41.995927Z"
    }
   },
   "cell_type": "code",
   "source": "answers",
   "id": "c4180e1acc3a2e4a",
   "outputs": [
    {
     "data": {
      "text/plain": [
       "[(AnswerLLM(chain_of_thought='Company name not found', value=['N/A'], references=[]),\n",
       "  None),\n",
       " (AnswerLLM(chain_of_thought='The annual report states that the Adjusted EBITDA margin for the year ended December 31, 2022, was 36.0% of revenues. Since Adjusted EBITDA margin is closely related to operating margin, I will use this value.', value=['36.0'], references=[SourceReference(page_index=8)]),\n",
       "  '9d7a72445aba6860402c3acce75af02dc045f74d'),\n",
       " (AnswerLLM(chain_of_thought=\"I am unable to determine the largest single spending on executive compensation from the provided document. The document contains information about the company's business, financial performance, and governance, but it does not provide specific details on individual executive compensation.\", value=['N/A'], references=[]),\n",
       "  '40b5cfe0d7bbf59e186492bfbe1b5002d44af332')]"
      ]
     },
     "execution_count": 19,
     "metadata": {},
     "output_type": "execute_result"
    }
   ],
   "execution_count": 19
  },
  {
   "metadata": {
    "ExecuteTime": {
     "end_time": "2025-02-19T14:49:40.524838Z",
     "start_time": "2025-02-19T14:49:40.511623Z"
    }
   },
   "cell_type": "code",
   "source": [
    "# Create submission based on answers list and store json\n",
    "answer_items = []\n",
    "for answer, question in zip(answers, questions[:3]):\n",
    "    answer, sha1 = answer\n",
    "    print(\"\")\n",
    "    print(answer)\n",
    "    print(sha1)\n",
    "    print(question)\n",
    "\n",
    "    if answer.value[0] == \"N/A\":\n",
    "        value = \"N/A\"\n",
    "    if len(answer.value) == 1:\n",
    "        value = answer.value[0]\n",
    "    else:\n",
    "        value = answer.value\n",
    "\n",
    "    if not answer.references:\n",
    "        references = []\n",
    "    else:\n",
    "        references = [SourceReference(pdf_sha1=sha1, page_index=reference.page_index) for reference in answer.references]\n",
    "\n",
    "    answer_item = Answer(question_text=question[\"text\"], kind=question[\"kind\"], value=value, references=references)\n",
    "    answer_items.append(answer_item)\n",
    "\n",
    "final_submission = AnswerSubmission(answers=answer_items, team_email=\"felix.krause@timetoact.at\", submission_name=\"gemini\")"
   ],
   "id": "43547fbdb4200e22",
   "outputs": [
    {
     "name": "stdout",
     "output_type": "stream",
     "text": [
      "\n",
      "chain_of_thought='Company name not found' value=['N/A'] references=[]\n",
      "None\n",
      "{'text': 'Did Backpowder Inc mention any mergers or acquisitions in the annual report?', 'kind': 'boolean'}\n",
      "\n",
      "chain_of_thought='The annual report states that the Adjusted EBITDA margin for the year ended December 31, 2022, was 36.0% of revenues. Adjusted EBITDA margin is used as a proxy for operating margin.' value=['36.0'] references=[SourceReferenceLLM(page_index=8)]\n",
      "9d7a72445aba6860402c3acce75af02dc045f74d\n",
      "{'text': \"According to the annual report, what is the Operating margin (%) for Yellow Pages Limited  (within the last period or at the end of the last period)? If data is not available, return 'N/A'.\", 'kind': 'number'}\n",
      "\n",
      "chain_of_thought='I am unable to determine the largest single spending on executive compensation from the provided document. The document does not contain specific details about individual executive compensation.' value=['N/A'] references=[]\n",
      "40b5cfe0d7bbf59e186492bfbe1b5002d44af332\n",
      "{'text': 'What was the largest single spending of Calyxt, Inc. on executive compensation in USD?', 'kind': 'name'}\n"
     ]
    }
   ],
   "execution_count": 13
  },
  {
   "metadata": {
    "ExecuteTime": {
     "end_time": "2025-02-19T14:49:41.145355Z",
     "start_time": "2025-02-19T14:49:41.137311Z"
    }
   },
   "cell_type": "code",
   "source": [
    "# store submission as json\n",
    "final_submission_path = f\"../data/submissions/gemini_test_submission.json\"\n",
    "\n",
    "with open(final_submission_path, \"w\") as file:\n",
    "    json.dump(final_submission.model_dump(), file, indent=4)"
   ],
   "id": "c852bcf1bb23bde9",
   "outputs": [],
   "execution_count": 14
  }
 ],
 "metadata": {
  "kernelspec": {
   "display_name": "Python 3",
   "language": "python",
   "name": "python3"
  },
  "language_info": {
   "codemirror_mode": {
    "name": "ipython",
    "version": 2
   },
   "file_extension": ".py",
   "mimetype": "text/x-python",
   "name": "python",
   "nbconvert_exporter": "python",
   "pygments_lexer": "ipython2",
   "version": "2.7.6"
  }
 },
 "nbformat": 4,
 "nbformat_minor": 5
}
