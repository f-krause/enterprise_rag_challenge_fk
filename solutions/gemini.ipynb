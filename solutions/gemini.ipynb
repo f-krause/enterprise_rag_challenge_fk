{
 "cells": [
  {
   "metadata": {},
   "cell_type": "markdown",
   "source": [
    "# Gemini Approach\n",
    "\n",
    "inspired by: https://www.philschmid.de/gemini-pdf-to-data"
   ],
   "id": "863190bff064abfd"
  },
  {
   "metadata": {
    "ExecuteTime": {
     "end_time": "2025-03-05T11:48:37.722331Z",
     "start_time": "2025-03-05T11:48:35.927683Z"
    }
   },
   "cell_type": "code",
   "source": [
    "import os\n",
    "import re\n",
    "import json\n",
    "from google import genai\n",
    "from pydantic import BaseModel, Field\n",
    "from typing import List, Optional, Literal, Union\n",
    "from dotenv import load_dotenv\n",
    "from utils import *\n",
    "\n",
    "load_dotenv()"
   ],
   "id": "13d98af26ae73017",
   "outputs": [
    {
     "data": {
      "text/plain": [
       "True"
      ]
     },
     "execution_count": 1,
     "metadata": {},
     "output_type": "execute_result"
    }
   ],
   "execution_count": 1
  },
  {
   "metadata": {
    "collapsed": true,
    "ExecuteTime": {
     "end_time": "2025-03-05T11:48:37.752838Z",
     "start_time": "2025-03-05T11:48:37.735498Z"
    }
   },
   "cell_type": "code",
   "source": [
    "# load question json\n",
    "\n",
    "# company = \"reit\"\n",
    "# company = \"TSX_Y_2022\"\n",
    "# company = \"NASDAQ_CLXT_2022\"\n",
    "\n",
    "# with open(f\"../data/questions_{company}.json\", \"r\") as file:\n",
    "#     questions = json.load(file)\n",
    "\n",
    "# with open(f\"../data/questions/clxt-tsxy.json\", \"r\") as file:\n",
    "#     questions = json.load(file)\n",
    "\n",
    "with open(f\"../data/round2/questions.json\", \"r\") as file:\n",
    "    questions = json.load(file)\n",
    "\n",
    "# open companies list\n",
    "# TODO\n",
    "# companies_dict = get_companies_dict(r\"C:\\Users\\felix.krause\\code\\trustbit\\enterprise-rag-challenge\\dataset_v2.json\", subset_json=False)\n",
    "# companies_dict = get_companies_dict(r\"C:\\Users\\Felix\\code\\trustbit\\enterprise-rag-challenge\\dataset_v2.json\", subset_json=False)\n",
    "companies_dict = get_companies_dict(r\"../data/round2/subset.json\")"
   ],
   "id": "initial_id",
   "outputs": [],
   "execution_count": 2
  },
  {
   "metadata": {
    "ExecuteTime": {
     "end_time": "2025-03-05T11:48:38.188532Z",
     "start_time": "2025-03-05T11:48:38.176965Z"
    }
   },
   "cell_type": "code",
   "source": [
    "# open prompts\n",
    "with open(f\"prompts/prompt_gemini.md\", \"r\") as file:\n",
    "    system_prompt = file.read()\n",
    "\n",
    "with open(f\"prompts/prompt_company_extractor.md\", \"r\") as file:\n",
    "    prompt_company_extractor = file.read()"
   ],
   "id": "44acfca661ff9ca7",
   "outputs": [],
   "execution_count": 3
  },
  {
   "metadata": {
    "ExecuteTime": {
     "end_time": "2025-03-05T11:48:38.219714Z",
     "start_time": "2025-03-05T11:48:38.206053Z"
    }
   },
   "cell_type": "code",
   "source": [
    "model_id = \"gemini-2.0-flash\"  # or \"gemini-2.0-flash-lite-preview-02-05\"  , \"gemini-2.0-pro-exp-02-05\", at least 1M token input context window\n",
    "\n",
    "client = genai.Client(api_key=os.getenv(\"GEMINI_API_KEY\"))"
   ],
   "id": "b876f4cf169ba2c2",
   "outputs": [],
   "execution_count": 4
  },
  {
   "metadata": {
    "ExecuteTime": {
     "end_time": "2025-03-05T11:48:38.281234Z",
     "start_time": "2025-03-05T11:48:38.267012Z"
    }
   },
   "cell_type": "code",
   "source": [
    "class SourceReferenceLLM(BaseModel):\n",
    "    pdf_sha1: str = Field(..., description=\"SHA1 hash of the PDF file\")\n",
    "    page_index: int = Field(..., description=\"Physical page number in the PDF file\")\n",
    "\n",
    "class AnswerLLM(BaseModel):\n",
    "    # question_text: str = Field(..., description=\"Text of the question\")\n",
    "    # kind: Literal[\"number\", \"name\", \"boolean\", \"names\"] = Field(..., description=\"Kind of the question\")\n",
    "    chain_of_thought: str = Field(..., description=\"Chain of thought that led to the answer value\")\n",
    "    value: List[str] = Field(..., description=\"Answer to the question, according to the question schema\")\n",
    "    references: List[SourceReferenceLLM] = Field(..., description=\"References to the source material in the PDF file\")"
   ],
   "id": "a9b88ad82bf096c1",
   "outputs": [],
   "execution_count": 5
  },
  {
   "metadata": {
    "ExecuteTime": {
     "end_time": "2025-03-05T11:48:38.360008Z",
     "start_time": "2025-03-05T11:48:38.347001Z"
    }
   },
   "cell_type": "code",
   "source": [
    "class Companies(BaseModel):\n",
    "    chain_of_thought: str = Field(..., description=\"Chain of thought that led to the answer value\")\n",
    "    value: List[str] = Field(..., description=\"Identified company name as in list of companies.\")\n",
    "\n",
    "def get_company_name(query, companies_dict, verbose=True) -> list | None:\n",
    "    companies = list(companies_dict.keys())\n",
    "    company_meta = None\n",
    "\n",
    "    # Check if query contains company name directly\n",
    "    candidates = []\n",
    "    for company in companies:\n",
    "        # Build a regex pattern that ignores case\n",
    "        pattern = re.escape(company)\n",
    "        if re.search(pattern, query, re.IGNORECASE):\n",
    "            candidates.append(company)\n",
    "\n",
    "    if len(candidates) == 1:\n",
    "        if verbose:\n",
    "            print(f\"Found company name with re: {candidates[0]}\")\n",
    "        company_meta = companies_dict[candidates[0]]\n",
    "        company_meta[\"name\"] = candidates[0]\n",
    "        return [company_meta]\n",
    "\n",
    "    if len(candidates) > 1:\n",
    "        if verbose:\n",
    "            print(f\"Found multiple company names with re: {candidates}\")\n",
    "        company_meta = [companies_dict[c] for c in candidates]\n",
    "        for meta, candidate in zip(company_meta, candidates):\n",
    "            meta[\"name\"] = candidate\n",
    "        return company_meta\n",
    "\n",
    "    # If no company name was found, ask model to extract it\n",
    "    # SHOULD NEVER HAPPEN\n",
    "    # prompt = prompt_company_extractor.replace(\"<<COMPANIES>>\", \", \".join(companies))\n",
    "    # prompt += \"\\n\\nQuery: \" + query\n",
    "    #\n",
    "    # response = client.models.generate_content(model=model_id, contents=[prompt], config={'response_mime_type': 'application/json', 'response_schema': Companies})\n",
    "    #\n",
    "    # if verbose:\n",
    "    #     print(response.parsed)\n",
    "    #\n",
    "    # if response.parsed.value[0].lower() != \"skip\":\n",
    "    #     company_meta = companies_dict[response.parsed.value]\n",
    "    #     company_meta[\"name\"] = response.parsed.value\n",
    "    # else:\n",
    "    #     return \"N/A\"\n",
    "\n",
    "    return None"
   ],
   "id": "a256256db01d496a",
   "outputs": [],
   "execution_count": 6
  },
  {
   "metadata": {
    "ExecuteTime": {
     "end_time": "2025-03-04T21:49:28.871174Z",
     "start_time": "2025-03-04T21:49:28.847954Z"
    }
   },
   "cell_type": "code",
   "source": [
    "# Test if company is there\n",
    "query = \"Did Backpowder Inc mention any mergers or acquisitions in the annual report?\"\n",
    "response_0 = get_company_name(query, companies_dict)\n",
    "response_0"
   ],
   "id": "7e8c0052b2401fee",
   "outputs": [],
   "execution_count": 42
  },
  {
   "metadata": {
    "ExecuteTime": {
     "end_time": "2025-03-04T21:49:29.492884Z",
     "start_time": "2025-03-04T21:49:29.469883Z"
    }
   },
   "cell_type": "code",
   "source": [
    "# print(questions[53])\n",
    "response_1 = get_company_name(questions[0][\"text\"], companies_dict)\n",
    "response_1"
   ],
   "id": "40a841c54a0c3e08",
   "outputs": [
    {
     "name": "stdout",
     "output_type": "stream",
     "text": [
      "Found company name with re: Ziff Davis, Inc.\n"
     ]
    },
    {
     "data": {
      "text/plain": [
       "[{'name': 'Ziff Davis, Inc.',\n",
       "  'sha1': 'ecabab4934d4b80570c4bb3b8e35b7476694b3fb',\n",
       "  'id': None}]"
      ]
     },
     "execution_count": 43,
     "metadata": {},
     "output_type": "execute_result"
    }
   ],
   "execution_count": 43
  },
  {
   "metadata": {
    "ExecuteTime": {
     "end_time": "2025-03-05T11:48:40.815057Z",
     "start_time": "2025-03-05T11:48:40.806053Z"
    }
   },
   "cell_type": "code",
   "source": [
    "def get_document(company, verbose=True):\n",
    "    uploaded_docs = list(client.files.list())\n",
    "    files_set = {file.display_name: file for file in uploaded_docs}\n",
    "    if f\"{company}_annual_report\" in files_set:\n",
    "        if verbose:\n",
    "            print(f\"Found {company}_annual_report\")\n",
    "        return files_set[f\"{company}_annual_report\"]\n",
    "    else:\n",
    "        if verbose:\n",
    "            print(f\"Uploading {company} annual report...\")\n",
    "        document_path = f\"../data/round2/pdfs/{company}.pdf\"\n",
    "        return client.files.upload(file=document_path, config={'display_name': f'{company}_annual_report'})\n",
    "\n",
    "# Upload PDF manually\n",
    "# company_document = client.files.upload(file=test_pdf_path, config={'display_name': f'{company}_annual_report'})"
   ],
   "id": "dc31e86ae62ad8c2",
   "outputs": [],
   "execution_count": 7
  },
  {
   "metadata": {
    "ExecuteTime": {
     "end_time": "2025-03-05T11:48:41.164345Z",
     "start_time": "2025-03-05T11:48:41.137242Z"
    }
   },
   "cell_type": "code",
   "source": [
    "def ask_gemini(query, companies_dict=None, verbose=True):\n",
    "    with open(f\"prompts/prompt_gemini.md\", \"r\") as file:\n",
    "        system_prompt = file.read()\n",
    "\n",
    "    prompt = system_prompt + \"\\n\\nQuery: \" + str(query)\n",
    "\n",
    "    company_meta = get_company_name(query[\"text\"], companies_dict, verbose)\n",
    "\n",
    "    if not company_meta:\n",
    "        return AnswerLLM(chain_of_thought=\"Company name not found\", value=[\"N/A\"], references=[]), None\n",
    "\n",
    "    prompt = prompt.replace(\"<<COMPANY SHA1 MAPPING>>\", str(company_meta))\n",
    "\n",
    "    # Single company case\n",
    "    if len(company_meta) == 1:\n",
    "        document = get_document(company_meta[0][\"sha1\"], verbose)\n",
    "\n",
    "        response = client.models.generate_content(model=model_id, contents=[prompt, document], config={'response_mime_type': 'application/json', 'response_schema': AnswerLLM, \"temperature\": 0.0})\n",
    "\n",
    "        if verbose:\n",
    "            print(response.parsed)\n",
    "\n",
    "        return response.parsed, company_meta[0][\"sha1\"]\n",
    "    else:\n",
    "        documents = [get_document(company[\"sha1\"], verbose) for company in company_meta]\n",
    "        contents = [prompt] + documents\n",
    "\n",
    "        response = client.models.generate_content(model=model_id, contents=contents, config={'response_mime_type': 'application/json', 'response_schema': AnswerLLM, \"temperature\": 0.0})\n",
    "\n",
    "        if verbose:\n",
    "            print(response.parsed)\n",
    "\n",
    "        return response.parsed, [company[\"sha1\"] for company in company_meta]"
   ],
   "id": "fe3bca176ee630a4",
   "outputs": [],
   "execution_count": 8
  },
  {
   "metadata": {
    "ExecuteTime": {
     "end_time": "2025-03-04T21:50:10.272026Z",
     "start_time": "2025-03-04T21:49:39.242017Z"
    }
   },
   "cell_type": "code",
   "source": [
    "print(questions[0])\n",
    "response_0, _ = ask_gemini(questions[0], companies_dict)"
   ],
   "id": "235cd9c1bc886e25",
   "outputs": [
    {
     "name": "stdout",
     "output_type": "stream",
     "text": [
      "{'text': \"For Ziff Davis, Inc., what was the value of Cloud storage capacity (TB) at the end of the period listed in annual report? If data is not available, return 'N/A'.\", 'kind': 'number'}\n",
      "Found company name with re: Ziff Davis, Inc.\n",
      "Found ecabab4934d4b80570c4bb3b8e35b7476694b3fb_annual_report\n",
      "chain_of_thought='I apologize, but I am unable to find the answer to your question within the provided document. The document does not contain any information about the value of Cloud storage capacity (TB) at the end of the period listed in the annual report for Ziff Davis, Inc.' value=['N/A'] references=[]\n"
     ]
    }
   ],
   "execution_count": 46
  },
  {
   "metadata": {},
   "cell_type": "code",
   "outputs": [],
   "execution_count": null,
   "source": [
    "print(questions[53])\n",
    "response_1, _ = ask_gemini(questions[53], companies_dict)"
   ],
   "id": "b4bfd829f1a9b106"
  },
  {
   "metadata": {},
   "cell_type": "markdown",
   "source": "## Create final submission",
   "id": "2201ceadc26ea70e"
  },
  {
   "metadata": {
    "ExecuteTime": {
     "end_time": "2025-03-05T16:19:29.258022Z",
     "start_time": "2025-03-05T16:08:35.420214Z"
    }
   },
   "cell_type": "code",
   "source": [
    "# Create submission based on answers list and store json\n",
    "\n",
    "with open(f\"../data/round2/questions.json\", \"r\") as file:\n",
    "    questions = json.load(file)\n",
    "\n",
    "# questions subset\n",
    "subset_question_ids = [6, 7, 22, 24, 41, 53, 56, 60, 62, 83]\n",
    "\n",
    "# load with pickle old answer_items\n",
    "if True:\n",
    "    import pickle\n",
    "    with open(\"../data/round2/submissions/answer_items_gemini_v3.pkl\", \"rb\") as file:\n",
    "        answer_items = pickle.load(file)\n",
    "else:\n",
    "    answer_items = [None] * len(questions)\n",
    "\n",
    "\n",
    "failed_questions = []\n",
    "\n",
    "for i, question in enumerate(questions):\n",
    "    if i in subset_question_ids:\n",
    "        try:\n",
    "            print(\"\\n##############################\")\n",
    "            print(i, question)\n",
    "            answer, sha1 = ask_gemini(question, companies_dict)\n",
    "            print(sha1)\n",
    "\n",
    "            if answer.value[0] == \"N/A\":\n",
    "                value = \"N/A\"\n",
    "                answer.references = []\n",
    "            if len(answer.value) == 1:\n",
    "                value = answer.value[0]\n",
    "            else:\n",
    "                value = answer.value\n",
    "\n",
    "            if not answer.references:\n",
    "                references = []\n",
    "            else:\n",
    "                references = [SourceReference(**ref_object.model_dump()) for ref_object in references]\n",
    "\n",
    "            answer_item = Answer(question_text=question[\"text\"], kind=question[\"kind\"], value=value, references=references)\n",
    "            answer_items[i] = answer_item\n",
    "\n",
    "        except Exception as e:\n",
    "            print(\"#+#+#+#+#+#\")\n",
    "            print(f\"Failed to answer question {i}: {e}\")\n",
    "            print(\"#+#+#+#+#+#\")\n",
    "            failed_questions.append(i)\n",
    "\n",
    "            # answer_item = Answer(question_text=question[\"text\"], kind=question[\"kind\"], value=\"n/a\", references=[])\n",
    "            # answer_items[i] = answer_item\n",
    "        # wait for 20 sec\n",
    "        print(\"\\n\\n\\n\")\n",
    "        # break\n",
    "        time.sleep(20)\n",
    "\n",
    "if failed_questions:\n",
    "    print(f\"WARNING: Failed to answer questions: {failed_questions}\")"
   ],
   "id": "43547fbdb4200e22",
   "outputs": [
    {
     "name": "stdout",
     "output_type": "stream",
     "text": [
      "\n",
      "##############################\n",
      "6 {'text': 'Did Poste Italiane announce any changes to its dividend policy in the annual report? If there is no mention, return False.', 'kind': 'boolean'}\n",
      "Found company name with re: Poste Italiane\n",
      "Found c74139ce26a6f803725f5074a8a0f539abb99c09_annual_report\n",
      "#+#+#+#+#+#\n",
      "Failed to answer question 6: 400 INVALID_ARGUMENT. {'error': {'code': 400, 'message': \"The request's total referenced files bytes are too large to be read\", 'status': 'INVALID_ARGUMENT'}}\n",
      "#+#+#+#+#+#\n",
      "\n",
      "\n",
      "\n",
      "\n",
      "\n",
      "##############################\n",
      "7 {'text': \"What was the largest single spending of MGM Resorts International on executive compensation in USD? If data is not available in this currency, return 'N/A'.\", 'kind': 'number'}\n",
      "Found company name with re: MGM Resorts International\n",
      "Found e117005fc313bf0d49429d34bc8e1ef64de54898_annual_report\n",
      "chain_of_thought=\"I am sorry, but I cannot find the requested information about the largest single spending on executive compensation in the provided PDF. Therefore, I must respond with 'N/A'.\" value=['N/A'] references=[]\n",
      "e117005fc313bf0d49429d34bc8e1ef64de54898\n",
      "\n",
      "\n",
      "\n",
      "\n",
      "\n",
      "##############################\n",
      "22 {'text': 'Which of the companies had the lowest total assets in EUR at the end of the period listed in annual report: \"Datalogic\", \"Terns Pharmaceuticals, Inc.\", \"Incyte Corporation\", \"INMUNE BIO INC.\", \"Duni Group\"? If data for the company is not available, exclude it from the comparison. If only one company is left, return this company.', 'kind': 'name'}\n",
      "Found multiple company names with re: ['Incyte Corporation', 'INMUNE BIO INC.', 'Terns Pharmaceuticals, Inc.', 'Datalogic', 'Duni Group']\n",
      "Found 4d3e52b69b4b5366e54ce87cf641b01b1419bdee_annual_report\n",
      "Found 553afbf09b6d83166b17acb02431c6cf38e4defc_annual_report\n",
      "Found 79ffb9b8682aa565172233c070a47d944464644c_annual_report\n",
      "Found 980742aa08ea64d552c153bcefbd7e8243fb9efd_annual_report\n",
      "Found e7a45fed0d7ebfd13a524e7fcc443318bac654e2_annual_report\n",
      "chain_of_thought='I am unable to find the total assets in EUR for the companies listed in the annual reports provided. Therefore, I cannot determine which company had the lowest total assets.' value=['N/A'] references=[SourceReferenceLLM(pdf_sha1='980742aa08ea64d552c153bcefbd7e8243fb9efd', page_index=1)]\n",
      "['4d3e52b69b4b5366e54ce87cf641b01b1419bdee', '553afbf09b6d83166b17acb02431c6cf38e4defc', '79ffb9b8682aa565172233c070a47d944464644c', '980742aa08ea64d552c153bcefbd7e8243fb9efd', 'e7a45fed0d7ebfd13a524e7fcc443318bac654e2']\n",
      "\n",
      "\n",
      "\n",
      "\n",
      "\n",
      "##############################\n",
      "24 {'text': 'Which of the companies had the lowest total revenue in EUR at the end of the period listed in annual report: \"Atreca, Inc.\", \"Poste Italiane\", \"Datalogic\", \"NuCana plc\", \"RWE AG\"? If data for the company is not available, exclude it from the comparison. If only one company is left, return this company.', 'kind': 'name'}\n",
      "Found multiple company names with re: ['Atreca, Inc.', 'Datalogic', 'NuCana plc', 'Poste Italiane', 'RWE AG']\n",
      "Found 5f226fe96206888930e3baaf0bff70d4b0a1db40_annual_report\n",
      "Found 980742aa08ea64d552c153bcefbd7e8243fb9efd_annual_report\n",
      "Found 9b7fdb871fc4d4a8babc25448257ae0b81a6442d_annual_report\n",
      "Found c74139ce26a6f803725f5074a8a0f539abb99c09_annual_report\n",
      "Found cc0fc5888b99758100a7ff024863fc4337b6b3c5_annual_report\n",
      "#+#+#+#+#+#\n",
      "Failed to answer question 24: 400 INVALID_ARGUMENT. {'error': {'code': 400, 'message': \"The request's total referenced files bytes are too large to be read\", 'status': 'INVALID_ARGUMENT'}}\n",
      "#+#+#+#+#+#\n",
      "\n",
      "\n",
      "\n",
      "\n",
      "\n",
      "##############################\n",
      "41 {'text': 'Which of the companies had the lowest total revenue in EUR at the end of the period listed in annual report: \"Atreca, Inc.\", \"Poste Italiane\", \"Datalogic\", \"Duni Group\", \"Incyte Corporation\"? If data for the company is not available, exclude it from the comparison. If only one company is left, return this company.', 'kind': 'name'}\n",
      "Found multiple company names with re: ['Incyte Corporation', 'Atreca, Inc.', 'Datalogic', 'Poste Italiane', 'Duni Group']\n",
      "Found 4d3e52b69b4b5366e54ce87cf641b01b1419bdee_annual_report\n",
      "Found 5f226fe96206888930e3baaf0bff70d4b0a1db40_annual_report\n",
      "Found 980742aa08ea64d552c153bcefbd7e8243fb9efd_annual_report\n",
      "Found c74139ce26a6f803725f5074a8a0f539abb99c09_annual_report\n",
      "Found e7a45fed0d7ebfd13a524e7fcc443318bac654e2_annual_report\n",
      "#+#+#+#+#+#\n",
      "Failed to answer question 41: 400 INVALID_ARGUMENT. {'error': {'code': 400, 'message': \"The request's total referenced files bytes are too large to be read\", 'status': 'INVALID_ARGUMENT'}}\n",
      "#+#+#+#+#+#\n",
      "\n",
      "\n",
      "\n",
      "\n",
      "\n",
      "##############################\n",
      "53 {'text': 'Which of the companies had the lowest total assets in EUR at the end of the period listed in annual report: \"Poste Italiane\", \"NuCana plc\", \"Incyte Corporation\", \"INMUNE BIO INC.\", \"Atreca, Inc.\"? If data for the company is not available, exclude it from the comparison. If only one company is left, return this company.', 'kind': 'name'}\n",
      "Found multiple company names with re: ['Incyte Corporation', 'INMUNE BIO INC.', 'Atreca, Inc.', 'NuCana plc', 'Poste Italiane']\n",
      "Found 4d3e52b69b4b5366e54ce87cf641b01b1419bdee_annual_report\n",
      "Found 553afbf09b6d83166b17acb02431c6cf38e4defc_annual_report\n",
      "Found 5f226fe96206888930e3baaf0bff70d4b0a1db40_annual_report\n",
      "Found 9b7fdb871fc4d4a8babc25448257ae0b81a6442d_annual_report\n",
      "Found c74139ce26a6f803725f5074a8a0f539abb99c09_annual_report\n",
      "#+#+#+#+#+#\n",
      "Failed to answer question 53: 400 INVALID_ARGUMENT. {'error': {'code': 400, 'message': \"The request's total referenced files bytes are too large to be read\", 'status': 'INVALID_ARGUMENT'}}\n",
      "#+#+#+#+#+#\n",
      "\n",
      "\n",
      "\n",
      "\n",
      "\n",
      "##############################\n",
      "56 {'text': 'Which of the companies had the lowest net income in EUR at the end of the period listed in annual report: \"Atreca, Inc.\", \"INMUNE BIO INC.\", \"Datalogic\", \"NuCana plc\", \"RWE AG\"? If data for the company is not available, exclude it from the comparison. If only one company is left, return this company.', 'kind': 'name'}\n",
      "Found multiple company names with re: ['INMUNE BIO INC.', 'Atreca, Inc.', 'Datalogic', 'NuCana plc', 'RWE AG']\n",
      "Found 553afbf09b6d83166b17acb02431c6cf38e4defc_annual_report\n",
      "Found 5f226fe96206888930e3baaf0bff70d4b0a1db40_annual_report\n",
      "Found 980742aa08ea64d552c153bcefbd7e8243fb9efd_annual_report\n",
      "Found 9b7fdb871fc4d4a8babc25448257ae0b81a6442d_annual_report\n",
      "Found cc0fc5888b99758100a7ff024863fc4337b6b3c5_annual_report\n",
      "chain_of_thought='I will compare the net income of the companies listed in the query. \\nCompany \"Atreca, Inc.\" has net loss of \"(97157)\" thousand USD (converted to EUR: \"-89947000\").\\nCompany \"INMUNE BIO INC.\" has net loss of \"(272599)\" thousand USD (converted to EUR: \"-252300000\").\\nCompany \"Datalogic\" has net profit of \"30126\" thousand EUR.\\nCompany \"NuCana plc\" has net loss of \"(32021)\" thousand GBP (converted to EUR: \"-36440000\").\\nCompany \"RWE AG\" has net income of \"2717\" million EUR.\\n\\nTherefore, the company with the lowest net income is \"INMUNE BIO INC.\".' value=['INMUNE BIO INC.'] references=[SourceReferenceLLM(pdf_sha1='5f226fe96206888930e3baaf0bff70d4b0a1db40', page_index=84), SourceReferenceLLM(pdf_sha1='553afbf09b6d83166b17acb02431c6cf38e4defc', page_index=4), SourceReferenceLLM(pdf_sha1='980742aa08ea64d552c153bcefbd7e8243fb9efd', page_index=72), SourceReferenceLLM(pdf_sha1='9b7fdb871fc4d4a8babc25448257ae0b81a6442d', page_index=3), SourceReferenceLLM(pdf_sha1='cc0fc5888b99758100a7ff024863fc4337b6b3c5', page_index=119)]\n",
      "['553afbf09b6d83166b17acb02431c6cf38e4defc', '5f226fe96206888930e3baaf0bff70d4b0a1db40', '980742aa08ea64d552c153bcefbd7e8243fb9efd', '9b7fdb871fc4d4a8babc25448257ae0b81a6442d', 'cc0fc5888b99758100a7ff024863fc4337b6b3c5']\n",
      "\n",
      "\n",
      "\n",
      "\n",
      "\n",
      "##############################\n",
      "60 {'text': 'Which of the companies had the lowest net income in EUR at the end of the period listed in annual report: \"Datalogic\", \"NuCana plc\", \"Duni Group\", \"Playtech plc\", \"Atreca, Inc.\"? If data for the company is not available, exclude it from the comparison. If only one company is left, return this company.', 'kind': 'name'}\n",
      "Found multiple company names with re: ['Atreca, Inc.', 'Datalogic', 'NuCana plc', 'Playtech plc', 'Duni Group']\n",
      "Found 5f226fe96206888930e3baaf0bff70d4b0a1db40_annual_report\n",
      "Found 980742aa08ea64d552c153bcefbd7e8243fb9efd_annual_report\n",
      "Found 9b7fdb871fc4d4a8babc25448257ae0b81a6442d_annual_report\n",
      "Found ded965ce7e3ea0ad9b83272b8c36f529793a2887_annual_report\n",
      "Found e7a45fed0d7ebfd13a524e7fcc443318bac654e2_annual_report\n",
      "chain_of_thought='I will compare the net income of the companies listed in the query. If the net income is not available, I will exclude the company from the comparison. If only one company is left, I will return this company. \\n\\nAtreca, Inc.: Net loss for the year ended December 31, 2022 is -97157000 USD (page 84). \\nDatalogic: Net profit for the year amounted to 30100000 EUR (page 42). \\nNuCana plc: Loss for the year attributable to equity holders of the Company is -32021000 GBP (page F-3). \\nDuni Group: Net income for the year is 20100000 SEK (page 87). \\nPlaytech plc: I am unable to find the net income for Playtech plc in EUR in the document.\\n\\nConverting to EUR:\\nAtreca, Inc.: -97157000 USD * 0.92 EUR/USD = -89384440 EUR\\nNuCana plc: -32021000 GBP * 1.13 EUR/GBP = -36183730 EUR\\nDuni Group: 20100000 SEK * 0.089 EUR/SEK = 1788900 EUR\\n\\nComparing the net income in EUR:\\nAtreca, Inc.: -89384440 EUR\\nNuCana plc: -36183730 EUR\\nDatalogic: 30100000 EUR\\nDuni Group: 1788900 EUR\\n\\nAtreca, Inc. has the lowest net income in EUR.' value=['Atreca, Inc.'] references=[SourceReferenceLLM(pdf_sha1='5f226fe96206888930e3baaf0bff70d4b0a1db40', page_index=84), SourceReferenceLLM(pdf_sha1='980742aa08ea64d552c153bcefbd7e8243fb9efd', page_index=42), SourceReferenceLLM(pdf_sha1='9b7fdb871fc4d4a8babc25448257ae0b81a6442d', page_index=3), SourceReferenceLLM(pdf_sha1='e7a45fed0d7ebfd13a524e7fcc443318bac654e2', page_index=87)]\n",
      "['5f226fe96206888930e3baaf0bff70d4b0a1db40', '980742aa08ea64d552c153bcefbd7e8243fb9efd', '9b7fdb871fc4d4a8babc25448257ae0b81a6442d', 'ded965ce7e3ea0ad9b83272b8c36f529793a2887', 'e7a45fed0d7ebfd13a524e7fcc443318bac654e2']\n",
      "\n",
      "\n",
      "\n",
      "\n",
      "\n",
      "##############################\n",
      "62 {'text': 'Which of the companies had the lowest total assets in EUR at the end of the period listed in annual report: \"Playtech plc\", \"Datalogic\", \"Duni Group\", \"Poste Italiane\", \"Incyte Corporation\"? If data for the company is not available, exclude it from the comparison. If only one company is left, return this company.', 'kind': 'name'}\n",
      "Found multiple company names with re: ['Incyte Corporation', 'Datalogic', 'Poste Italiane', 'Playtech plc', 'Duni Group']\n",
      "Found 4d3e52b69b4b5366e54ce87cf641b01b1419bdee_annual_report\n",
      "Found 980742aa08ea64d552c153bcefbd7e8243fb9efd_annual_report\n",
      "Found c74139ce26a6f803725f5074a8a0f539abb99c09_annual_report\n",
      "Found ded965ce7e3ea0ad9b83272b8c36f529793a2887_annual_report\n",
      "Found e7a45fed0d7ebfd13a524e7fcc443318bac654e2_annual_report\n",
      "#+#+#+#+#+#\n",
      "Failed to answer question 62: 400 INVALID_ARGUMENT. {'error': {'code': 400, 'message': \"The request's total referenced files bytes are too large to be read\", 'status': 'INVALID_ARGUMENT'}}\n",
      "#+#+#+#+#+#\n",
      "\n",
      "\n",
      "\n",
      "\n",
      "\n",
      "##############################\n",
      "83 {'text': 'Which of the companies had the lowest total assets in EUR at the end of the period listed in annual report: \"Incyte Corporation\", \"INMUNE BIO INC.\", \"Datalogic\", \"Terns Pharmaceuticals, Inc.\", \"RWE AG\"? If data for the company is not available, exclude it from the comparison. If only one company is left, return this company.', 'kind': 'name'}\n",
      "Found multiple company names with re: ['Incyte Corporation', 'INMUNE BIO INC.', 'Terns Pharmaceuticals, Inc.', 'Datalogic', 'RWE AG']\n",
      "Found 4d3e52b69b4b5366e54ce87cf641b01b1419bdee_annual_report\n",
      "Found 553afbf09b6d83166b17acb02431c6cf38e4defc_annual_report\n",
      "Found 79ffb9b8682aa565172233c070a47d944464644c_annual_report\n",
      "Found 980742aa08ea64d552c153bcefbd7e8243fb9efd_annual_report\n",
      "Found cc0fc5888b99758100a7ff024863fc4337b6b3c5_annual_report\n",
      "chain_of_thought=\"I've reviewed the annual reports of the companies provided. I found the total assets for Datalogic in EUR on page 136 of its annual report. I did not find the total assets for the other companies in their respective annual reports. Therefore, based on the available data, Datalogic has the lowest total assets.\" value=['Datalogic'] references=[SourceReferenceLLM(pdf_sha1='980742aa08ea64d552c153bcefbd7e8243fb9efd', page_index=136)]\n",
      "['4d3e52b69b4b5366e54ce87cf641b01b1419bdee', '553afbf09b6d83166b17acb02431c6cf38e4defc', '79ffb9b8682aa565172233c070a47d944464644c', '980742aa08ea64d552c153bcefbd7e8243fb9efd', 'cc0fc5888b99758100a7ff024863fc4337b6b3c5']\n",
      "\n",
      "\n",
      "\n",
      "\n",
      "WARNING: Failed to answer questions: [6, 24, 41, 53, 62]\n"
     ]
    }
   ],
   "execution_count": 31
  },
  {
   "metadata": {},
   "cell_type": "code",
   "outputs": [],
   "execution_count": null,
   "source": "# TODO manually add refernces to new questions",
   "id": "63cd047385a1d8b"
  },
  {
   "metadata": {},
   "cell_type": "code",
   "source": [
    "# failed_questions of v1:\n",
    "# \"The request's total referenced files bytes are too large to be read\"\n",
    "# failed_questions = [6, 53, 60]"
   ],
   "id": "ee07f0face636e45",
   "outputs": [],
   "execution_count": null
  },
  {
   "metadata": {
    "ExecuteTime": {
     "end_time": "2025-03-05T14:10:16.645943Z",
     "start_time": "2025-03-05T14:10:16.624869Z"
    }
   },
   "cell_type": "code",
   "source": [
    "# pickle answer_items\n",
    "# import pickle\n",
    "#\n",
    "# with open(\"../data/round2/submissions/answer_items_gemini_v3.pkl\", \"wb\") as file:\n",
    "#     pickle.dump(answer_items, file)"
   ],
   "id": "389c8f5080785433",
   "outputs": [],
   "execution_count": 15
  },
  {
   "metadata": {
    "ExecuteTime": {
     "end_time": "2025-03-05T16:21:44.676893Z",
     "start_time": "2025-03-05T16:21:44.655559Z"
    }
   },
   "cell_type": "code",
   "source": "answer_items[7]",
   "id": "7f549a123dd50ad0",
   "outputs": [
    {
     "data": {
      "text/plain": [
       "Answer(question_text=\"What was the largest single spending of MGM Resorts International on executive compensation in USD? If data is not available in this currency, return 'N/A'.\", kind='number', value='N/A', references=[])"
      ]
     },
     "execution_count": 38,
     "metadata": {},
     "output_type": "execute_result"
    }
   ],
   "execution_count": 38
  },
  {
   "metadata": {
    "ExecuteTime": {
     "end_time": "2025-03-05T16:19:29.305150Z",
     "start_time": "2025-03-05T16:19:29.291775Z"
    }
   },
   "cell_type": "code",
   "source": "final_submission = AnswerSubmission(answers=answer_items, team_email=\"felix.krause@timetoact.at\", submission_name=\"gemini_naive\")",
   "id": "b55d039e67e62c9d",
   "outputs": [],
   "execution_count": 32
  },
  {
   "metadata": {
    "ExecuteTime": {
     "end_time": "2025-03-05T16:19:29.382884Z",
     "start_time": "2025-03-05T16:19:29.353985Z"
    }
   },
   "cell_type": "code",
   "source": [
    "# store submission as json\n",
    "final_submission_path = f\"../data/round2/submissions/gemini_v3.1.json\"\n",
    "\n",
    "with open(final_submission_path, \"w\") as file:\n",
    "    json.dump(final_submission.model_dump(), file, indent=4)"
   ],
   "id": "c852bcf1bb23bde9",
   "outputs": [],
   "execution_count": 33
  }
 ],
 "metadata": {
  "kernelspec": {
   "display_name": "Python 3",
   "language": "python",
   "name": "python3"
  },
  "language_info": {
   "codemirror_mode": {
    "name": "ipython",
    "version": 2
   },
   "file_extension": ".py",
   "mimetype": "text/x-python",
   "name": "python",
   "nbconvert_exporter": "python",
   "pygments_lexer": "ipython2",
   "version": "2.7.6"
  }
 },
 "nbformat": 4,
 "nbformat_minor": 5
}
