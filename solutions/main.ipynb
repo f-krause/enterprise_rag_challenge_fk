{
 "cells": [
  {
   "metadata": {},
   "cell_type": "markdown",
   "source": "# Default OpenAI approach",
   "id": "70f9dd481125ea25"
  },
  {
   "metadata": {},
   "cell_type": "code",
   "outputs": [],
   "execution_count": null,
   "source": [
    "import os\n",
    "import sqlite3\n",
    "from pydantic import BaseModel\n",
    "from openai import OpenAI\n",
    "\n",
    "from dotenv import load_dotenv\n",
    "\n",
    "load_dotenv()"
   ],
   "id": "7101e25ad9e0a467"
  },
  {
   "cell_type": "code",
   "execution_count": null,
   "id": "initial_id",
   "metadata": {
    "collapsed": true
   },
   "outputs": [],
   "source": [
    "import phoenix as px\n",
    "from phoenix.otel import register\n",
    "\n",
    "# pip install -q openinference-instrumentation-openai\n",
    "from openinference.instrumentation.openai import OpenAIInstrumentor\n",
    "\n",
    "px.launch_app()\n",
    "\n",
    "tracer_provider = register(\n",
    "    project_name=\"my-llm-app\",  # Default is 'default'\n",
    "    endpoint=\"http://localhost:4317\",  # Sends traces using gRPC\n",
    ")\n",
    "\n",
    "OpenAIInstrumentor().instrument(tracer_provider=tracer_provider)"
   ]
  },
  {
   "metadata": {},
   "cell_type": "code",
   "outputs": [],
   "execution_count": null,
   "source": [
    "# Build system prompt\n",
    "with open(\"prompts/system_prompt.md\", \"r\") as file:\n",
    "    system_prompt = file.read()\n",
    "\n",
    "# load db1 information\n",
    "with open(f\"prompts/db{DB_NR}_structure.md\", \"r\") as file:\n",
    "    db_structure = file.read()\n",
    "\n",
    "system_prompt = system_prompt.replace(\"<<INSERT DATABASE INFORMATION>>\", db_structure)\n",
    "\n",
    "print(system_prompt[:200])"
   ],
   "id": "ee34945507e58d16"
  },
  {
   "metadata": {},
   "cell_type": "code",
   "outputs": [],
   "execution_count": null,
   "source": [
    "client = OpenAI()\n",
    "\n",
    "class Issue(BaseModel):\n",
    "    type: str\n",
    "    explanation: str\n",
    "    recommendation: str\n",
    "\n",
    "\n",
    "class SQLOutput(BaseModel):\n",
    "    chain_of_thought: str\n",
    "    issues: list[Issue]\n",
    "    sql_query: str\n",
    "\n",
    "    def __str__(self):\n",
    "        return (\n",
    "            f\"SQLOutput(\\n\"\n",
    "            f\"  chain_of_thought: \\\"{self.chain_of_thought}\\\",\\n\"\n",
    "            f\"  issues: {self.issues},\\n\"\n",
    "            f\"  sql_query: \\\"{self.sql_query}\\\"\\n\"\n",
    "            f\")\"\n",
    "        )\n",
    "\n",
    "\n",
    "def get_response(user_query: str):\n",
    "    completion = client.beta.chat.completions.parse(\n",
    "        model=\"gpt-4o-2024-08-06\",\n",
    "        # model=\"gpt-4o-mini\",\n",
    "        messages=[\n",
    "            {\"role\": \"system\", \"content\": system_prompt},\n",
    "            {\"role\": \"user\", \"content\": user_query},\n",
    "        ],\n",
    "        response_format=SQLOutput,\n",
    "        temperature=0\n",
    "    )\n",
    "    usage = completion.usage\n",
    "    response = completion.choices[0].message.parsed\n",
    "    if response and response.sql_query != \"NO_QUERY\":\n",
    "        try:\n",
    "            query_result = run_sql_query(response.sql_query)\n",
    "        except Exception as e:\n",
    "            print(e)\n",
    "            return response, \"ERROR\" + e, usage\n",
    "        return response, query_result, usage\n",
    "    return response, \"NO_QUERY\", usage"
   ],
   "id": "57dfda2c588e0c77"
  },
  {
   "metadata": {},
   "cell_type": "markdown",
   "source": "## Evaluation",
   "id": "adb7f74aa2a7db4f"
  },
  {
   "metadata": {},
   "cell_type": "code",
   "outputs": [],
   "execution_count": null,
   "source": [
    "import json\n",
    "\n",
    "with open(\"questions.json\", \"r\") as file:\n",
    "    questions = json.load(file)"
   ],
   "id": "1a61bfe246f76f16"
  },
  {
   "metadata": {},
   "cell_type": "code",
   "outputs": [],
   "execution_count": null,
   "source": "# Manual evaluation\n",
   "id": "392b5e8a2d67d15"
  },
  {
   "metadata": {},
   "cell_type": "code",
   "outputs": [],
   "execution_count": null,
   "source": "",
   "id": "e31f18945eb236f"
  }
 ],
 "metadata": {
  "kernelspec": {
   "display_name": "Python 3",
   "language": "python",
   "name": "python3"
  },
  "language_info": {
   "codemirror_mode": {
    "name": "ipython",
    "version": 2
   },
   "file_extension": ".py",
   "mimetype": "text/x-python",
   "name": "python",
   "nbconvert_exporter": "python",
   "pygments_lexer": "ipython2",
   "version": "2.7.6"
  }
 },
 "nbformat": 4,
 "nbformat_minor": 5
}
