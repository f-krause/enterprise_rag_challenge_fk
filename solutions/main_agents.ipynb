{
 "cells": [
  {
   "metadata": {},
   "cell_type": "markdown",
   "source": "## Multi-agent approach",
   "id": "c730399d676eff5c"
  },
  {
   "cell_type": "code",
   "id": "initial_id",
   "metadata": {
    "collapsed": true,
    "ExecuteTime": {
     "end_time": "2025-03-05T10:11:51.122508Z",
     "start_time": "2025-03-05T10:11:51.044839Z"
    }
   },
   "source": [
    "import os\n",
    "import re\n",
    "import time\n",
    "import json\n",
    "from dotenv import load_dotenv\n",
    "from pydantic import BaseModel\n",
    "from typing import List, Optional, Literal, Union, Any, Tuple\n",
    "\n",
    "from utils import *\n",
    "\n",
    "load_dotenv()\n",
    "# Place a .env file in the root directory with \"OPENAI_API_KEY\" set"
   ],
   "outputs": [
    {
     "data": {
      "text/plain": [
       "True"
      ]
     },
     "execution_count": 5,
     "metadata": {},
     "output_type": "execute_result"
    }
   ],
   "execution_count": 5
  },
  {
   "metadata": {
    "ExecuteTime": {
     "end_time": "2025-03-05T10:11:51.480640Z",
     "start_time": "2025-03-05T10:11:51.459088Z"
    }
   },
   "cell_type": "code",
   "source": [
    "# APPROACH = \"gemini\"\n",
    "# APPROACH = \"openai\"\n",
    "APPROACH = \"ibm\""
   ],
   "id": "114efa78342798fb",
   "outputs": [],
   "execution_count": 6
  },
  {
   "metadata": {
    "ExecuteTime": {
     "end_time": "2025-03-05T10:11:51.558487Z",
     "start_time": "2025-03-05T10:11:51.546800Z"
    }
   },
   "cell_type": "code",
   "source": [
    "# if APPROACH == \"gemini\":\n",
    "from google import genai\n",
    "\n",
    "# elif APPROACH == \"openai\":\n",
    "from openai import OpenAI\n",
    "\n",
    "# elif APPROACH == \"ibm\":\n",
    "#     pass\n",
    "import requests\n",
    "text_generation_url = \"https://rag.timetoact.at/ibm/text_generation\"\n",
    "text_generation_headers = {\n",
    "    \"Authorization\": f\"Bearer {os.getenv('IBM_API_KEY')}\",\n",
    "    \"Content-Type\": \"application/json\"\n",
    "}\n",
    "IBM_MODEL = \"ibm/granite-34b-code-instruct\"\n",
    "# \"ibm/granite-34b-code-instruct\", \"ibm/granite-13b-instruct-v2\",  # with \"structured outputs\""
   ],
   "id": "e56084bf29396bfd",
   "outputs": [],
   "execution_count": 7
  },
  {
   "metadata": {
    "ExecuteTime": {
     "end_time": "2025-03-05T10:11:51.619883Z",
     "start_time": "2025-03-05T10:11:51.603115Z"
    }
   },
   "cell_type": "code",
   "source": "companies_dict = get_companies_dict(r\"../data/round2/subset.json\")",
   "id": "3a7cae28aec89e36",
   "outputs": [],
   "execution_count": 8
  },
  {
   "metadata": {},
   "cell_type": "markdown",
   "source": "## Company expert",
   "id": "39529574e909f84b"
  },
  {
   "metadata": {},
   "cell_type": "markdown",
   "source": "### Gemini",
   "id": "9f048294f60b515d"
  },
  {
   "metadata": {
    "ExecuteTime": {
     "end_time": "2025-03-04T21:33:47.781316Z",
     "start_time": "2025-03-04T21:33:47.770315Z"
    }
   },
   "cell_type": "code",
   "source": [
    "def get_document(company, client, verbose=True):\n",
    "\n",
    "    uploaded_docs = list(client.files.list())\n",
    "    files_set = {file.display_name: file for file in uploaded_docs}\n",
    "    if f\"{company}_annual_report\" in files_set:\n",
    "        if verbose:\n",
    "            print(f\"Found {company}_annual_report\")\n",
    "        return files_set[f\"{company}_annual_report\"]\n",
    "    else:\n",
    "        if verbose:\n",
    "            print(f\"Uploading {company} annual report...\")\n",
    "        document_path = f\"../data/round2/pdfs/{company}.pdf\"\n",
    "        return client.files.upload(file=document_path, config={'display_name': f'{company}_annual_report'})"
   ],
   "id": "603f0ad8ccc27677",
   "outputs": [],
   "execution_count": 245
  },
  {
   "metadata": {
    "ExecuteTime": {
     "end_time": "2025-03-04T19:35:36.167640Z",
     "start_time": "2025-03-04T19:35:36.154546Z"
    }
   },
   "cell_type": "code",
   "source": [
    "system_prompt_expert = \"\"\"\n",
    "You are a smart chatbot designed to answer questions about company annual reports using data exclusively from the provided PDF. Your task is to accurately extract and report information regarding financial metrics, mergers, executive compensation, leadership changes, layoffs, product launches, and other report metadata. Follow these strict guidelines:\n",
    "\n",
    "1. **Answer Schema (based on the provided kind):**\n",
    "   - **number (integers):** Provide only the numeric value without commas, spaces, or additional text. For values expressed in thousands or millions, convert them to the full number (e.g., if given as 88.1 million, answer with \"88100000\"; if given as 1k, answer with \"1000\").\n",
    "   - **number (floats):** Provide the answer as a decimal (e.g., 0.5).\n",
    "   - **name(s):** Provide the exact name(s) as shown in the document (e.g., \"Max Mustermann\", \"Catalist Inc.\").\n",
    "   - **boolean:** Provide either \"yes\" or \"no\".\n",
    "   - **insufficient data:** If the information is not available, respond with \"N/A\".\n",
    "\n",
    "2. **Chain-of-Thought and Answer Structure:**\n",
    "   - Each response must include a brief internal chain_of_thought explanation detailing the reasoning process or why no answer could be derived.\n",
    "   - The final answer must be presented in the following JSON structure:\n",
    "     ```json\n",
    "     {\n",
    "       \"chain_of_thought\": \"<brief explanation of reasoning>\",\n",
    "       \"answer\": <final answer strictly following the schema>,\n",
    "       \"references\": [<zero-based PDF page numbers>]\n",
    "     }\n",
    "     ```\n",
    "   - Use the chain_of_thought to document your reasoning and intermediary steps.\n",
    "   - When handling temporal data, if the report covers a full year or a different period than the query specifies, use the most relevant available data from the document provided.\n",
    "\n",
    "3. **Context and Data Usage:**\n",
    "   - Use only the information provided in the PDF document.\n",
    "   - Do not add or assume any external data.\n",
    "   - For financial values, assume that the reported totals are complete unless stated otherwise.\n",
    "   - For positions such as CEO or CFO, assume the question refers to the current holder of the role.\n",
    "   - For names (companies, positions, etc.), use the exact text as it appears in the PDF.\n",
    "   - Numbers in tables that appear within brackets \"()\" should be interpreted as negative values (e.g., output \"-245000\" for a value that is negative).\n",
    "\n",
    "4. **General Guidelines:**\n",
    "   - All responses must strictly conform to the answer schema.\n",
    "   - Include a concise internal explanation (chain_of_thought) along with the final answer.\n",
    "   - List the zero-based PDF page numbers that support your answer in the \"references\" field.\n",
    "   - Ensure your response is precise, accurate, and adheres to the required format.\n",
    "\"\"\"\n",
    "\n",
    "llm_gemini = genai.Client(api_key=os.getenv(\"GEMINI_API_KEY\"))\n",
    "\n",
    "class CompanyAnswerGemini(BaseModel):\n",
    "    chain_of_thought: str\n",
    "    answer: List[str] = Field(..., description=\"Answer to the question, according to the question schema\")\n",
    "    references: List[str] = Field(..., description=\"Zero-based physical PDF page supporting the answer\")\n",
    "\n",
    "\n",
    "def ask_company_expert_gemini(company_query, company_name, system_prompt_expert, verbose=True):\n",
    "        document = get_document(sha1, llm_gemini, verbose)\n",
    "\n",
    "        query = system_prompt_expert + \"QUERY: \" + company_query\n",
    "\n",
    "        completion = llm_gemini.models.generate_content(model=\"gemini-2.0-flash\", contents=[query, document], config={'response_mime_type': 'application/json', 'response_schema': CompanyAnswerGemini, \"temperature\": 0.0})\n",
    "\n",
    "        if verbose:\n",
    "            print(completion.parsed)\n",
    "\n",
    "        return completion.parsed, companies_dict[company_name][\"sha1\"], None"
   ],
   "id": "68bd83f8c85d4657",
   "outputs": [],
   "execution_count": 144
  },
  {
   "metadata": {
    "ExecuteTime": {
     "end_time": "2025-03-04T18:41:31.560294Z",
     "start_time": "2025-03-04T18:41:12.700983Z"
    }
   },
   "cell_type": "code",
   "source": "response, _, _  = ask_company_expert_gemini(str({'text': \"For HCA Healthcare, Inc., what was the value of Number of healthcare professionals on staff at the end of the period listed in annual report? If data is not available, return 'N/A'.\", 'kind': 'number'}), \"HCA Healthcare, Inc.\", system_prompt_expert)",
   "id": "81067aa26610eb98",
   "outputs": [
    {
     "name": "stdout",
     "output_type": "stream",
     "text": [
      "Found a69ebee82a9acd54117407ca3697db0d7bfbfdac_annual_report\n",
      "chain_of_thought='The annual report mentions that HCA Healthcare has 45,000 physicians on the medical staff, but it does not provide the number of healthcare professionals on staff. Therefore, the answer is N/A.' answer=['N/A']\n"
     ]
    }
   ],
   "execution_count": 73
  },
  {
   "metadata": {},
   "cell_type": "markdown",
   "source": "### openAI + qdrant",
   "id": "8a07ac5065693f3c"
  },
  {
   "metadata": {
    "ExecuteTime": {
     "end_time": "2025-03-05T10:20:16.923280Z",
     "start_time": "2025-03-05T10:20:15.388928Z"
    }
   },
   "cell_type": "code",
   "source": [
    "# https://qdrant.tech/documentation/beginner-tutorials/search-beginners/\n",
    "from qdrant_client import models, QdrantClient\n",
    "\n",
    "# set up: docker pull qdrant/qdrant\n",
    "# docker run -p 6333:6333 -p 6334:6334 -v \"$(pwd)/data/qdrant_storage:/qdrant/storage:z\" qdrant/qdrant\n",
    "db_client = QdrantClient(url=\"http://localhost:6333\")\n",
    "\n",
    "collection_name = \"rag_test_db\"  # TODO\n",
    "embedding_model = \"text-embedding-3-small\"\n",
    "llm_openai = OpenAI()\n",
    "\n",
    "def retriever(query, company_name, k=5):\n",
    "    # query_embedding = embedding_model.encode(query).tolist()\n",
    "    query_embedding = llm_openai.embeddings.create(input=query, model=embedding_model).data[0].embedding\n",
    "    hits = db_client.query_points(\n",
    "        collection_name=collection_name,\n",
    "        query=query_embedding,\n",
    "        # https://qdrant.tech/documentation/concepts/filtering/\n",
    "        query_filter=models.Filter(must=[models.FieldCondition(key=\"company\", match=models.MatchValue(value=company_name))]),\n",
    "        limit=k  # number of top results\n",
    "    ).points\n",
    "\n",
    "    return hits"
   ],
   "id": "4ec580edb2960806",
   "outputs": [],
   "execution_count": 30
  },
  {
   "metadata": {
    "ExecuteTime": {
     "end_time": "2025-03-05T10:20:16.968833Z",
     "start_time": "2025-03-05T10:20:16.941223Z"
    }
   },
   "cell_type": "code",
   "source": [
    "# Works, but slow - use in postprocessing (if LLM found answer, i.e. not na then retrieve pages for context used)\n",
    "import fitz  # PyMuPDF\n",
    "from thefuzz import fuzz  # fuzzy matching library\n",
    "\n",
    "def find_references_in_pdf(chunk_ids, sha1, threshold=50, verbose=True):\n",
    "    doc = fitz.open(f\"../data/round2/pdfs/{sha1}.pdf\")\n",
    "\n",
    "    pages_text = [doc[page_num].get_text() for page_num in range(len(doc))]\n",
    "\n",
    "    chunks = db_client.retrieve(collection_name, chunk_ids)\n",
    "    chunks = [chunk.payload[\"content\"] for chunk in chunks]\n",
    "    chunks = [chunk.replace(\"|\", \" \").replace(\"-\", \" \").replace(\"  \", \" \") for chunk in chunks]\n",
    "\n",
    "    page_nrs = []\n",
    "    for i, chunk in enumerate(chunks):\n",
    "\n",
    "        best_page = None\n",
    "        best_score = 0\n",
    "\n",
    "        for j, page_text in enumerate(pages_text):\n",
    "            score = fuzz.partial_ratio(chunk, page_text)\n",
    "            if score > best_score:\n",
    "                best_score = score\n",
    "                best_page = j + 1  # pages are 1-indexed\n",
    "\n",
    "                # If a nearly perfect match is found, exit the loop early\n",
    "                if best_score > 98:\n",
    "                    break\n",
    "\n",
    "        if verbose:\n",
    "            if best_score > threshold:\n",
    "                print(f\"Chunk {chunk_ids[i]} found on page {best_page} with score {best_score}\")\n",
    "            else:\n",
    "                print(f\"WARNING: Chunk {chunk_ids[i]} identified with low score: {best_score}\")\n",
    "\n",
    "        page_nrs.append(best_page)\n",
    "\n",
    "    return page_nrs"
   ],
   "id": "110a899524084985",
   "outputs": [],
   "execution_count": 31
  },
  {
   "metadata": {
    "ExecuteTime": {
     "end_time": "2025-03-05T10:23:30.327807Z",
     "start_time": "2025-03-05T10:23:30.302809Z"
    }
   },
   "cell_type": "code",
   "source": [
    "system_prompt_expert = \"\"\"\n",
    "## SYSTEM PROMPT\n",
    "\n",
    "You are a chatbot designed to answer questions about company annual reports. The information may appear in markdown\n",
    "tables or as plain text. Your responses must be strictly based on the provided context and adhere to the following guidelines:\n",
    "\n",
    "1. **Answer Value Schema (given by \"kind\"):**\n",
    "    - For Integer Numeric Answers: Provide only the numeric value without commas, spaces, or additional text. For values given in thousands or millions, write the full number (e.g., if stated in millions, the answer for 88.1 would be \"88100000\" or for 1k answer \"1000\").\n",
    "    - For Float Numeric Answers (e.g. ratios): answer with a decimal (e.g., 0.5).\n",
    "    - For Name-Based Answers: Provide only the exact name as it appears in the data. No additional text, formatting, or variations (e.g. \"Max Mustermann\").\n",
    "    - For Boolean Answers: Provide only \"yes\" or \"no\".\n",
    "    - For Insufficient Data: If the information is not available, respond with \"N/A\".\n",
    "\n",
    "2. **Context Adherence:**\n",
    "   - Only use the information provided in the CONTEXT. Do not assume or add external data.\n",
    "   - The context contains retrieved chunks of company annual reports with some similarity score to the user query. Use this information to answer the questions.\n",
    "   - The chunk_id of the retrieved chunks is sequential, i.e. in order of the appearance in the PDF.\n",
    "   - If you found supporting evidence to a user query, provide the chunk_id(s) of the chunk(s) from the context that support your answer in `references`.\n",
    "   - Ensure your final answer strictly follows the designated schema.\n",
    "\n",
    "3. **Domain Assumptions:**\n",
    "  - For financial values, assume totals unless otherwise specified.\n",
    "  - For roles like CEO or CFO, assume the question refers to the current position.\n",
    "  - For company names, use the exact name as it appears in the data.\n",
    "\n",
    "4. **Table Analysis and Correction:**\n",
    "   - When analyzing markdown tables (or other data structures), be alert to any conversion or formatting issues. Common issues include:\n",
    "     - Inconsistent use of thousand separators (commas, spaces, etc.).\n",
    "     - Numbers split across multiple rows or columns.\n",
    "     - Data misalignment or merging of columns.\n",
    "   - Use contextual clues (such as column headers, totals, or adjacent entries) to determine if an entry might be affected by a table parsing error.\n",
    "   - **Only output a corrected numerical value if you are sufficiently confident that a formatting flaw has occurred and you can deduce the correct value.**\n",
    "   - If you are not fully confident that the anomaly is due to a parsing error, or if the correct value remains ambiguous, output \"N/A\" and include a brief note (internally) that the data is ambiguous.\n",
    "\n",
    "5. **General Answer Guidelines:**\n",
    "   - Include a short explanation of your reasoning in the chain of thought.\n",
    "   - Your final answer should be in one of the prescribed formats (number, boolean, concise string, or \"N/A\").\n",
    "   - If the question asks for a correction due to a suspected table parsing error, provide the corrected number only if the evidence is compelling; otherwise, output \"N/A\". Provide your thoughts in the chain of thought\n",
    "   - If you give an answer, provide the chunk_id(s) of the chunk(s) from the context that support your answer.\n",
    "\n",
    "6. **Example Response Structure:**\n",
    "   - *If confident:*\n",
    "     **Final Answer:** `5839`\n",
    "     (Explanation: The table appeared to split the building cost for Oklahoma City - 12/20/21 over two rows; based on the CONTEXT, the correct value is deduced as 5839.)\n",
    "\n",
    "   - *If uncertain:*\n",
    "     **Final Answer:** `N/A`\n",
    "     (Explanation: Insufficient clarity in the table data due to formatting issues.)\n",
    "\n",
    "\n",
    "## CONTEXT:\n",
    "<<CONTEXT>>\n",
    "\"\"\"\n",
    "\n",
    "class CompanyAnswerOpenAI(BaseModel):\n",
    "    chain_of_thought: str\n",
    "    answer: List[str] = Field(..., description=\"Answer to the question, according to the question schema\")\n",
    "    references: List[int] = Field(..., description=\"IDs of the chunks where evidence for the answer was found\")\n",
    "\n",
    "\n",
    "def ask_company_expert_openai(user_query: str, company_name: str, system_prompt: str, nr_rag_retrieval=5, verbose=True):\n",
    "    hits = retriever(user_query, company_name, k=nr_rag_retrieval)\n",
    "    if not hits:\n",
    "        if verbose:\n",
    "            print(\"###\\nWARNING: No hits found\\n###\")\n",
    "\n",
    "        hits_str = \"WARNING: NO RAG HITS FOUND - MAYBE DATA MISSING OR RETRIEVAL ISSUE - MENTION IN CHAIN OF THOUGHT!\"\n",
    "\n",
    "    else:\n",
    "        hits_str = \"\".join([f\"chunk id: {response.id}, score: {response.score}, content: {response.payload}\\n\\n\" for response in hits])\n",
    "\n",
    "    system_prompt_full = system_prompt.replace(\"<<CONTEXT>>\", hits_str)\n",
    "\n",
    "    completion = llm_openai.beta.chat.completions.parse(\n",
    "        model=\"gpt-4o-2024-08-06\",  # \"gpt-4o-mini\",\n",
    "        messages=[\n",
    "            {\"role\": \"system\", \"content\": system_prompt_full},\n",
    "            {\"role\": \"user\", \"content\": user_query},\n",
    "        ],\n",
    "        response_format=CompanyAnswerOpenAI,\n",
    "        temperature=0\n",
    "    )\n",
    "\n",
    "    usage = completion.usage\n",
    "    completion = completion.choices[0].message.parsed\n",
    "    sha1 = companies_dict[company_name][\"sha1\"]\n",
    "\n",
    "    completion.references = find_references_in_pdf(completion.references, sha1)  # swap chunkids with pdf pages\n",
    "\n",
    "    return completion, sha1, usage"
   ],
   "id": "f54b847905753c7",
   "outputs": [],
   "execution_count": 38
  },
  {
   "metadata": {
    "ExecuteTime": {
     "end_time": "2025-03-05T10:22:27.708490Z",
     "start_time": "2025-03-05T10:22:21.437669Z"
    }
   },
   "cell_type": "code",
   "source": [
    "response, _, _ = ask_company_expert_openai(\"For Ziff Davis, Inc., what was the value of Cloud storage capacity (TB) at the end of the period listed in annual report? If data is not available, return 'N/A'.\", \"Ziff Davis, Inc.\", system_prompt_expert)\n",
    "response"
   ],
   "id": "d2dfc4f4f006d1e8",
   "outputs": [
    {
     "data": {
      "text/plain": [
       "CompanyAnswerOpenAI(chain_of_thought=\"The context provided does not contain any specific information about the cloud storage capacity in terabytes (TB) for Ziff Davis, Inc. The available data focuses on the company's structure, business operations, and financial transactions related to the spin-off of its cloud fax business, but does not mention cloud storage capacity. Therefore, based on the given context, the information is not available.\", answer=['N/A'], references=[])"
      ]
     },
     "execution_count": 37,
     "metadata": {},
     "output_type": "execute_result"
    }
   ],
   "execution_count": 37
  },
  {
   "metadata": {},
   "cell_type": "markdown",
   "source": "### IBM Watsonx",
   "id": "3f3a2e5d6d5b602b"
  },
  {
   "metadata": {
    "ExecuteTime": {
     "end_time": "2025-03-05T10:20:00.911354Z",
     "start_time": "2025-03-05T10:19:59.407376Z"
    }
   },
   "cell_type": "code",
   "source": [
    "# https://qdrant.tech/documentation/beginner-tutorials/search-beginners/\n",
    "from qdrant_client import models, QdrantClient\n",
    "\n",
    "# set up: docker pull qdrant/qdrant\n",
    "# docker run -p 6333:6333 -p 6334:6334 -v \"$(pwd)/data/qdrant_storage:/qdrant/storage:z\" qdrant/qdrant\n",
    "db_client = QdrantClient(url=\"http://localhost:6333\")\n",
    "\n",
    "collection_name = \"rag_test_db\"  # TODO\n",
    "embedding_model = \"text-embedding-3-small\"\n",
    "llm_openai = OpenAI()\n",
    "\n",
    "\n",
    "def retriever_ibm(query, company_name, k=5):\n",
    "    # TODO update with IBM embeddings\n",
    "    query_embedding = llm_openai.embeddings.create(input=query, model=embedding_model).data[0].embedding\n",
    "\n",
    "    hits = db_client.query_points(\n",
    "        collection_name=collection_name,\n",
    "        query=query_embedding,\n",
    "        # https://qdrant.tech/documentation/concepts/filtering/\n",
    "        query_filter=models.Filter(must=[models.FieldCondition(key=\"company\", match=models.MatchValue(value=company_name))]),\n",
    "        limit=k  # number of top results\n",
    "    ).points\n",
    "\n",
    "    return hits"
   ],
   "id": "9d673f9899d32787",
   "outputs": [],
   "execution_count": 27
  },
  {
   "metadata": {},
   "cell_type": "code",
   "outputs": [],
   "execution_count": null,
   "source": "# define find references above",
   "id": "8759b08c43fd5f36"
  },
  {
   "metadata": {
    "ExecuteTime": {
     "end_time": "2025-03-05T11:24:43.474477Z",
     "start_time": "2025-03-05T11:24:43.447357Z"
    }
   },
   "cell_type": "code",
   "source": [
    "system_prompt_expert = \"\"\"\n",
    "## SYSTEM PROMPT\n",
    "\n",
    "You are a chatbot designed to answer questions about company annual reports. The information may appear in markdown tables or as plain text. Your responses must be strictly based on the provided context and adhere to the following guidelines:\n",
    "\n",
    "1. **Answer Value Schema (given by \"kind\"):**\n",
    "    - For Integer Numeric Answers: Provide only the numeric value without commas, spaces, or additional text. For values given in thousands or millions, write the full number (e.g., if stated in millions, the answer for 88.1 would be \"88100000\" or for 1k answer \"1000\").\n",
    "    - For Float Numeric Answers (e.g. ratios): answer with a decimal (e.g., 0.5).\n",
    "    - For Name-Based Answers: Provide only the exact name as it appears in the data. No additional text, formatting, or variations (e.g. \"Max Mustermann\").\n",
    "    - For Boolean Answers: Provide only \"yes\" or \"no\".\n",
    "    - For Insufficient Data: If the information is not available, respond with \"N/A\".\n",
    "\n",
    "2. **Context Adherence:**\n",
    "   - Only use the information provided in the CONTEXT. Do not assume or add external data.\n",
    "   - The context contains retrieved chunks of company annual reports with some similarity score to the user query. Use this information to answer the questions.\n",
    "   - The chunk_id of the retrieved chunks is sequential, i.e. in order of the appearance in the PDF.\n",
    "   - If you found supporting evidence to a user query, provide the chunk_id(s) of the chunk(s) from the context that support your answer in `references`.\n",
    "   - Ensure your final answer strictly follows the designated schema.\n",
    "\n",
    "3. **Domain Assumptions:**\n",
    "  - For financial values, assume totals unless otherwise specified.\n",
    "  - For roles like CEO or CFO, assume the question refers to the current position.\n",
    "  - For company names, use the exact name as it appears in the data.\n",
    "\n",
    "4. **Table Analysis and Correction:**\n",
    "   - When analyzing markdown tables (or other data structures), be alert to any conversion or formatting issues. Common issues include:\n",
    "     - Inconsistent use of thousand separators (commas, spaces, etc.).\n",
    "     - Numbers split across multiple rows or columns.\n",
    "     - Data misalignment or merging of columns.\n",
    "   - Use contextual clues (such as column headers, totals, or adjacent entries) to determine if an entry might be affected by a table parsing error.\n",
    "   - **Only output a corrected numerical value if you are sufficiently confident that a formatting flaw has occurred and you can deduce the correct value.**\n",
    "   - If you are not fully confident that the anomaly is due to a parsing error, or if the correct value remains ambiguous, output \"N/A\" and include a brief note (internally) that the data is ambiguous.\n",
    "\n",
    "5. **General Answer Guidelines:**\n",
    "   - Include a short explanation of your reasoning in the chain of thought.\n",
    "   - Your final answer should be in one of the prescribed formats (number, boolean, concise string, or \"N/A\").\n",
    "   - If the question asks for a correction due to a suspected table parsing error, provide the corrected number only if the evidence is compelling; otherwise, output \"N/A\". Provide your thoughts in the chain of thought\n",
    "   - If you give an answer, provide the chunk_id(s) of the chunk(s) from the context that support your answer.\n",
    "\n",
    "6. **Answer Structure**\n",
    "    - Reply in the following python dict format:\n",
    "    ```python\n",
    "    {\n",
    "        \"chain_of_thought\": \"<brief explanation of reasoning>\",\n",
    "        \"answer\": <final answer strictly following the schema>,\n",
    "        \"references\": [<chunk_id of relevant chunk>]\n",
    "    }\n",
    "\n",
    "\n",
    "6. **Example Response Structure:**\n",
    "   - *If confident:*\n",
    "     ```python\n",
    "        {\n",
    "            \"chain_of_thought\": \"The table appeared to split the building cost for Oklahoma City - 12/20/21 over two rows; based on the CONTEXT, the correct value is deduced as 5839.\",\n",
    "            \"answer\": \"5839\",\n",
    "            \"references\": [1234]\n",
    "        }\n",
    "    ```\n",
    "\n",
    "   - *If uncertain:*\n",
    "    ```python\n",
    "        {\n",
    "            \"chain_of_thought\": \"No data to answer the user query could be found.\",\n",
    "            \"answer\": \"N/A\",\n",
    "            \"references\": []\n",
    "        }\n",
    "    ```\n",
    "\n",
    "ONLY RESPOND WITH THE OUTPUT JSON DESCRIBED ABOVE - NO OTHER TEXT.\n",
    "\n",
    "## CONTEXT:\n",
    "<<CONTEXT>>\n",
    "\"\"\"\n",
    "\n",
    "\n",
    "def ask_company_expert_ibm(user_query: str, company_name: str, system_prompt: str, nr_rag_retrieval=5, verbose=True):\n",
    "    sha1 = companies_dict[company_name][\"sha1\"]\n",
    "    # hits = retriever(user_query, company_name, k=nr_rag_retrieval)\n",
    "    hits = retriever_ibm(user_query, company_name, k=nr_rag_retrieval)\n",
    "    if not hits:\n",
    "        if verbose:\n",
    "            print(\"###\\nWARNING: No hits found\\n###\")\n",
    "\n",
    "        hits_str = \"WARNING: NO RAG HITS FOUND - MAYBE DATA MISSING OR RETRIEVAL ISSUE - MENTION IN CHAIN OF THOUGHT!\"\n",
    "\n",
    "    else:\n",
    "        hits_str = \"\".join([f\"chunk id: {response.id}, score: {response.score}, content: {response.payload}\\n\\n\" for response in hits])\n",
    "\n",
    "    system_prompt_full = system_prompt.replace(\"<<CONTEXT>>\", hits_str)\n",
    "\n",
    "    payload = {\n",
    "            \"input\": [{\"role\": \"system\", \"content\": system_prompt_full}, {\"role\": \"user\", \"content\": user_query}],\n",
    "            \"model_id\": \"ibm/granite-20b-code-instruct\",\n",
    "            # \"model_id\": \"ibm/granite-34b-code-instruct\",\n",
    "            \"parameters\": {\"temperature\": 0, \"max_new_tokens\": 1000, \"min_new_tokens\": 1}\n",
    "        }\n",
    "\n",
    "    completion = requests.post(text_generation_url, headers=text_generation_headers, json=payload)\n",
    "    data = completion.json()\n",
    "    completion = data[\"results\"][0][\"generated_text\"]\n",
    "\n",
    "    try:\n",
    "        pattern = re.compile(r'\\{.*?\\}', re.DOTALL)\n",
    "        match = pattern.search(completion)\n",
    "        data = json.loads(match.group(0))\n",
    "        pdf_pages = find_references_in_pdf(data[\"references\"], sha1)  # swap chunkids with pdf pages\n",
    "        data[\"references\"] = pdf_pages\n",
    "\n",
    "        return data, sha1, None\n",
    "    except:\n",
    "        return completion + \"\\nWARNING: references are chunk ids and not PDF pages. leave references empty in final output\", sha1, None"
   ],
   "id": "5f656fd99f775298",
   "outputs": [],
   "execution_count": 71
  },
  {
   "metadata": {
    "ExecuteTime": {
     "end_time": "2025-03-05T11:24:52.056841Z",
     "start_time": "2025-03-05T11:24:43.762308Z"
    }
   },
   "cell_type": "code",
   "source": [
    "response, _, _ = ask_company_expert_ibm(\"For Ziff Davis, Inc., what was the value of Cloud storage capacity (TB) at the end of the period listed in annual report? If data is not available, return 'N/A'.\", \"Ziff Davis, Inc.\", system_prompt_expert)\n",
    "response"
   ],
   "id": "3ae80e7b74b886aa",
   "outputs": [
    {
     "data": {
      "text/plain": [
       "{'chain_of_thought': \"The value of cloud storage capacity (TB) for Ziff Davis, Inc. at the end of the period listed in the annual report can be found in the 'Cloud Services' segment of the Consolidated Statements of Operations. According to the report, the Company had approximately 1.5 petabytes of cloud storage as of December 31, 2021, which is equivalent to approximately 1.47 petabytes of cloud storage as of December 31, 2020.\",\n",
       " 'answer': '1.47',\n",
       " 'references': []}"
      ]
     },
     "execution_count": 72,
     "metadata": {},
     "output_type": "execute_result"
    }
   ],
   "execution_count": 72
  },
  {
   "metadata": {},
   "cell_type": "markdown",
   "source": "## Delegation manager",
   "id": "b8a66ff7f887dd2f"
  },
  {
   "metadata": {
    "ExecuteTime": {
     "end_time": "2025-03-04T21:18:03.193261Z",
     "start_time": "2025-03-04T21:18:03.180738Z"
    }
   },
   "cell_type": "code",
   "source": [
    "# DELEGATION MANAGER\n",
    "\n",
    "system_prompt_delegation = f\"\"\"\n",
    "You will receive a query related to one or more companies. You have access to specialized agents capable of retrieving data for each specific company. To delegate tasks to these agents, follow these guidelines:\n",
    "\n",
    "Formulate Queries:\n",
    "    - For each company identified, create a precise query that the specialized agents can use to retrieve the required information.\n",
    "    - the list of queries should be in the order of the companies in the list IDENTIFIED_COMPANIES.\n",
    "    - List these queries under 'queries'.\n",
    "    - Add some information on where in annual company reports the specialized agents can usually find the information.\n",
    "    - If using abbreviations also mention the full phrase or name ((e.g., for 'R&D' also use 'research and development').\n",
    "    \n",
    "Chain of Thought:\n",
    "Provide a 'chain_of_thought' explaining how you identified the companies, formulated the queries, and any assumptions or steps taken to reach your final output. If you marked any queries as 'SKIP', explain why.\n",
    "\n",
    "IDENTIFIED_COMPANIES:\n",
    "<<IDENTIFIED_COMPANIES>>\n",
    "\"\"\"\n",
    "\n",
    "\n",
    "class DelegationRequest(BaseModel):\n",
    "    chain_of_thought: str\n",
    "    companies: List[str]\n",
    "    queries: list[str]\n",
    "\n",
    "\n",
    "def ask_delegation_manager(query, system_prompt_delegation, approach) -> Tuple[DelegationRequest, Any]:\n",
    "    print(\"### ASKING DELEGATION MANAGER: \")\n",
    "\n",
    "    identified_companies = []\n",
    "    for company in list(companies_dict.keys()):\n",
    "        # Build a regex pattern that ignores case\n",
    "        pattern = re.escape(company)\n",
    "        if re.search(pattern, query, re.IGNORECASE):\n",
    "            identified_companies.append(company)\n",
    "\n",
    "    system_prompt_delegation = system_prompt_delegation.replace(\"<<IDENTIFIED_COMPANIES>>\", \", \".join(identified_companies))\n",
    "\n",
    "    if approach.lower() == \"gemini\":\n",
    "        client = genai.Client(api_key=os.getenv(\"GEMINI_API_KEY\"))\n",
    "\n",
    "        completion = client.models.generate_content(model=\"gemini-2.0-flash\", contents=[system_prompt_delegation, query], config={'response_mime_type': 'application/json', 'response_schema': DelegationRequest})\n",
    "\n",
    "        return completion.parsed, None\n",
    "\n",
    "    elif approach.lower() == \"openai\":\n",
    "        client = OpenAI()\n",
    "        completion = client.beta.chat.completions.parse(\n",
    "            model=\"gpt-4o-2024-08-06\",\n",
    "            messages=[\n",
    "                {\"role\": \"system\", \"content\": system_prompt_delegation},\n",
    "                {\"role\": \"user\", \"content\": query},\n",
    "            ],\n",
    "            response_format=DelegationRequest,\n",
    "        )\n",
    "\n",
    "        return completion.choices[0].message.parsed, completion.usage\n",
    "\n",
    "    elif approach.lower() == \"ibm\":\n",
    "        # TODO UNTESTED\n",
    "        payload = {\n",
    "            \"input\": [{\"role\": \"system\", \"content\": system_prompt_delegation}, {\"role\": \"user\", \"content\": query}],\n",
    "            # \"model_id\": \"ibm/granite-34b-code-instruct\",\n",
    "            \"model_id\": \"ibm/granite-13b-instruct-v2\",  # with \"structured outputs\"\n",
    "            \"parameters\": {\"temperature\": 0, \"max_new_tokens\": 1000}\n",
    "        }\n",
    "        completion = requests.post(text_generation_url, headers=text_generation_headers, json=payload)\n",
    "        data = completion.json()\n",
    "\n",
    "        return data[\"results\"][0][\"generated_text\"], None\n",
    "        # for structured output check: https://github.com/dottxt-ai/outlines\n",
    "\n",
    "    else:\n",
    "        raise NotImplementedError(\"Approach not implemented\")"
   ],
   "id": "556851a9b2e0d530",
   "outputs": [],
   "execution_count": 226
  },
  {
   "metadata": {
    "ExecuteTime": {
     "end_time": "2025-03-04T20:58:45.004755Z",
     "start_time": "2025-03-04T20:58:43.345810Z"
    }
   },
   "cell_type": "code",
   "source": [
    " response, _ = ask_delegation_manager('Which of the companies had the lowest total revenue in EUR at the end of the period listed in annual report: \"Atreca, Inc.\", \"Poste Italiane\", \"Datalogic\", \"Duni Group\", \"Incyte Corporation\"? If data for the company is not available, exclude it from the comparison. If only one company is left, return this company.', system_prompt_delegation, \"ibm\")\n",
    "response"
   ],
   "id": "450954825ad2cc7b",
   "outputs": [
    {
     "name": "stdout",
     "output_type": "stream",
     "text": [
      "### ASKING DELEGATION MANAGER: \n"
     ]
    },
    {
     "data": {
      "text/plain": [
       "'I need the revenue of the companies in the list IDENTIFIED_COMPANIES for the period ending in the annual report \"Atreca, Inc.\", \"Poste Italiane\", \"Datalogic\", \"Duni Group\", \"Incyte Corporation\".'"
      ]
     },
     "execution_count": 193,
     "metadata": {},
     "output_type": "execute_result"
    }
   ],
   "execution_count": 193
  },
  {
   "metadata": {},
   "cell_type": "markdown",
   "source": "### Execution manager",
   "id": "9b32d8542b02d069"
  },
  {
   "metadata": {
    "ExecuteTime": {
     "end_time": "2025-03-04T21:18:08.377706Z",
     "start_time": "2025-03-04T21:18:08.364321Z"
    }
   },
   "cell_type": "code",
   "source": [
    "system_prompt_execution = f\"\"\"\n",
    "You are an intelligent assistant tasked with synthesizing a final answer to the USER_QUERY using specific company data provided in the CONTEXT. The CONTEXT includes information generated by expert systems along with their reasoning process.\n",
    "\n",
    "**Your Objectives**\n",
    "    - Final Answer Construction: Your primary task is to deliver a final, accurate response to the USER_QUERY based on the provided CONTEXT.\n",
    "    - Check if data is given for all companies asked about in the query. If not, do not give an answer.\n",
    "    - Handling Temporal Data: If the temporal scope of the data isn't an exact match (e.g., full-year data instead of Q4), use the best available data from the CONTEXT to formulate your answer.  It should still be of the same year though.\n",
    "    - Chain of Thought: Document your reasoning process in 'chain_of_thought', including intermediary steps and considerations that led to your final answer.\n",
    "    - Give a final answer to the user query based on the context\n",
    "    - Strict Adherence: The final answer must be compliant with the specific answer guidelines below. Accuracy, clarity, and adherence to these guidelines are critical.\n",
    "\n",
    "**Answer Value Schema (given by \"kind\")**\n",
    "    - For Integer Numeric Answers: Provide only the numeric value without commas, spaces, or additional text. For values given in thousands or millions, write the full number (e.g., if stated in millions, the answer for 88.1 would be \"88100000\" or for 1k answer \"1000\").\n",
    "    - For Float Numeric Answers (e.g. ratios): answer with a decimal (e.g., 0.5).\n",
    "    - For Name-Based Answers: Provide only the exact name as it appears in the data. No additional text, formatting, or variations (e.g. \"Max Mustermann\").\n",
    "    - For Boolean Answers: Provide only \"yes\" or \"no\".\n",
    "    - For Insufficient Data: If the information is not available, respond with \"N/A\".\n",
    "\n",
    "**Format**\n",
    "    - chain_of_thought: Your reasoning process, including intermediary steps\n",
    "    - answer: Your final answer following the guidelines. It should be of format: <OUTPUT_TYPE>, e.g., 'name', 'number' (including 0), 'boolean', etc.\n",
    "    - reference: List of references used to derive the answer, including:\n",
    "         - the sha1 hash of the document used for the answer,\n",
    "         - the zero-indexed page number(s) where the information was sourced, if an answer could be found.\n",
    "         - If there are multiple references supporting the answer, list all of them.\n",
    "         - If the answer is 'N/A', the reference should be empty, i.e. [].\n",
    "\n",
    "CONTEXT:\n",
    "<<CONTEXT>>\n",
    "\"\"\"\n",
    "\n",
    "\n",
    "def ask_execution_manager(query, context, approach):\n",
    "    system_prompt_execution_full = system_prompt_execution.replace(\"<<CONTEXT>>\", context)\n",
    "    \n",
    "    print(\"### ASKING EXECUTION MANAGER: \")\n",
    "    print(\"Context:\", context)\n",
    "    \n",
    "    if approach.lower() == \"gemini\":\n",
    "        class SourceReference(BaseModel):\n",
    "            pdf_sha1: str = Field(..., description=\"SHA1 hash of the PDF file\")\n",
    "            page_index: int = Field(..., description=\"Physical page number in the PDF file\")\n",
    "\n",
    "        class AnswerLLM(BaseModel):\n",
    "            chain_of_thought: str = Field(..., description=\"Chain of thought that led to the answer value\")\n",
    "            value: List[str] = Field(..., description=\"Answer to the question, according to the question schema\")\n",
    "            references: List[SourceReference] = Field(..., description=\"References to the source material in the PDF file\")\n",
    "\n",
    "        client = genai.Client(api_key=os.getenv(\"GEMINI_API_KEY\"))\n",
    "\n",
    "        completion = client.models.generate_content(model=\"gemini-2.0-flash\", contents=[system_prompt_execution_full, query], config={'response_mime_type': 'application/json', 'response_schema': AnswerLLM})\n",
    "\n",
    "        return completion.parsed, None\n",
    "\n",
    "    if approach.lower() == \"openai\":\n",
    "        class SourceReference(BaseModel):\n",
    "            pdf_sha1: str = Field(..., description=\"SHA1 hash of the PDF file\")\n",
    "            page_index: int = Field(..., description=\"Physical page number in the PDF file\")\n",
    "\n",
    "        class AnswerLLM(BaseModel):\n",
    "            chain_of_thought: str = Field(..., description=\"Chain of thought that led to the answer value\")\n",
    "            value: Union[float, str, bool, List[str], Literal[\"N/A\"]] = Field(..., description=\"Answer to the question, according to the question schema\")\n",
    "            references: List[SourceReference] = Field(..., description=\"References to the source material in the PDF file\")\n",
    "\n",
    "        client = OpenAI()\n",
    "        completion = client.beta.chat.completions.parse(\n",
    "            model=\"gpt-4o-2024-08-06\",\n",
    "            messages=[\n",
    "                {\"role\": \"system\", \"content\": system_prompt_execution_full},\n",
    "                {\"role\": \"user\", \"content\": query},\n",
    "            ],\n",
    "            response_format=AnswerLLM,\n",
    "        )\n",
    "\n",
    "        return completion.choices[0].message.parsed, completion.usage"
   ],
   "id": "ae5badfdd80719b5",
   "outputs": [],
   "execution_count": 227
  },
  {
   "metadata": {
    "ExecuteTime": {
     "end_time": "2025-03-04T19:07:37.073784Z",
     "start_time": "2025-03-04T19:07:33.194354Z"
    }
   },
   "cell_type": "code",
   "source": [
    "response, _ = ask_execution_manager(str({'text': \"For HCA Healthcare, Inc., what was the value of Number of healthcare professionals on staff at the end of the period listed in annual report? If data is not available, return 'N/A'.\", 'kind': 'number'}), \"test\", \"openai\")\n",
    "response"
   ],
   "id": "bcff9c2bd1bcde5b",
   "outputs": [
    {
     "name": "stdout",
     "output_type": "stream",
     "text": [
      "### ASKING EXECUTION MANAGER: \n",
      "Context: test\n"
     ]
    },
    {
     "data": {
      "text/plain": [
       "AnswerLLM(chain_of_thought=\"The user query asks for the number of healthcare professionals on staff at HCA Healthcare, Inc. according to their annual report. The CONTEXT provided should ideally include this specific data. I need to examine if the CONTEXT has this information for HCA Healthcare, Inc. If there is no data about the number of healthcare professionals on staff for this company in the annual report, I should return 'N/A'.\", value='N/A', references=[])"
      ]
     },
     "execution_count": 115,
     "metadata": {},
     "output_type": "execute_result"
    }
   ],
   "execution_count": 115
  },
  {
   "metadata": {
    "ExecuteTime": {
     "end_time": "2024-09-04T14:09:07.579891Z",
     "start_time": "2024-09-04T14:09:07.571910Z"
    }
   },
   "cell_type": "code",
   "source": [
    "# FIXME\n",
    "def get_total_token_usage(tokens_list):\n",
    "    summed_token_usage = {\"completion_tokens\": 0, \"prompt_tokens\": 0, \"total_tokens\": 0}\n",
    "    if type(tokens_list[0]) is dict:\n",
    "        for usage in tokens_list:\n",
    "            summed_token_usage[\"completion_tokens\"] += usage[\"completion_tokens\"]\n",
    "            summed_token_usage[\"prompt_tokens\"] += usage[\"prompt_tokens\"]\n",
    "            summed_token_usage[\"total_tokens\"] += usage[\"total_tokens\"]\n",
    "    else:\n",
    "        for usage in tokens_list:\n",
    "            summed_token_usage[\"completion_tokens\"] += usage.completion_tokens\n",
    "            summed_token_usage[\"prompt_tokens\"] += usage.prompt_tokens\n",
    "            summed_token_usage[\"total_tokens\"] += usage.total_tokens\n",
    "                \n",
    "    return summed_token_usage"
   ],
   "id": "30b72a4d427e6ea3",
   "outputs": [],
   "execution_count": 69
  },
  {
   "metadata": {
    "ExecuteTime": {
     "end_time": "2025-03-04T21:23:33.335119Z",
     "start_time": "2025-03-04T21:23:33.322254Z"
    }
   },
   "cell_type": "code",
   "source": [
    "# FINAL PIPELINE\n",
    "\n",
    "def ask_question(query: dict, approach: str, verbose=True):\n",
    "    print(\"## Query:\", query)\n",
    "    delegations, token_usage_delegations = ask_delegation_manager(query[\"text\"], system_prompt_delegation, approach)\n",
    "    print(\"Delegations: \\n\", delegations)\n",
    "    \n",
    "    expert_context = {}\n",
    "    # token_usage_expert = []\n",
    "    for company, company_query in zip(delegations.companies, delegations.queries):\n",
    "        if company.lower() == \"skip\" or company_query.lower() == \"skip\":\n",
    "            expert_context[company] = \"No data available\"\n",
    "        else:\n",
    "            if approach == \"gemini\":\n",
    "                response, sha1, token_usage_expert_tmp = ask_company_expert_gemini(company_query, company, system_prompt_expert)\n",
    "                expert_context[company] = {\"sha1\": sha1, \"response\": response}\n",
    "                # token_usage_expert.append(token_usage_expert_tmp)\n",
    "            elif approach == \"openai\":\n",
    "                response, sha1, token_usage_expert_tmp = ask_company_expert_openai(company_query, company, system_prompt_expert)\n",
    "                expert_context[company] = {\"sha1\": sha1, \"response\": response}\n",
    "                # token_usage_expert.append(token_usage_expert_tmp)\n",
    "            else:\n",
    "                raise NotImplementedError()\n",
    "    \n",
    "    final_answer, token_usage_execution = ask_execution_manager(str(query), str(expert_context), approach)\n",
    "    if verbose:\n",
    "        print(final_answer)\n",
    "    # tokens_used = [token_usage_delegations] + token_usage_expert + [token_usage_execution]\n",
    "    \n",
    "    # return final_answer, get_total_token_usage(tokens_used)\n",
    "    return final_answer, None"
   ],
   "id": "1c4c03aa88b9f80b",
   "outputs": [],
   "execution_count": 238
  },
  {
   "metadata": {
    "ExecuteTime": {
     "end_time": "2025-03-04T21:23:33.503901Z",
     "start_time": "2025-03-04T21:23:33.489542Z"
    }
   },
   "cell_type": "code",
   "source": [
    "test_query = {'text': \"For Ziff Davis, Inc., what was the value of Cloud storage capacity (TB) at the end of the period listed in annual report? If data is not available, return 'N/A'.\", 'kind': 'number'}\n",
    "# test_query = {'text': \"For HCA Healthcare, Inc., what was the value of Number of healthcare professionals on staff at the end of the period listed in annual report? If data is not available, return 'N/A'.\", 'kind': 'number'}"
   ],
   "id": "589907f30e5ec70c",
   "outputs": [],
   "execution_count": 239
  },
  {
   "metadata": {
    "ExecuteTime": {
     "end_time": "2025-03-04T21:23:57.792965Z",
     "start_time": "2025-03-04T21:23:33.885777Z"
    }
   },
   "cell_type": "code",
   "source": [
    "response, _ = ask_question(test_query, APPROACH)  # n/a\n",
    "response"
   ],
   "id": "c5c790aa6cfca5bd",
   "outputs": [
    {
     "name": "stdout",
     "output_type": "stream",
     "text": [
      "## Query: {'text': \"For Ziff Davis, Inc., what was the value of Cloud storage capacity (TB) at the end of the period listed in annual report? If data is not available, return 'N/A'.\", 'kind': 'number'}\n",
      "### ASKING DELEGATION MANAGER: \n",
      "Delegations: \n",
      " chain_of_thought=\"I received a request to find the value of Cloud storage capacity for Ziff Davis, Inc. at the end of the period listed in its annual report. \\n\\n1. **Identified Companies**: In the provided information, Ziff Davis, Inc. is the only company mentioned. \\n2. **Query Formulation**: For Ziff Davis, Inc., I need to extract information regarding Cloud storage capacity in terabytes (TB) from their annual report. Typically, such information might be available in sections that deal with operations, business overview, infrastructure, or technology capabilities. If no specific data on Cloud storage capacity is found, I need to instruct the agent to return 'N/A'.\\n3. **Assumptions**: It is assumed that the company provides this specific technical detail in their annual report, which might not always be the case. In cases where this specific information is not available, the agent has been advised to return 'N/A'.\" companies=['Ziff Davis, Inc.'] queries=[\"Retrieve the Cloud storage capacity (in TB) for Ziff Davis, Inc. at the end of the period as listed in their most recent annual report. If this information is not available, return 'N/A'. You can usually find such data in sections related to operations, business overview, infrastructure, or technology capabilities in the annual report.\"]\n",
      "\n",
      "## SYSTEM PROMPT\n",
      "\n",
      "You are a chatbot designed to answer questions about company annual reports. The information may appear in markdown\n",
      "tables or as plain text. Your responses must be strictly based on the provided context and adhere to the following guidelines:\n",
      "\n",
      "1. **Answer Value Schema (given by \"kind\"):**\n",
      "    - For Integer Numeric Answers: Provide only the numeric value without commas, spaces, or additional text. For values given in thousands or millions, write the full number (e.g., if stated in millions, the answer for 88.1 would be \"88100000\" or for 1k answer \"1000\").\n",
      "    - For Float Numeric Answers (e.g. ratios): answer with a decimal (e.g., 0.5).\n",
      "    - For Name-Based Answers: Provide only the exact name as it appears in the data. No additional text, formatting, or variations (e.g. \"Max Mustermann\").\n",
      "    - For Boolean Answers: Provide only \"yes\" or \"no\".\n",
      "    - For Insufficient Data: If the information is not available, respond with \"N/A\".\n",
      "\n",
      "2. **Context Adherence:**\n",
      "   - Only use the information provided in the CONTEXT. Do not assume or add external data.\n",
      "   - The context contains retrieved chunks of company annual reports with some similarity score to the user query. Use this information to answer the questions.\n",
      "   - The chunk_id of the retrieved chunks is sequential, i.e. in order of the appearance in the PDF.\n",
      "   - If you found supporting evidence to a user query, provide the chunk_id(s) of the chunk(s) from the context that support your answer in `references`.\n",
      "   - Ensure your final answer strictly follows the designated schema.\n",
      "\n",
      "3. **Domain Assumptions:**\n",
      "  - For financial values, assume totals unless otherwise specified.\n",
      "  - For roles like CEO or CFO, assume the question refers to the current position.\n",
      "  - For company names, use the exact name as it appears in the data.\n",
      "\n",
      "4. **Table Analysis and Correction:**\n",
      "   - When analyzing markdown tables (or other data structures), be alert to any conversion or formatting issues. Common issues include:\n",
      "     - Inconsistent use of thousand separators (commas, spaces, etc.).\n",
      "     - Numbers split across multiple rows or columns.\n",
      "     - Data misalignment or merging of columns.\n",
      "   - Use contextual clues (such as column headers, totals, or adjacent entries) to determine if an entry might be affected by a table parsing error.\n",
      "   - **Only output a corrected numerical value if you are sufficiently confident that a formatting flaw has occurred and you can deduce the correct value.**\n",
      "   - If you are not fully confident that the anomaly is due to a parsing error, or if the correct value remains ambiguous, output \"N/A\" and include a brief note (internally) that the data is ambiguous.\n",
      "\n",
      "5. **General Answer Guidelines:**\n",
      "   - Include a short explanation of your reasoning in the chain of thought.\n",
      "   - Your final answer should be in one of the prescribed formats (number, boolean, concise string, or \"N/A\").\n",
      "   - If the question asks for a correction due to a suspected table parsing error, provide the corrected number only if the evidence is compelling; otherwise, output \"N/A\". Provide your thoughts in the chain of thought\n",
      "   - If you give an answer, provide the chunk_id(s) of the chunk(s) from the context that support your answer.\n",
      "\n",
      "6. **Example Response Structure:**\n",
      "   - *If confident:*\n",
      "     **Final Answer:** `5839`\n",
      "     (Explanation: The table appeared to split the building cost for Oklahoma City - 12/20/21 over two rows; based on the CONTEXT, the correct value is deduced as 5839.)\n",
      "\n",
      "   - *If uncertain:*\n",
      "     **Final Answer:** `N/A`\n",
      "     (Explanation: Insufficient clarity in the table data due to formatting issues.)\n",
      "\n",
      "\n",
      "## CONTEXT:\n",
      "chunk id: 127, score: 0.6087033, content: {'title': 'Overview', 'level': 2, 'previous_titles': ['## Performance Graph', '## COMPARISON OF CUMULATIVE TOTAL RETURN', '## Item 6. [Reserved]', \"## Item 7. Management's Discussion and Analysis of Financial Condition and Results of Operations\"], 'next_titles': ['## Performance Metrics', '## Critical Accounting Policies and Estimates', '## Revenue Recognition', '## Digital Media'], 'company': 'Ziff Davis, Inc.', 'table': False, 'part_index': 1, 'total_parts': 2, 'content': \"Ziff Davis, Inc. was incorporated in 2014 as a Delaware corporation through the creation of a holding company structure. Ziff Davis, Inc., together with its subsidiaries ('Ziff Davis', 'the Company', 'our', 'us' or 'we'), is a vertically focused digital media and internet company whose portfolio includes brands in technology, shopping, gaming and entertainment, connectivity, health, cybersecurity, and martech. Our Digital Media business specializes in the technology, shopping, gaming and entertainment, and healthcare markets, offering content, tools and services to consumers and businesses. Our Cybersecurity and Martech business provides cloud-based subscription services to consumers and businesses including cybersecurity, privacy, and marketing technology.\\n\\nIn February 2021, we sold certain Voice assets in the United Kingdom and, in September 2021, we sold our B2B Backup business.\\n\\nOn October 7, 2021, we completed the separation of our cloud fax business (the 'Separation') into an independent publicly traded company, Consensus Cloud Solutions, Inc. ('Consensus'). In connection with the Separation, we changed our name to Ziff Davis, Inc. from J2 Global, Inc. (for certain events prior to October 7, 2021, the Company may be referred to as J2 Global). The Separation was achieved through the Company's distribution of 80.1% of the shares of Consensus common stock to holders of J2 Global common stock as of the close of business on October 1, 2021, the record date for the distribution. The J2 Global stockholders of record received one share of Consensus common stock for every three shares of J2 Global's common stock and we retained a 19.9% interest in Consensus following the Separation ('Investment in Consensus'). Before the Separation, we reported our results as Digital Media and Cloud Services. In connection with the Separation, we now refer to these segments as Digital Media and Cybersecurity and Martech.\\n\\nThe accounting requirements for reporting the Separation of Consensus as a discontinued operation were met when the Separation was completed on October 7, 2021. Accordingly, the accompanying consolidated financial statements for all periods presented reflect the results of the Consensus business as a discontinued operation. Ziff Davis did not retain a controlling interest in Consensus.\"}\n",
      "\n",
      "chunk id: 218, score: 0.59410286, content: {'title': '1.       The Company', 'level': 2, 'previous_titles': ['## ZIFF DAVIS, INC. AND SUBSIDIARIES', \"## CONSOLIDATED STATEMENTS OF STOCKHOLDERS' EQUITY\", '## ZIFF DAVIS, INC. AND SUBSIDIARIES', '## NOTES TO CONSOLIDATED FINANCIAL STATEMENTS'], 'next_titles': ['## 2.    Basis of Presentation and Summary of Significant Accounting Policies', '## Principles of Consolidation', '## Use of Estimates', '## Consensus, Inc. Spin-Off and Discontinued Operations'], 'company': 'Ziff Davis, Inc.', 'table': False, 'part_index': 1, 'total_parts': 1, 'content': \"Ziff Davis, Inc., together with its subsidiaries ('Ziff Davis', the 'Company', 'our', 'us', or 'we'), is a vertically focused digital media and internet company whose portfolio includes brands in technology, shopping, gaming and entertainment, connectivity, health, cybersecurity, and martech. The Company's Digital Media business specializes in the technology, shopping, gaming, and healthcare markets, offering content, tools and services to consumers and businesses. The Company's Cybersecurity and Martech business provides cloud-based subscription services to consumers and businesses including cybersecurity, privacy and marketing technology.\\n\\nOn October 7, 2021, in connection with the spin-off of its cloud fax business described further below, the Company changed its name from J2 Global, Inc. to Ziff Davis, Inc. (for certain events prior to October 7, 2021, the Company may be referred to as J2 Global).\"}\n",
      "\n",
      "chunk id: 7, score: 0.5837484, content: {'title': 'Overview', 'level': 2, 'previous_titles': ['## ZIFF DAVIS, INC.', '## DOCUMENTS INCORPORATED BY REFERENCE:', '## TABLE OF CONTENTS', '## Item 1.    Business'], 'next_titles': ['## Programmatic Mergers and Acquisitions', '## PART I', '## Digital Media', '## Technology'], 'company': 'Ziff Davis, Inc.', 'table': False, 'part_index': 2, 'total_parts': 2, 'content': \"Ziff Davis was incorporated in 2014 as a Delaware corporation through the creation of a holding company structure. Our Cybersecurity and Martech businesses are operated by our wholly owned subsidiary J2 Global Ventures, LLC. Prior to the spin-off of Consensus Cloud Solutions, Inc. ('Consensus'), our Cybersecurity and Martech businesses were operated by our former wholly owned subsidiary J2 Cloud Services, LLC, which was founded in 1995, and subsidiaries of J2 Cloud Services, LLC. On October 7, 2021 (the 'Distribution Date'), the Company completed the previously  announced separation  (the  'Separation')  of  its  cloud  fax  business  into  Consensus,  an  independent  publicly  traded  company,  and  the  Company  transferred  J2  Cloud  Services,  LLC  to Consensus who in turn transferred non-fax assets and liabilities back to Ziff Davis, such that Consensus was left with the cloud fax business. In connection with the Separation, we changed our name to Ziff Davis, Inc. from J2 Global, Inc. (for certain events prior to October 7, 2021, the Company may be referred to as J2 Global). The Separation was achieved through the Company's distribution of 80.1% of the shares of Consensus common stock to holders of Company common stock as of the close of business on October 1, 2021, the record date for the distribution.\"}\n",
      "\n",
      "chunk id: 498, score: 0.5779499, content: {'title': 'Ziff Davis, Inc.', 'level': 2, 'previous_titles': ['## CONFIDENTIAL', '## TRANSITION SERVICES AGREEMENT - AMENDMENT 2', '## R E C I T A L S:', '## List of Subsidiaries of'], 'next_titles': ['## CONSENT OF INDEPENDENT REGISTERED PUBLIC ACCOUNTING FIRM', '## CERTIFICATION OF PRINCIPAL EXECUTIVE OFFICER PURSUANT TO SECTION 302 OF THE SARBANES-OXLEY ACT OF 2002', '## CERTIFICATION OF PRINCIPAL FINANCIAL OFFICER PURSUANT TO SECTION 302 OF THE SARBANES-OXLEY ACT OF 2002', '## CERTIFICATION OF PRINCIPAL EXECUTIVE OFFICER AND PRINCIPAL FINANCIAL OFFICER PURSUANT TO 18 U.S.C. SECTION 1350, AS ADOPTED PURSUANT TO'], 'company': 'Ziff Davis, Inc.', 'table': False, 'part_index': 1, 'total_parts': 2, 'content': \"Ziff Davis, Inc.'s principal affiliates as of December 31, 2022, are listed below. All other affiliates, if considered in the aggregate as a single affiliate, would not constitute a significant subsidiary.\"}\n",
      "\n",
      "chunk id: 6, score: 0.5759626, content: {'title': 'Overview', 'level': 2, 'previous_titles': ['## ZIFF DAVIS, INC.', '## DOCUMENTS INCORPORATED BY REFERENCE:', '## TABLE OF CONTENTS', '## Item 1.    Business'], 'next_titles': ['## Programmatic Mergers and Acquisitions', '## PART I', '## Digital Media', '## Technology'], 'company': 'Ziff Davis, Inc.', 'table': False, 'part_index': 1, 'total_parts': 2, 'content': \"Ziff Davis, Inc., together with its subsidiaries ('Ziff Davis', the 'Company', 'our', 'us' or 'we'), is a vertically focused digital media and internet company whose portfolio includes leading brands  in  technology,  shopping,  gaming  and  entertainment,  connectivity,  health,  cybersecurity,  and  martech.  Our  Digital  Media  business  specializes  in  the  technology,  shopping,  gaming  and entertainment, connectivity, and healthcare markets, offering content, tools and services to consumers and businesses. Our Cybersecurity and Martech business provides cloud-based subscription services to consumers and businesses including cybersecurity, privacy and marketing technology.\\n\\nOur Digital Media business generates revenues from advertising and sponsorships, subscription and usage fees, performance marketing, and licensing fees. This business generates revenues from the sale of display and video advertising; customer clicks to online merchants, as well as, commissions on sales attributed to clicks to online merchants; business-to-business leads sold to information technology ('IT') vendors; the licensing of technology, data, and other intellectual property to clients; and the sale of subscription services to consumers and businesses. Our Cybersecurity and Martech businesses generate revenues primarily from customer subscription and usage fees. Our consolidated revenues are currently generated primarily from two basic business models, each with different financial profiles and variability. Our Digital Media business is driven primarily by advertising revenues, has relatively higher sales and marketing expenses, and has seasonal strength in the fourth quarter. Our Cybersecurity and Martech business is driven by subscription revenues, with relatively stable and predictable margins from quarter to quarter. We continue to pursue additional acquisitions, which may include companies operating under business models that differ from those we operate under today. Such acquisitions could impact our consolidated profit margins and the variability of our revenues.\"}\n",
      "\n",
      "\n",
      "\n",
      "### ASKING EXECUTION MANAGER: \n",
      "Context: {'Ziff Davis, Inc.': {'sha1': 'ecabab4934d4b80570c4bb3b8e35b7476694b3fb', 'response': CompanyAnswerOpenAI(chain_of_thought=\"The provided context does not contain specific information about the cloud storage capacity in terabytes for Ziff Davis, Inc. The sections available discuss the company's business structure, recent changes, and general business operations but do not provide detailed technical specifications or infrastructure capabilities such as cloud storage capacity.\", answer=['N/A'], references=[])}}\n",
      "chain_of_thought=\"The user query asks for the cloud storage capacity in terabytes for Ziff Davis, Inc., as per their annual report. Upon reviewing the provided CONTEXT, it is noted that there is no specific information about the cloud storage capacity in terabytes for Ziff Davis, Inc. The available information only covers the company's business structure and operations without detailing technical specifications such as cloud storage capacity. Since the requested information is not available in the CONTEXT, the answer is 'N/A'.\" value='N/A' references=[]\n"
     ]
    },
    {
     "data": {
      "text/plain": [
       "AnswerLLM(chain_of_thought=\"The user query asks for the cloud storage capacity in terabytes for Ziff Davis, Inc., as per their annual report. Upon reviewing the provided CONTEXT, it is noted that there is no specific information about the cloud storage capacity in terabytes for Ziff Davis, Inc. The available information only covers the company's business structure and operations without detailing technical specifications such as cloud storage capacity. Since the requested information is not available in the CONTEXT, the answer is 'N/A'.\", value='N/A', references=[])"
      ]
     },
     "execution_count": 240,
     "metadata": {},
     "output_type": "execute_result"
    }
   ],
   "execution_count": 240
  },
  {
   "metadata": {},
   "cell_type": "markdown",
   "source": "## Obtain final results",
   "id": "6eff4555c6c481a2"
  },
  {
   "metadata": {
    "ExecuteTime": {
     "end_time": "2025-03-04T19:41:32.646660Z",
     "start_time": "2025-03-04T19:41:32.618339Z"
    }
   },
   "cell_type": "code",
   "source": [
    "class SourceReference(BaseModel):\n",
    "    pdf_sha1: str = Field(..., description=\"SHA1 hash of the PDF file\")\n",
    "    page_index: int = Field(..., description=\"Physical page number in the PDF file\")\n",
    "\n",
    "class Answer(BaseModel):\n",
    "    question_text: str = Field(..., description=\"Text of the question\")\n",
    "    kind: Literal[\"number\", \"name\", \"boolean\", \"names\"] = Field(..., description=\"Kind of the question\")\n",
    "    value: Union[float, str, bool, List[str], Literal[\"N/A\"]] = Field(..., description=\"Answer to the question, according to the question schema\")\n",
    "    references: List[SourceReference] = Field([], description=\"References to the source material in the PDF file\")\n",
    "\n",
    "class AnswerSubmission(BaseModel):\n",
    "    team_email: str = Field(..., description=\"Email that your team used to register for the challenge\")\n",
    "    submission_name: str = Field(..., description=\"Unique name of the submission (e.g. experiment name)\")\n",
    "    answers: List[Answer] = Field(..., description=\"List of answers to the questions\")"
   ],
   "id": "3f0421495e893d93",
   "outputs": [],
   "execution_count": 153
  },
  {
   "metadata": {
    "ExecuteTime": {
     "end_time": "2025-03-04T19:53:05.261313Z",
     "start_time": "2025-03-04T19:51:43.349463Z"
    }
   },
   "cell_type": "code",
   "source": [
    "APPROACH = \"gemini\"\n",
    "\n",
    "with open(f\"../data/round2/questions.json\", \"r\") as file:\n",
    "    questions = json.load(file)\n",
    "\n",
    "# questions subset\n",
    "# questions = questions[2:5]  # FIXME\n",
    "# questions = [questions[i] for i in [2]]\n",
    "\n",
    "# Create submission based on answers list and store json\n",
    "answer_items = [None] * len(questions)\n",
    "failed_questions = []\n",
    "\n",
    "for i, question in enumerate(questions):\n",
    "    try:\n",
    "        print(\"\\n##############################\")\n",
    "        print(i, question)\n",
    "        answer, sha1 = ask_question(question, APPROACH)\n",
    "        print(sha1)\n",
    "\n",
    "\n",
    "        if answer.value[0] == \"N/A\":\n",
    "            value = \"N/A\"\n",
    "        if len(answer.value) == 1 and isinstance(answer.value, list):\n",
    "            value = answer.value[0]\n",
    "        else:\n",
    "            value = answer.value\n",
    "\n",
    "        answer_item = Answer(question_text=question[\"text\"], kind=question[\"kind\"], value=answer.value, references=[SourceReference(**ref_object.model_dump()) for ref_object in answer.references])\n",
    "        answer_items[i] = answer_item\n",
    "\n",
    "    except Exception as e:\n",
    "        print(\"#+#+#+#+#+#\")\n",
    "        print(f\"Failed to answer question {i}: {e}\")\n",
    "        print(\"#+#+#+#+#+#\")\n",
    "        failed_questions.append(i)\n",
    "        # answer_item = Answer(question_text=question[\"text\"], kind=question[\"kind\"], value=\"n/a\", references=[])\n",
    "        # answer_items[i] = answer_item\n",
    "\n",
    "    print(\"\\n\\n\\n\\n\")\n",
    "    time.sleep(20)\n",
    "\n",
    "if failed_questions:\n",
    "    print(f\"WARNING: Failed to answer questions: {failed_questions}\")"
   ],
   "id": "75501e03f3fca5f9",
   "outputs": [
    {
     "name": "stdout",
     "output_type": "stream",
     "text": [
      "\n",
      "##############################\n",
      "0 {'text': \"What is the total number of employees let go by Pintec Technology Holdings Limited according to the annual report? If data is not available, return 'N/A'.\", 'kind': 'number'}\n",
      "## Query: {'text': \"What is the total number of employees let go by Pintec Technology Holdings Limited according to the annual report? If data is not available, return 'N/A'.\", 'kind': 'number'}\n",
      "### ASKING DELEGATION MANAGER: \n",
      "Delegations: \n",
      " chain_of_thought=\"The user is asking a question about the number of employees let go by Pintec Technology Holdings Limited. I will formulate a query to extract this information from the company's annual reports. I will also provide information on where this can be found and common abbreviations.\\n\" companies=['Pintec Technology Holdings Limited'] queries=[\"Extract the total number of employees laid off (let go, reduction in force, redundancies) during the fiscal year from Pintec Technology Holdings Limited's annual report. Look for this information in sections discussing employee numbers, restructuring, or financial performance. Also search for the terms 'employee termination costs', 'severance', and 'workforce reduction'. Check the notes to the financial statements for related disclosures. The information may also be present in the Management Discussion and Analysis (MD&A).\"]\n",
      "Found 9e794a58e511f6a6a9a13b201d652deff9f9f69a_annual_report\n",
      "chain_of_thought=\"I am unable to find the number of employees laid off during the fiscal year in the provided document. The document is an annual report for Pintec Technology Holdings Limited, but it does not contain specific information about layoffs or workforce reductions. Therefore, I must respond with 'N/A'.\" answer=['N/A'] references=[]\n",
      "### ASKING EXECUTION MANAGER: \n",
      "Context: {'Pintec Technology Holdings Limited': {'sha1': '9e794a58e511f6a6a9a13b201d652deff9f9f69a', 'response': CompanyAnswer(chain_of_thought=\"I am unable to find the number of employees laid off during the fiscal year in the provided document. The document is an annual report for Pintec Technology Holdings Limited, but it does not contain specific information about layoffs or workforce reductions. Therefore, I must respond with 'N/A'.\", answer=['N/A'], references=[])}}\n",
      "chain_of_thought=\"The document provided does not contain information about the number of employees laid off at Pintec Technology Holdings Limited. Therefore, I must respond with 'N/A'.\" value=['N/A'] references=[]\n",
      "None\n",
      "##############################\n",
      "\n",
      "\n",
      "##############################\n",
      "1 {'text': \"Which leadership positions changed at Westwater Resources, Inc. in the reporting period? If data is not available, return 'N/A'. Give me the title of the position.\", 'kind': 'names'}\n",
      "## Query: {'text': \"Which leadership positions changed at Westwater Resources, Inc. in the reporting period? If data is not available, return 'N/A'. Give me the title of the position.\", 'kind': 'names'}\n",
      "### ASKING DELEGATION MANAGER: \n",
      "Delegations: \n",
      " chain_of_thought='The user is asking about leadership changes at Westwater Resources, Inc. I will formulate a query to identify any changes in leadership positions, focusing on the title of the position. I will also indicate where this information can typically be found in company reports.' companies=['Westwater Resources, Inc.'] queries=[\"Find any changes in leadership positions (e.g., CEO, CFO, CTO, COO, President, Vice President, board members) at Westwater Resources, Inc. during the reporting period. Extract the title of the position that changed. This information is typically found in the 'Management' section, 'Board of Directors' section, or 'Executive Compensation' section of annual reports (10-K) or proxy statements.\"]\n",
      "Found 92d9de8e4db96e0b95a484afcd1c54c6beb62c03_annual_report\n",
      "chain_of_thought=\"The document mentions several changes in leadership positions:\\n\\n1.  Frank Bakker was appointed as Westwater's Chief President and Chief Executive Officer on January 16, 2023.\\n2.  Steven M. Cates was hired as Westwater's Chief Accounting Officer and Controller on May 10, 2021, and subsequently promoted to Senior Vice President of Finance and Chief Financial Officer effective August 26, 2022, and then promoted to Senior Vice President of Finance and Chief Financial Officer on January 16, 2023.\\n3.  John W. Lawrence was elected as the Company's General Counsel and Corporate Secretary on February 26, 2022, and promoted to Chief Administrative Officer on January 16, 2023, while retaining his other roles.\" answer=['Chief President', 'Chief Executive Officer', 'Chief Accounting Officer', 'Controller', 'Senior Vice President of Finance', 'Chief Financial Officer', 'General Counsel', 'Corporate Secretary', 'Chief Administrative Officer'] references=['16', '16', '17']\n",
      "### ASKING EXECUTION MANAGER: \n",
      "Context: {'Westwater Resources, Inc.': {'sha1': '92d9de8e4db96e0b95a484afcd1c54c6beb62c03', 'response': CompanyAnswer(chain_of_thought=\"The document mentions several changes in leadership positions:\\n\\n1.  Frank Bakker was appointed as Westwater's Chief President and Chief Executive Officer on January 16, 2023.\\n2.  Steven M. Cates was hired as Westwater's Chief Accounting Officer and Controller on May 10, 2021, and subsequently promoted to Senior Vice President of Finance and Chief Financial Officer effective August 26, 2022, and then promoted to Senior Vice President of Finance and Chief Financial Officer on January 16, 2023.\\n3.  John W. Lawrence was elected as the Company's General Counsel and Corporate Secretary on February 26, 2022, and promoted to Chief Administrative Officer on January 16, 2023, while retaining his other roles.\", answer=['Chief President', 'Chief Executive Officer', 'Chief Accounting Officer', 'Controller', 'Senior Vice President of Finance', 'Chief Financial Officer', 'General Counsel', 'Corporate Secretary', 'Chief Administrative Officer'], references=['16', '16', '17'])}}\n",
      "chain_of_thought=\"The document mentions several changes in leadership positions at Westwater Resources, Inc. in the reporting period:\\n\\n1. Frank Bakker was appointed as Westwater's Chief President and Chief Executive Officer on January 16, 2023.\\n2. Steven M. Cates was hired as Westwater's Chief Accounting Officer and Controller on May 10, 2021, and subsequently promoted to Senior Vice President of Finance and Chief Financial Officer effective August 26, 2022, and then promoted to Senior Vice President of Finance and Chief Financial Officer on January 16, 2023.\\n3. John W. Lawrence was elected as the Company's General Counsel and Corporate Secretary on February 26, 2022, and promoted to Chief Administrative Officer on January 16, 2023, while retaining his other roles.\\nThese positions changed during the reporting period.\" value=['Chief President', 'Chief Executive Officer', 'Chief Accounting Officer', 'Controller', 'Senior Vice President of Finance', 'Chief Financial Officer', 'General Counsel', 'Corporate Secretary', 'Chief Administrative Officer'] references=[SourceReference(pdf_sha1='92d9de8e4db96e0b95a484afcd1c54c6beb62c03', page_index=16), SourceReference(pdf_sha1='92d9de8e4db96e0b95a484afcd1c54c6beb62c03', page_index=17)]\n",
      "None\n",
      "##############################\n",
      "\n",
      "\n",
      "##############################\n",
      "2 {'text': 'Did Brave Bison Group plc mention any mergers or acquisitions in the annual report? If there is no mention, return False.', 'kind': 'boolean'}\n",
      "## Query: {'text': 'Did Brave Bison Group plc mention any mergers or acquisitions in the annual report? If there is no mention, return False.', 'kind': 'boolean'}\n",
      "### ASKING DELEGATION MANAGER: \n",
      "Delegations: \n",
      " chain_of_thought='The user is asking a question about Brave Bison Group plc. Therefore, I need to formulate a query to identify if Brave Bison Group plc mentioned any mergers or acquisitions in the annual report. I also added information on where the specialized agents can usually find the information. I also added a description of the different ways the information could be presented in the reports, such as M&A, acquisitions, mergers, etc.' companies=['Brave Bison Group plc'] queries=['\"Mergers and Acquisitions\" OR \"Acquisition\" OR \"Merger\" OR \"M&A\" in the annual report of Brave Bison Group plc. This information is usually found in the \"Business Review\" section, the \"Financial Review\" section, or the \"Notes to the Financial Statements\" section.']\n",
      "Found ddd10e4612006205c4b1ba050a11648071e6e429_annual_report\n",
      "chain_of_thought='The document mentions the acquisition of Best Response Media (BRM) and the integration of BRM into Brave Bison Commerce. It also mentions the acquisition of Social Chain, which was completed in February 2023.' answer=['Best Response Media (BRM)', 'Social Chain'] references=['6', '7']\n",
      "### ASKING EXECUTION MANAGER: \n",
      "Context: {'Brave Bison Group plc': {'sha1': 'ddd10e4612006205c4b1ba050a11648071e6e429', 'response': CompanyAnswer(chain_of_thought='The document mentions the acquisition of Best Response Media (BRM) and the integration of BRM into Brave Bison Commerce. It also mentions the acquisition of Social Chain, which was completed in February 2023.', answer=['Best Response Media (BRM)', 'Social Chain'], references=['6', '7'])}}\n",
      "chain_of_thought='The document mentions the acquisition of Best Response Media (BRM) and the integration of BRM into Brave Bison Commerce. It also mentions the acquisition of Social Chain, which was completed in February 2023. Thus Brave Bison Group plc mentioned mergers and acquisitions in the annual report.' value=['yes'] references=[SourceReference(pdf_sha1='ddd10e4612006205c4b1ba050a11648071e6e429', page_index=6), SourceReference(pdf_sha1='ddd10e4612006205c4b1ba050a11648071e6e429', page_index=7)]\n",
      "None\n",
      "##############################\n",
      "\n"
     ]
    }
   ],
   "execution_count": 175
  },
  {
   "metadata": {
    "ExecuteTime": {
     "end_time": "2025-03-04T19:53:05.308068Z",
     "start_time": "2025-03-04T19:53:05.295070Z"
    }
   },
   "cell_type": "code",
   "source": "answer_items",
   "id": "8c45a994fdd4731c",
   "outputs": [
    {
     "data": {
      "text/plain": [
       "[Answer(question_text=\"What is the total number of employees let go by Pintec Technology Holdings Limited according to the annual report? If data is not available, return 'N/A'.\", kind='number', value=['N/A'], references=[]),\n",
       " Answer(question_text=\"Which leadership positions changed at Westwater Resources, Inc. in the reporting period? If data is not available, return 'N/A'. Give me the title of the position.\", kind='names', value=['Chief President', 'Chief Executive Officer', 'Chief Accounting Officer', 'Controller', 'Senior Vice President of Finance', 'Chief Financial Officer', 'General Counsel', 'Corporate Secretary', 'Chief Administrative Officer'], references=[SourceReference(pdf_sha1='92d9de8e4db96e0b95a484afcd1c54c6beb62c03', page_index=16), SourceReference(pdf_sha1='92d9de8e4db96e0b95a484afcd1c54c6beb62c03', page_index=17)]),\n",
       " Answer(question_text='Did Brave Bison Group plc mention any mergers or acquisitions in the annual report? If there is no mention, return False.', kind='boolean', value=['yes'], references=[SourceReference(pdf_sha1='ddd10e4612006205c4b1ba050a11648071e6e429', page_index=6), SourceReference(pdf_sha1='ddd10e4612006205c4b1ba050a11648071e6e429', page_index=7)])]"
      ]
     },
     "execution_count": 176,
     "metadata": {},
     "output_type": "execute_result"
    }
   ],
   "execution_count": 176
  },
  {
   "metadata": {},
   "cell_type": "code",
   "outputs": [],
   "execution_count": null,
   "source": [
    "submission_name = \"gemini_multiagent\"\n",
    "final_submission = AnswerSubmission(answers=answer_items, team_email=\"felix.krause@timetoact.at\", submission_name=submission_name)"
   ],
   "id": "58d17bc0f8f00d35"
  },
  {
   "metadata": {},
   "cell_type": "code",
   "outputs": [],
   "execution_count": null,
   "source": [
    "# store submission as json\n",
    "final_submission_path = f\"../data/round2/submissions/{submission_name}.json\"\n",
    "\n",
    "with open(final_submission_path, \"w\") as file:\n",
    "    json.dump(final_submission.model_dump(), file, indent=4)"
   ],
   "id": "b9e48abb13e15434"
  }
 ],
 "metadata": {
  "kernelspec": {
   "display_name": "Python 3",
   "language": "python",
   "name": "python3"
  },
  "language_info": {
   "codemirror_mode": {
    "name": "ipython",
    "version": 2
   },
   "file_extension": ".py",
   "mimetype": "text/x-python",
   "name": "python",
   "nbconvert_exporter": "python",
   "pygments_lexer": "ipython2",
   "version": "2.7.6"
  }
 },
 "nbformat": 4,
 "nbformat_minor": 5
}
