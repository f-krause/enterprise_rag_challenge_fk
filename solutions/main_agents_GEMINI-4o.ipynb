{
 "cells": [
  {
   "metadata": {},
   "cell_type": "markdown",
   "source": "## Multi-agent approach",
   "id": "c730399d676eff5c"
  },
  {
   "cell_type": "code",
   "id": "initial_id",
   "metadata": {
    "collapsed": true,
    "ExecuteTime": {
     "end_time": "2025-03-06T15:38:33.777824Z",
     "start_time": "2025-03-06T15:38:33.597231Z"
    }
   },
   "source": [
    "import os\n",
    "import re\n",
    "import time\n",
    "import json\n",
    "import pickle\n",
    "from dotenv import load_dotenv\n",
    "from pydantic import BaseModel\n",
    "from typing import List, Optional, Literal, Union, Any, Tuple\n",
    "\n",
    "from utils import *\n",
    "\n",
    "load_dotenv()\n",
    "# Place a .env file in the root directory with \"OPENAI_API_KEY\" set"
   ],
   "outputs": [
    {
     "data": {
      "text/plain": [
       "True"
      ]
     },
     "execution_count": 1,
     "metadata": {},
     "output_type": "execute_result"
    }
   ],
   "execution_count": 1
  },
  {
   "metadata": {
    "ExecuteTime": {
     "end_time": "2025-03-06T15:38:33.869692Z",
     "start_time": "2025-03-06T15:38:33.853246Z"
    }
   },
   "cell_type": "code",
   "source": [
    "APPROACH = \"gemini\"\n",
    "# APPROACH = \"openai\"\n",
    "# APPROACH = \"ibm\""
   ],
   "id": "114efa78342798fb",
   "outputs": [],
   "execution_count": 2
  },
  {
   "metadata": {
    "ExecuteTime": {
     "end_time": "2025-03-06T15:38:35.964567Z",
     "start_time": "2025-03-06T15:38:34.319870Z"
    }
   },
   "cell_type": "code",
   "source": [
    "# if APPROACH == \"gemini\":\n",
    "from google import genai\n",
    "\n",
    "# elif APPROACH == \"openai\":\n",
    "from openai import OpenAI\n",
    "\n",
    "# elif APPROACH == \"ibm\":\n",
    "#     pass\n",
    "import requests\n",
    "text_generation_url = \"https://rag.timetoact.at/ibm/text_generation\"\n",
    "text_generation_headers = {\n",
    "    \"Authorization\": f\"Bearer {os.getenv('IBM_API_KEY')}\",\n",
    "    \"Content-Type\": \"application/json\"\n",
    "}\n",
    "IBM_MODEL = \"ibm/granite-34b-code-instruct\"\n",
    "# \"ibm/granite-34b-code-instruct\", \"ibm/granite-13b-instruct-v2\",  # with \"structured outputs\""
   ],
   "id": "e56084bf29396bfd",
   "outputs": [],
   "execution_count": 3
  },
  {
   "metadata": {
    "ExecuteTime": {
     "end_time": "2025-03-06T15:38:36.164761Z",
     "start_time": "2025-03-06T15:38:36.150503Z"
    }
   },
   "cell_type": "code",
   "source": "companies_dict = get_companies_dict(r\"../data/round2/subset.json\")",
   "id": "3a7cae28aec89e36",
   "outputs": [],
   "execution_count": 4
  },
  {
   "metadata": {
    "ExecuteTime": {
     "end_time": "2025-03-06T07:39:18.764751Z",
     "start_time": "2025-03-06T07:39:18.747624Z"
    }
   },
   "cell_type": "code",
   "source": "companies_dict[\"BetMakers Technology Group Ltd\"]",
   "id": "ad2e1e8baf531f83",
   "outputs": [
    {
     "data": {
      "text/plain": [
       "{'name': 'BetMakers Technology Group Ltd',\n",
       " 'sha1': '1af8f906e34af6e0acfe4f73e37093bbe34700f3',\n",
       " 'id': None}"
      ]
     },
     "execution_count": 5,
     "metadata": {},
     "output_type": "execute_result"
    }
   ],
   "execution_count": 5
  },
  {
   "metadata": {},
   "cell_type": "markdown",
   "source": "## Company expert",
   "id": "39529574e909f84b"
  },
  {
   "metadata": {},
   "cell_type": "markdown",
   "source": "### Gemini",
   "id": "9f048294f60b515d"
  },
  {
   "metadata": {
    "ExecuteTime": {
     "end_time": "2025-03-06T15:38:37.712981Z",
     "start_time": "2025-03-06T15:38:37.699576Z"
    }
   },
   "cell_type": "code",
   "source": [
    "def get_document(company, client, verbose=True):\n",
    "\n",
    "    uploaded_docs = list(client.files.list())\n",
    "    files_set = {file.display_name: file for file in uploaded_docs}\n",
    "    if f\"{company}_annual_report\" in files_set:\n",
    "        if verbose:\n",
    "            print(f\"Found {company}_annual_report\")\n",
    "        return files_set[f\"{company}_annual_report\"]\n",
    "    else:\n",
    "        if verbose:\n",
    "            print(f\"Uploading {company} annual report...\")\n",
    "        document_path = f\"../data/round2/pdfs/{company}.pdf\"\n",
    "        return client.files.upload(file=document_path, config={'display_name': f'{company}_annual_report'})"
   ],
   "id": "603f0ad8ccc27677",
   "outputs": [],
   "execution_count": 5
  },
  {
   "metadata": {
    "ExecuteTime": {
     "end_time": "2025-03-06T15:38:37.975839Z",
     "start_time": "2025-03-06T15:38:37.961839Z"
    }
   },
   "cell_type": "code",
   "source": [
    "system_prompt_expert = \"\"\"\n",
    "You are a smart chatbot designed to answer questions about company annual reports using data exclusively from the provided PDF. Your task is to accurately extract and report information regarding financial metrics, mergers, executive compensation, leadership changes, layoffs, product launches, and other report metadata. Follow these strict guidelines:\n",
    "\n",
    "1. **Answer Schema (based on the provided kind):**\n",
    "   - **number (integers):** Provide only the numeric value without commas, spaces, or additional text. For values expressed in thousands or millions, convert them to the full number (e.g., if given as 88.1 million, answer with \"88100000\"; if given as 1k, answer with \"1000\").\n",
    "   - **number (floats):** Provide the answer as a decimal (e.g., 0.5).\n",
    "   - **name(s):** Provide the exact name(s) as shown in the document (e.g., \"Max Mustermann\", \"Catalist Inc.\").\n",
    "   - **boolean:** Provide either \"yes\" or \"no\".\n",
    "   - **insufficient data:** If the information is not available, respond with \"N/A\".\n",
    "\n",
    "2. **Chain-of-Thought and Answer Structure:**\n",
    "   - Each response must include a brief internal chain_of_thought explanation detailing the reasoning process or why no answer could be derived.\n",
    "   - The final answer must be presented in the following JSON structure:\n",
    "     ```json\n",
    "     {\n",
    "       \"chain_of_thought\": \"<brief explanation of reasoning>\",\n",
    "       \"answer\": <final answer strictly following the schema>,\n",
    "       \"references\": [<zero-based PDF page numbers>]\n",
    "     }\n",
    "     ```\n",
    "   - Use the chain_of_thought to document your reasoning and intermediary steps.\n",
    "   - When handling temporal data, if the report covers a full year or a different period than the query specifies, use the most relevant available data from the document provided.\n",
    "\n",
    "3. **Context and Data Usage:**\n",
    "   - Use only the information provided in the PDF document.\n",
    "   - Do not add or assume any external data.\n",
    "   - For financial values, assume that the reported totals are complete unless stated otherwise.\n",
    "   - For positions such as CEO or CFO, assume the question refers to the current holder of the role.\n",
    "   - For names (companies, positions, etc.), use the exact text as it appears in the PDF.\n",
    "   - Numbers in tables that appear within brackets \"()\" should be interpreted as negative values (e.g., output \"-245000\" for a value that is negative).\n",
    "\n",
    "4. **General Guidelines:**\n",
    "   - All responses must strictly conform to the answer schema.\n",
    "   - Include a concise internal explanation (chain_of_thought) along with the final answer.\n",
    "   - List the zero-based PDF page numbers that support your answer in the \"references\" field.\n",
    "   - Ensure your response is precise, accurate, and adheres to the required format.\n",
    "\"\"\"\n",
    "\n",
    "llm_gemini = genai.Client(api_key=os.getenv(\"GEMINI_API_KEY\"))\n",
    "\n",
    "class CompanyAnswerGemini(BaseModel):\n",
    "    chain_of_thought: str\n",
    "    answer: List[str] = Field(..., description=\"Answer to the question, according to the question schema\")\n",
    "    references: List[str] = Field(..., description=\"Zero-based physical PDF page supporting the answer\")\n",
    "\n",
    "\n",
    "def ask_company_expert_gemini(company_query, company_name, system_prompt_expert, verbose=True):\n",
    "    print(\"### ASKING COMPANY EXPERT: \")\n",
    "    sha1 = companies_dict[company_name][\"sha1\"]\n",
    "    document = get_document(sha1, llm_gemini, verbose)\n",
    "\n",
    "    query = system_prompt_expert + \"QUERY: \" + company_query\n",
    "\n",
    "    completion = llm_gemini.models.generate_content(model=\"gemini-2.0-flash\", contents=[query, document], config={'response_mime_type': 'application/json', 'response_schema': CompanyAnswerGemini, \"temperature\": 0.0})\n",
    "\n",
    "    if verbose:\n",
    "        print(completion.parsed)\n",
    "\n",
    "    return completion.parsed, sha1, None"
   ],
   "id": "68bd83f8c85d4657",
   "outputs": [],
   "execution_count": 6
  },
  {
   "metadata": {
    "ExecuteTime": {
     "end_time": "2025-03-04T18:41:31.560294Z",
     "start_time": "2025-03-04T18:41:12.700983Z"
    }
   },
   "cell_type": "code",
   "source": "response, _, _  = ask_company_expert_gemini(str({'text': \"For HCA Healthcare, Inc., what was the value of Number of healthcare professionals on staff at the end of the period listed in annual report? If data is not available, return 'N/A'.\", 'kind': 'number'}), \"HCA Healthcare, Inc.\", system_prompt_expert)",
   "id": "81067aa26610eb98",
   "outputs": [
    {
     "name": "stdout",
     "output_type": "stream",
     "text": [
      "Found a69ebee82a9acd54117407ca3697db0d7bfbfdac_annual_report\n",
      "chain_of_thought='The annual report mentions that HCA Healthcare has 45,000 physicians on the medical staff, but it does not provide the number of healthcare professionals on staff. Therefore, the answer is N/A.' answer=['N/A']\n"
     ]
    }
   ],
   "execution_count": 73
  },
  {
   "metadata": {},
   "cell_type": "markdown",
   "source": "### openAI + qdrant",
   "id": "8a07ac5065693f3c"
  },
  {
   "metadata": {
    "ExecuteTime": {
     "end_time": "2025-03-06T15:09:09.087975Z",
     "start_time": "2025-03-06T15:09:09.028761Z"
    }
   },
   "cell_type": "code",
   "source": [
    "# https://qdrant.tech/documentation/beginner-tutorials/search-beginners/\n",
    "from qdrant_client import models, QdrantClient\n",
    "\n",
    "# set up: docker pull qdrant/qdrant\n",
    "# docker run -p 6333:6333 -p 6334:6334 -v \"$(pwd)/data/qdrant_storage:/qdrant/storage:z\" qdrant/qdrant\n",
    "db_client = QdrantClient(url=\"http://localhost:6333\")\n",
    "\n",
    "# collection_name = \"rag_test_db\"\n",
    "collection_name = \"erc_2025_2\"\n",
    "embedding_model = \"text-embedding-3-small\"\n",
    "llm_openai = OpenAI()\n",
    "\n",
    "def retriever(query, company_name, k=5):\n",
    "    # query_embedding = embedding_model.encode(query).tolist()\n",
    "    query_embedding = llm_openai.embeddings.create(input=query, model=embedding_model).data[0].embedding\n",
    "    hits = db_client.query_points(\n",
    "        collection_name=collection_name,\n",
    "        query=query_embedding,\n",
    "        # https://qdrant.tech/documentation/concepts/filtering/\n",
    "        query_filter=models.Filter(must=[models.FieldCondition(key=\"company\", match=models.MatchValue(value=company_name))]),\n",
    "        limit=k  # number of top results\n",
    "    ).points\n",
    "\n",
    "    return hits"
   ],
   "id": "4ec580edb2960806",
   "outputs": [],
   "execution_count": 15
  },
  {
   "metadata": {
    "ExecuteTime": {
     "end_time": "2025-03-06T15:09:10.056450Z",
     "start_time": "2025-03-06T15:09:10.041382Z"
    }
   },
   "cell_type": "code",
   "source": [
    "# Works, but slow - use in postprocessing (if LLM found answer, i.e. not na then retrieve pages for context used)\n",
    "import fitz  # PyMuPDF\n",
    "from thefuzz import fuzz  # fuzzy matching library\n",
    "\n",
    "def find_references_in_pdf(chunk_ids, sha1, threshold=50, verbose=True):\n",
    "    doc = fitz.open(f\"../data/round2/pdfs/{sha1}.pdf\")\n",
    "\n",
    "    pages_text = [doc[page_num].get_text() for page_num in range(len(doc))]\n",
    "\n",
    "    chunks = db_client.retrieve(collection_name, chunk_ids)\n",
    "    chunks = [chunk.payload[\"content\"] for chunk in chunks]\n",
    "    chunks = [chunk.replace(\"|\", \" \").replace(\"-\", \" \").replace(\"  \", \" \") for chunk in chunks]\n",
    "\n",
    "    page_nrs = []\n",
    "    for i, chunk in enumerate(chunks):\n",
    "\n",
    "        best_page = None\n",
    "        best_score = 0\n",
    "\n",
    "        for j, page_text in enumerate(pages_text):\n",
    "            score = fuzz.partial_ratio(chunk, page_text)\n",
    "            if score > best_score:\n",
    "                best_score = score\n",
    "                best_page = j + 1  # pages are 1-indexed\n",
    "\n",
    "                # If a nearly perfect match is found, exit the loop early\n",
    "                if best_score > 98:\n",
    "                    break\n",
    "\n",
    "        if verbose:\n",
    "            if best_score > threshold:\n",
    "                print(f\"Chunk {chunk_ids[i]} found on page {best_page} with score {best_score}\")\n",
    "            else:\n",
    "                print(f\"WARNING: Chunk {chunk_ids[i]} identified with low score: {best_score}\")\n",
    "\n",
    "        page_nrs.append(best_page)\n",
    "\n",
    "    return page_nrs"
   ],
   "id": "110a899524084985",
   "outputs": [],
   "execution_count": 16
  },
  {
   "metadata": {
    "ExecuteTime": {
     "end_time": "2025-03-06T15:13:17.210549Z",
     "start_time": "2025-03-06T15:13:17.190035Z"
    }
   },
   "cell_type": "code",
   "source": [
    "system_prompt_expert = \"\"\"\n",
    "## SYSTEM PROMPT\n",
    "\n",
    "You are a chatbot designed to answer questions about company annual reports. The information may appear in markdown\n",
    "tables or as plain text. Your responses must be strictly based on the provided context and adhere to the following guidelines:\n",
    "\n",
    "1. **Answer Value Schema (given by \"kind\"):**\n",
    "    - For Integer Numeric Answers: Provide only the numeric value without commas, spaces, or additional text. For values given in thousands or millions, write the full number (e.g., if stated in millions, the answer for 88.1 would be \"88100000\" or for 1k answer \"1000\").\n",
    "    - For Float Numeric Answers (e.g. ratios): answer with a decimal (e.g., 0.5).\n",
    "    - For Name-Based Answers: Provide only the exact name as it appears in the data. No additional text, formatting, or variations (e.g. \"Max Mustermann\").\n",
    "    - For Boolean Answers: Provide only \"yes\" or \"no\".\n",
    "    - For Insufficient Data: If the information is not available, respond with \"N/A\".\n",
    "\n",
    "2. **Context Adherence:**\n",
    "   - Only use the information provided in the CONTEXT. Do not assume or add external data.\n",
    "   - The context contains retrieved chunks of company annual reports with some similarity score to the user query. Use this information to answer the questions.\n",
    "   - The chunk_id of the retrieved chunks is sequential, i.e. in order of the appearance in the PDF.\n",
    "   - If you found supporting evidence to a user query, provide the chunk_id(s) of the chunk(s) from the context that support your answer in `references`.\n",
    "   - Ensure your final answer strictly follows the designated schema.\n",
    "\n",
    "3. **Domain Assumptions:**\n",
    "  - For financial values, assume totals unless otherwise specified.\n",
    "  - For roles like CEO or CFO, assume the question refers to the current position.\n",
    "  - For company names, use the exact name as it appears in the data.\n",
    "\n",
    "4. **Table Analysis and Correction:**\n",
    "   - When analyzing markdown tables (or other data structures), be alert to any conversion or formatting issues. Common issues include:\n",
    "     - Inconsistent use of thousand separators (commas, spaces, etc.).\n",
    "     - Numbers split across multiple rows or columns.\n",
    "     - Data misalignment or merging of columns.\n",
    "   - Use contextual clues (such as column headers, totals, or adjacent entries) to determine if an entry might be affected by a table parsing error.\n",
    "   - **Only output a corrected numerical value if you are sufficiently confident that a formatting flaw has occurred and you can deduce the correct value.**\n",
    "   - If you are not fully confident that the anomaly is due to a parsing error, or if the correct value remains ambiguous, output \"N/A\" and include a brief note (internally) that the data is ambiguous.\n",
    "\n",
    "5. **General Answer Guidelines:**\n",
    "   - Include a short explanation of your reasoning in the chain of thought.\n",
    "   - Your final answer should be in one of the prescribed formats (number, boolean, concise string, or \"N/A\").\n",
    "   - If the question asks for a correction due to a suspected table parsing error, provide the corrected number only if the evidence is compelling; otherwise, output \"N/A\". Provide your thoughts in the chain of thought\n",
    "   - If you give an answer, provide the chunk_id(s) of the chunk(s) from the context that support your answer.\n",
    "\n",
    "6. **Example Response Structure:**\n",
    "   - *If confident:*\n",
    "     **Final Answer:** `5839`\n",
    "     (Explanation: The table appeared to split the building cost for Oklahoma City - 12/20/21 over two rows; based on the CONTEXT, the correct value is deduced as 5839.)\n",
    "\n",
    "   - *If uncertain:*\n",
    "     **Final Answer:** `N/A`\n",
    "     (Explanation: Insufficient clarity in the table data due to formatting issues.)\n",
    "\n",
    "\n",
    "## CONTEXT:\n",
    "<<CONTEXT>>\n",
    "\"\"\"\n",
    "\n",
    "class CompanyAnswerOpenAI(BaseModel):\n",
    "    chain_of_thought: str\n",
    "    answer: List[str] = Field(..., description=\"Answer to the question, according to the question schema\")\n",
    "    references: List[int] = Field(..., description=\"IDs of the chunks where evidence for the answer was found\")\n",
    "\n",
    "\n",
    "def ask_company_expert_openai(user_query: str, company_name: str, system_prompt: str, nr_rag_retrieval=5, verbose=True):\n",
    "    print(\"### ASKING COMPANY EXPERT: \")\n",
    "    hits = retriever(user_query, company_name, k=nr_rag_retrieval)\n",
    "    if not hits:\n",
    "        if verbose:\n",
    "            print(\"###\\nWARNING: No hits found\\n###\")\n",
    "\n",
    "        hits_str = \"WARNING: NO RAG HITS FOUND - MAYBE DATA MISSING OR RETRIEVAL ISSUE - MENTION IN CHAIN OF THOUGHT!\"\n",
    "\n",
    "    else:\n",
    "        hits_str = \"\".join([f\"chunk id: {response.id}, score: {response.score}, content: {response.payload}\\n\\n\" for response in hits])\n",
    "\n",
    "    system_prompt_full = system_prompt.replace(\"<<CONTEXT>>\", hits_str)\n",
    "\n",
    "    completion = llm_openai.beta.chat.completions.parse(\n",
    "        model=\"gpt-4o-2024-08-06\",  # \"gpt-4o-mini\",\n",
    "        messages=[\n",
    "            {\"role\": \"system\", \"content\": system_prompt_full},\n",
    "            {\"role\": \"user\", \"content\": user_query},\n",
    "        ],\n",
    "        response_format=CompanyAnswerOpenAI,\n",
    "        temperature=0\n",
    "    )\n",
    "\n",
    "    usage = completion.usage\n",
    "    completion = completion.choices[0].message.parsed\n",
    "    sha1 = companies_dict[company_name][\"sha1\"]\n",
    "\n",
    "    completion.references = find_references_in_pdf(completion.references, sha1)  # swap chunkids with pdf pages\n",
    "\n",
    "    if verbose:\n",
    "        print(completion)\n",
    "\n",
    "    return completion, sha1, usage"
   ],
   "id": "f54b847905753c7",
   "outputs": [],
   "execution_count": 24
  },
  {
   "metadata": {
    "ExecuteTime": {
     "end_time": "2025-03-06T15:08:26.680786Z",
     "start_time": "2025-03-06T15:08:23.021764Z"
    }
   },
   "cell_type": "code",
   "source": [
    "response, _, _ = ask_company_expert_openai(\"For Ziff Davis, Inc., what was the value of Cloud storage capacity (TB) at the end of the period listed in annual report? If data is not available, return 'N/A'.\", \"Ziff Davis, Inc.\", system_prompt_expert)\n",
    "response"
   ],
   "id": "d2dfc4f4f006d1e8",
   "outputs": [
    {
     "data": {
      "text/plain": [
       "CompanyAnswerOpenAI(chain_of_thought=\"The provided context does not contain any specific information about the cloud storage capacity in terabytes (TB) for Ziff Davis, Inc. The context mainly discusses the company's structure, business operations, and financial transactions related to the spin-off of the cloud fax business. There is no mention of cloud storage capacity in TB in the retrieved chunks.\", answer=['N/A'], references=[])"
      ]
     },
     "execution_count": 9,
     "metadata": {},
     "output_type": "execute_result"
    }
   ],
   "execution_count": 9
  },
  {
   "metadata": {},
   "cell_type": "markdown",
   "source": "### IBM Watsonx",
   "id": "3f3a2e5d6d5b602b"
  },
  {
   "metadata": {
    "ExecuteTime": {
     "end_time": "2025-03-05T10:20:00.911354Z",
     "start_time": "2025-03-05T10:19:59.407376Z"
    }
   },
   "cell_type": "code",
   "source": [
    "# https://qdrant.tech/documentation/beginner-tutorials/search-beginners/\n",
    "from qdrant_client import models, QdrantClient\n",
    "\n",
    "# set up: docker pull qdrant/qdrant\n",
    "# docker run -p 6333:6333 -p 6334:6334 -v \"$(pwd)/data/qdrant_storage:/qdrant/storage:z\" qdrant/qdrant\n",
    "db_client = QdrantClient(url=\"http://localhost:6333\")\n",
    "\n",
    "collection_name = \"erc_2025_2\"\n",
    "embedding_model = \"text-embedding-3-small\"\n",
    "llm_openai = OpenAI()\n",
    "\n",
    "\n",
    "def retriever_ibm(query, company_name, k=5):\n",
    "    # TODO update with IBM embeddings\n",
    "    query_embedding = llm_openai.embeddings.create(input=query, model=embedding_model).data[0].embedding\n",
    "\n",
    "    hits = db_client.query_points(\n",
    "        collection_name=collection_name,\n",
    "        query=query_embedding,\n",
    "        # https://qdrant.tech/documentation/concepts/filtering/\n",
    "        query_filter=models.Filter(must=[models.FieldCondition(key=\"company\", match=models.MatchValue(value=company_name))]),\n",
    "        limit=k  # number of top results\n",
    "    ).points\n",
    "\n",
    "    return hits"
   ],
   "id": "9d673f9899d32787",
   "outputs": [],
   "execution_count": 27
  },
  {
   "metadata": {},
   "cell_type": "code",
   "outputs": [],
   "execution_count": null,
   "source": "# define find references above",
   "id": "8759b08c43fd5f36"
  },
  {
   "metadata": {
    "ExecuteTime": {
     "end_time": "2025-03-05T11:24:43.474477Z",
     "start_time": "2025-03-05T11:24:43.447357Z"
    }
   },
   "cell_type": "code",
   "source": [
    "system_prompt_expert = \"\"\"\n",
    "## SYSTEM PROMPT\n",
    "\n",
    "You are a chatbot designed to answer questions about company annual reports. The information may appear in markdown tables or as plain text. Your responses must be strictly based on the provided context and adhere to the following guidelines:\n",
    "\n",
    "1. **Answer Value Schema (given by \"kind\"):**\n",
    "    - For Integer Numeric Answers: Provide only the numeric value without commas, spaces, or additional text. For values given in thousands or millions, write the full number (e.g., if stated in millions, the answer for 88.1 would be \"88100000\" or for 1k answer \"1000\").\n",
    "    - For Float Numeric Answers (e.g. ratios): answer with a decimal (e.g., 0.5).\n",
    "    - For Name-Based Answers: Provide only the exact name as it appears in the data. No additional text, formatting, or variations (e.g. \"Max Mustermann\").\n",
    "    - For Boolean Answers: Provide only \"yes\" or \"no\".\n",
    "    - For Insufficient Data: If the information is not available, respond with \"N/A\".\n",
    "\n",
    "2. **Context Adherence:**\n",
    "   - Only use the information provided in the CONTEXT. Do not assume or add external data.\n",
    "   - The context contains retrieved chunks of company annual reports with some similarity score to the user query. Use this information to answer the questions.\n",
    "   - The chunk_id of the retrieved chunks is sequential, i.e. in order of the appearance in the PDF.\n",
    "   - If you found supporting evidence to a user query, provide the chunk_id(s) of the chunk(s) from the context that support your answer in `references`.\n",
    "   - Ensure your final answer strictly follows the designated schema.\n",
    "\n",
    "3. **Domain Assumptions:**\n",
    "  - For financial values, assume totals unless otherwise specified.\n",
    "  - For roles like CEO or CFO, assume the question refers to the current position.\n",
    "  - For company names, use the exact name as it appears in the data.\n",
    "\n",
    "4. **Table Analysis and Correction:**\n",
    "   - When analyzing markdown tables (or other data structures), be alert to any conversion or formatting issues. Common issues include:\n",
    "     - Inconsistent use of thousand separators (commas, spaces, etc.).\n",
    "     - Numbers split across multiple rows or columns.\n",
    "     - Data misalignment or merging of columns.\n",
    "   - Use contextual clues (such as column headers, totals, or adjacent entries) to determine if an entry might be affected by a table parsing error.\n",
    "   - **Only output a corrected numerical value if you are sufficiently confident that a formatting flaw has occurred and you can deduce the correct value.**\n",
    "   - If you are not fully confident that the anomaly is due to a parsing error, or if the correct value remains ambiguous, output \"N/A\" and include a brief note (internally) that the data is ambiguous.\n",
    "\n",
    "5. **General Answer Guidelines:**\n",
    "   - Include a short explanation of your reasoning in the chain of thought.\n",
    "   - Your final answer should be in one of the prescribed formats (number, boolean, concise string, or \"N/A\").\n",
    "   - If the question asks for a correction due to a suspected table parsing error, provide the corrected number only if the evidence is compelling; otherwise, output \"N/A\". Provide your thoughts in the chain of thought\n",
    "   - If you give an answer, provide the chunk_id(s) of the chunk(s) from the context that support your answer.\n",
    "\n",
    "6. **Answer Structure**\n",
    "    - Reply in the following python dict format:\n",
    "    ```python\n",
    "    {\n",
    "        \"chain_of_thought\": \"<brief explanation of reasoning>\",\n",
    "        \"answer\": <final answer strictly following the schema>,\n",
    "        \"references\": [<chunk_id of relevant chunk>]\n",
    "    }\n",
    "\n",
    "\n",
    "6. **Example Response Structure:**\n",
    "   - *If confident:*\n",
    "     ```python\n",
    "        {\n",
    "            \"chain_of_thought\": \"The table appeared to split the building cost for Oklahoma City - 12/20/21 over two rows; based on the CONTEXT, the correct value is deduced as 5839.\",\n",
    "            \"answer\": \"5839\",\n",
    "            \"references\": [1234]\n",
    "        }\n",
    "    ```\n",
    "\n",
    "   - *If uncertain:*\n",
    "    ```python\n",
    "        {\n",
    "            \"chain_of_thought\": \"No data to answer the user query could be found.\",\n",
    "            \"answer\": \"N/A\",\n",
    "            \"references\": []\n",
    "        }\n",
    "    ```\n",
    "\n",
    "ONLY RESPOND WITH THE OUTPUT JSON DESCRIBED ABOVE - NO OTHER TEXT.\n",
    "\n",
    "## CONTEXT:\n",
    "<<CONTEXT>>\n",
    "\"\"\"\n",
    "\n",
    "\n",
    "def ask_company_expert_ibm(user_query: str, company_name: str, system_prompt: str, nr_rag_retrieval=5, verbose=True):\n",
    "    print(\"### ASKING COMPANY EXPERT: \")\n",
    "    sha1 = companies_dict[company_name][\"sha1\"]\n",
    "    # hits = retriever(user_query, company_name, k=nr_rag_retrieval)\n",
    "    hits = retriever_ibm(user_query, company_name, k=nr_rag_retrieval)\n",
    "    if not hits:\n",
    "        if verbose:\n",
    "            print(\"###\\nWARNING: No hits found\\n###\")\n",
    "\n",
    "        hits_str = \"WARNING: NO RAG HITS FOUND - MAYBE DATA MISSING OR RETRIEVAL ISSUE - MENTION IN CHAIN OF THOUGHT!\"\n",
    "\n",
    "    else:\n",
    "        hits_str = \"\".join([f\"chunk id: {response.id}, score: {response.score}, content: {response.payload}\\n\\n\" for response in hits])\n",
    "\n",
    "    system_prompt_full = system_prompt.replace(\"<<CONTEXT>>\", hits_str)\n",
    "\n",
    "    payload = {\n",
    "            \"input\": [{\"role\": \"system\", \"content\": system_prompt_full}, {\"role\": \"user\", \"content\": user_query}],\n",
    "            \"model_id\": \"ibm/granite-20b-code-instruct\",\n",
    "            # \"model_id\": \"ibm/granite-34b-code-instruct\",\n",
    "            \"parameters\": {\"temperature\": 0, \"max_new_tokens\": 1000, \"min_new_tokens\": 1}\n",
    "        }\n",
    "\n",
    "    completion = requests.post(text_generation_url, headers=text_generation_headers, json=payload)\n",
    "    data = completion.json()\n",
    "    completion = data[\"results\"][0][\"generated_text\"]\n",
    "\n",
    "    if verbose:\n",
    "        print(completion)\n",
    "\n",
    "    try:\n",
    "        pattern = re.compile(r'\\{.*?\\}', re.DOTALL)\n",
    "        match = pattern.search(completion)\n",
    "        data = json.loads(match.group(0))\n",
    "        pdf_pages = find_references_in_pdf(data[\"references\"], sha1)  # swap chunkids with pdf pages\n",
    "        data[\"references\"] = pdf_pages\n",
    "\n",
    "        return data, sha1, None\n",
    "    except:\n",
    "        return completion + \"\\nWARNING: references are chunk ids and not PDF pages. leave references empty in final output\", sha1, None"
   ],
   "id": "5f656fd99f775298",
   "outputs": [],
   "execution_count": 71
  },
  {
   "metadata": {
    "ExecuteTime": {
     "end_time": "2025-03-05T11:24:52.056841Z",
     "start_time": "2025-03-05T11:24:43.762308Z"
    }
   },
   "cell_type": "code",
   "source": [
    "response, _, _ = ask_company_expert_ibm(\"For Ziff Davis, Inc., what was the value of Cloud storage capacity (TB) at the end of the period listed in annual report? If data is not available, return 'N/A'.\", \"Ziff Davis, Inc.\", system_prompt_expert)\n",
    "response"
   ],
   "id": "3ae80e7b74b886aa",
   "outputs": [
    {
     "data": {
      "text/plain": [
       "{'chain_of_thought': \"The value of cloud storage capacity (TB) for Ziff Davis, Inc. at the end of the period listed in the annual report can be found in the 'Cloud Services' segment of the Consolidated Statements of Operations. According to the report, the Company had approximately 1.5 petabytes of cloud storage as of December 31, 2021, which is equivalent to approximately 1.47 petabytes of cloud storage as of December 31, 2020.\",\n",
       " 'answer': '1.47',\n",
       " 'references': []}"
      ]
     },
     "execution_count": 72,
     "metadata": {},
     "output_type": "execute_result"
    }
   ],
   "execution_count": 72
  },
  {
   "metadata": {},
   "cell_type": "markdown",
   "source": "## Delegation manager",
   "id": "b8a66ff7f887dd2f"
  },
  {
   "metadata": {
    "ExecuteTime": {
     "end_time": "2025-03-06T15:38:47.772393Z",
     "start_time": "2025-03-06T15:38:47.750817Z"
    }
   },
   "cell_type": "code",
   "source": [
    "# DELEGATION MANAGER\n",
    "\n",
    "system_prompt_delegation = f\"\"\"\n",
    "You will receive a query related to one or more companies. You have access to specialized agents capable of retrieving data for each specific company. To delegate tasks to these agents, follow these guidelines:\n",
    "\n",
    "Formulate Queries:\n",
    "    - For each company identified, create a precise query that the specialized agents can use to retrieve the required information.\n",
    "    - the list of queries should be in the order of the companies in the list IDENTIFIED_COMPANIES.\n",
    "    - List these queries under 'queries'.\n",
    "    - Add some information on where in annual company reports the specialized agents can usually find the information.\n",
    "    - If using abbreviations also mention the full phrase or name ((e.g., for 'R&D' also use 'research and development').\n",
    "    \n",
    "Chain of Thought:\n",
    "Provide a 'chain_of_thought' explaining how you identified the companies, formulated the queries, and any assumptions or steps taken to reach your final output. If you marked any queries as 'SKIP', explain why.\n",
    "\n",
    "IDENTIFIED_COMPANIES:\n",
    "<<IDENTIFIED_COMPANIES>>\n",
    "\"\"\"\n",
    "\n",
    "\n",
    "class DelegationRequest(BaseModel):\n",
    "    chain_of_thought: str\n",
    "    companies: List[str]\n",
    "    queries: list[str]\n",
    "\n",
    "\n",
    "def ask_delegation_manager(query, system_prompt_delegation, approach) -> Tuple[DelegationRequest, Any]:\n",
    "    print(\"### ASKING DELEGATION MANAGER: \")\n",
    "\n",
    "    identified_companies = []\n",
    "    for company in list(companies_dict.keys()):\n",
    "        # Build a regex pattern that ignores case\n",
    "        pattern = re.escape(company)\n",
    "        if re.search(pattern, query, re.IGNORECASE):\n",
    "            identified_companies.append(company)\n",
    "\n",
    "    system_prompt_delegation = system_prompt_delegation.replace(\"<<IDENTIFIED_COMPANIES>>\", \", \".join(identified_companies))\n",
    "\n",
    "    # if approach.lower() == \"gemini\":\n",
    "    #     client = genai.Client(api_key=os.getenv(\"GEMINI_API_KEY\"))\n",
    "    #\n",
    "    #     completion = client.models.generate_content(model=\"gemini-2.0-flash\", contents=[system_prompt_delegation, query], config={'response_mime_type': 'application/json', 'response_schema': DelegationRequest})\n",
    "    #\n",
    "    #     return completion.parsed, None\n",
    "\n",
    "    if approach.lower() in [\"openai\", \"ibm\", \"gemini\"]:\n",
    "        client = OpenAI()\n",
    "        completion = client.beta.chat.completions.parse(\n",
    "            model=\"gpt-4o-2024-08-06\",\n",
    "            messages=[\n",
    "                {\"role\": \"system\", \"content\": system_prompt_delegation},\n",
    "                {\"role\": \"user\", \"content\": query},\n",
    "            ],\n",
    "            response_format=DelegationRequest,\n",
    "        )\n",
    "\n",
    "        return completion.choices[0].message.parsed, completion.usage\n",
    "    else:\n",
    "        raise NotImplementedError(\"Approach not implemented\")"
   ],
   "id": "556851a9b2e0d530",
   "outputs": [],
   "execution_count": 7
  },
  {
   "metadata": {
    "ExecuteTime": {
     "end_time": "2025-03-06T15:34:01.914493Z",
     "start_time": "2025-03-06T15:33:52.934213Z"
    }
   },
   "cell_type": "code",
   "source": [
    " response, _ = ask_delegation_manager('Which of the companies had the lowest total revenue in EUR at the end of the period listed in annual report: \"Atreca, Inc.\", \"Poste Italiane\", \"Datalogic\", \"Duni Group\", \"Incyte Corporation\"? If data for the company is not available, exclude it from the comparison. If only one company is left, return this company.', system_prompt_delegation, \"gemini\")\n",
    "response"
   ],
   "id": "450954825ad2cc7b",
   "outputs": [
    {
     "name": "stdout",
     "output_type": "stream",
     "text": [
      "### ASKING DELEGATION MANAGER: \n"
     ]
    },
    {
     "data": {
      "text/plain": [
       "DelegationRequest(chain_of_thought=\"First, I identified the list of companies mentioned in the query that need investigation. To determine which company had the lowest total revenue in EUR, I need to query each company for their respective total revenue amount. I will also check the currency in their reports when extracting the revenue to ensure consistency, converting to EUR where necessary. \\n\\nThe query should specify where to find this financial information in their annual reports, typically in sections titled 'Consolidated Financial Statements', 'Income Statement', or 'Results of Operations'.\\n\\nI will skip companies if their financial data is unavailable or not accessible, and I'll remove them from comparison if conversion to the requested currency (EUR) is not possible or if data is not in usable form.\\n\\nCompanies that may potentially be identified as having lower revenues will be retained, compared until the company with the minimal revenue value is determined.\", companies=['Incyte Corporation', 'Atreca, Inc.', 'Datalogic', 'Poste Italiane', 'Duni Group'], queries=[\"Retrieve Incyte Corporation's total revenue from the latest annual report, typically found in the 'Consolidated Financial Statements' or 'Income Statement'. Ensure that if the currency used is not EUR, convert it to EUR for comparison.\", \"Retrieve Atreca, Inc.'s total revenue from the latest annual report, usually located in the 'Consolidated Financial Statements' or 'Income Statement'. If revenues are reported in USD, convert this into EUR.\", \"Obtain Datalogic's total revenue from its most recent annual report, found in sections like 'Financial Statements' or 'Profit and Loss Statement'. Confirm any currency conversions if necessary.\", \"Fetch Poste Italiane's total revenue from the latest annual report, often available in the 'Income Statement'. Confirm revenue currency and convert to EUR if not already in EUR.\", \"Extract Duni Group's total revenue from the current annual report, found in 'Consolidated Financial Statements' or 'Annual Highlights'. Ensure the revenue is in EUR, and if not, convert appropriately.\"])"
      ]
     },
     "execution_count": 10,
     "metadata": {},
     "output_type": "execute_result"
    }
   ],
   "execution_count": 10
  },
  {
   "metadata": {},
   "cell_type": "markdown",
   "source": "### Execution manager",
   "id": "9b32d8542b02d069"
  },
  {
   "metadata": {
    "ExecuteTime": {
     "end_time": "2025-03-06T15:38:50.048090Z",
     "start_time": "2025-03-06T15:38:50.020571Z"
    }
   },
   "cell_type": "code",
   "source": [
    "system_prompt_execution = f\"\"\"\n",
    "You are an intelligent assistant tasked with synthesizing a final answer to the USER_QUERY using specific company data provided in the CONTEXT. The CONTEXT includes information generated by expert systems along with their reasoning process.\n",
    "\n",
    "**Your Objectives**\n",
    "    - Final Answer Construction: Your primary task is to deliver a final, accurate response to the USER_QUERY based on the provided CONTEXT.\n",
    "    - Check if data is given for all companies asked about in the query. If not, do not give an answer.\n",
    "    - Handling Temporal Data: If the temporal scope of the data isn't an exact match (e.g., full-year data instead of Q4), use the best available data from the CONTEXT to formulate your answer.  It should still be of the same year though.\n",
    "    - Chain of Thought: Document your reasoning process in 'chain_of_thought', including intermediary steps and considerations that led to your final answer.\n",
    "    - Give a final answer to the user query based on the context\n",
    "    - Strict Adherence: The final answer must be compliant with the specific answer guidelines below. Accuracy, clarity, and adherence to these guidelines are critical.\n",
    "\n",
    "**Answer Value Schema (given by \"kind\")**\n",
    "    - For Integer Numeric Answers: Provide only the numeric value without commas, spaces, or additional text. For values given in thousands or millions, write the full number (e.g., if stated in millions, the answer for 88.1 would be \"88100000\" or for 1k answer \"1000\").\n",
    "    - For Float Numeric Answers (e.g. ratios): answer with a decimal (e.g., 0.5).\n",
    "    - For Name-Based Answers: Provide only the exact name as it appears in the data. No additional text, formatting, or variations (e.g. \"Max Mustermann\").\n",
    "    - For Boolean Answers: Provide only \"yes\" or \"no\".\n",
    "    - For Insufficient Data: If the information is not available, respond with \"N/A\".\n",
    "\n",
    "**Format**\n",
    "    - chain_of_thought: Your reasoning process, including intermediary steps\n",
    "    - answer: Your final answer following the guidelines. It should be of format: <OUTPUT_TYPE>, e.g., 'name', 'number' (including 0), 'boolean', etc.\n",
    "    - reference: List of references used to derive the answer, including:\n",
    "         - the sha1 hash of the document used for the answer,\n",
    "         - the zero-indexed page number(s) where the information was sourced, if an answer could be found.\n",
    "         - If there are multiple references supporting the answer, list all of them.\n",
    "         - If the answer is 'N/A', the reference should be empty, i.e. [].\n",
    "\n",
    "CONTEXT:\n",
    "<<CONTEXT>>\n",
    "\"\"\"\n",
    "\n",
    "\n",
    "def ask_execution_manager(query, context, approach):\n",
    "    system_prompt_execution_full = system_prompt_execution.replace(\"<<CONTEXT>>\", context)\n",
    "    \n",
    "    print(\"### ASKING EXECUTION MANAGER: \")\n",
    "    print(\"Context:\", context)\n",
    "    \n",
    "    if approach.lower() == \"gemini\":\n",
    "        class SourceReference(BaseModel):\n",
    "            pdf_sha1: str = Field(..., description=\"SHA1 hash of the PDF file\")\n",
    "            page_index: int = Field(..., description=\"Physical page number in the PDF file\")\n",
    "\n",
    "        class AnswerLLM(BaseModel):\n",
    "            chain_of_thought: str = Field(..., description=\"Chain of thought that led to the answer value\")\n",
    "            value: List[str] = Field(..., description=\"Answer to the question, according to the question schema\")\n",
    "            references: List[SourceReference] = Field(..., description=\"References to the source material in the PDF file\")\n",
    "\n",
    "        client = genai.Client(api_key=os.getenv(\"GEMINI_API_KEY\"))\n",
    "\n",
    "        completion = client.models.generate_content(model=\"gemini-2.0-flash\", contents=[system_prompt_execution_full, query], config={'response_mime_type': 'application/json', 'response_schema': AnswerLLM})\n",
    "\n",
    "        return completion.parsed, None\n",
    "\n",
    "    if approach.lower() in [\"openai\", \"ibm\", \"gemini\"]:\n",
    "        class SourceReference(BaseModel):\n",
    "            pdf_sha1: str = Field(..., description=\"SHA1 hash of the PDF file\")\n",
    "            page_index: int = Field(..., description=\"Physical page number in the PDF file\")\n",
    "\n",
    "        class AnswerLLM(BaseModel):\n",
    "            chain_of_thought: str = Field(..., description=\"Chain of thought that led to the answer value\")\n",
    "            value: Union[float, str, bool, List[str], Literal[\"N/A\"]] = Field(..., description=\"Answer to the question, according to the question schema\")\n",
    "            references: List[SourceReference] = Field(..., description=\"References to the source material in the PDF file\")\n",
    "\n",
    "        client = OpenAI()\n",
    "        completion = client.beta.chat.completions.parse(\n",
    "            model=\"gpt-4o-2024-08-06\",\n",
    "            messages=[\n",
    "                {\"role\": \"system\", \"content\": system_prompt_execution_full},\n",
    "                {\"role\": \"user\", \"content\": query},\n",
    "            ],\n",
    "            response_format=AnswerLLM,\n",
    "        )\n",
    "\n",
    "        return completion.choices[0].message.parsed, completion.usage"
   ],
   "id": "ae5badfdd80719b5",
   "outputs": [],
   "execution_count": 8
  },
  {
   "metadata": {
    "ExecuteTime": {
     "end_time": "2025-03-06T15:34:39.527631Z",
     "start_time": "2025-03-06T15:34:38.454492Z"
    }
   },
   "cell_type": "code",
   "source": [
    "response, _ = ask_execution_manager(str({'text': \"For HCA Healthcare, Inc., what was the value of Number of healthcare professionals on staff at the end of the period listed in annual report? If data is not available, return 'N/A'.\", 'kind': 'number'}), \"test\", \"gemini\")\n",
    "response"
   ],
   "id": "bcff9c2bd1bcde5b",
   "outputs": [
    {
     "name": "stdout",
     "output_type": "stream",
     "text": [
      "### ASKING EXECUTION MANAGER: \n",
      "Context: test\n"
     ]
    },
    {
     "data": {
      "text/plain": [
       "AnswerLLM(chain_of_thought='I am unable to answer the question because there is no relevant information in the context.', value=['N/A'], references=[])"
      ]
     },
     "execution_count": 13,
     "metadata": {},
     "output_type": "execute_result"
    }
   ],
   "execution_count": 13
  },
  {
   "metadata": {
    "ExecuteTime": {
     "end_time": "2024-09-04T14:09:07.579891Z",
     "start_time": "2024-09-04T14:09:07.571910Z"
    }
   },
   "cell_type": "code",
   "source": [
    "# FIXME\n",
    "def get_total_token_usage(tokens_list):\n",
    "    summed_token_usage = {\"completion_tokens\": 0, \"prompt_tokens\": 0, \"total_tokens\": 0}\n",
    "    if type(tokens_list[0]) is dict:\n",
    "        for usage in tokens_list:\n",
    "            summed_token_usage[\"completion_tokens\"] += usage[\"completion_tokens\"]\n",
    "            summed_token_usage[\"prompt_tokens\"] += usage[\"prompt_tokens\"]\n",
    "            summed_token_usage[\"total_tokens\"] += usage[\"total_tokens\"]\n",
    "    else:\n",
    "        for usage in tokens_list:\n",
    "            summed_token_usage[\"completion_tokens\"] += usage.completion_tokens\n",
    "            summed_token_usage[\"prompt_tokens\"] += usage.prompt_tokens\n",
    "            summed_token_usage[\"total_tokens\"] += usage.total_tokens\n",
    "                \n",
    "    return summed_token_usage"
   ],
   "id": "30b72a4d427e6ea3",
   "outputs": [],
   "execution_count": 69
  },
  {
   "metadata": {
    "ExecuteTime": {
     "end_time": "2025-03-06T15:38:52.631527Z",
     "start_time": "2025-03-06T15:38:52.617859Z"
    }
   },
   "cell_type": "code",
   "source": [
    "# FINAL PIPELINE\n",
    "\n",
    "def ask_question(query: dict, approach: str, verbose=True):\n",
    "    print(\"## Query:\", query)\n",
    "    delegations, token_usage_delegations = ask_delegation_manager(query[\"text\"], system_prompt_delegation, approach)\n",
    "    print(\"Delegations: \\n\", delegations)\n",
    "    \n",
    "    expert_context = {}\n",
    "    # token_usage_expert = []\n",
    "    for company, company_query in zip(delegations.companies, delegations.queries):\n",
    "        if company.lower() == \"skip\" or company_query.lower() == \"skip\":\n",
    "            expert_context[company] = \"No data available\"\n",
    "        else:\n",
    "            if approach.lower() == \"gemini\":\n",
    "                response, sha1, token_usage_expert_tmp = ask_company_expert_gemini(company_query, company, system_prompt_expert)\n",
    "                expert_context[company] = {\"sha1\": sha1, \"response\": response}\n",
    "                # token_usage_expert.append(token_usage_expert_tmp)\n",
    "            elif approach.lower() == \"openai\":\n",
    "                response, sha1, token_usage_expert_tmp = ask_company_expert_openai(company_query, company, system_prompt_expert)\n",
    "                expert_context[company] = {\"sha1\": sha1, \"response\": response}\n",
    "                # token_usage_expert.append(token_usage_expert_tmp)\n",
    "            elif approach.lower() == \"ibm\":\n",
    "                response, sha1, token_usage_expert_tmp = ask_company_expert_ibm(company_query, company, system_prompt_expert)\n",
    "                expert_context[company] = {\"sha1\": sha1, \"response\": response}\n",
    "                # token_usage_expert.append(token_usage_expert_tmp)\n",
    "            else:\n",
    "                raise NotImplementedError()\n",
    "    \n",
    "    final_answer, token_usage_execution = ask_execution_manager(str(query), str(expert_context), approach)\n",
    "    if verbose:\n",
    "        print(final_answer)\n",
    "    # tokens_used = [token_usage_delegations] + token_usage_expert + [token_usage_execution]\n",
    "    \n",
    "    # return final_answer, get_total_token_usage(tokens_used)\n",
    "    return final_answer, None"
   ],
   "id": "1c4c03aa88b9f80b",
   "outputs": [],
   "execution_count": 9
  },
  {
   "metadata": {
    "ExecuteTime": {
     "end_time": "2025-03-06T15:34:46.640609Z",
     "start_time": "2025-03-06T15:34:46.626397Z"
    }
   },
   "cell_type": "code",
   "source": [
    "# test_query = {'text': \"For Ziff Davis, Inc., what was the value of Cloud storage capacity (TB) at the end of the period listed in annual report? If data is not available, return 'N/A'.\", 'kind': 'number'}\n",
    "# test_query = {'text': \"For HCA Healthcare, Inc., what was the value of Number of healthcare professionals on staff at the end of the period listed in annual report? If data is not available, return 'N/A'.\", 'kind': 'number'}\n",
    "# For SIG plc, what was the value of Number of stores at year-end at the end of the period listed in annual report? If data is not available, return 'N/A'.\n",
    "test_query = {'text': \"For Albany International Corp., what was the value of Year-end patent portfolio (aerospace tech) at the end of the period listed in annual report? If data is not available, return 'N/A'.\", 'kind': 'number'}"
   ],
   "id": "589907f30e5ec70c",
   "outputs": [],
   "execution_count": 15
  },
  {
   "metadata": {
    "ExecuteTime": {
     "end_time": "2025-03-06T15:35:51.429114Z",
     "start_time": "2025-03-06T15:35:25.514632Z"
    }
   },
   "cell_type": "code",
   "source": [
    "response, _ = ask_question(test_query, APPROACH)  # n/a\n",
    "response"
   ],
   "id": "c5c790aa6cfca5bd",
   "outputs": [
    {
     "name": "stdout",
     "output_type": "stream",
     "text": [
      "## Query: {'text': \"For Albany International Corp., what was the value of Year-end patent portfolio (aerospace tech) at the end of the period listed in annual report? If data is not available, return 'N/A'.\", 'kind': 'number'}\n",
      "### ASKING DELEGATION MANAGER: \n",
      "Delegations: \n",
      " chain_of_thought=\"The query is focused on Albany International Corp., which I identified as the sole company from the given input. The request pertains to the value of the year-end patent portfolio specifically in aerospace technology. This information is generally found in the Intellectual Property (IP) section or Notes to Financial Statements in the annual report. Patents are part of intangible assets, which might also be reflected in the balance sheet or discussed in management discussion and analysis (MD&A) regarding company assets. Therefore, I've formulated a precise query targeting these specific sections of the annual report. No additional companies were mentioned or implied by the query, so I only needed to focus on Albany International Corp. In case the detailed year-end value of the aerospace tech patent portfolio is not available, the query directs to return 'N/A'.\" companies=['Albany International Corp.'] queries=[\"Retrieve the year-end value of Albany International Corp.'s aerospace technology patent portfolio as listed in their most recent annual report. This information is typically found in the Intellectual Property section, Notes to Financial Statements, or the Management Discussion and Analysis (MD&A) sections of the report. If specific value is not available, return 'N/A'.\"]\n",
      "### ASKING COMPANY EXPERT: \n",
      "Uploading da663e46fbf02ec8a90b3f3c1079ef4c9f7907e1 annual report...\n",
      "chain_of_thought=\"I searched the document for information about the value of Albany International Corp.'s aerospace technology patent portfolio. I did not find a specific value for the aerospace technology patent portfolio. Therefore, the answer is N/A.\" answer=['N/A'] references=[]\n",
      "### ASKING EXECUTION MANAGER: \n",
      "Context: {'Albany International Corp.': {'sha1': 'da663e46fbf02ec8a90b3f3c1079ef4c9f7907e1', 'response': CompanyAnswerGemini(chain_of_thought=\"I searched the document for information about the value of Albany International Corp.'s aerospace technology patent portfolio. I did not find a specific value for the aerospace technology patent portfolio. Therefore, the answer is N/A.\", answer=['N/A'], references=[])}}\n",
      "chain_of_thought=\"I searched the document for information about the value of Albany International Corp.'s aerospace technology patent portfolio. I did not find a specific value for the aerospace technology patent portfolio. Therefore, the answer is N/A.\" value=['N/A'] references=[]\n"
     ]
    },
    {
     "data": {
      "text/plain": [
       "AnswerLLM(chain_of_thought=\"I searched the document for information about the value of Albany International Corp.'s aerospace technology patent portfolio. I did not find a specific value for the aerospace technology patent portfolio. Therefore, the answer is N/A.\", value=['N/A'], references=[])"
      ]
     },
     "execution_count": 18,
     "metadata": {},
     "output_type": "execute_result"
    }
   ],
   "execution_count": 18
  },
  {
   "metadata": {},
   "cell_type": "markdown",
   "source": "## Obtain final results",
   "id": "6eff4555c6c481a2"
  },
  {
   "metadata": {
    "ExecuteTime": {
     "end_time": "2025-03-06T15:38:57.889939Z",
     "start_time": "2025-03-06T15:38:57.875279Z"
    }
   },
   "cell_type": "code",
   "source": [
    "class SourceReference(BaseModel):\n",
    "    pdf_sha1: str = Field(..., description=\"SHA1 hash of the PDF file\")\n",
    "    page_index: int = Field(..., description=\"Physical page number in the PDF file\")\n",
    "\n",
    "class Answer(BaseModel):\n",
    "    question_text: str = Field(..., description=\"Text of the question\")\n",
    "    kind: Literal[\"number\", \"name\", \"boolean\", \"names\"] = Field(..., description=\"Kind of the question\")\n",
    "    value: Union[float, str, bool, List[str], Literal[\"N/A\"]] = Field(..., description=\"Answer to the question, according to the question schema\")\n",
    "    references: List[SourceReference] = Field([], description=\"References to the source material in the PDF file\")\n",
    "\n",
    "class AnswerSubmission(BaseModel):\n",
    "    team_email: str = Field(..., description=\"Email that your team used to register for the challenge\")\n",
    "    submission_name: str = Field(..., description=\"Unique name of the submission (e.g. experiment name)\")\n",
    "    answers: List[Answer] = Field(..., description=\"List of answers to the questions\")"
   ],
   "id": "3f0421495e893d93",
   "outputs": [],
   "execution_count": 10
  },
  {
   "metadata": {
    "ExecuteTime": {
     "end_time": "2025-03-06T17:29:09.884453Z",
     "start_time": "2025-03-06T17:22:32.882478Z"
    }
   },
   "cell_type": "code",
   "source": [
    "with open(f\"../data/round2/questions.json\", \"r\") as file:\n",
    "    questions = json.load(file)\n",
    "\n",
    "# questions subset\n",
    "# questions = questions[2:5]  # FIXME\n",
    "# questions = [questions[i] for i in [2]]\n",
    "\n",
    "# Create submission based on answers list and store json\n",
    "answer_items = [None] * len(questions)\n",
    "failed_questions = []\n",
    "\n",
    "for i, question in enumerate(questions):\n",
    "    if i in [62, 66, 83, 91, 95, 96, 97]:\n",
    "        try:\n",
    "            print(\"\\n##############################\")\n",
    "            print(i, question)\n",
    "            answer, sha1 = ask_question(question, APPROACH)\n",
    "            print(sha1)\n",
    "\n",
    "\n",
    "            if answer.value[0] == \"N/A\":\n",
    "                value = \"N/A\"\n",
    "            if len(answer.value) == 1 and isinstance(answer.value, list):\n",
    "                value = answer.value[0]\n",
    "            else:\n",
    "                value = answer.value\n",
    "\n",
    "            answer_item = Answer(question_text=question[\"text\"], kind=question[\"kind\"], value=value, references=[SourceReference(**ref_object.model_dump()) for ref_object in answer.references])\n",
    "            answer_items[i] = answer_item\n",
    "\n",
    "        except Exception as e:\n",
    "            print(\"#+#+#+#+#+#\")\n",
    "            print(f\"Failed to answer question {i}: {e}\")\n",
    "            print(\"#+#+#+#+#+#\")\n",
    "            failed_questions.append(i)\n",
    "            # answer_item = Answer(question_text=question[\"text\"], kind=question[\"kind\"], value=\"n/a\", references=[])\n",
    "            # answer_items[i] = answer_item\n",
    "\n",
    "        print(\"\\n\\n\\n\\n\")\n",
    "\n",
    "        with open(f\"../data/round2/submissions/answer_items_{APPROACH}_v1.pkl\", \"wb\") as file:\n",
    "            pickle.dump(answer_items, file)\n",
    "\n",
    "        time.sleep(10)\n",
    "\n",
    "if failed_questions:\n",
    "    print(f\"WARNING: Failed to answer questions: {failed_questions}\")"
   ],
   "id": "75501e03f3fca5f9",
   "outputs": [
    {
     "name": "stdout",
     "output_type": "stream",
     "text": [
      "\n",
      "##############################\n",
      "62 {'text': 'Which of the companies had the lowest total assets in EUR at the end of the period listed in annual report: \"Playtech plc\", \"Datalogic\", \"Duni Group\", \"Poste Italiane\", \"Incyte Corporation\"? If data for the company is not available, exclude it from the comparison. If only one company is left, return this company.', 'kind': 'name'}\n",
      "## Query: {'text': 'Which of the companies had the lowest total assets in EUR at the end of the period listed in annual report: \"Playtech plc\", \"Datalogic\", \"Duni Group\", \"Poste Italiane\", \"Incyte Corporation\"? If data for the company is not available, exclude it from the comparison. If only one company is left, return this company.', 'kind': 'name'}\n",
      "### ASKING DELEGATION MANAGER: \n",
      "Delegations: \n",
      " chain_of_thought='The task requires determining the company with the lowest total assets in EUR from a list of companies. To accomplish this, I identified the companies involved: Playtech plc, Datalogic, Duni Group, Poste Italiane, and Incyte Corporation. As assets information is typically included in the \"Consolidated Statement of Financial Position\" or as part of the \"Balance Sheet\" section in the annual reports, the queries will focus on retrieving data from these sections. If asset data is not provided in EUR in the reports, it should be converted using the exchange rate at the report\\'s date for uniform comparison. Since the query is specific to asset data, financial terminology and location within the reports, the queries are devoid of companies currently without available data, allowing me to proceed only with those that have readily accessible information. If any annual reports are not available or do not specify the specified details, those companies will be naturally excluded without explicit marking them as \\'SKIP\\'.' companies=['Incyte Corporation', 'Datalogic', 'Poste Italiane', 'Playtech plc', 'Duni Group'] queries=[\"Find the total assets in the balance sheet or 'Consolidated Statement of Financial Position' section of Incyte Corporation's most recent annual report and convert it to EUR if not already provided.\", \"Check Datalogic's latest annual report for total assets within the 'Balance Sheet' or 'Consolidated Statement of Financial Position' and ensure the value is in EUR or convert if necessary.\", \"Locate the total assets in Poste Italiane's most recent annual report. This can typically be found under the 'Balance Sheet' or 'Consolidated Statement of Financial Position' in EUR.\", \"Retrieve total assets for Playtech plc from their most recent annual report, usually provided in the 'Balance Sheet' or 'Consolidated Statement of Financial Position.' Convert to EUR if required.\", \"Access Duni Group's latest annual report and find the total assets figure in the 'Balance Sheet' or 'Consolidated Statement of Financial Position' section, ensuring it is presented in EUR if not needing conversion.\"]\n",
      "### ASKING COMPANY EXPERT: \n",
      "Found 4d3e52b69b4b5366e54ce87cf641b01b1419bdee_annual_report\n",
      "chain_of_thought='I located the consolidated balance sheets within the document. I then extracted the total assets value from the balance sheet as of December 31, 2022, which is $5,840,984,000. The value is already in USD, so no conversion is needed. I will output the value as a number.' answer=['5840984000'] references=['83']\n",
      "### ASKING COMPANY EXPERT: \n",
      "Found 980742aa08ea64d552c153bcefbd7e8243fb9efd_annual_report\n",
      "chain_of_thought=\"I have located the 'Consolidated Statement of Financial Position' and extracted the 'Total Assets' value for 2022, which is 845511 in Euro thousands. Converting this to EUR, the total assets are 845511000.\" answer=['845511000'] references=['72']\n",
      "### ASKING COMPANY EXPERT: \n",
      "Found c74139ce26a6f803725f5074a8a0f539abb99c09_annual_report\n",
      "#+#+#+#+#+#\n",
      "Failed to answer question 62: 400 INVALID_ARGUMENT. {'error': {'code': 400, 'message': \"The request's total referenced files bytes are too large to be read\", 'status': 'INVALID_ARGUMENT'}}\n",
      "#+#+#+#+#+#\n",
      "\n",
      "\n",
      "\n",
      "\n",
      "\n",
      "\n",
      "##############################\n",
      "66 {'text': 'Did Trinity Place Holdings Inc. mention any mergers or acquisitions in the annual report? If there is no mention, return False.', 'kind': 'boolean'}\n",
      "## Query: {'text': 'Did Trinity Place Holdings Inc. mention any mergers or acquisitions in the annual report? If there is no mention, return False.', 'kind': 'boolean'}\n",
      "### ASKING DELEGATION MANAGER: \n",
      "Delegations: \n",
      " chain_of_thought=\"The query requests information on mergers or acquisitions mentioned in the annual report of Trinity Place Holdings Inc. The identified company was Trinity Place Holdings Inc., based directly on the query provided. To extract this information, the specialized agent should look into specific sections of the annual report, such as the 'Management Discussion and Analysis' section, sometimes titled 'MD&A', or the 'Notes to the Financial Statements' which often include details on mergers and acquisitions. These sections typically provide in-depth information related to such corporate activities. It's assumed that if no mention is found in these sections, then the result should be considered as False.\" companies=['Trinity Place Holdings Inc.'] queries=[\"Search the latest annual report of Trinity Place Holdings Inc. for any mentioned mergers or acquisitions. Check sections like 'Management Discussion and Analysis (MD&A)' and 'Notes to the Financial Statements'. If no mention is found, return False.\"]\n",
      "### ASKING COMPANY EXPERT: \n",
      "Found e229fc9f5c694e93b02ac312c231607a04e3e528_annual_report\n",
      "chain_of_thought='I have reviewed the provided document, specifically looking for mentions of mergers or acquisitions within the business overview, MD&A, and notes to the financial statements. After a thorough search, I found no explicit mention of any merger or acquisition activity involving Trinity Place Holdings Inc.' answer=['no'] references=['1', '2', '3', '4', '5', '6', '7', '8', '9', '10', '11', '12', '13', '14', '15', '16', '17', '18', '19', '20', '21', '22', '23', '24', '25', '26', '27', '28', '29', '30', '31', '32', '33', '34', '35', '36', '37', '38', '39', '40', '41', '42', '43', '44', '45', '46', '47', '48', '49', '50', '51', '52', '53', '54', '55', '56', '57', '58', '59', '60', '61', '62', '63', '64', '65', '66', '67', '68', '69', '70', '71', '72', '73', '74', '75', '76', '77', '78', '79', '80', '81', '82', '83', '84', '85', '86', '87', '88', '89', '90', '91', '92', '93', '94', '95']\n",
      "### ASKING EXECUTION MANAGER: \n",
      "Context: {'Trinity Place Holdings Inc.': {'sha1': 'e229fc9f5c694e93b02ac312c231607a04e3e528', 'response': CompanyAnswerGemini(chain_of_thought='I have reviewed the provided document, specifically looking for mentions of mergers or acquisitions within the business overview, MD&A, and notes to the financial statements. After a thorough search, I found no explicit mention of any merger or acquisition activity involving Trinity Place Holdings Inc.', answer=['no'], references=['1', '2', '3', '4', '5', '6', '7', '8', '9', '10', '11', '12', '13', '14', '15', '16', '17', '18', '19', '20', '21', '22', '23', '24', '25', '26', '27', '28', '29', '30', '31', '32', '33', '34', '35', '36', '37', '38', '39', '40', '41', '42', '43', '44', '45', '46', '47', '48', '49', '50', '51', '52', '53', '54', '55', '56', '57', '58', '59', '60', '61', '62', '63', '64', '65', '66', '67', '68', '69', '70', '71', '72', '73', '74', '75', '76', '77', '78', '79', '80', '81', '82', '83', '84', '85', '86', '87', '88', '89', '90', '91', '92', '93', '94', '95'])}}\n",
      "chain_of_thought=\"The provided document for Trinity Place Holdings Inc. was reviewed, and it was found that there was no mention of any merger or acquisition activity. Therefore, the answer is 'no'.\" value=['no'] references=[SourceReference(pdf_sha1='e229fc9f5c694e93b02ac312c231607a04e3e528', page_index=1), SourceReference(pdf_sha1='e229fc9f5c694e93b02ac312c231607a04e3e528', page_index=2), SourceReference(pdf_sha1='e229fc9f5c694e93b02ac312c231607a04e3e528', page_index=3), SourceReference(pdf_sha1='e229fc9f5c694e93b02ac312c231607a04e3e528', page_index=4), SourceReference(pdf_sha1='e229fc9f5c694e93b02ac312c231607a04e3e528', page_index=5), SourceReference(pdf_sha1='e229fc9f5c694e93b02ac312c231607a04e3e528', page_index=6), SourceReference(pdf_sha1='e229fc9f5c694e93b02ac312c231607a04e3e528', page_index=7), SourceReference(pdf_sha1='e229fc9f5c694e93b02ac312c231607a04e3e528', page_index=8), SourceReference(pdf_sha1='e229fc9f5c694e93b02ac312c231607a04e3e528', page_index=9), SourceReference(pdf_sha1='e229fc9f5c694e93b02ac312c231607a04e3e528', page_index=10), SourceReference(pdf_sha1='e229fc9f5c694e93b02ac312c231607a04e3e528', page_index=11), SourceReference(pdf_sha1='e229fc9f5c694e93b02ac312c231607a04e3e528', page_index=12), SourceReference(pdf_sha1='e229fc9f5c694e93b02ac312c231607a04e3e528', page_index=13), SourceReference(pdf_sha1='e229fc9f5c694e93b02ac312c231607a04e3e528', page_index=14), SourceReference(pdf_sha1='e229fc9f5c694e93b02ac312c231607a04e3e528', page_index=15), SourceReference(pdf_sha1='e229fc9f5c694e93b02ac312c231607a04e3e528', page_index=16), SourceReference(pdf_sha1='e229fc9f5c694e93b02ac312c231607a04e3e528', page_index=17), SourceReference(pdf_sha1='e229fc9f5c694e93b02ac312c231607a04e3e528', page_index=18), SourceReference(pdf_sha1='e229fc9f5c694e93b02ac312c231607a04e3e528', page_index=19), SourceReference(pdf_sha1='e229fc9f5c694e93b02ac312c231607a04e3e528', page_index=20), SourceReference(pdf_sha1='e229fc9f5c694e93b02ac312c231607a04e3e528', page_index=21), SourceReference(pdf_sha1='e229fc9f5c694e93b02ac312c231607a04e3e528', page_index=22), SourceReference(pdf_sha1='e229fc9f5c694e93b02ac312c231607a04e3e528', page_index=23), SourceReference(pdf_sha1='e229fc9f5c694e93b02ac312c231607a04e3e528', page_index=24), SourceReference(pdf_sha1='e229fc9f5c694e93b02ac312c231607a04e3e528', page_index=25), SourceReference(pdf_sha1='e229fc9f5c694e93b02ac312c231607a04e3e528', page_index=26), SourceReference(pdf_sha1='e229fc9f5c694e93b02ac312c231607a04e3e528', page_index=27), SourceReference(pdf_sha1='e229fc9f5c694e93b02ac312c231607a04e3e528', page_index=28), SourceReference(pdf_sha1='e229fc9f5c694e93b02ac312c231607a04e3e528', page_index=29), SourceReference(pdf_sha1='e229fc9f5c694e93b02ac312c231607a04e3e528', page_index=30), SourceReference(pdf_sha1='e229fc9f5c694e93b02ac312c231607a04e3e528', page_index=31), SourceReference(pdf_sha1='e229fc9f5c694e93b02ac312c231607a04e3e528', page_index=32), SourceReference(pdf_sha1='e229fc9f5c694e93b02ac312c231607a04e3e528', page_index=33), SourceReference(pdf_sha1='e229fc9f5c694e93b02ac312c231607a04e3e528', page_index=34), SourceReference(pdf_sha1='e229fc9f5c694e93b02ac312c231607a04e3e528', page_index=35), SourceReference(pdf_sha1='e229fc9f5c694e93b02ac312c231607a04e3e528', page_index=36), SourceReference(pdf_sha1='e229fc9f5c694e93b02ac312c231607a04e3e528', page_index=37), SourceReference(pdf_sha1='e229fc9f5c694e93b02ac312c231607a04e3e528', page_index=38), SourceReference(pdf_sha1='e229fc9f5c694e93b02ac312c231607a04e3e528', page_index=39), SourceReference(pdf_sha1='e229fc9f5c694e93b02ac312c231607a04e3e528', page_index=40), SourceReference(pdf_sha1='e229fc9f5c694e93b02ac312c231607a04e3e528', page_index=41), SourceReference(pdf_sha1='e229fc9f5c694e93b02ac312c231607a04e3e528', page_index=42), SourceReference(pdf_sha1='e229fc9f5c694e93b02ac312c231607a04e3e528', page_index=43), SourceReference(pdf_sha1='e229fc9f5c694e93b02ac312c231607a04e3e528', page_index=44), SourceReference(pdf_sha1='e229fc9f5c694e93b02ac312c231607a04e3e528', page_index=45), SourceReference(pdf_sha1='e229fc9f5c694e93b02ac312c231607a04e3e528', page_index=46), SourceReference(pdf_sha1='e229fc9f5c694e93b02ac312c231607a04e3e528', page_index=47), SourceReference(pdf_sha1='e229fc9f5c694e93b02ac312c231607a04e3e528', page_index=48), SourceReference(pdf_sha1='e229fc9f5c694e93b02ac312c231607a04e3e528', page_index=49), SourceReference(pdf_sha1='e229fc9f5c694e93b02ac312c231607a04e3e528', page_index=50), SourceReference(pdf_sha1='e229fc9f5c694e93b02ac312c231607a04e3e528', page_index=51), SourceReference(pdf_sha1='e229fc9f5c694e93b02ac312c231607a04e3e528', page_index=52), SourceReference(pdf_sha1='e229fc9f5c694e93b02ac312c231607a04e3e528', page_index=53), SourceReference(pdf_sha1='e229fc9f5c694e93b02ac312c231607a04e3e528', page_index=54), SourceReference(pdf_sha1='e229fc9f5c694e93b02ac312c231607a04e3e528', page_index=55), SourceReference(pdf_sha1='e229fc9f5c694e93b02ac312c231607a04e3e528', page_index=56), SourceReference(pdf_sha1='e229fc9f5c694e93b02ac312c231607a04e3e528', page_index=57), SourceReference(pdf_sha1='e229fc9f5c694e93b02ac312c231607a04e3e528', page_index=58), SourceReference(pdf_sha1='e229fc9f5c694e93b02ac312c231607a04e3e528', page_index=59), SourceReference(pdf_sha1='e229fc9f5c694e93b02ac312c231607a04e3e528', page_index=60), SourceReference(pdf_sha1='e229fc9f5c694e93b02ac312c231607a04e3e528', page_index=61), SourceReference(pdf_sha1='e229fc9f5c694e93b02ac312c231607a04e3e528', page_index=62), SourceReference(pdf_sha1='e229fc9f5c694e93b02ac312c231607a04e3e528', page_index=63), SourceReference(pdf_sha1='e229fc9f5c694e93b02ac312c231607a04e3e528', page_index=64), SourceReference(pdf_sha1='e229fc9f5c694e93b02ac312c231607a04e3e528', page_index=65), SourceReference(pdf_sha1='e229fc9f5c694e93b02ac312c231607a04e3e528', page_index=66), SourceReference(pdf_sha1='e229fc9f5c694e93b02ac312c231607a04e3e528', page_index=67), SourceReference(pdf_sha1='e229fc9f5c694e93b02ac312c231607a04e3e528', page_index=68), SourceReference(pdf_sha1='e229fc9f5c694e93b02ac312c231607a04e3e528', page_index=69), SourceReference(pdf_sha1='e229fc9f5c694e93b02ac312c231607a04e3e528', page_index=70), SourceReference(pdf_sha1='e229fc9f5c694e93b02ac312c231607a04e3e528', page_index=71), SourceReference(pdf_sha1='e229fc9f5c694e93b02ac312c231607a04e3e528', page_index=72), SourceReference(pdf_sha1='e229fc9f5c694e93b02ac312c231607a04e3e528', page_index=73), SourceReference(pdf_sha1='e229fc9f5c694e93b02ac312c231607a04e3e528', page_index=74), SourceReference(pdf_sha1='e229fc9f5c694e93b02ac312c231607a04e3e528', page_index=75), SourceReference(pdf_sha1='e229fc9f5c694e93b02ac312c231607a04e3e528', page_index=76), SourceReference(pdf_sha1='e229fc9f5c694e93b02ac312c231607a04e3e528', page_index=77), SourceReference(pdf_sha1='e229fc9f5c694e93b02ac312c231607a04e3e528', page_index=78), SourceReference(pdf_sha1='e229fc9f5c694e93b02ac312c231607a04e3e528', page_index=79), SourceReference(pdf_sha1='e229fc9f5c694e93b02ac312c231607a04e3e528', page_index=80), SourceReference(pdf_sha1='e229fc9f5c694e93b02ac312c231607a04e3e528', page_index=81), SourceReference(pdf_sha1='e229fc9f5c694e93b02ac312c231607a04e3e528', page_index=82), SourceReference(pdf_sha1='e229fc9f5c694e93b02ac312c231607a04e3e528', page_index=83), SourceReference(pdf_sha1='e229fc9f5c694e93b02ac312c231607a04e3e528', page_index=84), SourceReference(pdf_sha1='e229fc9f5c694e93b02ac312c231607a04e3e528', page_index=85), SourceReference(pdf_sha1='e229fc9f5c694e93b02ac312c231607a04e3e528', page_index=86), SourceReference(pdf_sha1='e229fc9f5c694e93b02ac312c231607a04e3e528', page_index=87), SourceReference(pdf_sha1='e229fc9f5c694e93b02ac312c231607a04e3e528', page_index=88), SourceReference(pdf_sha1='e229fc9f5c694e93b02ac312c231607a04e3e528', page_index=89), SourceReference(pdf_sha1='e229fc9f5c694e93b02ac312c231607a04e3e528', page_index=90), SourceReference(pdf_sha1='e229fc9f5c694e93b02ac312c231607a04e3e528', page_index=91), SourceReference(pdf_sha1='e229fc9f5c694e93b02ac312c231607a04e3e528', page_index=92), SourceReference(pdf_sha1='e229fc9f5c694e93b02ac312c231607a04e3e528', page_index=93), SourceReference(pdf_sha1='e229fc9f5c694e93b02ac312c231607a04e3e528', page_index=94), SourceReference(pdf_sha1='e229fc9f5c694e93b02ac312c231607a04e3e528', page_index=95)]\n",
      "None\n",
      "\n",
      "\n",
      "\n",
      "\n",
      "\n",
      "\n",
      "##############################\n",
      "83 {'text': 'Which of the companies had the lowest total assets in EUR at the end of the period listed in annual report: \"Incyte Corporation\", \"INMUNE BIO INC.\", \"Datalogic\", \"Terns Pharmaceuticals, Inc.\", \"RWE AG\"? If data for the company is not available, exclude it from the comparison. If only one company is left, return this company.', 'kind': 'name'}\n",
      "## Query: {'text': 'Which of the companies had the lowest total assets in EUR at the end of the period listed in annual report: \"Incyte Corporation\", \"INMUNE BIO INC.\", \"Datalogic\", \"Terns Pharmaceuticals, Inc.\", \"RWE AG\"? If data for the company is not available, exclude it from the comparison. If only one company is left, return this company.', 'kind': 'name'}\n",
      "### ASKING DELEGATION MANAGER: \n",
      "Delegations: \n",
      " chain_of_thought=\"First, the task requires comparing total assets in EUR for five identified companies. If any company doesn't report their financials in EUR, they should be excluded, as converting multiple currencies might introduce inaccuracies.\\n\\n1. **Incyte Corporation, INMUNE BIO INC., Terns Pharmaceuticals, Inc.**: These companies are based in the US and likely report in USD. Due to the requirement to compare assets in EUR, it's probable their figures will not directly address the query unless they specifically provide a EUR conversion in their reports, typically in sections like 'Summary of Selected Financial Data'. \\n\\n2. **Datalogic**: This is an Italian company that likely reports its financials in EUR. The financial status can generally be found in the 'Consolidated Financial Statements' or 'Balance Sheet'.\\n\\n3. **RWE AG**: As a German company, RWE AG should report in EUR by default. This information usually appears in the 'Consolidated Statement of Financial Position' or equivalent.\\n\\nGiven the focus on EUR, initial priority will be on Datalogic and RWE AG. We will retrieve financial data only from these two companies unless other companies report amounts in EUR.\" companies=['Incyte Corporation', 'INMUNE BIO INC.', 'Terns Pharmaceuticals, Inc.', 'Datalogic', 'RWE AG'] queries=[\"Retrieve the section of the annual report or financial statement where Incyte Corporation provides their total assets, specifically looking for any conversion to EUR, often found in 'Summary of Selected Financial Data'.\", \"Retrieve the section of the annual report or financial summary where INMUNE BIO INC. lists their total assets, with a specific search for EUR conversion, usually found in the 'Financial Highlights' or similar sections.\", \"Retrieve the section in the annual report or financial documentation of Terns Pharmaceuticals, Inc. showing total assets, particularly in EUR. These might be available in 'Management's Discussion and Analysis of Financial Condition and Results of Operations'.\", \"Retrieve the latest annual report or financial statement of Datalogic, specifically the 'Consolidated Balance Sheet' to find the total assets listed in EUR.\", \"Retrieve the latest annual report or financial statement for RWE AG, focusing on the 'Consolidated Statement of Financial Position' to obtain total assets in EUR.\"]\n",
      "### ASKING COMPANY EXPERT: \n",
      "Found 4d3e52b69b4b5366e54ce87cf641b01b1419bdee_annual_report\n",
      "chain_of_thought=\"I did not find the section of the annual report or financial statement where Incyte Corporation provides their total assets, specifically looking for any conversion to EUR, often found in 'Summary of Selected Financial Data'.\" answer=['N/A'] references=[]\n",
      "### ASKING COMPANY EXPERT: \n",
      "Found 553afbf09b6d83166b17acb02431c6cf38e4defc_annual_report\n",
      "chain_of_thought='I am unable to find the section of the annual report or financial summary where INMUNE BIO INC. lists their total assets, with a specific search for EUR conversion. Therefore, I will respond with N/A.' answer=['N/A'] references=[]\n",
      "### ASKING COMPANY EXPERT: \n",
      "Found 79ffb9b8682aa565172233c070a47d944464644c_annual_report\n",
      "chain_of_thought=\"I searched the document for mentions of 'total assets' and 'EUR' but could not find any information about total assets in EUR. Therefore, I am returning 'N/A'.\" answer=['N/A'] references=[]\n",
      "### ASKING COMPANY EXPERT: \n",
      "Found 980742aa08ea64d552c153bcefbd7e8243fb9efd_annual_report\n",
      "chain_of_thought='I have located the Consolidated Statement of Financial Position in the provided document. I will extract the total assets as of December 31, 2022, as requested.' answer=['845511'] references=['72']\n",
      "### ASKING COMPANY EXPERT: \n",
      "Found cc0fc5888b99758100a7ff024863fc4337b6b3c5_annual_report\n",
      "chain_of_thought='I am unable to locate the total assets in EUR from the provided document. The document is an annual report for 2022, but it does not contain the consolidated statement of financial position or balance sheet information needed to answer the question.' answer=['N/A'] references=['0']\n",
      "### ASKING EXECUTION MANAGER: \n",
      "Context: {'Incyte Corporation': {'sha1': '4d3e52b69b4b5366e54ce87cf641b01b1419bdee', 'response': CompanyAnswerGemini(chain_of_thought=\"I did not find the section of the annual report or financial statement where Incyte Corporation provides their total assets, specifically looking for any conversion to EUR, often found in 'Summary of Selected Financial Data'.\", answer=['N/A'], references=[])}, 'INMUNE BIO INC.': {'sha1': '553afbf09b6d83166b17acb02431c6cf38e4defc', 'response': CompanyAnswerGemini(chain_of_thought='I am unable to find the section of the annual report or financial summary where INMUNE BIO INC. lists their total assets, with a specific search for EUR conversion. Therefore, I will respond with N/A.', answer=['N/A'], references=[])}, 'Terns Pharmaceuticals, Inc.': {'sha1': '79ffb9b8682aa565172233c070a47d944464644c', 'response': CompanyAnswerGemini(chain_of_thought=\"I searched the document for mentions of 'total assets' and 'EUR' but could not find any information about total assets in EUR. Therefore, I am returning 'N/A'.\", answer=['N/A'], references=[])}, 'Datalogic': {'sha1': '980742aa08ea64d552c153bcefbd7e8243fb9efd', 'response': CompanyAnswerGemini(chain_of_thought='I have located the Consolidated Statement of Financial Position in the provided document. I will extract the total assets as of December 31, 2022, as requested.', answer=['845511'], references=['72'])}, 'RWE AG': {'sha1': 'cc0fc5888b99758100a7ff024863fc4337b6b3c5', 'response': CompanyAnswerGemini(chain_of_thought='I am unable to locate the total assets in EUR from the provided document. The document is an annual report for 2022, but it does not contain the consolidated statement of financial position or balance sheet information needed to answer the question.', answer=['N/A'], references=['0'])}}\n",
      "chain_of_thought='I will first check which companies have the data available. The available companies are Datalogic. Therefore, the company with the lowest total assets in EUR is Datalogic.' value=['Datalogic'] references=[SourceReference(pdf_sha1='980742aa08ea64d552c153bcefbd7e8243fb9efd', page_index=72)]\n",
      "None\n",
      "\n",
      "\n",
      "\n",
      "\n",
      "\n",
      "\n",
      "##############################\n",
      "91 {'text': 'Did Incitec Pivot Limited detail any restructuring plans in the latest filing? If there is no mention, return False.', 'kind': 'boolean'}\n",
      "## Query: {'text': 'Did Incitec Pivot Limited detail any restructuring plans in the latest filing? If there is no mention, return False.', 'kind': 'boolean'}\n",
      "### ASKING DELEGATION MANAGER: \n",
      "Delegations: \n",
      " chain_of_thought=\"I identified the company from the query as Incitec Pivot Limited. The query requests details on any restructuring plans in its recent filings. I formulated a query to instruct the specialized agent to find this information. Restructuring plans are typically disclosed in sections of the annual report or filings such as 'Management Discussion and Analysis' (MD&A), 'Notes to Financial Statements', or sometimes in a separate section detailing strategic initiatives. The query is straightforward, looking for any mention of restructuring plans and whether they were disclosed or not. As per the instructions, if the information is unavailable, the agent is expected to return 'False'.\" companies=['Incitec Pivot Limited'] queries=[\"Incitec Pivot Limited: Search the latest company filings or annual report for any mention of restructuring plans. Check sections like 'Management Discussion and Analysis' (MD&A), 'Notes to Financial Statements', or strategic initiatives. If no such plans are mentioned, return 'False'.\"]\n",
      "### ASKING COMPANY EXPERT: \n",
      "Found 6529fba868216a923407fb0d4e15a811a8e89ebc_annual_report\n",
      "chain_of_thought=\"I have reviewed the document and found mentions of a demerger proposal and a strategic review of the Waggaman plant, but no explicit mention of broader restructuring plans. Therefore, the answer is 'no'.\" answer=['no'] references=['9', '15', '16', '17', '19', '22']\n",
      "### ASKING EXECUTION MANAGER: \n",
      "Context: {'Incitec Pivot Limited': {'sha1': '6529fba868216a923407fb0d4e15a811a8e89ebc', 'response': CompanyAnswerGemini(chain_of_thought=\"I have reviewed the document and found mentions of a demerger proposal and a strategic review of the Waggaman plant, but no explicit mention of broader restructuring plans. Therefore, the answer is 'no'.\", answer=['no'], references=['9', '15', '16', '17', '19', '22'])}}\n",
      "chain_of_thought=\"I have reviewed the provided context for Incitec Pivot Limited. The context indicates that the document mentions a demerger proposal and a strategic review of the Waggaman plant, but it explicitly states that there is no mention of broader restructuring plans. Therefore, the answer is 'no'.\" value=['no'] references=[SourceReference(pdf_sha1='6529fba868216a923407fb0d4e15a811a8e89ebc', page_index=9), SourceReference(pdf_sha1='6529fba868216a923407fb0d4e15a811a8e89ebc', page_index=15), SourceReference(pdf_sha1='6529fba868216a923407fb0d4e15a811a8e89ebc', page_index=16), SourceReference(pdf_sha1='6529fba868216a923407fb0d4e15a811a8e89ebc', page_index=17), SourceReference(pdf_sha1='6529fba868216a923407fb0d4e15a811a8e89ebc', page_index=19), SourceReference(pdf_sha1='6529fba868216a923407fb0d4e15a811a8e89ebc', page_index=22)]\n",
      "None\n",
      "\n",
      "\n",
      "\n",
      "\n",
      "\n",
      "\n",
      "##############################\n",
      "95 {'text': \"According to the annual report, what is the Cash flow from operations (in GBP) for James Halstead plc  (within the last period or at the end of the last period)? If data is not available, return 'N/A'.\", 'kind': 'number'}\n",
      "## Query: {'text': \"According to the annual report, what is the Cash flow from operations (in GBP) for James Halstead plc  (within the last period or at the end of the last period)? If data is not available, return 'N/A'.\", 'kind': 'number'}\n",
      "### ASKING DELEGATION MANAGER: \n",
      "Delegations: \n",
      " chain_of_thought='The query specifically asks for the Cash Flow from Operations for James Halstead plc based on their annual report. James Halstead plc is identified as the sole company for which information is needed. From financial reports, information about cash flow from operations is typically found within the Cash Flow Statement section. Hence, the task for the specialized agent is to retrieve this specific figure in GBP from the most recent report available for James Halstead plc. Based on this structured need, I formulated a precise query that the specialized agent can utilize to extract the required information efficiently.' companies=['James Halstead plc'] queries=['Retrieve the Cash Flow from Operations in GBP for the most recent period or at the end of the last period from the annual report of James Halstead plc. This information is typically located within the Cash Flow Statement section of the report.']\n",
      "### ASKING COMPANY EXPERT: \n",
      "Found 71d137454a1524843e1f49b34603438510232919_annual_report\n",
      "chain_of_thought='I need to locate the Cash Flow Statement to find the Cash Flow from Operations. According to the table of contents on page 4, the Consolidated Cash Flow Statement is on page 34. I will extract the value from that page.' answer=['16414000'] references=['34']\n",
      "### ASKING EXECUTION MANAGER: \n",
      "Context: {'James Halstead plc': {'sha1': '71d137454a1524843e1f49b34603438510232919', 'response': CompanyAnswerGemini(chain_of_thought='I need to locate the Cash Flow Statement to find the Cash Flow from Operations. According to the table of contents on page 4, the Consolidated Cash Flow Statement is on page 34. I will extract the value from that page.', answer=['16414000'], references=['34'])}}\n",
      "chain_of_thought='The user is asking for the Cash flow from operations for James Halstead plc. According to the provided data, the Cash flow from operations is 16414000.' value=['16414000'] references=[SourceReference(pdf_sha1='71d137454a1524843e1f49b34603438510232919', page_index=34)]\n",
      "None\n",
      "\n",
      "\n",
      "\n",
      "\n",
      "\n",
      "\n",
      "##############################\n",
      "96 {'text': \"What was the value of End-of-year tech staff headcount of archTIS Limited at the end of the period listed in annual report? If data is not available, return 'N/A'.\", 'kind': 'number'}\n",
      "## Query: {'text': \"What was the value of End-of-year tech staff headcount of archTIS Limited at the end of the period listed in annual report? If data is not available, return 'N/A'.\", 'kind': 'number'}\n",
      "### ASKING DELEGATION MANAGER: \n",
      "Delegations: \n",
      " chain_of_thought=\"The query is seeking the end-of-year headcount of technological staff members within archTIS Limited, a company that specializes in technology services. To respond to this request, I first identify the key company involved, which is archTIS Limited. \\n\\nNext, I must consider where in the company's annual report this information might typically be located. Staffing numbers, especially concerning specialized tech staff, are often discussed in sections of the annual report dealing with human resources, corporate governance, or segments of the report focused on operational achievements or business developments which might require significant tech support.\\n\\nI crafted a precise query that will guide the specialized agent to look into these specific sections for details related to tech staff. In some cases, the company might list overall employee numbers and then break that data down into specific departments such as R&D (research and development) or IT (information technology), which might collectively comprise 'tech staff'.\\n\\nThe query assumes no prior data is available; therefore, if no data is found in the identified sections, the response will be 'N/A'.\" companies=['archTIS Limited'] queries=[\"Retrieve the end-of-year tech staff headcount for archTIS Limited as reported in their latest annual report. Focus on sections discussing human resources, corporate governance, or any overview of business operations that include IT or R&D statistics. If unavailable, document response as 'N/A'.\"]\n",
      "### ASKING COMPANY EXPERT: \n",
      "Found c06d5ad4b6408fec26675d30b37a6042c007095a_annual_report\n",
      "chain_of_thought='I am unable to find the end-of-year tech staff headcount for archTIS Limited in the provided annual report. The document does not contain specific details about the number of employees in technical roles or any related statistics.' answer=['N/A'] references=[]\n",
      "### ASKING EXECUTION MANAGER: \n",
      "Context: {'archTIS Limited': {'sha1': 'c06d5ad4b6408fec26675d30b37a6042c007095a', 'response': CompanyAnswerGemini(chain_of_thought='I am unable to find the end-of-year tech staff headcount for archTIS Limited in the provided annual report. The document does not contain specific details about the number of employees in technical roles or any related statistics.', answer=['N/A'], references=[])}}\n",
      "chain_of_thought='I am unable to find the end-of-year tech staff headcount for archTIS Limited in the provided annual report. The document does not contain specific details about the number of employees in technical roles or any related statistics. Therefore, the answer is N/A.' value=['N/A'] references=[]\n",
      "None\n",
      "\n",
      "\n",
      "\n",
      "\n",
      "\n",
      "\n",
      "##############################\n",
      "97 {'text': \"For Westwater Resources, Inc., what was the value of Percentage of renewable energy capacity at the end of the period listed in annual report? If data is not available, return 'N/A'.\", 'kind': 'number'}\n",
      "## Query: {'text': \"For Westwater Resources, Inc., what was the value of Percentage of renewable energy capacity at the end of the period listed in annual report? If data is not available, return 'N/A'.\", 'kind': 'number'}\n",
      "### ASKING DELEGATION MANAGER: \n",
      "Delegations: \n",
      " chain_of_thought='To address the query, I first identified the company in question, which was explicitly mentioned as \"Westwater Resources, Inc.\". The user is asking for the percentage of renewable energy capacity at the end of the period, which seems to be related to sustainability metrics or energy production capabilities of the company. \\n\\nWestwater Resources, Inc. is involved in the development of energy materials, so it\\'s likely that such metrics might be reported in sections of their annual report devoted to sustainability, operations, or energy developments. Typically, one would look at the company’s annual report under sections like \"Business Overview,\" or specifically under subsections that discuss production capabilities or sustainability initiatives and performance. \\n\\nBased on this information, I formulated a query that aims to extract the percentage of renewable energy capacity mentioned in the most recent annual report of Westwater Resources, Inc. If the information is not present, I also provided a note to return \\'N/A\\', aligning with the user\\'s request guidelines.' companies=['Westwater Resources, Inc.'] queries=[\"Retrieve the percentage value of renewable energy capacity at the end of the fiscal period as listed in the most recent annual report of Westwater Resources, Inc., or if the data is not available, return 'N/A'. Look for this information in sections related to sustainability, operations, or energy developments.\"]\n",
      "### ASKING COMPANY EXPERT: \n",
      "Found 92d9de8e4db96e0b95a484afcd1c54c6beb62c03_annual_report\n",
      "chain_of_thought=\"I have reviewed the document and found no specific percentage value for renewable energy capacity. Therefore, I must return 'N/A'.\" answer=['N/A'] references=[]\n",
      "### ASKING EXECUTION MANAGER: \n",
      "Context: {'Westwater Resources, Inc.': {'sha1': '92d9de8e4db96e0b95a484afcd1c54c6beb62c03', 'response': CompanyAnswerGemini(chain_of_thought=\"I have reviewed the document and found no specific percentage value for renewable energy capacity. Therefore, I must return 'N/A'.\", answer=['N/A'], references=[])}}\n",
      "chain_of_thought=\"I have reviewed the provided document for Westwater Resources, Inc. and found no specific percentage value for renewable energy capacity. Therefore, I must return 'N/A'.\" value=['N/A'] references=[]\n",
      "None\n",
      "\n",
      "\n",
      "\n",
      "\n",
      "\n",
      "WARNING: Failed to answer questions: [62]\n"
     ]
    }
   ],
   "execution_count": 29
  },
  {
   "metadata": {},
   "cell_type": "code",
   "outputs": [],
   "execution_count": null,
   "source": "[62, 66, 83, 91, 95, 96, 97]",
   "id": "dbbd8e9a83ccd31d"
  },
  {
   "metadata": {
    "ExecuteTime": {
     "end_time": "2025-03-06T17:22:04.878748Z",
     "start_time": "2025-03-06T17:22:04.862864Z"
    }
   },
   "cell_type": "code",
   "source": [
    "# with open(f\"../data/round2/submissions/answer_items_{APPROACH}_v2.pkl\", \"wb\") as file:\n",
    "#     pickle.dump(answer_items, file)"
   ],
   "id": "f8632dbb16158a82",
   "outputs": [],
   "execution_count": 28
  },
  {
   "metadata": {
    "ExecuteTime": {
     "end_time": "2025-03-06T17:35:07.588626Z",
     "start_time": "2025-03-06T17:35:07.577846Z"
    }
   },
   "cell_type": "code",
   "source": [
    "# Manual correction\n",
    "idx = 62\n",
    "\n",
    "answer_item = Answer(question_text=questions[idx][\"text\"], kind=questions[idx][\"kind\"], value=\"n/a\", references=[])\n",
    "\n",
    "if not answer_items[idx]:\n",
    "    answer_items[idx] = answer_item\n",
    "    print(answer_items[idx])\n",
    "else:\n",
    "    print(\"Warning, item already exists\")"
   ],
   "id": "90f6ea2009678c0e",
   "outputs": [
    {
     "name": "stdout",
     "output_type": "stream",
     "text": [
      "question_text='Which of the companies had the lowest total assets in EUR at the end of the period listed in annual report: \"Playtech plc\", \"Datalogic\", \"Duni Group\", \"Poste Italiane\", \"Incyte Corporation\"? If data for the company is not available, exclude it from the comparison. If only one company is left, return this company.' kind='name' value='n/a' references=[]\n"
     ]
    }
   ],
   "execution_count": 54
  },
  {
   "metadata": {
    "ExecuteTime": {
     "end_time": "2025-03-06T17:30:52.878199Z",
     "start_time": "2025-03-06T17:30:52.862250Z"
    }
   },
   "cell_type": "code",
   "source": [
    "with open(f\"../data/round2/submissions/answer_items_{APPROACH}_v.pkl\", \"rb\") as file:\n",
    "    answer_items_old = pickle.load(file)"
   ],
   "id": "f3593c551326cf1",
   "outputs": [],
   "execution_count": 31
  },
  {
   "metadata": {
    "ExecuteTime": {
     "end_time": "2025-03-06T17:35:05.606944Z",
     "start_time": "2025-03-06T17:35:05.587944Z"
    }
   },
   "cell_type": "code",
   "source": "answer_items = answer_items_old",
   "id": "795fe0686a47f22",
   "outputs": [],
   "execution_count": 53
  },
  {
   "metadata": {
    "ExecuteTime": {
     "end_time": "2025-03-06T17:35:12.217548Z",
     "start_time": "2025-03-06T17:35:12.197988Z"
    }
   },
   "cell_type": "code",
   "source": "[i for i, item in enumerate(answer_items) if item is None]",
   "id": "1c62cce96855513",
   "outputs": [
    {
     "data": {
      "text/plain": [
       "[]"
      ]
     },
     "execution_count": 56,
     "metadata": {},
     "output_type": "execute_result"
    }
   ],
   "execution_count": 56
  },
  {
   "metadata": {
    "ExecuteTime": {
     "end_time": "2025-03-06T17:34:12.287823Z",
     "start_time": "2025-03-06T17:34:12.272779Z"
    }
   },
   "cell_type": "code",
   "source": [
    "for i, (answer_new, answer_old) in enumerate(zip(answer_items, answer_items_old)):\n",
    "    if not answer_old and answer_new:\n",
    "        answer_items_old[i] = answer_new\n",
    "    elif not answer_old and not answer_new:\n",
    "        print(i)"
   ],
   "id": "18d2d056847169c8",
   "outputs": [
    {
     "name": "stdout",
     "output_type": "stream",
     "text": [
      "62\n"
     ]
    }
   ],
   "execution_count": 45
  },
  {
   "metadata": {
    "ExecuteTime": {
     "end_time": "2025-03-06T17:37:34.185551Z",
     "start_time": "2025-03-06T17:37:34.172542Z"
    }
   },
   "cell_type": "code",
   "source": [
    "# reduce page_index by 1 to be zero-indexed!\n",
    "for answer in answer_items:\n",
    "    if answer.references:\n",
    "        for ref in answer.references:\n",
    "            ref.page_index -= 1"
   ],
   "id": "b113b3a347656888",
   "outputs": [],
   "execution_count": 61
  },
  {
   "metadata": {
    "ExecuteTime": {
     "end_time": "2025-03-06T17:40:34.969390Z",
     "start_time": "2025-03-06T17:40:34.959772Z"
    }
   },
   "cell_type": "code",
   "source": [
    "for answer in answer_items:\n",
    "    if isinstance(answer.value, list) and len(answer.value) == 1:\n",
    "        answer.value = answer.value[0]"
   ],
   "id": "ef74c8d6d82b39d1",
   "outputs": [],
   "execution_count": 65
  },
  {
   "metadata": {
    "ExecuteTime": {
     "end_time": "2025-03-06T17:40:51.506762Z",
     "start_time": "2025-03-06T17:40:51.492586Z"
    }
   },
   "cell_type": "code",
   "source": "final_submission = AnswerSubmission(answers=answer_items, team_email=\"felix.krause@timetoact.at\", submission_name= \"fk_gemini_4o_multiagent\")",
   "id": "58d17bc0f8f00d35",
   "outputs": [],
   "execution_count": 68
  },
  {
   "metadata": {
    "ExecuteTime": {
     "end_time": "2025-03-06T17:40:52.143091Z",
     "start_time": "2025-03-06T17:40:52.111090Z"
    }
   },
   "cell_type": "code",
   "source": [
    "# store submission as json\n",
    "final_submission_path = f\"../data/round2/submissions/gemini_multiagent_v1.json\"\n",
    "\n",
    "with open(final_submission_path, \"w\") as file:\n",
    "    json.dump(final_submission.model_dump(), file, indent=4)"
   ],
   "id": "b9e48abb13e15434",
   "outputs": [],
   "execution_count": 69
  }
 ],
 "metadata": {
  "kernelspec": {
   "display_name": "Python 3",
   "language": "python",
   "name": "python3"
  },
  "language_info": {
   "codemirror_mode": {
    "name": "ipython",
    "version": 2
   },
   "file_extension": ".py",
   "mimetype": "text/x-python",
   "name": "python",
   "nbconvert_exporter": "python",
   "pygments_lexer": "ipython2",
   "version": "2.7.6"
  }
 },
 "nbformat": 4,
 "nbformat_minor": 5
}
