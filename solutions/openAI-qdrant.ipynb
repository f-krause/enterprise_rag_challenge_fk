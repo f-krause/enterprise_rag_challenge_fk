{
 "cells": [
  {
   "metadata": {},
   "cell_type": "markdown",
   "source": "# OpenAI + QDrant",
   "id": "8dee0d0f27a232f"
  },
  {
   "metadata": {
    "ExecuteTime": {
     "end_time": "2025-02-24T10:10:23.688657Z",
     "start_time": "2025-02-24T10:10:23.679383Z"
    }
   },
   "cell_type": "code",
   "source": [
    "import os\n",
    "from tqdm import tqdm\n",
    "from utils import *\n",
    "import logging\n",
    "import pandas as pd\n",
    "from datetime import datetime\n",
    "from dotenv import load_dotenv\n",
    "\n",
    "load_dotenv()"
   ],
   "id": "665e41a8c5781f91",
   "outputs": [
    {
     "data": {
      "text/plain": [
       "True"
      ]
     },
     "execution_count": 135,
     "metadata": {},
     "output_type": "execute_result"
    }
   ],
   "execution_count": 135
  },
  {
   "metadata": {
    "ExecuteTime": {
     "end_time": "2025-02-24T08:25:24.668622Z",
     "start_time": "2025-02-24T08:25:24.654144Z"
    }
   },
   "cell_type": "code",
   "source": [
    "# set up a logger with file of current time\n",
    "logging.basicConfig(filename=f'../data/logs/{datetime.now().strftime(\"%Y-%m-%d_%H-%M-%S\")}.log', level=logging.DEBUG)"
   ],
   "id": "d4f6554d4ab8fe8b",
   "outputs": [],
   "execution_count": 2
  },
  {
   "metadata": {
    "ExecuteTime": {
     "end_time": "2025-02-24T08:25:24.699609Z",
     "start_time": "2025-02-24T08:25:24.687579Z"
    }
   },
   "cell_type": "code",
   "source": [
    "# company = \"reit\"\n",
    "company = \"TSX_Y_2022\"\n",
    "# company = \"NASDAQ_CLXT_2022\"\n",
    "\n",
    "test_pdf_path = f\"../data/pdfs/{company}.pdf\""
   ],
   "id": "9d2e24bb9833b8ef",
   "outputs": [],
   "execution_count": 3
  },
  {
   "metadata": {
    "ExecuteTime": {
     "end_time": "2025-02-24T08:25:25.463887Z",
     "start_time": "2025-02-24T08:25:25.293674Z"
    }
   },
   "cell_type": "code",
   "source": [
    "# Load questions\n",
    "with open(f\"../data/questions/clxt-tsxy.json\", \"r\") as file:\n",
    "    questions = json.load(file)\n",
    "\n",
    "# open companies list\n",
    "companies_dict = get_companies_dict(r\"C:\\Users\\felix.krause\\code\\trustbit\\enterprise-rag-challenge\\dataset_v2.json\")"
   ],
   "id": "7c2c1af1b53c4e19",
   "outputs": [],
   "execution_count": 4
  },
  {
   "metadata": {
    "ExecuteTime": {
     "end_time": "2025-02-24T08:25:25.525869Z",
     "start_time": "2025-02-24T08:25:25.508627Z"
    }
   },
   "cell_type": "code",
   "source": [
    "# Load prompt\n",
    "with open(\"prompts/prompt_openAI-qdrant.md\", \"r\") as file:\n",
    "    system_prompt = file.read()\n",
    "\n",
    "print(system_prompt[:100])"
   ],
   "id": "b6766deb9d3d2812",
   "outputs": [
    {
     "name": "stdout",
     "output_type": "stream",
     "text": [
      "## SYSTEM PROMPT\n",
      "\n",
      "You are a chatbot designed to answer questions about company annual reports. The i\n"
     ]
    }
   ],
   "execution_count": 5
  },
  {
   "metadata": {
    "ExecuteTime": {
     "end_time": "2025-02-24T08:25:25.634473Z",
     "start_time": "2025-02-24T08:25:25.624396Z"
    }
   },
   "cell_type": "code",
   "source": [
    "# only keep subset for dev\n",
    "companies = [\"Calyxt, Inc.\", \"Yellow Pages Limited\"]\n",
    "companies_dict = {company: data for company, data in companies_dict.items() if company in companies}"
   ],
   "id": "92d798d431d50813",
   "outputs": [],
   "execution_count": 6
  },
  {
   "metadata": {
    "ExecuteTime": {
     "end_time": "2025-02-24T08:25:25.680798Z",
     "start_time": "2025-02-24T08:25:25.671271Z"
    }
   },
   "cell_type": "code",
   "source": "companies_dict",
   "id": "f5c77b75361f7e30",
   "outputs": [
    {
     "data": {
      "text/plain": [
       "{'Calyxt, Inc.': {'id': 'NASDAQ_CLXT_2022.pdf',\n",
       "  'sha1': '40b5cfe0d7bbf59e186492bfbe1b5002d44af332'},\n",
       " 'Yellow Pages Limited': {'id': 'TSX_Y_2022.pdf',\n",
       "  'sha1': '9d7a72445aba6860402c3acce75af02dc045f74d'}}"
      ]
     },
     "execution_count": 7,
     "metadata": {},
     "output_type": "execute_result"
    }
   ],
   "execution_count": 7
  },
  {
   "metadata": {},
   "cell_type": "markdown",
   "source": "## Docling - Processing PDFs",
   "id": "c2bb2e752d559444"
  },
  {
   "metadata": {
    "ExecuteTime": {
     "end_time": "2025-02-24T10:09:48.312388Z",
     "start_time": "2025-02-24T10:09:48.304046Z"
    }
   },
   "cell_type": "code",
   "source": "companies_dict",
   "id": "107848f4d321db3f",
   "outputs": [
    {
     "data": {
      "text/plain": [
       "{'Calyxt, Inc.': {'id': 'NASDAQ_CLXT_2022.pdf',\n",
       "  'sha1': '40b5cfe0d7bbf59e186492bfbe1b5002d44af332'},\n",
       " 'Yellow Pages Limited': {'id': 'TSX_Y_2022.pdf',\n",
       "  'sha1': '9d7a72445aba6860402c3acce75af02dc045f74d'}}"
      ]
     },
     "execution_count": 131,
     "metadata": {},
     "output_type": "execute_result"
    }
   ],
   "execution_count": 131
  },
  {
   "metadata": {
    "ExecuteTime": {
     "end_time": "2025-02-24T10:10:34.695009Z",
     "start_time": "2025-02-24T10:10:34.684502Z"
    }
   },
   "cell_type": "code",
   "source": [
    "# Potential for parallelization for files?\n",
    "from docling.document_converter import DocumentConverter\n",
    "\n",
    "converter = DocumentConverter()  # 20 sec for setting up\n",
    "\n",
    "logs = {\"failed\": [], \"skipped\": []}\n",
    "for company, data in tqdm(companies_dict.items()):\n",
    "    pdf_path = f\"../data/pdfs/{data['id']}\"\n",
    "    docling_md_path = f\"../data/docling_md/docling_{data['id'][:-4]}.md\"\n",
    "\n",
    "    if not os.path.exists(docling_md_path):\n",
    "        print(f\"Processing {company}\")\n",
    "        try:\n",
    "            result = converter.convert(pdf_path)\n",
    "            with open(docling_md_path, \"w\", encoding=\"utf-8\") as file:\n",
    "                file.write(result.document.export_to_markdown())\n",
    "        except Exception as e:\n",
    "            print(f\"Error processing {company}: {e}\")\n",
    "            logs[\"failed\"].append({\"company_id\": company, \"error\": e})\n",
    "    else:\n",
    "        print(f\"Skipping {company}\")\n",
    "        logs[\"skipped\"].append(company)\n",
    "\n",
    "if logs[\"failed\"]:\n",
    "    print(f\"Nr of failed companies: {len(logs['failed'])}\")\n",
    "\n",
    "# RUNTIMES:\n",
    "# REIT: execution for 7.4MB with 97 pages -> 5 min\n",
    "# Yellow Pages: execution for 1.4MB with 77 pages -> 4 min\n",
    "# Calyxt: execution for 0.7MB with 88 pages -> 3min\n",
    "\n",
    "# NOTES:\n",
    "# brackets in tables indicate negative values\n",
    "# parsing issues (see current system prompt)"
   ],
   "id": "7eab7904ca084e9c",
   "outputs": [
    {
     "name": "stderr",
     "output_type": "stream",
     "text": [
      "100%|██████████| 2/2 [00:00<?, ?it/s]"
     ]
    },
    {
     "name": "stdout",
     "output_type": "stream",
     "text": [
      "../data/docling_md/docling_NASDAQ_CLXT_2022.md\n",
      "Skipping Calyxt, Inc.\n",
      "../data/docling_md/docling_TSX_Y_2022.md\n",
      "Skipping Yellow Pages Limited\n"
     ]
    },
    {
     "name": "stderr",
     "output_type": "stream",
     "text": [
      "\n"
     ]
    }
   ],
   "execution_count": 137
  },
  {
   "metadata": {
    "ExecuteTime": {
     "end_time": "2025-02-07T13:22:53.397484Z",
     "start_time": "2025-02-07T13:22:53.244857Z"
    }
   },
   "cell_type": "code",
   "source": [
    "# STORE as md with correct utf-8 encoding\n",
    "# with open(f\"../data/docling_md/dev/docling_{company}.md\", \"w\", encoding=\"utf-8\") as file:\n",
    "#     file.write(result.document.export_to_markdown())"
   ],
   "id": "8bedf235d19dbd5d",
   "outputs": [],
   "execution_count": 22
  },
  {
   "metadata": {},
   "cell_type": "markdown",
   "source": "## Custom Advanced Chunking",
   "id": "37a548f396a1c9bf"
  },
  {
   "metadata": {
    "ExecuteTime": {
     "end_time": "2025-02-24T08:25:40.179054Z",
     "start_time": "2025-02-24T08:25:40.138436Z"
    }
   },
   "cell_type": "code",
   "source": [
    "import re\n",
    "\n",
    "def is_table_paragraph(paragraph):\n",
    "    \"\"\"\n",
    "    Returns True if the paragraph looks like a markdown table block.\n",
    "    We assume that a table block consists of lines that begin with '|'\n",
    "    and that at least one line is a separator (i.e. contains a series of dashes).\n",
    "    \"\"\"\n",
    "    lines = paragraph.strip().splitlines()\n",
    "    if not lines:\n",
    "        return False\n",
    "    if not all(line.lstrip().startswith('|') for line in lines):\n",
    "        return False\n",
    "    for line in lines:\n",
    "        if re.search(r'\\|\\s*-{2,}', line):\n",
    "            return True\n",
    "    return False\n",
    "\n",
    "def get_overlap_text(text, desired_overlap, max_overlap=None):\n",
    "    \"\"\"\n",
    "    Extracts an overlap string from the end of `text` made up of whole words.\n",
    "\n",
    "    Args:\n",
    "        text (str): The text from which to extract the overlap.\n",
    "        desired_overlap (int): Desired minimum number of characters to include in the overlap.\n",
    "        max_overlap (int or None): Maximum allowed overlap (in characters). If None, no hard cap is applied.\n",
    "\n",
    "    Returns:\n",
    "        str: A string composed of whole words from the end of `text` whose total length\n",
    "             is at least `desired_overlap` (if possible) but not exceeding `max_overlap` (if provided).\n",
    "    \"\"\"\n",
    "    if max_overlap is None:\n",
    "        max_overlap = desired_overlap * 2\n",
    "\n",
    "    words = text.split()\n",
    "    if not words:\n",
    "        return \"\"\n",
    "\n",
    "    overlap_words = []\n",
    "    total_length = 0\n",
    "    # Iterate over the words in reverse order.\n",
    "    for word in reversed(words):\n",
    "        # Add a space before each word except the first one we add.\n",
    "        addition_length = len(word) if not overlap_words else len(word) + 1\n",
    "        # If a maximum overlap is set and adding this word would exceed it,\n",
    "        # then stop (unless no word has been added yet).\n",
    "        if max_overlap is not None and total_length + addition_length > max_overlap:\n",
    "            if overlap_words:\n",
    "                break\n",
    "            # Else, if even a single word is longer than max_overlap, add its characters until max is reached.\n",
    "            if len(word) > max_overlap:\n",
    "                overlap_words.append(word[:max_overlap - total_length])\n",
    "                break\n",
    "        overlap_words.append(word)\n",
    "        total_length += addition_length\n",
    "        # Stop if we've reached at least the desired overlap.\n",
    "        if total_length >= desired_overlap:\n",
    "            break\n",
    "\n",
    "    # Reassemble the words in the correct order.\n",
    "    return \" \".join(reversed(overlap_words))\n",
    "\n",
    "def split_paragraph(paragraph, max_chars, overlap_chars=0, max_overlap_chars=None):\n",
    "    \"\"\"\n",
    "    Splits a non-table paragraph (by words) so that each part is below max_chars.\n",
    "    If the paragraph is split into multiple parts, each subsequent part will begin with an\n",
    "    overlap taken from the tail of the previous part. The overlap is composed of whole words,\n",
    "    trying to reach at least `overlap_chars` characters but never exceeding `max_overlap_chars` (if set).\n",
    "\n",
    "    Args:\n",
    "        paragraph (str): The paragraph text to split.\n",
    "        max_chars (int): Maximum allowed character length per part.\n",
    "        overlap_chars (int): Desired number of characters to overlap between parts.\n",
    "        max_overlap_chars (int or None): Absolute maximum allowed overlap (in characters).\n",
    "\n",
    "    Returns:\n",
    "        list of str: A list of paragraph parts, each no longer than max_chars.\n",
    "    \"\"\"\n",
    "    words = paragraph.split()\n",
    "    parts = []\n",
    "    current = \"\"\n",
    "\n",
    "    for word in words:\n",
    "        candidate = (current + \" \" + word).strip() if current else word\n",
    "        if len(candidate) > max_chars:\n",
    "            # If we have accumulated some text, finalize it.\n",
    "            if current:\n",
    "                parts.append(current)\n",
    "                # Compute an overlap from the end of current, as whole words.\n",
    "                overlap_text = get_overlap_text(current, overlap_chars, max_overlap_chars) if overlap_chars > 0 else \"\"\n",
    "                # Try to start the next segment with the overlap plus the current word.\n",
    "                new_candidate = (overlap_text + \" \" + word).strip() if overlap_text else word\n",
    "                if overlap_text and len(new_candidate) <= max_chars:\n",
    "                    current = new_candidate\n",
    "                else:\n",
    "                    current = word\n",
    "            else:\n",
    "                # In the unlikely case a single word exceeds max_chars, yield it as its own part.\n",
    "                parts.append(word)\n",
    "                current = \"\"\n",
    "        else:\n",
    "            current = candidate\n",
    "    if current:\n",
    "        parts.append(current)\n",
    "    return parts\n",
    "\n",
    "def split_content(text, max_chars, overlap_chars=0, max_overlap_chars=None):\n",
    "    \"\"\"\n",
    "    Split a block of text into parts no longer than max_chars.\n",
    "    The text is first split into paragraphs (using double newlines) so that\n",
    "    tables and other contiguous blocks remain intact. If an individual paragraph\n",
    "    is too long and is not a table, it is further split with an overlap between parts.\n",
    "    Also, for each final part a flag is computed (True/False) indicating whether the part is a table.\n",
    "\n",
    "    Returns:\n",
    "        tuple:\n",
    "            - parts (list of str): The split parts.\n",
    "            - is_table_ls (list of bool): For each part, True if it is a table block, False otherwise.\n",
    "    \"\"\"\n",
    "    paragraphs = text.split(\"\\n\\n\")\n",
    "    parts = []\n",
    "    is_table_ls = []  # This will store a True/False flag per part.\n",
    "\n",
    "    current_part = \"\"\n",
    "    current_part_is_table = None  # Will be set to True for table parts, False for non-table.\n",
    "\n",
    "    for para in paragraphs:\n",
    "        para = para.strip()\n",
    "        if not para:\n",
    "            continue\n",
    "\n",
    "        para_is_table = is_table_paragraph(para)\n",
    "        # If this paragraph is a table, do not merge with other content.\n",
    "        if para_is_table:\n",
    "            # TODO also include overlap to table!\n",
    "            # TODO if table is larger then embedding model allows, split into smaller tables - how often does it happen?\n",
    "            if current_part:\n",
    "                parts.append(current_part)\n",
    "                is_table_ls.append(current_part_is_table)\n",
    "                current_part = \"\"\n",
    "                current_part_is_table = None\n",
    "            parts.append(para)\n",
    "            is_table_ls.append(True)\n",
    "            continue\n",
    "\n",
    "        # For non-table paragraphs, if too long, split further.\n",
    "        if len(para) > max_chars:\n",
    "            sub_parts = split_paragraph(para, max_chars, overlap_chars, max_overlap_chars)\n",
    "        else:\n",
    "            sub_parts = [para]\n",
    "\n",
    "        for sub in sub_parts:\n",
    "            # If current_part is non-empty but from a different type (table vs. non-table), flush it.\n",
    "            if current_part and current_part_is_table is not False:\n",
    "                parts.append(current_part)\n",
    "                is_table_ls.append(current_part_is_table)\n",
    "                current_part = \"\"\n",
    "                current_part_is_table = False\n",
    "\n",
    "            candidate = (current_part + \"\\n\\n\" + sub).strip() if current_part else sub\n",
    "            if len(candidate) <= max_chars:\n",
    "                current_part = candidate\n",
    "                current_part_is_table = False  # Non-table content.\n",
    "            else:\n",
    "                if current_part:\n",
    "                    parts.append(current_part)\n",
    "                    is_table_ls.append(current_part_is_table)\n",
    "                current_part = sub\n",
    "                current_part_is_table = False\n",
    "\n",
    "    if current_part:\n",
    "        parts.append(current_part)\n",
    "        is_table_ls.append(current_part_is_table)\n",
    "\n",
    "    return parts, is_table_ls\n",
    "\n",
    "def chunk_markdown(markdown_text, document_name, context_window=2, max_chunk_size=2000, overlap_chars=500, max_overlap_chars=None):\n",
    "    \"\"\"\n",
    "    Splits a markdown document into chunks based on headings and attaches metadata,\n",
    "    including previous context_window section titles. If a section's content is too large,\n",
    "    it is further split into sub‐chunks with an optional overlap (in characters) between\n",
    "    consecutive parts.\n",
    "\n",
    "    Args:\n",
    "        markdown_text (str): The markdown document.\n",
    "        context_window (int): Number of previous headings to include as context.\n",
    "        max_chunk_size (int): Maximum allowed character length per (sub-)chunk.\n",
    "        overlap_chars (int): Desired number of characters to overlap when splitting paragraphs (considering words).\n",
    "        max_overlap_chars (int): Maximum allowed overlap between consecutive parts.\n",
    "\n",
    "    Returns:\n",
    "        list of dict: Each dict represents a (sub-)chunk and contains:\n",
    "            - 'title': Heading text.\n",
    "            - 'level': Heading level (number of '#' characters).\n",
    "            - 'content': Content of the (sub-)chunk.\n",
    "            - 'previous_titles': List of previous section titles.\n",
    "            - 'part_index': Index of this part (1-based).\n",
    "            - 'total_parts': Total number of parts for this section.\n",
    "    \"\"\"\n",
    "    heading_pattern = re.compile(r'^(#{1,6})\\s+(.*)$', re.MULTILINE)\n",
    "    matches = list(heading_pattern.finditer(markdown_text))\n",
    "\n",
    "    chunks = []\n",
    "\n",
    "    # If no headings are found, treat the whole document as one chunk.\n",
    "    if not matches:\n",
    "        content_parts, is_table_ls = split_content(markdown_text.strip(), max_chunk_size, overlap_chars, max_overlap_chars)\n",
    "        assert len(content_parts) == len(is_table_ls)\n",
    "        total_parts = len(content_parts)\n",
    "        for i, (part, is_table) in enumerate(zip(content_parts, is_table_ls), start=1):\n",
    "            chunks.append({\n",
    "                'title': None,\n",
    "                'level': None,\n",
    "                'table': is_table,\n",
    "                'content': part,\n",
    "                'previous_titles': [],\n",
    "                'part_index': i,\n",
    "                'total_parts': total_parts\n",
    "                # TODO also include page number of chunk here\n",
    "            })\n",
    "        return chunks\n",
    "\n",
    "    # Process each section defined by a heading.\n",
    "    for i, match in enumerate(matches):\n",
    "        heading_marker = match.group(1)\n",
    "        title = match.group(2).strip()\n",
    "        level = len(heading_marker)\n",
    "\n",
    "        # Determine content boundaries.\n",
    "        content_start = match.end()\n",
    "        content_end = matches[i+1].start() if i+1 < len(matches) else len(markdown_text)\n",
    "        content = markdown_text[content_start:content_end].strip()\n",
    "\n",
    "        previous_titles = [m.group(0).strip() for m in matches[max(0, i-context_window):i]]\n",
    "        next_titles = [m.group(0).strip() for m in matches[i+1:i+context_window+1]]\n",
    "\n",
    "        # Split the section's content if it's too large.\n",
    "        content_parts, is_table_ls = split_content(content, max_chunk_size, overlap_chars, max_overlap_chars)\n",
    "        assert len(content_parts) == len(is_table_ls), f\"Lengths: {len(content_parts)} vs {len(is_table_ls)}\"\n",
    "        total_parts = len(content_parts)\n",
    "        for j, (part, is_table) in enumerate(zip(content_parts, is_table_ls), start=1):\n",
    "            chunk = {\n",
    "                'title': title,\n",
    "                'level': level,\n",
    "                'previous_titles': previous_titles,\n",
    "                'next_titles': next_titles,\n",
    "                'company': document_name,\n",
    "                'table': is_table,\n",
    "                'part_index': j,\n",
    "                'total_parts': total_parts,\n",
    "                'content': part,\n",
    "            }\n",
    "            chunks.append(chunk)\n",
    "    return chunks\n",
    "\n",
    "def pretty_print_chunks(chunks):\n",
    "    for chunk in chunks:\n",
    "        print(\"Title:\", chunk['title'])\n",
    "        print(\"Company:\", chunk['company'])\n",
    "        print(\"Level:\", chunk['level'])\n",
    "        print(\"Is Table:\", chunk['table'])\n",
    "        print(\"Part: {}/{}\".format(chunk['part_index'], chunk['total_parts']))\n",
    "        print(\"Previous Titles:\", chunk['previous_titles'])\n",
    "        print(\"Next Titles:\", chunk['next_titles'])\n",
    "        print(\"Content:\\n\", chunk['content'])\n",
    "        print(\"-\" * 40)\n",
    "\n",
    "# --- Example usage ---\n",
    "sample_markdown = \"\"\"\n",
    "# Annual Report 2024\n",
    "\n",
    "Introductory text for the report. This section contains some long descriptive text that might be very large and thus needs to be split into parts. Lorem ipsum dolor sit amet, consectetur adipiscing elit. Vestibulum vel dolor eget velit efficitur aliquet. Donec ullamcorper, metus ac convallis facilisis, lorem urna commodo nunc, nec facilisis velit leo et augue. Sed sodales, purus eget vulputate mollis, enim ipsum convallis magna, eget interdum urna arcu sit amet libero.\n",
    "\n",
    "## Financial Overview\n",
    "\n",
    "| For the years ended December 31,                                                                  | 2022         | 2021         |\n",
    "|---------------------------------------------------------------------------------------------------|--------------|--------------|\n",
    "| Cash flows from operating activities                                                              |              |              |\n",
    "| Change in operating assets and liabilities                                                        | $  4,728     | $  26,154    |\n",
    "| Stock-based compensation cash payments                                                            | (7,155)      | (5,541)      |\n",
    "| Funding of post-employment benefit plans in excess of costs                                       | (32,106)     | (7,523)      |\n",
    "| Income taxes paid, net                                                                            | (7,758)      | -            |\n",
    "| Cash flows from operations, excluding the above                                                   | 91,791       | 91,489       |\n",
    "|                                                                                                   | $  49,500    | $  104,579   |\n",
    "| Cash flows used in investing activities                                                           |              |              |\n",
    "| Additions to intangible assets                                                                    | $  (4,911)   | $  (4,957)   |\n",
    "| Additions to property and equipment                                                               | (93)         | (117)        |\n",
    "| Payments received from net investment in subleases                                                | 1,338        | 593          |\n",
    "|                                                                                                   | $  (3,666)   | $  (4,481)   |\n",
    "| Cash flows used in financing activities                                                           |              |              |\n",
    "| Repayment of exchangeable debentures                                                              | $  -         | $  (107,033) |\n",
    "| Repurchase of common shares through NCIBs                                                         | (12,404)     | (5,334)      |\n",
    "| Repurchase of common shares per plan of arrangement, net of treasury shares and transaction costs | (96,125)     | -            |\n",
    "| Issuance of common shares                                                                         | 153          | 111          |\n",
    "| Payment of lease obligations                                                                      | (2,947)      | (3,045)      |\n",
    "| Dividends paid                                                                                    | (14,163)     | (14,730)     |\n",
    "|                                                                                                   | $  (125,486) | $  (130,031) |\n",
    "| NET DECREASE IN CASH                                                                              | $  (79,652)  | $  (29,933)  |\n",
    "| CASH, BEGINNING OF YEAR                                                                           | 123,559      | 153,492      |\n",
    "| CASH, END OF YEAR                                                                                 | $  43,907    | $  123,559   |\n",
    "\n",
    "Additional commentary follows the table to elaborate on the financial performance. More descriptive text is added to simulate a very large chunk that should be split intelligently. Lorem ipsum dolor sit amet, consectetur adipiscing elit. Praesent ac nibh vestibulum, imperdiet orci sit amet, dictum urna.\n",
    "\"\"\"\n",
    "\n",
    "# For demonstration, set a lower max_chunk_size (e.g. 500 characters) and an overlap of 50 characters.\n",
    "chunks = chunk_markdown(sample_markdown, company, context_window=3, max_chunk_size=200, overlap_chars=50, max_overlap_chars=100)\n",
    "\n",
    "pretty_print_chunks(chunks)\n",
    "\n",
    "# TODO also include overlap to table!\n",
    "# TODO merge with next section if a chunk is too small"
   ],
   "id": "6b19be6b59643f2b",
   "outputs": [
    {
     "name": "stdout",
     "output_type": "stream",
     "text": [
      "Title: Annual Report 2024\n",
      "Company: TSX_Y_2022\n",
      "Level: 1\n",
      "Is Table: False\n",
      "Part: 1/3\n",
      "Previous Titles: []\n",
      "Next Titles: ['## Financial Overview']\n",
      "Content:\n",
      " Introductory text for the report. This section contains some long descriptive text that might be very large and thus needs to be split into parts. Lorem ipsum dolor sit amet, consectetur adipiscing\n",
      "----------------------------------------\n",
      "Title: Annual Report 2024\n",
      "Company: TSX_Y_2022\n",
      "Level: 1\n",
      "Is Table: False\n",
      "Part: 2/3\n",
      "Previous Titles: []\n",
      "Next Titles: ['## Financial Overview']\n",
      "Content:\n",
      " Lorem ipsum dolor sit amet, consectetur adipiscing elit. Vestibulum vel dolor eget velit efficitur aliquet. Donec ullamcorper, metus ac convallis facilisis, lorem urna commodo nunc, nec facilisis\n",
      "----------------------------------------\n",
      "Title: Annual Report 2024\n",
      "Company: TSX_Y_2022\n",
      "Level: 1\n",
      "Is Table: False\n",
      "Part: 3/3\n",
      "Previous Titles: []\n",
      "Next Titles: ['## Financial Overview']\n",
      "Content:\n",
      " convallis facilisis, lorem urna commodo nunc, nec facilisis velit leo et augue. Sed sodales, purus eget vulputate mollis, enim ipsum convallis magna, eget interdum urna arcu sit amet libero.\n",
      "----------------------------------------\n",
      "Title: Financial Overview\n",
      "Company: TSX_Y_2022\n",
      "Level: 2\n",
      "Is Table: True\n",
      "Part: 1/3\n",
      "Previous Titles: ['# Annual Report 2024']\n",
      "Next Titles: []\n",
      "Content:\n",
      " | For the years ended December 31,                                                                  | 2022         | 2021         |\n",
      "|---------------------------------------------------------------------------------------------------|--------------|--------------|\n",
      "| Cash flows from operating activities                                                              |              |              |\n",
      "| Change in operating assets and liabilities                                                        | $  4,728     | $  26,154    |\n",
      "| Stock-based compensation cash payments                                                            | (7,155)      | (5,541)      |\n",
      "| Funding of post-employment benefit plans in excess of costs                                       | (32,106)     | (7,523)      |\n",
      "| Income taxes paid, net                                                                            | (7,758)      | -            |\n",
      "| Cash flows from operations, excluding the above                                                   | 91,791       | 91,489       |\n",
      "|                                                                                                   | $  49,500    | $  104,579   |\n",
      "| Cash flows used in investing activities                                                           |              |              |\n",
      "| Additions to intangible assets                                                                    | $  (4,911)   | $  (4,957)   |\n",
      "| Additions to property and equipment                                                               | (93)         | (117)        |\n",
      "| Payments received from net investment in subleases                                                | 1,338        | 593          |\n",
      "|                                                                                                   | $  (3,666)   | $  (4,481)   |\n",
      "| Cash flows used in financing activities                                                           |              |              |\n",
      "| Repayment of exchangeable debentures                                                              | $  -         | $  (107,033) |\n",
      "| Repurchase of common shares through NCIBs                                                         | (12,404)     | (5,334)      |\n",
      "| Repurchase of common shares per plan of arrangement, net of treasury shares and transaction costs | (96,125)     | -            |\n",
      "| Issuance of common shares                                                                         | 153          | 111          |\n",
      "| Payment of lease obligations                                                                      | (2,947)      | (3,045)      |\n",
      "| Dividends paid                                                                                    | (14,163)     | (14,730)     |\n",
      "|                                                                                                   | $  (125,486) | $  (130,031) |\n",
      "| NET DECREASE IN CASH                                                                              | $  (79,652)  | $  (29,933)  |\n",
      "| CASH, BEGINNING OF YEAR                                                                           | 123,559      | 153,492      |\n",
      "| CASH, END OF YEAR                                                                                 | $  43,907    | $  123,559   |\n",
      "----------------------------------------\n",
      "Title: Financial Overview\n",
      "Company: TSX_Y_2022\n",
      "Level: 2\n",
      "Is Table: False\n",
      "Part: 2/3\n",
      "Previous Titles: ['# Annual Report 2024']\n",
      "Next Titles: []\n",
      "Content:\n",
      " Additional commentary follows the table to elaborate on the financial performance. More descriptive text is added to simulate a very large chunk that should be split intelligently. Lorem ipsum dolor\n",
      "----------------------------------------\n",
      "Title: Financial Overview\n",
      "Company: TSX_Y_2022\n",
      "Level: 2\n",
      "Is Table: False\n",
      "Part: 3/3\n",
      "Previous Titles: ['# Annual Report 2024']\n",
      "Next Titles: []\n",
      "Content:\n",
      " that should be split intelligently. Lorem ipsum dolor sit amet, consectetur adipiscing elit. Praesent ac nibh vestibulum, imperdiet orci sit amet, dictum urna.\n",
      "----------------------------------------\n"
     ]
    }
   ],
   "execution_count": 8
  },
  {
   "metadata": {
    "ExecuteTime": {
     "end_time": "2025-02-24T08:25:43.758910Z",
     "start_time": "2025-02-24T08:25:43.746692Z"
    }
   },
   "cell_type": "code",
   "source": [
    "# Chunking example\n",
    "company_test = \"NASDAQ_CLXT_2022\"\n",
    "\n",
    "with open(f\"../data/docling_md/dev/docling_{company_test}.md\", \"r\", encoding=\"utf-8\") as file:\n",
    "    text = file.read()\n",
    "\n",
    "sample = text[:10000]\n",
    "\n",
    "chunks = chunk_markdown(sample, company, context_window=3, max_chunk_size=2000, overlap_chars=500)\n",
    "\n",
    "pretty_print_chunks(chunks[:10])"
   ],
   "id": "90234d3726a11040",
   "outputs": [
    {
     "name": "stdout",
     "output_type": "stream",
     "text": [
      "Title: UNITED STATES SECURITIES AND EXCHANGE COMMISSION\n",
      "Company: TSX_Y_2022\n",
      "Level: 2\n",
      "Is Table: False\n",
      "Part: 1/1\n",
      "Previous Titles: []\n",
      "Next Titles: ['## FORM 10-K', '## Calyxt, Inc.', '## DOCUMENTS INCORPORATED BY REFERENCE']\n",
      "Content:\n",
      " Washington, D.C. 20549\n",
      "----------------------------------------\n",
      "Title: FORM 10-K\n",
      "Company: TSX_Y_2022\n",
      "Level: 2\n",
      "Is Table: False\n",
      "Part: 1/1\n",
      "Previous Titles: ['## UNITED STATES SECURITIES AND EXCHANGE COMMISSION']\n",
      "Next Titles: ['## Calyxt, Inc.', '## DOCUMENTS INCORPORATED BY REFERENCE', '## Table of Contents']\n",
      "Content:\n",
      " <!-- image -->\n",
      "\n",
      "(Mark One)\n",
      "\n",
      "☒\n",
      "\n",
      "ANNUAL REPORT PURSUANT TO SECTION 13 OR 15(d) OF THE SECURITIES EXCHANGE ACT OF\n",
      "\n",
      "1934\n",
      "\n",
      "For the fiscal year ended December 31, 2022;\n",
      "\n",
      "or\n",
      "\n",
      "☐ TRANSITION REPORT PURSUANT TO SECTION 13 OR 15(d) OF THE SECURITIES EXCHANGE ACT OF 1934\n",
      "\n",
      "For the transition period from                       to\n",
      "\n",
      "Commission file number 001-38161\n",
      "----------------------------------------\n",
      "Title: Calyxt, Inc.\n",
      "Company: TSX_Y_2022\n",
      "Level: 2\n",
      "Is Table: False\n",
      "Part: 1/2\n",
      "Previous Titles: ['## UNITED STATES SECURITIES AND EXCHANGE COMMISSION', '## FORM 10-K']\n",
      "Next Titles: ['## DOCUMENTS INCORPORATED BY REFERENCE', '## Table of Contents', '## Table of Contents']\n",
      "Content:\n",
      " (Exact name of registrant as specified in its charter)\n",
      "\n",
      "Delaware (State or other jurisdiction of incorporation or organization)\n",
      "\n",
      "27-1967997 (I.R.S. Employer Identification No.)\n",
      "\n",
      "2800 Mount Ridge Road Roseville, Minnesota (Address of principal executive offices)\n",
      "\n",
      "55113-1127 (Zip Code)\n",
      "\n",
      "Registrant's telephone number, including area code: (651) 683-2807\n",
      "\n",
      "Securities registered pursuant to Section 12(b) of the Act:\n",
      "\n",
      "Title of each class\n",
      "\n",
      "Trading\n",
      "\n",
      "Symbol(s)\n",
      "\n",
      "Name of each exchange on which registered\n",
      "\n",
      "Common Stock ($(0.0001 par value)\n",
      "\n",
      "CLXT\n",
      "\n",
      "The NASDAQ Stock Market LLC\n",
      "\n",
      "Securities registered pursuant to Section 12(g) of the Act: None\n",
      "\n",
      "Indicate by check mark if the registrant is a well-known seasoned issuer, as defined in Rule 405 of the Securities Act.    Yes ☐\n",
      "\n",
      "No ☒\n",
      "\n",
      "Indicate by check mark if the registrant is not required to file reports pursuant to Section 13 or Section 15(d) of the Act.    Yes\n",
      "\n",
      "☐\n",
      "\n",
      "No\n",
      "\n",
      "☒\n",
      "\n",
      "Indicate by check mark whether the registrant (1) has filed all reports required to be filed by Section 13 or 15(d) of the Securities Exchange Act of 1934 during the preceding 12 months (or for such shorter period that the registrant was required to file such reports), and (2) has been subject to such filing requirements for the past 90 days.    Yes ☒ No ☐\n",
      "\n",
      "Indicate by check mark whether the registrant has submitted electronically every Interactive Data File required to be submitted pursuant to Rule 405 of Regulation S-T (§232.405 of this chapter) during the preceding 12 months (or for such shorter period that the registrant was required to submit such files).    Yes ☒ No ☐\n",
      "\n",
      "Indicate by check mark whether the registrant is a large accelerated filer, an accelerated filer, a  non-accelerated filer, a smaller reporting company or an emerging growth company. See the definitions of 'large accelerated filer,' 'accelerated filer,' 'smaller reporting company', and 'emerging growth company' in Rule 12b-2 of the Exchange Act (check one):\n",
      "\n",
      "Large Accelerated Filer ☐\n",
      "----------------------------------------\n",
      "Title: Calyxt, Inc.\n",
      "Company: TSX_Y_2022\n",
      "Level: 2\n",
      "Is Table: False\n",
      "Part: 2/2\n",
      "Previous Titles: ['## UNITED STATES SECURITIES AND EXCHANGE COMMISSION', '## FORM 10-K']\n",
      "Next Titles: ['## DOCUMENTS INCORPORATED BY REFERENCE', '## Table of Contents', '## Table of Contents']\n",
      "Content:\n",
      " Accelerated Filer ☐\n",
      "\n",
      "Non-accelerated Filer\n",
      "\n",
      "☒\n",
      "\n",
      "Smaller Reporting Company ☐\n",
      "\n",
      "Emerging Growth Company ☐\n",
      "\n",
      "If an emerging growth company, indicate by check mark if the registrant has elected not to use the extended transition period for complying with any new or revised financial accounting standards provided pursuant to Section 13(a) of the Exchange Act. ☐\n",
      "\n",
      "Indicate by check mark whether the registrant has filed a report on and attestation to its management's assessment of the effectiveness of its internal control over financial reporting under Section 404(b) of the Sarbanes-Oxley Act (15 U.S.C. 7262(b)) by the registered public accounting firm that prepared or issued its audit report. ☐\n",
      "\n",
      "If securities are registered pursuant to Section 12(b) of the Act, indicate by check mark whether the financial statements of the registrant included in the filing reflect the correction of an error to previously issued financial statements. ☐\n",
      "\n",
      "Indicate by check mark whether any of those error corrections are restatements that required a recovery analysis of incentive-based compensation received by any of the registrant's executive officers during the relevant recovery period pursuant to §240.10D-1(b). ☐\n",
      "\n",
      "Indicate by check mark whether the registrant is a shell company (as defined in Rule 12b-2 of the Act).    Yes\n",
      "\n",
      "☐\n",
      "\n",
      "No ☒\n",
      "\n",
      "Aggregate market value of the common stock held by  non-affiliates of the registrant: As of June 30, 2022, the last business day of the registrant's most recently completed second fiscal quarter, the aggregate market value of shares of common stock held by non-affiliates of the registrant was $5,446,012 based upon the closing sale price of the registrant's common stock of $0.24 on such date.\n",
      "\n",
      "The number of outstanding shares of the registrant's common stock on March 1, 2023 was  49,376,160 shares.\n",
      "----------------------------------------\n",
      "Title: DOCUMENTS INCORPORATED BY REFERENCE\n",
      "Company: TSX_Y_2022\n",
      "Level: 2\n",
      "Is Table: False\n",
      "Part: 1/1\n",
      "Previous Titles: ['## UNITED STATES SECURITIES AND EXCHANGE COMMISSION', '## FORM 10-K', '## Calyxt, Inc.']\n",
      "Next Titles: ['## Table of Contents', '## Table of Contents', '## Terms']\n",
      "Content:\n",
      " The information required by Part III of this Annual Report on Form  10-K, to the extent not set forth herein, is incorporated herein by reference from the registrant's definitive proxy statement relating to the registrant's Annual Meeting of Stockholders to be held in 2023, which definitive proxy statement shall be filed with the Securities and Exchange Commission not later than 120 days after the end of the fiscal year covered by this Annual Report on Form 10-K.\n",
      "----------------------------------------\n",
      "Title: Table of Contents\n",
      "Company: TSX_Y_2022\n",
      "Level: 2\n",
      "Is Table: False\n",
      "Part: 1/2\n",
      "Previous Titles: ['## FORM 10-K', '## Calyxt, Inc.', '## DOCUMENTS INCORPORATED BY REFERENCE']\n",
      "Next Titles: ['## Table of Contents', '## Terms', '## Cautionary Note Regarding Forward-Looking Statements']\n",
      "Content:\n",
      " 3\n",
      "\n",
      "3\n",
      "\n",
      "Table of Contents\n",
      "----------------------------------------\n",
      "Title: Table of Contents\n",
      "Company: TSX_Y_2022\n",
      "Level: 2\n",
      "Is Table: True\n",
      "Part: 2/2\n",
      "Previous Titles: ['## FORM 10-K', '## Calyxt, Inc.', '## DOCUMENTS INCORPORATED BY REFERENCE']\n",
      "Next Titles: ['## Table of Contents', '## Terms', '## Cautionary Note Regarding Forward-Looking Statements']\n",
      "Content:\n",
      " | PART I   |                                                                                                              |    |\n",
      "|----------|--------------------------------------------------------------------------------------------------------------|----|\n",
      "| Item 1.  | Business                                                                                                     |    |\n",
      "| Item 1A. | Risk Factors                                                                                                 | 12 |\n",
      "| Item 1B. | Unresolved Staff Comments                                                                                    | 26 |\n",
      "| Item 2.  | Properties                                                                                                   | 27 |\n",
      "| Item 3.  | Legal Proceedings                                                                                            | 27 |\n",
      "| Item 4.  | Mine Safety Disclosures                                                                                      | 27 |\n",
      "| PART II  |                                                                                                              | 27 |\n",
      "| Item 5.  | Market for Registrant's Common Equity, Related Stockholder Matters and Issuer Purchases of Equity Securities | 27 |\n",
      "| Item 6.  | [Reserved]                                                                                                   | 28 |\n",
      "| Item 7.  | Management's Discussion and Analysis of Financial Condition and Results of Operations                        | 29 |\n",
      "| Item 7A. | Quantitative and Qualitative Disclosures About Market Risk                                                   | 38 |\n",
      "| Item 8.  | Consolidated Financial Statements and Supplementary Data                                                     | 38 |\n",
      "| Item 9.  | Changes in and Disagreements with Accountants on Accounting and Financial Disclosure                         | 38 |\n",
      "| Item 9A. | Controls and Procedures                                                                                      | 38 |\n",
      "| Item 9B. | Other Information                                                                                            | 39 |\n",
      "| Item 9C. | Disclosure Regarding Foreign Jurisdictions that Prevent Inspections                                          | 39 |\n",
      "| PART III |                                                                                                              | 40 |\n",
      "| Item 10. | Directors, Executive Officers and Corporate Governance                                                       | 40 |\n",
      "| Item 11. | Executive Compensation                                                                                       | 40 |\n",
      "| Item 12. | Security Ownership of Certain Beneficial Owners and Management and Related Stockholder Matters               | 40 |\n",
      "| Item 13. | Certain Relationships and Related Transactions, and Director Independence                                    | 40 |\n",
      "| Item 14. | Principal Accounting Fees and Services                                                                       | 40 |\n",
      "| PART IV  |                                                                                                              | 41 |\n",
      "| Item 15. | Exhibits and Financial Statement Schedules                                                                   | 41 |\n",
      "| Item 16. | Form 10-K Summary                                                                                            | 43 |\n",
      "----------------------------------------\n",
      "Title: Terms\n",
      "Company: TSX_Y_2022\n",
      "Level: 2\n",
      "Is Table: False\n",
      "Part: 1/1\n",
      "Previous Titles: ['## DOCUMENTS INCORPORATED BY REFERENCE', '## Table of Contents', '## Table of Contents']\n",
      "Next Titles: ['## Cautionary Note Regarding Forward-Looking Statements']\n",
      "Content:\n",
      " When the terms the 'Company' or 'its' are used in this report, unless the context otherwise requires, those terms are being used to refer to Calyxt, Inc. When the term 'Cellectis,' is used, it is being used to refer to Cellectis S.A. ( société anonyme ), the Company's largest stockholder.\n",
      "\n",
      "The Company owns the names PlantSpring and BioFactory. The Company also owns the trademarks Calyxt ®  and Calyno ®  and owns or licenses other trademarks, trade names, and service marks appearing in this Annual Report on Form 10-K. The names and trademarks Cellectis ®  and TALEN ® , along with any other trademarks, trade names, and service marks of Cellectis appearing in this report are the property of Cellectis. This report also contains additional trade names, trademarks, and service marks belonging to other companies. The Company does not intend its use or display of other parties' trademarks, trade names, or service marks to imply, and such use or display should not be construed to imply a relationship with, or endorsement or sponsorship of these other parties.\n",
      "----------------------------------------\n",
      "Title: Cautionary Note Regarding Forward-Looking Statements\n",
      "Company: TSX_Y_2022\n",
      "Level: 2\n",
      "Is Table: False\n",
      "Part: 1/1\n",
      "Previous Titles: ['## Table of Contents', '## Table of Contents', '## Terms']\n",
      "Next Titles: []\n",
      "Content:\n",
      " This Annual Report on Form  10-K contains 'forward-looking statements' within the meaning of the federal securities laws, including Section 27A of the Securities Act of 1933, as amended (the Securities Act), and Section 21E of the Securities Exchange Act of 1934, as amended (the Exchange Act). The Company may also make forward-looking statements in other reports filed with the Securities and Exchange Commission (SEC), in materials delivered to stockholders, and in press releases. In addition, the Company's representatives\n",
      "----------------------------------------\n"
     ]
    }
   ],
   "execution_count": 9
  },
  {
   "metadata": {
    "ExecuteTime": {
     "end_time": "2025-02-11T15:57:21.486592Z",
     "start_time": "2025-02-11T15:57:21.469311Z"
    }
   },
   "cell_type": "code",
   "source": "len(chunks)",
   "id": "95ef31ff67cb2e3b",
   "outputs": [
    {
     "data": {
      "text/plain": [
       "389"
      ]
     },
     "execution_count": 9,
     "metadata": {},
     "output_type": "execute_result"
    }
   ],
   "execution_count": 9
  },
  {
   "metadata": {},
   "cell_type": "markdown",
   "source": "## Create embeddings",
   "id": "f51f9c1080db9867"
  },
  {
   "metadata": {
    "ExecuteTime": {
     "end_time": "2025-02-24T08:26:54.563375Z",
     "start_time": "2025-02-24T08:26:54.319630Z"
    }
   },
   "cell_type": "code",
   "source": [
    "# OPENAI EMBEDDINGS\n",
    "from openai import OpenAI\n",
    "\n",
    "embedding_client = OpenAI()\n",
    "\n",
    "# Max input: 8191 tokens\n",
    "\n",
    "# embedding_model = \"text-embedding-3-large\"\n",
    "# embedding_size = 3072\n",
    "\n",
    "embedding_model = \"text-embedding-3-small\"\n",
    "embedding_size = 1536"
   ],
   "id": "5786ac3c9079f1ee",
   "outputs": [],
   "execution_count": 11
  },
  {
   "metadata": {},
   "cell_type": "code",
   "outputs": [],
   "execution_count": null,
   "source": [
    "# Create embeddings for single sample\n",
    "contents = [f\"{chunk['title']}: {chunk['content']}\" for chunk in chunks]\n",
    "contents_cleaned = [txt.replace(\"\\n\", \" \") for txt in contents]\n",
    "embeddings = embedding_client.embeddings.create(input=contents_cleaned, model=embedding_model).data\n",
    "\n",
    "embeddings = [emb.embedding for emb in embeddings]\n",
    "\n",
    "# attach to chunks\n",
    "db_data = []\n",
    "for idx, chunk in enumerate(chunks):\n",
    "    db_data.append({\n",
    "        \"embedding\": embeddings[idx],\n",
    "        \"metadata\": chunk,\n",
    "    })\n",
    "\n",
    "chunk.keys()"
   ],
   "id": "dc52d87e9f42a7b9"
  },
  {
   "metadata": {
    "ExecuteTime": {
     "end_time": "2025-02-24T08:27:19.516145Z",
     "start_time": "2025-02-24T08:27:12.482161Z"
    }
   },
   "cell_type": "code",
   "source": [
    "# EMBED IN BULK\n",
    "from openai import OpenAI\n",
    "embedding_client = OpenAI()\n",
    "\n",
    "db_data = []\n",
    "failed_companies = []\n",
    "for company, data in tqdm(companies_dict.items()):\n",
    "    try:\n",
    "        company_id = data[\"id\"][:-4]\n",
    "\n",
    "        with open(f\"../data/docling_md/docling_{company_id}.md\", \"r\", encoding=\"utf-8\") as file:\n",
    "            text = file.read()\n",
    "\n",
    "        chunks = chunk_markdown(text, company, context_window=4, max_chunk_size=3000, overlap_chars=500)\n",
    "\n",
    "        contents = [f\"{chunk['title']}: {chunk['content']}\" for chunk in chunks]\n",
    "        contents_cleaned = [txt.replace(\"\\n\", \" \") for txt in contents]\n",
    "        embeddings = embedding_client.embeddings.create(input=contents_cleaned, model=embedding_model).data\n",
    "\n",
    "        embeddings_collected = [emb.embedding for emb in embeddings]\n",
    "\n",
    "        for idx, chunk in enumerate(chunks):\n",
    "            db_data.append({\n",
    "                \"embedding\": embeddings_collected[idx],\n",
    "                \"metadata\": chunk,\n",
    "            })\n",
    "    except Exception as e:\n",
    "        print(f\"Error processing {company}: {e}\")\n",
    "        failed_companies.append(company)\n",
    "\n",
    "if failed_companies:\n",
    "    print(f\"WARNING: Nr of failed companies: {len(failed_companies)}\")"
   ],
   "id": "f46a6be1d49cb051",
   "outputs": [
    {
     "name": "stderr",
     "output_type": "stream",
     "text": [
      "100%|██████████| 2/2 [00:06<00:00,  3.39s/it]\n"
     ]
    }
   ],
   "execution_count": 12
  },
  {
   "metadata": {
    "ExecuteTime": {
     "end_time": "2025-02-10T15:14:56.163381Z",
     "start_time": "2025-02-10T15:14:54.734875Z"
    }
   },
   "cell_type": "code",
   "source": [
    "# # LOCAL APPROACH\n",
    "# from sentence_transformers import SentenceTransformer\n",
    "#\n",
    "# # Initialize the pre-trained model\n",
    "# embedding_model = SentenceTransformer('all-MiniLM-L6-v2')\n",
    "# embedding_size = 384\n",
    "#\n",
    "# # TODO make this more sophisticated, to include metadata in embedding\n",
    "# contents = [f\"{chunk['title']} - {chunk['content']}\" for chunk in chunks]\n",
    "# contents_cleaned = [txt.replace(\"\\n\", \" \") for txt in contents]\n",
    "#\n",
    "# # Generate the embedding\n",
    "# embeddings = embedding_model.encode(contents_cleaned)\n",
    "# embeddings = [emb.tolist() for emb in embeddings]"
   ],
   "id": "c45585720e5ff696",
   "outputs": [],
   "execution_count": 155
  },
  {
   "metadata": {
    "ExecuteTime": {
     "end_time": "2025-02-24T08:27:28.732720Z",
     "start_time": "2025-02-24T08:27:28.716051Z"
    }
   },
   "cell_type": "code",
   "source": "db_data[1][\"metadata\"]",
   "id": "f713f56f40bceb72",
   "outputs": [
    {
     "data": {
      "text/plain": [
       "{'title': 'FORM 10-K',\n",
       " 'level': 2,\n",
       " 'previous_titles': ['## UNITED STATES SECURITIES AND EXCHANGE COMMISSION'],\n",
       " 'next_titles': ['## Calyxt, Inc.',\n",
       "  '## DOCUMENTS INCORPORATED BY REFERENCE',\n",
       "  '## Table of Contents',\n",
       "  '## Table of Contents'],\n",
       " 'company': 'Calyxt, Inc.',\n",
       " 'table': False,\n",
       " 'part_index': 1,\n",
       " 'total_parts': 1,\n",
       " 'content': '<!-- image -->\\n\\n(Mark One)\\n\\n☒\\n\\nANNUAL REPORT PURSUANT TO SECTION 13 OR 15(d) OF THE SECURITIES EXCHANGE ACT OF\\n\\n1934\\n\\nFor the fiscal year ended December 31, 2022;\\n\\nor\\n\\n☐ TRANSITION REPORT PURSUANT TO SECTION 13 OR 15(d) OF THE SECURITIES EXCHANGE ACT OF 1934\\n\\nFor the transition period from                       to\\n\\nCommission file number 001-38161'}"
      ]
     },
     "execution_count": 13,
     "metadata": {},
     "output_type": "execute_result"
    }
   ],
   "execution_count": 13
  },
  {
   "metadata": {},
   "cell_type": "markdown",
   "source": "## Creating vector database",
   "id": "d1cddd9afb2288ef"
  },
  {
   "metadata": {
    "ExecuteTime": {
     "end_time": "2025-02-24T08:28:56.710404Z",
     "start_time": "2025-02-24T08:28:56.692607Z"
    }
   },
   "cell_type": "code",
   "source": [
    "# Specify collection name\n",
    "collection_name = \"rag_test_db\""
   ],
   "id": "805d8d23ecde07ef",
   "outputs": [],
   "execution_count": 19
  },
  {
   "metadata": {
    "ExecuteTime": {
     "end_time": "2025-02-24T08:27:33.459046Z",
     "start_time": "2025-02-24T08:27:32.091973Z"
    }
   },
   "cell_type": "code",
   "source": [
    "# https://qdrant.tech/documentation/beginner-tutorials/search-beginners/\n",
    "# Local quickstart: https://qdrant.tech/documentation/quickstart/\n",
    "from qdrant_client import models, QdrantClient\n",
    "\n",
    "# Connect to Qdrant\n",
    "db_client = QdrantClient(\":memory:\")\n",
    "\n",
    "# first start qdrant server\n",
    "# set up: docker pull qdrant/qdrant\n",
    "# docker run -p 6333:6333 -p 6334:6334 -v \"$(pwd)/data/qdrant_storage:/qdrant/storage:z\" qdrant/qdrant\n",
    "# db_client = QdrantClient(url=\"http://localhost:6333\")\n",
    "\n",
    "# Define collection parameters\n",
    "# embedding_size = 384\n",
    "\n",
    "if not db_client.collection_exists(collection_name):\n",
    "    db_client.create_collection(\n",
    "        collection_name=collection_name,\n",
    "        vectors_config=models.VectorParams(\n",
    "                size=embedding_size,\n",
    "                distance=models.Distance.COSINE  # or Distance.EUCLID, etc.\n",
    "            )\n",
    "    )\n",
    "\n",
    "db_client.upload_points(\n",
    "    collection_name=collection_name,\n",
    "    points=[\n",
    "        models.PointStruct(id=idx, vector=data[\"embedding\"], payload=data[\"metadata\"])\n",
    "        for idx, data in enumerate(db_data)\n",
    "    ],\n",
    ")"
   ],
   "id": "58a33583e2ff8af9",
   "outputs": [],
   "execution_count": 14
  },
  {
   "metadata": {},
   "cell_type": "markdown",
   "source": "## Retrieving from vector DB",
   "id": "a8142bc3364e1299"
  },
  {
   "metadata": {
    "ExecuteTime": {
     "end_time": "2025-02-24T08:27:36.130660Z",
     "start_time": "2025-02-24T08:27:36.116262Z"
    }
   },
   "cell_type": "code",
   "source": [
    "# https://qdrant.tech/documentation/beginner-tutorials/search-beginners/\n",
    "def retriever(query, company_name, collection_name, embedding_client, db_client, k=3):\n",
    "    # query_embedding = embedding_model.encode(query).tolist()\n",
    "    query_embedding = embedding_client.embeddings.create(input=query, model=embedding_model).data[0].embedding\n",
    "    hits = db_client.query_points(\n",
    "        collection_name=collection_name,\n",
    "        query=query_embedding,\n",
    "        # https://qdrant.tech/documentation/concepts/filtering/\n",
    "        query_filter=models.Filter(must=[models.FieldCondition(key=\"company\", match=models.MatchValue(value=company_name))]),\n",
    "        limit=k  # number of top results\n",
    "    ).points\n",
    "\n",
    "    return hits"
   ],
   "id": "b6a3d0a0c84e16d8",
   "outputs": [],
   "execution_count": 15
  },
  {
   "metadata": {
    "ExecuteTime": {
     "end_time": "2025-02-24T08:27:40.075349Z",
     "start_time": "2025-02-24T08:27:39.145119Z"
    }
   },
   "cell_type": "code",
   "source": [
    "# demo_query = \"For which year is the report?\"\n",
    "query_demo = \"What is chapter 3 about?\"\n",
    "\n",
    "hits = retriever(query_demo, \"Calyxt, Inc.\", collection_name, embedding_client, db_client, k=3)\n",
    "\n",
    "for hit in hits:\n",
    "    print(hit.payload, \"score:\", hit.score)"
   ],
   "id": "7748b1a9eb489dbb",
   "outputs": [
    {
     "name": "stdout",
     "output_type": "stream",
     "text": [
      "{'title': 'Table of Contents', 'level': 2, 'previous_titles': ['## UNITED STATES SECURITIES AND EXCHANGE COMMISSION', '## FORM 10-K', '## Calyxt, Inc.', '## DOCUMENTS INCORPORATED BY REFERENCE'], 'next_titles': ['## Table of Contents', '## Terms', '## Cautionary Note Regarding Forward-Looking Statements', '## Table of Contents'], 'company': 'Calyxt, Inc.', 'table': False, 'part_index': 1, 'total_parts': 2, 'content': '3\\n\\n3\\n\\nTable of Contents'} score: 0.4286830423183803\n",
      "{'title': '(a)(3) Exhibits', 'level': 2, 'previous_titles': ['## Item 11. Executive Compensation', '## Item 12. Security Ownership of Certain Beneficial Owners and Management and Related Stockholder Matters', '## Item 13. Certain Relationships and Related Transactions, and Director Independence', '## Item 14. Principal Accounting Fees and Services'], 'next_titles': ['## Table of Contents', '## Item 16. Form 10-K Summary', '## SIGNATURES', '## CALYXT, INC.'], 'company': 'Calyxt, Inc.', 'table': False, 'part_index': 3, 'total_parts': 4, 'content': '10.23\\n\\nTable of Contents'} score: 0.3026157817588616\n",
      "{'title': 'Table of Contents', 'level': 2, 'previous_titles': ['## UNITED STATES SECURITIES AND EXCHANGE COMMISSION', '## FORM 10-K', '## Calyxt, Inc.', '## DOCUMENTS INCORPORATED BY REFERENCE'], 'next_titles': ['## Table of Contents', '## Terms', '## Cautionary Note Regarding Forward-Looking Statements', '## Table of Contents'], 'company': 'Calyxt, Inc.', 'table': True, 'part_index': 2, 'total_parts': 2, 'content': \"| PART I   |                                                                                                              |    |\\n|----------|--------------------------------------------------------------------------------------------------------------|----|\\n| Item 1.  | Business                                                                                                     |    |\\n| Item 1A. | Risk Factors                                                                                                 | 12 |\\n| Item 1B. | Unresolved Staff Comments                                                                                    | 26 |\\n| Item 2.  | Properties                                                                                                   | 27 |\\n| Item 3.  | Legal Proceedings                                                                                            | 27 |\\n| Item 4.  | Mine Safety Disclosures                                                                                      | 27 |\\n| PART II  |                                                                                                              | 27 |\\n| Item 5.  | Market for Registrant's Common Equity, Related Stockholder Matters and Issuer Purchases of Equity Securities | 27 |\\n| Item 6.  | [Reserved]                                                                                                   | 28 |\\n| Item 7.  | Management's Discussion and Analysis of Financial Condition and Results of Operations                        | 29 |\\n| Item 7A. | Quantitative and Qualitative Disclosures About Market Risk                                                   | 38 |\\n| Item 8.  | Consolidated Financial Statements and Supplementary Data                                                     | 38 |\\n| Item 9.  | Changes in and Disagreements with Accountants on Accounting and Financial Disclosure                         | 38 |\\n| Item 9A. | Controls and Procedures                                                                                      | 38 |\\n| Item 9B. | Other Information                                                                                            | 39 |\\n| Item 9C. | Disclosure Regarding Foreign Jurisdictions that Prevent Inspections                                          | 39 |\\n| PART III |                                                                                                              | 40 |\\n| Item 10. | Directors, Executive Officers and Corporate Governance                                                       | 40 |\\n| Item 11. | Executive Compensation                                                                                       | 40 |\\n| Item 12. | Security Ownership of Certain Beneficial Owners and Management and Related Stockholder Matters               | 40 |\\n| Item 13. | Certain Relationships and Related Transactions, and Director Independence                                    | 40 |\\n| Item 14. | Principal Accounting Fees and Services                                                                       | 40 |\\n| PART IV  |                                                                                                              | 41 |\\n| Item 15. | Exhibits and Financial Statement Schedules                                                                   | 41 |\\n| Item 16. | Form 10-K Summary                                                                                            | 43 |\"} score: 0.27152895893490947\n"
     ]
    }
   ],
   "execution_count": 16
  },
  {
   "metadata": {},
   "cell_type": "markdown",
   "source": "## LLM that thing!",
   "id": "adad882f7746207c"
  },
  {
   "metadata": {
    "ExecuteTime": {
     "end_time": "2025-02-24T08:28:11.687270Z",
     "start_time": "2025-02-24T08:28:10.572580Z"
    }
   },
   "cell_type": "code",
   "source": [
    "import phoenix as px\n",
    "from phoenix.otel import register\n",
    "\n",
    "# pip install -q openinference-instrumentation-openai\n",
    "from openinference.instrumentation.openai import OpenAIInstrumentor\n",
    "\n",
    "px.launch_app()\n",
    "\n",
    "tracer_provider = register(\n",
    "    project_name=\"rag_openAI-qdrant\",  # Default is 'default'\n",
    "    endpoint=\"http://localhost:4317\",  # Sends traces using gRPC\n",
    ")\n",
    "\n",
    "OpenAIInstrumentor().instrument(tracer_provider=tracer_provider)"
   ],
   "id": "9d6acdce8aa8892f",
   "outputs": [
    {
     "name": "stdout",
     "output_type": "stream",
     "text": [
      "🌍 To view the Phoenix app in your browser, visit http://localhost:6006/\n",
      "📖 For more information on how to use Phoenix, check out https://docs.arize.com/phoenix\n",
      "OpenTelemetry Tracing Details\n",
      "|  Phoenix Project: rag_openAI-qdrant\n",
      "|  Span Processor: SimpleSpanProcessor\n",
      "|  Collector Endpoint: localhost:4317\n",
      "|  Transport: gRPC\n",
      "|  Transport Headers: {'user-agent': '****'}\n",
      "|  \n",
      "|  Using a default SpanProcessor. `add_span_processor` will overwrite this default.\n",
      "|  \n",
      "|  `register` has set this TracerProvider as the global OpenTelemetry default.\n",
      "|  To disable this behavior, call `register` with `set_global_tracer_provider=False`.\n",
      "\n"
     ]
    }
   ],
   "execution_count": 18
  },
  {
   "metadata": {
    "ExecuteTime": {
     "end_time": "2025-02-24T09:52:05.788567Z",
     "start_time": "2025-02-24T09:52:05.536482Z"
    }
   },
   "cell_type": "code",
   "source": [
    "# Identify company name\n",
    "with open(f\"prompts/prompt_company_extractor.md\", \"r\") as file:\n",
    "    prompt_company_extractor = file.read()\n",
    "\n",
    "class Company(BaseModel):\n",
    "    chain_of_thought: str = Field(..., description=\"Chain of thought that led to the answer value\")\n",
    "    value: str = Field(..., description=\"Identified company name as in list of companies.\")\n",
    "\n",
    "llm_company_name = OpenAI()\n",
    "\n",
    "def get_company_name(query, companies_dict, verbose=True):\n",
    "    companies = list(companies_dict.keys())\n",
    "    company_name = None\n",
    "    company_meta = None\n",
    "\n",
    "    # Check if query contains company name directly\n",
    "    candidates = []\n",
    "    for company in companies:\n",
    "        # Build a regex pattern that ignores case\n",
    "        pattern = re.escape(company)\n",
    "        if re.search(pattern, query, re.IGNORECASE):\n",
    "            candidates.append(company)\n",
    "\n",
    "    if len(candidates) == 1:\n",
    "        if verbose:\n",
    "            print(f\"Found company name with re: {candidates[0]}\")\n",
    "        company_name = candidates[0]\n",
    "        company_meta = companies_dict[candidates[0]]\n",
    "\n",
    "    # If no company name was found, ask model to extract it\n",
    "    if not company_meta:\n",
    "        prompt = prompt_company_extractor.replace(\"<<COMPANIES>>\", \", \".join(companies))\n",
    "\n",
    "        completion = llm_company_name.beta.chat.completions.parse(\n",
    "            # model=\"gpt-4o-2024-08-06\",\n",
    "            model=\"gpt-4o-mini\",\n",
    "            messages=[\n",
    "                {\"role\": \"system\", \"content\": prompt},\n",
    "                {\"role\": \"user\", \"content\": query},\n",
    "            ],\n",
    "            response_format=Company,\n",
    "            temperature=0\n",
    "        )\n",
    "\n",
    "        if verbose:\n",
    "            print(completion)\n",
    "\n",
    "        company_name = completion.choices[0].message.parsed.value\n",
    "\n",
    "        if company_name.lower() == \"skip\":\n",
    "            return \"N/A\", None, None\n",
    "        else:\n",
    "            company_meta = companies_dict[company_name]\n",
    "\n",
    "    return company_name, company_meta[\"id\"], company_meta[\"sha1\"]"
   ],
   "id": "873a69fefdd6ce96",
   "outputs": [],
   "execution_count": 109
  },
  {
   "metadata": {
    "ExecuteTime": {
     "end_time": "2025-02-24T08:52:45.161014Z",
     "start_time": "2025-02-24T08:52:45.152001Z"
    }
   },
   "cell_type": "code",
   "source": [
    "completion = get_company_name(\"Did Calyxt, Inc. mention any mergers or acquisitions in the annual report\", companies_dict)\n",
    "print(\"OUTPUT:\", completion)"
   ],
   "id": "5f49d802edbf3f97",
   "outputs": [
    {
     "name": "stdout",
     "output_type": "stream",
     "text": [
      "Found company name with re: Calyxt, Inc.\n",
      "{'id': 'NASDAQ_CLXT_2022.pdf', 'sha1': '40b5cfe0d7bbf59e186492bfbe1b5002d44af332'}\n",
      "OUTPUT: ('Calyxt, Inc.', 'NASDAQ_CLXT_2022.pdf', '40b5cfe0d7bbf59e186492bfbe1b5002d44af332')\n"
     ]
    }
   ],
   "execution_count": 52
  },
  {
   "metadata": {
    "ExecuteTime": {
     "end_time": "2025-02-24T09:47:30.414223Z",
     "start_time": "2025-02-24T09:47:30.166038Z"
    }
   },
   "cell_type": "code",
   "source": [
    "from pydantic import BaseModel\n",
    "from openai import OpenAI\n",
    "from pydantic import Field\n",
    "from typing import List\n",
    "\n",
    "\n",
    "llm = OpenAI()\n",
    "collection_name = \"rag_test_db\"  # TODO\n",
    "\n",
    "class AnswerLLM(BaseModel):\n",
    "    chain_of_thought: str = Field(..., description=\"Chain of thought that led to the answer value\")\n",
    "    value: List[str] = Field(..., description=\"Answer to the question, according to the question kind\")\n",
    "    references: List[int] = Field(..., description=\"IDs of the chunks where evidence for the answer was found\")  # TODO catch this, then use reverse search in PDF to identify page number\n",
    "\n",
    "\n",
    "def ask_openai(user_query: str, kind: str, company_name: str, system_prompt: str, embedding_client, db_client, nr_rag_retrieval=5, verbose=True):\n",
    "\n",
    "    hits = retriever(user_query, company_name, collection_name, embedding_client, db_client, k=nr_rag_retrieval)\n",
    "    hits_str = \"\".join([f\"chunk id: {response.id}, score: {response.score}, content: {response.payload}\\n\\n\" for response in hits])\n",
    "\n",
    "    system_prompt_full = system_prompt.replace(\"<<CONTEXT>>\", hits_str)\n",
    "\n",
    "    completion = llm.beta.chat.completions.parse(\n",
    "        # model=\"gpt-4o-2024-08-06\",  # FIXME use correct model\n",
    "        model=\"gpt-4o-mini\",\n",
    "        messages=[\n",
    "            {\"role\": \"system\", \"content\": system_prompt_full},\n",
    "            {\"role\": \"user\", \"content\": \"Answer kind: \" + kind + \" \\n\" + user_query},\n",
    "        ],\n",
    "        response_format=AnswerLLM,\n",
    "        temperature=0\n",
    "    )\n",
    "\n",
    "    usage = completion.usage\n",
    "    response = completion.choices[0].message.parsed\n",
    "\n",
    "    # TODO forward sha1 and used chunk to retrieve page number and add references\n",
    "\n",
    "    return response, usage, system_prompt_full"
   ],
   "id": "51e7672499eab3cc",
   "outputs": [],
   "execution_count": 97
  },
  {
   "metadata": {
    "ExecuteTime": {
     "end_time": "2025-02-24T09:47:32.500210Z",
     "start_time": "2025-02-24T09:47:30.612907Z"
    }
   },
   "cell_type": "code",
   "source": [
    "query_demo = {\"text\": \"Did Calyxt, Inc. mention any mergers or acquisitions in the annual report?\", \"kind\": \"boolean\"}\n",
    "\n",
    "response, usage, system_prompt_demo = ask_openai(query_demo[\"text\"], query_demo[\"kind\"], \"Calyxt, Inc.\", system_prompt, embedding_client, db_client)\n",
    "print(response)"
   ],
   "id": "f76d268d6abb6c06",
   "outputs": [
    {
     "name": "stdout",
     "output_type": "stream",
     "text": [
      "chain_of_thought=\"The context mentions discussions regarding a Merger Agreement with Cibus, indicating that Calyxt, Inc. is involved in a merger. Therefore, the answer is 'yes'.\" value=['yes'] references=[47]\n"
     ]
    }
   ],
   "execution_count": 98
  },
  {
   "metadata": {
    "ExecuteTime": {
     "end_time": "2025-02-24T09:15:13.259949Z",
     "start_time": "2025-02-24T09:15:13.246918Z"
    }
   },
   "cell_type": "code",
   "source": "system_prompt_demo",
   "id": "8a448d6e3e9926f5",
   "outputs": [
    {
     "data": {
      "text/plain": [
       "'## SYSTEM PROMPT\\n\\nYou are a chatbot designed to answer questions about company annual reports. The information may appear in markdown \\ntables or as plain text. Your responses must be strictly based on the provided context and adhere to the following guidelines:\\n\\n1. **Answer Value Schema:**\\n    - For Integer Numeric Answers: Provide only the numeric value without commas, spaces, or additional text. For values given in thousands or millions, write the full number (e.g., if stated in millions, the answer for 88.1 would be \"88100000\" or for 1k answer \"1000\"). \\n    - For Float Numeric Answers (e.g. ratios): answer with a decimal (e.g., 0.5).\\n    - For Name-Based Answers: Provide only the exact name as it appears in the data. No additional text, formatting, or variations (e.g. \"Max Mustermann\").\\n    - For Boolean Answers: Provide only \"yes\" or \"no\".\\n    - For Insufficient Data: If the information is not available, respond with \"N/A\".\\n\\n2. **Context Adherence:**  \\n   - Only use the information provided in the CONTEXT. Do not assume or add external data.\\n   - The context contains retrieved chunks of company annual reports with some similarity score to the user query. Use this information to answer the questions.\\n   - The chunk_id of the retrieved chunks is sequential, i.e. in order of the appearance in the PDF.\\n   - Ensure your final answer strictly follows the designated schema.\\n   \\n3. **Domain Assumptions:**\\n  - For financial values, assume totals unless otherwise specified.\\n  - For roles like CEO or CFO, assume the question refers to the current position.\\n  - For company names, use the exact name as it appears in the data.\\n\\n4. **Table Analysis and Correction:**  \\n   - When analyzing markdown tables (or other data structures), be alert to any conversion or formatting issues. Common issues include:\\n     - Inconsistent use of thousand separators (commas, spaces, etc.).\\n     - Numbers split across multiple rows or columns.\\n     - Data misalignment or merging of columns.\\n   - Use contextual clues (such as column headers, totals, or adjacent entries) to determine if an entry might be affected by a table parsing error.\\n   - **Only output a corrected numerical value if you are sufficiently confident that a formatting flaw has occurred and you can deduce the correct value.**  \\n   - If you are not fully confident that the anomaly is due to a parsing error, or if the correct value remains ambiguous, output \"N/A\" and include a brief note (internally) that the data is ambiguous.\\n\\n5. **General Answer Guidelines:**  \\n   - Include a short explanation of your reasoning in the chain of thought.\\n   - Your final answer should be in one of the prescribed formats (number, boolean, concise string, or \"N/A\"). \\n   - If the question asks for a correction due to a suspected table parsing error, provide the corrected number only if the evidence is compelling; otherwise, output \"N/A\". Provide your thoughts in the chain of thought\\n   - If you give an answer, provide the chunk_id(s) of the chunk(s) from the context that support your answer.\\n    \\n6. **Example Response Structure:**\\n   - *If confident:*  \\n     **Final Answer:** `5839`  \\n     (Explanation: The table appeared to split the building cost for Oklahoma City - 12/20/21 over two rows; based on the CONTEXT, the correct value is deduced as 5839.)\\n\\n   - *If uncertain:*  \\n     **Final Answer:** `N/A`  \\n     (Explanation: Insufficient clarity in the table data due to formatting issues.)\\n\\n\\n## CONTEXT:\\nchunk id: 42, score: 0.6615194526330987, content: {\\'title\\': \\'Available Information\\', \\'level\\': 2, \\'previous_titles\\': [\\'## Human Capital\\', \\'## Table of Contents\\', \\'## Seasonality\\', \\'## Corporate Information\\'], \\'next_titles\\': [\\'## Table of Contents\\', \\'## Item 1A. Risk Factors.\\', \\'## Risk Related to the Transactions\\', \\'## Table of Contents\\'], \\'company\\': \\'Calyxt, Inc.\\', \\'table\\': False, \\'part_index\\': 1, \\'total_parts\\': 1, \\'content\\': \"The Company files or furnishes periodic reports and amendments thereto, including its Annual Reports on Form  10-K, its Quarterly Reports on Form  10-Q and Current Reports on Form 8-K, proxy statements, and other information with the SEC. On the Company\\'s website located at www.calyxt.com, investors can obtain, free of charge, this Annual Report on Form 10-K, Quarterly Reports on Form 10-Q, Current Reports on Form 8-K and all other filings with the SEC as soon as reasonably practicable after it electronically files or furnish such information with the SEC. Information contained on the Company\\'s website is not incorporated into this Annual Report on Form 10-K. In addition, the SEC maintains a website that contains reports, proxy statements and other information regarding issuers that file electronically with the SEC. The website can be accessed at www.sec.gov.\"}\\n\\nchunk id: 339, score: 0.6563570528160514, content: {\\'title\\': \\'Consent of Independent Registered Public Accounting Firm\\', \\'level\\': 2, \\'previous_titles\\': [\\'## RESTRICTED STOCK UNIT AGREEMENT\\', \\'## ###VEST\\\\\\\\_SCHEDULE\\\\\\\\_TABLE###\\', \\'## 14. Miscellaneous.\\', \\'## THE COMPANY:\\'], \\'next_titles\\': [\\'## CERTIFICATION PURSUANT TO RULES 13a-14(a) AND 15d-14(a) UNDER THE SECURITIES EXCHANGE ACT, AS AMENDED\\', \\'## CERTIFICATION PURSUANT TO RULES 13a-14(a) AND 15d-14(a) UNDER THE SECURITIES EXCHANGE ACT, AS AMENDED\\', \\'## CERTIFICATION PURSUANT TO 18 U.S.C. SECTION 1350, AS ADOPTED PURSUANT TO SECTION 906 OF THE SARBANES-OXLEY ACT OF 2002\\'], \\'company\\': \\'Calyxt, Inc.\\', \\'table\\': False, \\'part_index\\': 1, \\'total_parts\\': 1, \\'content\\': \\'We consent to the incorporation by reference in the following Registration Statements:\\\\n\\\\n- (1) Registration Statement (Form S-8 No. 333-257972) pertaining to the Calyxt, Inc. 2017 Omnibus Incentive Plan and 2021 Employee Inducement Incentive Plan;\\\\n- (2) Registration Statement (Form S-3 No. 333-267499) of Calyxt, Inc.;\\\\n- (3) Registration Statement (Form S-3 No. 333-266302) of Calyxt, Inc.;\\\\n- (4) Registration Statement (Form S-8 No. 333-231336) pertaining to the Calyxt, Inc. 2017 Omnibus Incentive Plan of Calyxt, Inc.; and\\\\n- (5) Registration Statement (Form S-8 No. 333-219382) pertaining to the Calyxt, Inc. 2017 Omnibus Incentive Plan and the Calyxt, Inc. Equity Incentive Plan of Calyxt, Inc.\\\\n\\\\nof our report dated March 2, 2023, with respect to the consolidated financial statements of Calyxt, Inc.included in this Annual Report (Form 0-K) for the 1 year ended December 31, 2022.\\\\n\\\\n/s/ Ernst &amp; Young LLP\\\\n\\\\nMinneapolis, Minnesota\\\\n\\\\nMarch 2, 2023\\'}\\n\\nchunk id: 188, score: 0.6556860170723919, content: {\\'title\\': \\'Report of Independent Registered Public Accounting Firm\\', \\'level\\': 2, \\'previous_titles\\': [\\'## SIGNATURES\\', \\'## CALYXT, INC.\\', \\'## CALYXT, INC.\\', \\'## INDEX TO CONSOLIDATED FINANCIAL STATEMENTS\\'], \\'next_titles\\': [\\'## Opinion on the Financial Statements\\', \"## The Company\\'s Ability to Continue as a Going Concern\", \\'## Basis for Opinion\\', \\'## Adoption of ASU No. 2016-02\\'], \\'company\\': \\'Calyxt, Inc.\\', \\'table\\': False, \\'part_index\\': 1, \\'total_parts\\': 1, \\'content\\': \\'To the Shareholders and the Board of Directors of Calyxt, Inc.\\'}\\n\\n\\n'"
      ]
     },
     "execution_count": 63,
     "metadata": {},
     "output_type": "execute_result"
    }
   ],
   "execution_count": 63
  },
  {
   "metadata": {},
   "cell_type": "markdown",
   "source": "## Identify page numbers (postprocessing)",
   "id": "61f5b05ad8da2cfa"
  },
  {
   "metadata": {
    "ExecuteTime": {
     "end_time": "2025-02-24T09:55:35.284084Z",
     "start_time": "2025-02-24T09:55:35.271542Z"
    }
   },
   "cell_type": "code",
   "source": [
    "# Works, but slow - use in postprocessing (if LLM found answer, i.e. not na then retrieve pages for context used)\n",
    "import fitz  # PyMuPDF\n",
    "from thefuzz import fuzz  # fuzzy matching library\n",
    "\n",
    "def find_references_in_pdf(chunk_ids, company_id, db_client, threshold=50, verbose=True):\n",
    "    doc = fitz.open(f\"../data/pdfs/{company_id}\")\n",
    "\n",
    "    pages_text = [doc[page_num].get_text() for page_num in range(len(doc))]\n",
    "\n",
    "    chunks = db_client.retrieve(collection_name, chunk_ids)\n",
    "    chunks = [chunk.payload[\"content\"] for chunk in chunks]\n",
    "    chunks = [chunk.replace(\"|\", \" \").replace(\"-\", \" \").replace(\"  \", \" \") for chunk in chunks]\n",
    "\n",
    "    page_nrs = []\n",
    "    for i, chunk in enumerate(chunks):\n",
    "\n",
    "        best_page = None\n",
    "        best_score = 0\n",
    "\n",
    "        for j, page_text in enumerate(pages_text):\n",
    "            score = fuzz.partial_ratio(chunk, page_text)\n",
    "            if score > best_score:\n",
    "                best_score = score\n",
    "                best_page = j + 1  # pages are 1-indexed\n",
    "\n",
    "                # If a nearly perfect match is found, exit the loop early\n",
    "                if best_score > 98:\n",
    "                    break\n",
    "\n",
    "        if verbose:\n",
    "            if best_score > threshold:\n",
    "                print(f\"Chunk {chunk_ids[i]} found on page {best_page} with score {best_score}\")\n",
    "            else:\n",
    "                print(f\"WARNING: Chunk {chunk_ids[i]} identified with low score: {best_score}\")\n",
    "\n",
    "        page_nrs.append(best_page)\n",
    "\n",
    "    return page_nrs"
   ],
   "id": "53578d1c126a95f0",
   "outputs": [],
   "execution_count": 118
  },
  {
   "metadata": {
    "ExecuteTime": {
     "end_time": "2025-02-24T09:42:11.121112Z",
     "start_time": "2025-02-24T09:42:08.726232Z"
    }
   },
   "cell_type": "code",
   "source": "find_references_in_pdf([1, 3], \"NASDAQ_CLXT_2022.pdf\", db_client)",
   "id": "66c3a573d2ab596e",
   "outputs": [
    {
     "name": "stdout",
     "output_type": "stream",
     "text": [
      "Chunk 1 found on page 1 with score 90\n",
      "Chunk 3 found on page 2 with score 97\n"
     ]
    },
    {
     "data": {
      "text/plain": [
       "[1, 2]"
      ]
     },
     "execution_count": 95,
     "metadata": {},
     "output_type": "execute_result"
    }
   ],
   "execution_count": 95
  },
  {
   "metadata": {},
   "cell_type": "markdown",
   "source": "## Putting everything together",
   "id": "bcd4d12246119a5b"
  },
  {
   "metadata": {
    "ExecuteTime": {
     "end_time": "2025-02-24T09:54:31.553119Z",
     "start_time": "2025-02-24T09:54:31.539887Z"
    }
   },
   "cell_type": "code",
   "source": [
    "def pipeline(query, system_prompt, embedding_client, db_client, collection_name, verbose=True):\n",
    "    company_name, company_id, company_sha1 = get_company_name(query[\"text\"], companies_dict, verbose)\n",
    "\n",
    "    if company_name == \"N/A\":\n",
    "        return \"N/A\", company_id, company_sha1, [], 0\n",
    "\n",
    "    response, usage, system_prompt_full = ask_openai(query[\"text\"], query[\"kind\"], company_name, system_prompt, embedding_client, db_client)\n",
    "\n",
    "    references = find_references_in_pdf(response.references, company_id, db_client)\n",
    "\n",
    "    if verbose:\n",
    "        print(\"Response:\", response)\n",
    "    return response.value, company_id, company_sha1, references, usage"
   ],
   "id": "4224f8e0dcf5361",
   "outputs": [],
   "execution_count": 116
  },
  {
   "metadata": {
    "ExecuteTime": {
     "end_time": "2025-02-24T09:53:09.244208Z",
     "start_time": "2025-02-24T09:53:06.776618Z"
    }
   },
   "cell_type": "code",
   "source": "pipeline(questions[1], system_prompt, embedding_client, db_client, collection_name)",
   "id": "74c0488400c725d2",
   "outputs": [
    {
     "name": "stdout",
     "output_type": "stream",
     "text": [
      "Found company name with re: Yellow Pages Limited\n",
      "Response: chain_of_thought='The context provided does not include specific financial metrics such as the Operating margin for Yellow Pages Limited. Therefore, I cannot provide a numeric value for the Operating margin as it is not mentioned in the retrieved chunks.' value=['N/A'] references=[]\n"
     ]
    },
    {
     "data": {
      "text/plain": [
       "(['N/A'],\n",
       " 'TSX_Y_2022.pdf',\n",
       " '9d7a72445aba6860402c3acce75af02dc045f74d',\n",
       " [],\n",
       " CompletionUsage(completion_tokens=57, prompt_tokens=2426, total_tokens=2483, completion_tokens_details=CompletionTokensDetails(accepted_prediction_tokens=0, audio_tokens=0, reasoning_tokens=0, rejected_prediction_tokens=0), prompt_tokens_details=PromptTokensDetails(audio_tokens=0, cached_tokens=2304)))"
      ]
     },
     "execution_count": 114,
     "metadata": {},
     "output_type": "execute_result"
    }
   ],
   "execution_count": 114
  },
  {
   "metadata": {
    "ExecuteTime": {
     "end_time": "2025-02-24T09:49:20.618992Z",
     "start_time": "2025-02-24T09:49:20.605693Z"
    }
   },
   "cell_type": "code",
   "source": [
    "from pydantic import BaseModel, Field\n",
    "from typing import Optional, List, Union, Literal\n",
    "\n",
    "class SourceReference(BaseModel):\n",
    "    pdf_sha1: str = Field(..., description=\"SHA1 hash of the PDF file\")\n",
    "    page_index: int = Field(..., description=\"Physical page number in the PDF file\")\n",
    "\n",
    "class Answer(BaseModel):\n",
    "    question_text: Optional[str] = Field(None, description=\"Text of the question\")\n",
    "    kind: Optional[Literal[\"number\", \"name\", \"boolean\", \"names\"]] = Field(None, description=\"Kind of the question\")\n",
    "    value: Union[float, str, bool, List[str], Literal[\"N/A\"]] = Field(..., description=\"Answer to the question, according to the question schema\")\n",
    "    references: List[SourceReference] = Field([], description=\"References to the source material in the PDF file\")\n",
    "\n",
    "class AnswerSubmission(BaseModel):\n",
    "    team_email: str = Field(..., description=\"Email that your team used to register for the challenge\")\n",
    "    submission_name: str = Field(..., description=\"Unique name of the submission (e.g. experiment name)\")\n",
    "    answers: List[Answer] = Field(..., description=\"List of answers to the questions\")"
   ],
   "id": "d2408c7b0a5093eb",
   "outputs": [],
   "execution_count": 100
  },
  {
   "metadata": {
    "ExecuteTime": {
     "end_time": "2025-02-24T09:56:58.171033Z",
     "start_time": "2025-02-24T09:56:43.968670Z"
    }
   },
   "cell_type": "code",
   "source": [
    "# Create submission based on answers list and store json\n",
    "answer_items = []\n",
    "for question in questions[:3]:  # FIXME\n",
    "    answer, company_id, company_sha1, references, usage  = pipeline(question, system_prompt, embedding_client, db_client, collection_name)\n",
    "\n",
    "    print(\"\")\n",
    "    print(answer)\n",
    "    print(company_sha1)\n",
    "    print(question)\n",
    "\n",
    "    if answer[0] == \"N/A\":\n",
    "        value = \"N/A\"\n",
    "    if len(answer) == 1:\n",
    "        value = answer[0]\n",
    "    else:\n",
    "        value = answer\n",
    "\n",
    "    if not references:\n",
    "        references = []\n",
    "    else:\n",
    "        references = [SourceReference(pdf_sha1=company_sha1, page_index=reference) for reference in references]\n",
    "\n",
    "    answer_item = Answer(question_text=question[\"text\"], kind=question[\"kind\"], value=value, references=references)\n",
    "    answer_items.append(answer_item)\n",
    "\n",
    "final_submission = AnswerSubmission(answers=answer_items, team_email=\"felix.krause@timetoact.at\", submission_name=\"gemini\")"
   ],
   "id": "4fb7cb87f6434e14",
   "outputs": [
    {
     "name": "stdout",
     "output_type": "stream",
     "text": [
      "ParsedChatCompletion[Company](id='chatcmpl-B4PUaIJ2Of7DL5SeMe5xTlWsRxlwZ', choices=[ParsedChoice[Company](finish_reason='stop', index=0, logprobs=None, message=ParsedChatCompletionMessage[Company](content='{\\n  \"chain_of_thought\": \"The query mentions \\'Backpowder Inc\\', which does not match any company in the provided list. Therefore, I will return \\'SKIP\\'.\",\\n  \"value\": \"SKIP\"\\n}', refusal=None, role='assistant', audio=None, function_call=None, tool_calls=[], parsed=Company(chain_of_thought=\"The query mentions 'Backpowder Inc', which does not match any company in the provided list. Therefore, I will return 'SKIP'.\", value='SKIP')))], created=1740391004, model='gpt-4o-mini-2024-07-18', object='chat.completion', service_tier='default', system_fingerprint='fp_709714d124', usage=CompletionUsage(completion_tokens=49, prompt_tokens=451, total_tokens=500, completion_tokens_details=CompletionTokensDetails(accepted_prediction_tokens=0, audio_tokens=0, reasoning_tokens=0, rejected_prediction_tokens=0), prompt_tokens_details=PromptTokensDetails(audio_tokens=0, cached_tokens=0)))\n",
      "\n",
      "N/A\n",
      "None\n",
      "{'text': 'Did Backpowder Inc mention any mergers or acquisitions in the annual report?', 'kind': 'boolean'}\n",
      "Found company name with re: Yellow Pages Limited\n",
      "Response: chain_of_thought='The context provided does not include specific financial metrics such as the Operating margin for Yellow Pages Limited. Therefore, I cannot provide a numeric value for the Operating margin as it is not mentioned in the retrieved chunks.' value=['N/A'] references=[]\n",
      "\n",
      "['N/A']\n",
      "9d7a72445aba6860402c3acce75af02dc045f74d\n",
      "{'text': \"According to the annual report, what is the Operating margin (%) for Yellow Pages Limited  (within the last period or at the end of the last period)? If data is not available, return 'N/A'.\", 'kind': 'number'}\n",
      "Found company name with re: Calyxt, Inc.\n",
      "Chunk 253 found on page 65 with score 99\n",
      "Response: chain_of_thought=\"The context does not provide specific details about the largest single spending on executive compensation in USD. It mentions a $2.5 million recapture of non-cash stock compensation expense from the forfeiture of Mr. Blome's unvested stock options, but it does not indicate if this was the largest single spending. Therefore, I cannot determine the largest single spending on executive compensation based on the provided information.\" value=['N/A'] references=[253]\n",
      "\n",
      "['N/A']\n",
      "40b5cfe0d7bbf59e186492bfbe1b5002d44af332\n",
      "{'text': 'What was the largest single spending of Calyxt, Inc. on executive compensation in USD?', 'kind': 'name'}\n"
     ]
    }
   ],
   "execution_count": 122
  },
  {
   "metadata": {
    "ExecuteTime": {
     "end_time": "2025-02-24T09:57:49.893217Z",
     "start_time": "2025-02-24T09:57:49.885098Z"
    }
   },
   "cell_type": "code",
   "source": [
    "# store submission as json\n",
    "final_submission_path = f\"../data/submissions/openai_test_submission.json\"\n",
    "\n",
    "with open(final_submission_path, \"w\") as file:\n",
    "    json.dump(final_submission.model_dump(), file, indent=4)"
   ],
   "id": "dbe6da09f19bdca0",
   "outputs": [],
   "execution_count": 126
  },
  {
   "metadata": {},
   "cell_type": "markdown",
   "source": "## Analysis of Chunks",
   "id": "b6bfea78e3cfd841"
  },
  {
   "metadata": {
    "ExecuteTime": {
     "end_time": "2025-02-20T09:54:11.789077Z",
     "start_time": "2025-02-20T09:54:11.778877Z"
    }
   },
   "cell_type": "code",
   "source": [
    "# Load markdown\n",
    "company_test = \"NASDAQ_CLXT_2022\"\n",
    "\n",
    "with open(f\"../data/docling_md/dev/docling_{company_test}.md\", \"r\", encoding=\"utf-8\") as file:\n",
    "    text = file.read()"
   ],
   "id": "f2666f39c28413bb",
   "outputs": [],
   "execution_count": 55
  },
  {
   "metadata": {
    "ExecuteTime": {
     "end_time": "2025-02-20T09:54:13.158082Z",
     "start_time": "2025-02-20T09:54:13.128335Z"
    }
   },
   "cell_type": "code",
   "source": [
    "# Analysis of chunk lengths if splitting by chapters\n",
    "import re\n",
    "import pandas as pd\n",
    "\n",
    "chunks = re.split(r'(?m)(?=^#+\\s)', text)\n",
    "chunks_cleaned = [chunk for chunk in chunks if chunk.strip()]\n",
    "char_counts = [len(chunk) for chunk in chunks_cleaned]\n",
    "\n",
    "pd.Series(char_counts).describe()"
   ],
   "id": "604bb19c38e8fb8c",
   "outputs": [
    {
     "data": {
      "text/plain": [
       "count      271.000000\n",
       "mean      1579.236162\n",
       "std       2013.277228\n",
       "min         11.000000\n",
       "25%        284.000000\n",
       "50%        980.000000\n",
       "75%       2012.500000\n",
       "max      17569.000000\n",
       "dtype: float64"
      ]
     },
     "execution_count": 56,
     "metadata": {},
     "output_type": "execute_result"
    }
   ],
   "execution_count": 56
  },
  {
   "metadata": {
    "ExecuteTime": {
     "end_time": "2025-02-20T09:54:13.328725Z",
     "start_time": "2025-02-20T09:54:13.206609Z"
    }
   },
   "cell_type": "code",
   "source": [
    "import matplotlib.pyplot as plt\n",
    "\n",
    "plt.hist(char_counts, bins=20)\n",
    "plt.show()"
   ],
   "id": "1a55ad1609fab2b1",
   "outputs": [
    {
     "data": {
      "text/plain": [
       "<Figure size 640x480 with 1 Axes>"
      ],
      "image/png": "[encoded data removed]"
     },
     "metadata": {},
     "output_type": "display_data"
    }
   ],
   "execution_count": 57
  },
  {
   "metadata": {},
   "cell_type": "code",
   "outputs": [],
   "execution_count": null,
   "source": [
    "# Idea: Try to retrieve Table of Contents from PDF and attach to context first\n",
    "# Then, chunk the document, attach as metadata the previous X section titles (retrieve via markdown) + page number?\n",
    "# Split by chapters? If section too large, split into subsections with table correction?"
   ],
   "id": "2562ccf294ba4e7f"
  }
 ],
 "metadata": {
  "kernelspec": {
   "display_name": "Python 3",
   "language": "python",
   "name": "python3"
  },
  "language_info": {
   "codemirror_mode": {
    "name": "ipython",
    "version": 2
   },
   "file_extension": ".py",
   "mimetype": "text/x-python",
   "name": "python",
   "nbconvert_exporter": "python",
   "pygments_lexer": "ipython2",
   "version": "2.7.6"
  }
 },
 "nbformat": 4,
 "nbformat_minor": 5
}
