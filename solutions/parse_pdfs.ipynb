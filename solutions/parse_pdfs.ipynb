{
 "cells": [
  {
   "metadata": {},
   "cell_type": "markdown",
   "source": "# Parse PDFs with Docling",
   "id": "b70c400f2b568f3e"
  },
  {
   "metadata": {
    "ExecuteTime": {
     "end_time": "2025-03-05T10:00:43.987882Z",
     "start_time": "2025-03-05T10:00:43.975364Z"
    }
   },
   "cell_type": "code",
   "source": [
    "from utils import get_companies_dict\n",
    "\n",
    "companies_dict = get_companies_dict(r\"../data/round2/subset.json\")"
   ],
   "id": "522f9a98ad85c4b4",
   "outputs": [],
   "execution_count": 4
  },
  {
   "metadata": {
    "ExecuteTime": {
     "end_time": "2025-03-05T09:48:10.943418Z",
     "start_time": "2025-03-05T09:48:10.923756Z"
    }
   },
   "cell_type": "code",
   "source": [
    "# only keep subset for dev\n",
    "companies = [\"Ziff Davis, Inc.\", \"\"]\n",
    "companies_dict = {company: data for company, data in companies_dict.items() if company in companies}"
   ],
   "id": "ac74005458a6c296",
   "outputs": [],
   "execution_count": 2
  },
  {
   "cell_type": "code",
   "id": "initial_id",
   "metadata": {
    "collapsed": true,
    "ExecuteTime": {
     "end_time": "2025-03-05T16:22:59.094261500Z",
     "start_time": "2025-03-05T10:00:46.508917Z"
    }
   },
   "source": [
    "# Potential for parallelization for files?\n",
    "import os\n",
    "from docling.document_converter import DocumentConverter\n",
    "from concurrent.futures import ThreadPoolExecutor, as_completed\n",
    "from tqdm import tqdm\n",
    "\n",
    "\n",
    "converter = DocumentConverter()  # 20 sec for setting up\n",
    "\n",
    "preproc_logs = {\"failed\": [], \"skipped\": []}\n",
    "\n",
    "\n",
    "def process_company(company, data):\n",
    "    pdf_path = f\"../data/round2/pdfs/{data['sha1']}.pdf\"\n",
    "    docling_md_path = f\"../data/docling_md/round2/docling_{data['sha1']}.md\"\n",
    "\n",
    "    if not os.path.exists(docling_md_path):\n",
    "        print(f\"Processing {company}\")\n",
    "        try:\n",
    "            result = converter.convert(pdf_path)\n",
    "            with open(docling_md_path, \"w\", encoding=\"utf-8\") as file:\n",
    "                file.write(result.document.export_to_markdown())\n",
    "            # Return None error to indicate success.\n",
    "            return (company, None)\n",
    "        except Exception as e:\n",
    "            print(f\"Error processing {company}: {e}\")\n",
    "            return (company, e)\n",
    "    else:\n",
    "        print(f\"Skipping {company}\")\n",
    "        return (company, \"skipped\")\n",
    "\n",
    "# Use ThreadPoolExecutor to process companies concurrently.\n",
    "with ThreadPoolExecutor(max_workers=1) as executor:\n",
    "    # Submit all tasks\n",
    "    futures = {executor.submit(process_company, company, data): company\n",
    "               for company, data in companies_dict.items()}\n",
    "\n",
    "    # Process tasks as they complete.\n",
    "    for future in tqdm(as_completed(futures), total=len(futures)):\n",
    "        company, result = future.result()\n",
    "        if result is None:\n",
    "            continue  # Successful processing.\n",
    "        elif result == \"skipped\":\n",
    "            preproc_logs[\"skipped\"].append(company)\n",
    "        else:\n",
    "            preproc_logs[\"failed\"].append({\"company_id\": company, \"error\": result})\n",
    "\n",
    "if preproc_logs[\"failed\"]:\n",
    "    print(f\"Nr of failed companies: {len(preproc_logs['failed'])}\")\n",
    "\n",
    "\n",
    "# RUNTIMES:\n",
    "# REIT: execution for 7.4MB with 97 pages -> 5 min\n",
    "# Yellow Pages: execution for 1.4MB with 77 pages -> 4 min\n",
    "# Calyxt: execution for 0.7MB with 88 pages -> 3min\n",
    "# TODO check on google colab\n",
    "\n",
    "# NOTES:\n",
    "# brackets in tables indicate negative values\n",
    "# parsing issues (see current system prompt)"
   ],
   "outputs": [
    {
     "name": "stdout",
     "output_type": "stream",
     "text": [
      "Skipping ACRES Commercial Realty Corp.\n",
      "Skipping Aptevo Therapeutics Inc.\n"
     ]
    },
    {
     "name": "stderr",
     "output_type": "stream",
     "text": [
      "  0%|          | 0/100 [00:00<?, ?it/s]"
     ]
    },
    {
     "name": "stdout",
     "output_type": "stream",
     "text": [
      "Skipping Downer EDI Limited\n",
      "Skipping Odyssey Gold Limited\n",
      "Skipping NextNav Inc.\n",
      "Skipping Peako Limited\n",
      "Skipping Mosaic Brands Limited\n",
      "Skipping Aurora Innovation, Inc.\n",
      "Skipping Crombie REIT\n",
      "Skipping Medallion Financial Corp.\n",
      "Skipping Enact Holdings, Inc.\n",
      "Skipping BetMakers Technology Group Ltd\n",
      "Skipping OFX Group Limited\n",
      "Skipping FNCB Bancorp, Inc.\n",
      "Skipping Celldex Therapeutics, Inc.\n",
      "Skipping SIG plc\n",
      "Skipping Motability Operations Group plc\n",
      "Skipping BCB Bancorp, Inc.\n",
      "Skipping 1-800-FLOWERS.COM, INC.\n",
      "Skipping Weis Markets, Inc.\n",
      "Skipping Odyssey Group Holdings, Inc.\n",
      "Skipping Blue Apron Holdings, Inc.\n",
      "Skipping Ocugen, Inc.\n",
      "Skipping Rectifier Technologies Ltd\n",
      "Skipping Structural Monitoring Systems Plc\n",
      "Skipping Origin Bancorp, Inc.\n",
      "Skipping Liberty Broadband Corporation\n",
      "Skipping Incyte Corporation\n",
      "Skipping Guaranty Bancshares, Inc.\n",
      "Skipping Infinera Corporation\n",
      "Skipping MainStreet Bancshares, Inc.\n",
      "Skipping Starvest plc\n",
      "Skipping INMUNE BIO INC.\n",
      "Skipping Bionano Genomics, Inc.\n",
      "Skipping AstraZeneca\n",
      "Skipping Atreca, Inc.\n",
      "Skipping Senti Biosciences, Inc.\n",
      "Skipping Galileo Resources Plc\n",
      "Skipping Incitec Pivot Limited\n",
      "Skipping SThree plc\n",
      "Processing EPI (HOLDINGS) LIMITED\n"
     ]
    },
    {
     "name": "stderr",
     "output_type": "stream",
     "text": [
      " 41%|████      | 41/100 [1:18:11<1:52:31, 114.44s/it]"
     ]
    },
    {
     "name": "stdout",
     "output_type": "stream",
     "text": [
      "Skipping Sonic Automotive, Inc.\n",
      "Processing Commerzbank\n"
     ]
    },
    {
     "name": "stderr",
     "output_type": "stream",
     "text": [
      " 43%|████▎     | 43/100 [1:41:21<2:24:38, 152.25s/it]"
     ]
    },
    {
     "name": "stdout",
     "output_type": "stream",
     "text": [
      "Skipping Seiko Epson Corporation\n",
      "Processing DiaMedica Therapeutics Inc.\n"
     ]
    },
    {
     "name": "stderr",
     "output_type": "stream",
     "text": [
      " 45%|████▌     | 45/100 [1:48:58<2:25:31, 158.75s/it]"
     ]
    },
    {
     "name": "stdout",
     "output_type": "stream",
     "text": [
      "Processing James Halstead plc\n"
     ]
    },
    {
     "name": "stderr",
     "output_type": "stream",
     "text": [
      " 46%|████▌     | 46/100 [1:53:11<2:27:44, 164.16s/it]"
     ]
    },
    {
     "name": "stdout",
     "output_type": "stream",
     "text": [
      "Processing Kiniksa Pharmaceuticals, Ltd.\n"
     ]
    },
    {
     "name": "stderr",
     "output_type": "stream",
     "text": [
      " 47%|████▋     | 47/100 [1:59:40<2:40:01, 181.16s/it]"
     ]
    },
    {
     "name": "stdout",
     "output_type": "stream",
     "text": [
      "Processing MongoDB, Inc.\n"
     ]
    },
    {
     "name": "stderr",
     "output_type": "stream",
     "text": [
      " 48%|████▊     | 48/100 [2:08:48<3:08:01, 216.94s/it]"
     ]
    },
    {
     "name": "stdout",
     "output_type": "stream",
     "text": [
      "Processing Ritchie Bros. Auctioneers Incorporated\n"
     ]
    },
    {
     "name": "stderr",
     "output_type": "stream",
     "text": [
      " 49%|████▉     | 49/100 [2:15:37<3:24:20, 240.41s/it]"
     ]
    },
    {
     "name": "stdout",
     "output_type": "stream",
     "text": [
      "Processing Terns Pharmaceuticals, Inc.\n"
     ]
    },
    {
     "name": "stderr",
     "output_type": "stream",
     "text": [
      " 50%|█████     | 50/100 [2:22:50<3:44:12, 269.05s/it]"
     ]
    },
    {
     "name": "stdout",
     "output_type": "stream",
     "text": [
      "Processing Insperity, Inc.\n"
     ]
    },
    {
     "name": "stderr",
     "output_type": "stream",
     "text": [
      " 51%|█████     | 51/100 [2:26:43<3:34:34, 262.74s/it]"
     ]
    },
    {
     "name": "stdout",
     "output_type": "stream",
     "text": [
      "Processing Bridgewater Bancshares, Inc.\n"
     ]
    },
    {
     "name": "stderr",
     "output_type": "stream",
     "text": [
      " 52%|█████▏    | 52/100 [2:34:34<4:03:32, 304.43s/it]"
     ]
    },
    {
     "name": "stdout",
     "output_type": "stream",
     "text": [
      "Processing Empire Company Limited\n"
     ]
    },
    {
     "name": "stderr",
     "output_type": "stream",
     "text": [
      " 53%|█████▎    | 53/100 [2:39:28<3:56:42, 302.19s/it]"
     ]
    },
    {
     "name": "stdout",
     "output_type": "stream",
     "text": [
      "Processing Nordic American Tankers Limited\n"
     ]
    },
    {
     "name": "stderr",
     "output_type": "stream",
     "text": [
      " 54%|█████▍    | 54/100 [2:43:33<3:41:04, 288.37s/it]"
     ]
    },
    {
     "name": "stdout",
     "output_type": "stream",
     "text": [
      "Processing Microsoft Corporation\n"
     ]
    },
    {
     "name": "stderr",
     "output_type": "stream",
     "text": [
      " 55%|█████▌    | 55/100 [2:48:09<3:33:51, 285.15s/it]"
     ]
    },
    {
     "name": "stdout",
     "output_type": "stream",
     "text": [
      "Processing Westwater Resources, Inc.\n"
     ]
    },
    {
     "name": "stderr",
     "output_type": "stream",
     "text": [
      " 56%|█████▌    | 56/100 [2:51:10<3:08:36, 257.19s/it]"
     ]
    },
    {
     "name": "stdout",
     "output_type": "stream",
     "text": [
      "Processing Aptiv PLC\n"
     ]
    },
    {
     "name": "stderr",
     "output_type": "stream",
     "text": [
      " 57%|█████▋    | 57/100 [3:00:25<4:03:29, 339.76s/it]"
     ]
    },
    {
     "name": "stdout",
     "output_type": "stream",
     "text": [
      "Processing Datalogic\n"
     ]
    },
    {
     "name": "stderr",
     "output_type": "stream",
     "text": [
      " 58%|█████▊    | 58/100 [3:20:51<6:53:35, 590.85s/it]"
     ]
    },
    {
     "name": "stdout",
     "output_type": "stream",
     "text": [
      "Processing Rapid7\n"
     ]
    },
    {
     "name": "stderr",
     "output_type": "stream",
     "text": [
      " 59%|█████▉    | 59/100 [3:27:52<6:10:21, 541.98s/it]"
     ]
    },
    {
     "name": "stdout",
     "output_type": "stream",
     "text": [
      "Processing Alcoa Corporation\n"
     ]
    },
    {
     "name": "stderr",
     "output_type": "stream",
     "text": [
      " 60%|██████    | 60/100 [3:37:37<6:09:43, 554.60s/it]"
     ]
    },
    {
     "name": "stdout",
     "output_type": "stream",
     "text": [
      "Processing NuCana plc\n"
     ]
    },
    {
     "name": "stderr",
     "output_type": "stream",
     "text": [
      " 61%|██████    | 61/100 [3:47:07<6:03:19, 558.96s/it]"
     ]
    },
    {
     "name": "stdout",
     "output_type": "stream",
     "text": [
      "Processing Pintec Technology Holdings Limited\n"
     ]
    },
    {
     "name": "stderr",
     "output_type": "stream",
     "text": [
      " 62%|██████▏   | 62/100 [3:59:36<6:29:40, 615.29s/it]"
     ]
    },
    {
     "name": "stdout",
     "output_type": "stream",
     "text": [
      "Processing ARCA Biopharma, Inc.\n"
     ]
    },
    {
     "name": "stderr",
     "output_type": "stream",
     "text": [
      " 63%|██████▎   | 63/100 [4:02:39<5:00:16, 486.94s/it]"
     ]
    },
    {
     "name": "stdout",
     "output_type": "stream",
     "text": [
      "Processing HCA Healthcare, Inc.\n"
     ]
    },
    {
     "name": "stderr",
     "output_type": "stream",
     "text": [
      " 64%|██████▍   | 64/100 [4:08:37<4:29:07, 448.54s/it]"
     ]
    },
    {
     "name": "stdout",
     "output_type": "stream",
     "text": [
      "Processing Armadale Capital Plc\n"
     ]
    },
    {
     "name": "stderr",
     "output_type": "stream",
     "text": [
      " 65%|██████▌   | 65/100 [4:10:27<3:22:36, 347.34s/it]"
     ]
    },
    {
     "name": "stdout",
     "output_type": "stream",
     "text": [
      "Processing AA Limited\n"
     ]
    },
    {
     "name": "stderr",
     "output_type": "stream",
     "text": [
      " 66%|██████▌   | 66/100 [4:20:06<3:56:03, 416.56s/it]"
     ]
    },
    {
     "name": "stdout",
     "output_type": "stream",
     "text": [
      "Processing CSG Systems International, Inc.\n"
     ]
    },
    {
     "name": "stderr",
     "output_type": "stream",
     "text": [
      " 67%|██████▋   | 67/100 [4:25:39<3:35:22, 391.58s/it]"
     ]
    },
    {
     "name": "stdout",
     "output_type": "stream",
     "text": [
      "Processing Arcadia Minerals Limited\n"
     ]
    },
    {
     "name": "stderr",
     "output_type": "stream",
     "text": [
      " 68%|██████▊   | 68/100 [4:29:38<3:04:28, 345.89s/it]"
     ]
    },
    {
     "name": "stdout",
     "output_type": "stream",
     "text": [
      "Processing Tellurian Inc.\n"
     ]
    },
    {
     "name": "stderr",
     "output_type": "stream",
     "text": [
      " 69%|██████▉   | 69/100 [4:37:21<3:16:47, 380.88s/it]"
     ]
    },
    {
     "name": "stdout",
     "output_type": "stream",
     "text": [
      "Processing Wheeler Real Estate Investment Trust, Inc.\n"
     ]
    },
    {
     "name": "stderr",
     "output_type": "stream",
     "text": [
      " 70%|███████   | 70/100 [4:43:42<3:10:27, 380.90s/it]"
     ]
    },
    {
     "name": "stdout",
     "output_type": "stream",
     "text": [
      "Processing archTIS Limited\n"
     ]
    },
    {
     "name": "stderr",
     "output_type": "stream",
     "text": [
      " 71%|███████   | 71/100 [4:53:35<3:34:50, 444.50s/it]"
     ]
    },
    {
     "name": "stdout",
     "output_type": "stream",
     "text": [
      "Processing Beazley plc\n"
     ]
    },
    {
     "name": "stderr",
     "output_type": "stream",
     "text": [
      " 72%|███████▏  | 72/100 [5:22:22<6:26:55, 829.11s/it]"
     ]
    },
    {
     "name": "stdout",
     "output_type": "stream",
     "text": [
      "Processing Poste Italiane\n"
     ]
    }
   ],
   "execution_count": null
  },
  {
   "metadata": {},
   "cell_type": "code",
   "outputs": [],
   "execution_count": null,
   "source": "",
   "id": "71a53dfe992510d3"
  }
 ],
 "metadata": {
  "kernelspec": {
   "display_name": "Python 3",
   "language": "python",
   "name": "python3"
  },
  "language_info": {
   "codemirror_mode": {
    "name": "ipython",
    "version": 2
   },
   "file_extension": ".py",
   "mimetype": "text/x-python",
   "name": "python",
   "nbconvert_exporter": "python",
   "pygments_lexer": "ipython2",
   "version": "2.7.6"
  }
 },
 "nbformat": 4,
 "nbformat_minor": 5
}
