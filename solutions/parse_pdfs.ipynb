{
 "cells": [
  {
   "metadata": {},
   "cell_type": "markdown",
   "source": "# Parse PDFs with Docling",
   "id": "b70c400f2b568f3e"
  },
  {
   "metadata": {},
   "cell_type": "code",
   "outputs": [],
   "execution_count": null,
   "source": [
    "from utils import get_companies_dict\n",
    "\n",
    "companies_dict = get_companies_dict(r\"../data/round2/subset.json\")"
   ],
   "id": "522f9a98ad85c4b4"
  },
  {
   "metadata": {},
   "cell_type": "code",
   "outputs": [],
   "execution_count": null,
   "source": [
    "# only keep subset for dev\n",
    "companies = [\"Ziff Davis, Inc.\", \"\"]\n",
    "companies_dict = {company: data for company, data in companies_dict.items() if company in companies}"
   ],
   "id": "ac74005458a6c296"
  },
  {
   "cell_type": "code",
   "execution_count": null,
   "id": "initial_id",
   "metadata": {
    "collapsed": true
   },
   "outputs": [],
   "source": [
    "# Potential for parallelization for files?\n",
    "import os\n",
    "from docling.document_converter import DocumentConverter\n",
    "from concurrent.futures import ThreadPoolExecutor, as_completed\n",
    "from tqdm import tqdm\n",
    "\n",
    "\n",
    "converter = DocumentConverter()  # 20 sec for setting up\n",
    "\n",
    "preproc_logs = {\"failed\": [], \"skipped\": []}\n",
    "\n",
    "\n",
    "def process_company(company, data):\n",
    "    pdf_path = f\"../data/round2/pdfs/{data['sha1']}.pdf\"\n",
    "    docling_md_path = f\"../data/docling_md/round2/docling_{data['sha1']}.md\"\n",
    "\n",
    "    if not os.path.exists(docling_md_path):\n",
    "        print(f\"Processing {company}\")\n",
    "        try:\n",
    "            result = converter.convert(pdf_path)\n",
    "            with open(docling_md_path, \"w\", encoding=\"utf-8\") as file:\n",
    "                file.write(result.document.export_to_markdown())\n",
    "            # Return None error to indicate success.\n",
    "            return (company, None)\n",
    "        except Exception as e:\n",
    "            print(f\"Error processing {company}: {e}\")\n",
    "            return (company, e)\n",
    "    else:\n",
    "        print(f\"Skipping {company}\")\n",
    "        return (company, \"skipped\")\n",
    "\n",
    "# Use ThreadPoolExecutor to process companies concurrently.\n",
    "with ThreadPoolExecutor(max_workers=4) as executor:\n",
    "    # Submit all tasks\n",
    "    futures = {executor.submit(process_company, company, data): company\n",
    "               for company, data in companies_dict.items()}\n",
    "\n",
    "    # Process tasks as they complete.\n",
    "    for future in tqdm(as_completed(futures), total=len(futures)):\n",
    "        company, result = future.result()\n",
    "        if result is None:\n",
    "            continue  # Successful processing.\n",
    "        elif result == \"skipped\":\n",
    "            preproc_logs[\"skipped\"].append(company)\n",
    "        else:\n",
    "            preproc_logs[\"failed\"].append({\"company_id\": company, \"error\": result})\n",
    "\n",
    "if preproc_logs[\"failed\"]:\n",
    "    print(f\"Nr of failed companies: {len(preproc_logs['failed'])}\")\n",
    "\n",
    "\n",
    "# RUNTIMES:\n",
    "# REIT: execution for 7.4MB with 97 pages -> 5 min\n",
    "# Yellow Pages: execution for 1.4MB with 77 pages -> 4 min\n",
    "# Calyxt: execution for 0.7MB with 88 pages -> 3min\n",
    "# TODO check on google colab\n",
    "\n",
    "# NOTES:\n",
    "# brackets in tables indicate negative values\n",
    "# parsing issues (see current system prompt)"
   ]
  }
 ],
 "metadata": {
  "kernelspec": {
   "display_name": "Python 3",
   "language": "python",
   "name": "python3"
  },
  "language_info": {
   "codemirror_mode": {
    "name": "ipython",
    "version": 2
   },
   "file_extension": ".py",
   "mimetype": "text/x-python",
   "name": "python",
   "nbconvert_exporter": "python",
   "pygments_lexer": "ipython2",
   "version": "2.7.6"
  }
 },
 "nbformat": 4,
 "nbformat_minor": 5
}
