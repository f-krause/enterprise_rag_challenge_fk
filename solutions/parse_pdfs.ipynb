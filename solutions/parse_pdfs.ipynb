{
 "cells": [
  {
   "metadata": {},
   "cell_type": "markdown",
   "source": "# Parse PDFs with Docling",
   "id": "b70c400f2b568f3e"
  },
  {
   "metadata": {
    "ExecuteTime": {
     "end_time": "2025-03-06T07:44:17.576588Z",
     "start_time": "2025-03-06T07:44:17.563745Z"
    }
   },
   "cell_type": "code",
   "source": [
    "from utils import get_companies_dict\n",
    "\n",
    "companies_dict = get_companies_dict(r\"../data/round2/subset.json\")"
   ],
   "id": "522f9a98ad85c4b4",
   "outputs": [],
   "execution_count": 27
  },
  {
   "metadata": {
    "ExecuteTime": {
     "end_time": "2025-03-06T07:49:46.517960Z",
     "start_time": "2025-03-06T07:49:46.505349Z"
    }
   },
   "cell_type": "code",
   "source": [
    "# only keep subset for dev\n",
    "companies = ['RWE AG']\n",
    "companies_dict = {company: data for company, data in companies_dict.items() if company in companies}"
   ],
   "id": "ac74005458a6c296",
   "outputs": [],
   "execution_count": 29
  },
  {
   "cell_type": "code",
   "id": "initial_id",
   "metadata": {
    "collapsed": true,
    "ExecuteTime": {
     "end_time": "2025-03-06T07:57:25.529920Z",
     "start_time": "2025-03-06T07:49:49.216356Z"
    }
   },
   "source": [
    "# Potential for parallelization for files?\n",
    "import os\n",
    "from docling.document_converter import DocumentConverter\n",
    "from concurrent.futures import ThreadPoolExecutor, as_completed\n",
    "from tqdm import tqdm\n",
    "\n",
    "\n",
    "converter = DocumentConverter()  # 20 sec for setting up\n",
    "\n",
    "preproc_logs = {\"failed\": [], \"skipped\": []}\n",
    "\n",
    "\n",
    "def process_company(company, data):\n",
    "    pdf_path = f\"../data/round2/pdfs/{data['sha1']}_150_letter.pdf\"\n",
    "    docling_md_path = f\"../data/docling_md/round2/docling_{data['sha1']}.md\"\n",
    "\n",
    "    if not os.path.exists(docling_md_path):\n",
    "        print(f\"Processing {company}\")\n",
    "        try:\n",
    "            result = converter.convert(pdf_path)\n",
    "            with open(docling_md_path, \"w\", encoding=\"utf-8\") as file:\n",
    "                file.write(result.document.export_to_markdown())\n",
    "            # Return None error to indicate success.\n",
    "            return (company, None)\n",
    "        except Exception as e:\n",
    "            print(f\"Error processing {company}: {e}\")\n",
    "            return (company, e)\n",
    "    else:\n",
    "        print(f\"Skipping {company}\")\n",
    "        return (company, \"skipped\")\n",
    "\n",
    "# Use ThreadPoolExecutor to process companies concurrently.\n",
    "with ThreadPoolExecutor(max_workers=2) as executor:\n",
    "    # Submit all tasks\n",
    "    futures = {executor.submit(process_company, company, data): company\n",
    "               for company, data in companies_dict.items()}\n",
    "\n",
    "    # Process tasks as they complete.\n",
    "    for future in tqdm(as_completed(futures), total=len(futures)):\n",
    "        company, result = future.result()\n",
    "        if result is None:\n",
    "            continue  # Successful processing.\n",
    "        elif result == \"skipped\":\n",
    "            preproc_logs[\"skipped\"].append(company)\n",
    "        else:\n",
    "            preproc_logs[\"failed\"].append({\"company_id\": company, \"error\": result})\n",
    "\n",
    "if preproc_logs[\"failed\"]:\n",
    "    print(f\"Nr of failed companies: {len(preproc_logs['failed'])}\")\n",
    "\n",
    "\n",
    "# RUNTIMES:\n",
    "# REIT: execution for 7.4MB with 97 pages -> 5 min\n",
    "# Yellow Pages: execution for 1.4MB with 77 pages -> 4 min\n",
    "# Calyxt: execution for 0.7MB with 88 pages -> 3min\n",
    "\n",
    "# NOTES:\n",
    "# brackets in tables indicate negative values\n",
    "# parsing issues (see current system prompt)"
   ],
   "outputs": [
    {
     "name": "stdout",
     "output_type": "stream",
     "text": [
      "Processing RWE AG\n"
     ]
    },
    {
     "name": "stderr",
     "output_type": "stream",
     "text": [
      "100%|██████████| 1/1 [07:36<00:00, 456.29s/it]\n"
     ]
    }
   ],
   "execution_count": 30
  },
  {
   "metadata": {
    "ExecuteTime": {
     "end_time": "2025-03-06T07:16:40.778103Z",
     "start_time": "2025-03-06T07:16:40.760113Z"
    }
   },
   "cell_type": "code",
   "source": " preproc_logs[\"failed\"]",
   "id": "71a53dfe992510d3",
   "outputs": [
    {
     "data": {
      "text/plain": [
       "[{'company_id': 'RWE AG',\n",
       "  'error': AssertionError('Merged element must be of same type as element.')},\n",
       " {'company_id': 'Playtech plc',\n",
       "  'error': AssertionError('Merged element must be of same type as element.')}]"
      ]
     },
     "execution_count": 8,
     "metadata": {},
     "output_type": "execute_result"
    }
   ],
   "execution_count": 8
  },
  {
   "metadata": {
    "ExecuteTime": {
     "end_time": "2025-03-06T07:44:19.950494Z",
     "start_time": "2025-03-06T07:44:19.930723Z"
    }
   },
   "cell_type": "code",
   "source": "companies_dict[\"Datalogic\"]",
   "id": "223c400fc07cf82e",
   "outputs": [
    {
     "data": {
      "text/plain": [
       "{'name': 'Datalogic',\n",
       " 'sha1': '980742aa08ea64d552c153bcefbd7e8243fb9efd',\n",
       " 'id': None}"
      ]
     },
     "execution_count": 28,
     "metadata": {},
     "output_type": "execute_result"
    }
   ],
   "execution_count": 28
  },
  {
   "metadata": {
    "ExecuteTime": {
     "end_time": "2025-03-06T07:42:57.280330Z",
     "start_time": "2025-03-06T07:42:57.259945Z"
    }
   },
   "cell_type": "code",
   "source": "companies_dict[preproc_logs[\"failed\"][0][\"company_id\"]]",
   "id": "155ae09ce1effd64",
   "outputs": [
    {
     "data": {
      "text/plain": [
       "{'name': 'RWE AG',\n",
       " 'sha1': 'cc0fc5888b99758100a7ff024863fc4337b6b3c5',\n",
       " 'id': None}"
      ]
     },
     "execution_count": 24,
     "metadata": {},
     "output_type": "execute_result"
    }
   ],
   "execution_count": 24
  }
 ],
 "metadata": {
  "kernelspec": {
   "display_name": "Python 3",
   "language": "python",
   "name": "python3"
  },
  "language_info": {
   "codemirror_mode": {
    "name": "ipython",
    "version": 2
   },
   "file_extension": ".py",
   "mimetype": "text/x-python",
   "name": "python",
   "nbconvert_exporter": "python",
   "pygments_lexer": "ipython2",
   "version": "2.7.6"
  }
 },
 "nbformat": 4,
 "nbformat_minor": 5
}
